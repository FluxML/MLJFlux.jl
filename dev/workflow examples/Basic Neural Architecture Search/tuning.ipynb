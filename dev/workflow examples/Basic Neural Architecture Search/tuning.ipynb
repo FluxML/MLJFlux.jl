{
 "cells": [
  {
   "cell_type": "markdown",
   "source": [
    "# Neural Architecture Search with MLJFlux"
   ],
   "metadata": {}
  },
  {
   "cell_type": "markdown",
   "source": [
    "Neural Architecture Search is (NAS) is an instance of hyperparameter tuning concerned with tuning model hyperparameters\n",
    "defining the architecture itself. Although it's typically performed with sophisticated search algorithms for efficiency,\n",
    "in this example we will be using a simple random search."
   ],
   "metadata": {}
  },
  {
   "cell_type": "markdown",
   "source": [
    "**Julia version** is assumed to be 1.10.*"
   ],
   "metadata": {}
  },
  {
   "cell_type": "markdown",
   "source": [
    "### Basic Imports"
   ],
   "metadata": {}
  },
  {
   "outputs": [
    {
     "name": "stdout",
     "output_type": "stream",
     "text": [
      "┌ Warning: The project dependencies or compat requirements have changed since the manifest was last resolved.\n",
      "│ It is recommended to `Pkg.resolve()` or consider `Pkg.update()` if necessary.\n",
      "└ @ Pkg.API /Applications/Julia-1.10.app/Contents/Resources/julia/share/julia/stdlib/v1.10/Pkg/src/API.jl:1800\n",
      "[ Info: Precompiling RDatasets [ce6b1742-4840-55fa-b093-852dadbb1d8b]\n"
     ]
    }
   ],
   "cell_type": "code",
   "source": [
    "using MLJ               # Has MLJFlux models\n",
    "using Flux              # For more flexibility\n",
    "using RDatasets: RDatasets        # Dataset source\n",
    "using DataFrames        # To view tuning results in a table"
   ],
   "metadata": {},
   "execution_count": 1
  },
  {
   "cell_type": "markdown",
   "source": [
    "### Loading and Splitting the Data"
   ],
   "metadata": {}
  },
  {
   "outputs": [
    {
     "output_type": "execute_result",
     "data": {
      "text/plain": "\u001b[1m5×4 DataFrame\u001b[0m\n\u001b[1m Row \u001b[0m│\u001b[1m SepalLength \u001b[0m\u001b[1m SepalWidth \u001b[0m\u001b[1m PetalLength \u001b[0m\u001b[1m PetalWidth \u001b[0m\n     │\u001b[90m Float32     \u001b[0m\u001b[90m Float32    \u001b[0m\u001b[90m Float32     \u001b[0m\u001b[90m Float32    \u001b[0m\n─────┼──────────────────────────────────────────────────\n   1 │         6.7         3.3          5.7         2.1\n   2 │         5.7         2.8          4.1         1.3\n   3 │         7.2         3.0          5.8         1.6\n   4 │         4.4         2.9          1.4         0.2\n   5 │         5.6         2.5          3.9         1.1",
      "text/html": [
       "<div><div style = \"float: left;\"><span>5×4 DataFrame</span></div><div style = \"clear: both;\"></div></div><div class = \"data-frame\" style = \"overflow-x: scroll;\"><table class = \"data-frame\" style = \"margin-bottom: 6px;\"><thead><tr class = \"header\"><th class = \"rowNumber\" style = \"font-weight: bold; text-align: right;\">Row</th><th style = \"text-align: left;\">SepalLength</th><th style = \"text-align: left;\">SepalWidth</th><th style = \"text-align: left;\">PetalLength</th><th style = \"text-align: left;\">PetalWidth</th></tr><tr class = \"subheader headerLastRow\"><th class = \"rowNumber\" style = \"font-weight: bold; text-align: right;\"></th><th title = \"Float32\" style = \"text-align: left;\">Float32</th><th title = \"Float32\" style = \"text-align: left;\">Float32</th><th title = \"Float32\" style = \"text-align: left;\">Float32</th><th title = \"Float32\" style = \"text-align: left;\">Float32</th></tr></thead><tbody><tr><td class = \"rowNumber\" style = \"font-weight: bold; text-align: right;\">1</td><td style = \"text-align: right;\">6.7</td><td style = \"text-align: right;\">3.3</td><td style = \"text-align: right;\">5.7</td><td style = \"text-align: right;\">2.1</td></tr><tr><td class = \"rowNumber\" style = \"font-weight: bold; text-align: right;\">2</td><td style = \"text-align: right;\">5.7</td><td style = \"text-align: right;\">2.8</td><td style = \"text-align: right;\">4.1</td><td style = \"text-align: right;\">1.3</td></tr><tr><td class = \"rowNumber\" style = \"font-weight: bold; text-align: right;\">3</td><td style = \"text-align: right;\">7.2</td><td style = \"text-align: right;\">3.0</td><td style = \"text-align: right;\">5.8</td><td style = \"text-align: right;\">1.6</td></tr><tr><td class = \"rowNumber\" style = \"font-weight: bold; text-align: right;\">4</td><td style = \"text-align: right;\">4.4</td><td style = \"text-align: right;\">2.9</td><td style = \"text-align: right;\">1.4</td><td style = \"text-align: right;\">0.2</td></tr><tr><td class = \"rowNumber\" style = \"font-weight: bold; text-align: right;\">5</td><td style = \"text-align: right;\">5.6</td><td style = \"text-align: right;\">2.5</td><td style = \"text-align: right;\">3.9</td><td style = \"text-align: right;\">1.1</td></tr></tbody></table></div>"
      ]
     },
     "metadata": {},
     "execution_count": 2
    }
   ],
   "cell_type": "code",
   "source": [
    "iris = RDatasets.dataset(\"datasets\", \"iris\");\n",
    "y, X = unpack(iris, ==(:Species), colname -> true, rng = 123);\n",
    "X = Float32.(X);      # To be compatible with type of network network parameters\n",
    "first(X, 5)"
   ],
   "metadata": {},
   "execution_count": 2
  },
  {
   "cell_type": "markdown",
   "source": [
    "### Instantiating the model"
   ],
   "metadata": {}
  },
  {
   "cell_type": "markdown",
   "source": [
    "Now let's construct our model. This follows a similar setup the one followed in the [Quick Start](../../index.md#Quick-Start)."
   ],
   "metadata": {}
  },
  {
   "outputs": [
    {
     "name": "stdout",
     "output_type": "stream",
     "text": [
      "[ Info: For silent loading, specify `verbosity=0`. \n",
      "import MLJFlux ✔\n"
     ]
    },
    {
     "output_type": "execute_result",
     "data": {
      "text/plain": "NeuralNetworkClassifier(\n  builder = MLP(\n        hidden = (1, 1, 1), \n        σ = NNlib.relu), \n  finaliser = NNlib.softmax, \n  optimiser = Flux.Optimise.Adam(0.01, (0.9, 0.999), 1.0e-8, IdDict{Any, Any}()), \n  loss = Flux.Losses.crossentropy, \n  epochs = 10, \n  batch_size = 8, \n  lambda = 0.0, \n  alpha = 0.0, \n  rng = 42, \n  optimiser_changes_trigger_retraining = false, \n  acceleration = ComputationalResources.CPU1{Nothing}(nothing))"
     },
     "metadata": {},
     "execution_count": 3
    }
   ],
   "cell_type": "code",
   "source": [
    "NeuralNetworkClassifier = @load NeuralNetworkClassifier pkg = \"MLJFlux\"\n",
    "clf = NeuralNetworkClassifier(\n",
    "\tbuilder = MLJFlux.MLP(; hidden = (1, 1, 1), σ = Flux.relu),\n",
    "\toptimiser = Flux.ADAM(0.01),\n",
    "\tbatch_size = 8,\n",
    "\tepochs = 10,\n",
    "\trng = 42,\n",
    ")"
   ],
   "metadata": {},
   "execution_count": 3
  },
  {
   "cell_type": "markdown",
   "source": [
    "### Generating Network Architectures\n",
    "We know that the MLP builder takes a tuple of the form $(z_1, z_2, ..., z_k)$ to define a network with $k$ hidden layers and\n",
    "where the ith layer has $z_i$ neurons. We will proceed by defining a function that can generate all possible networks with a\n",
    "specific number of hidden layers, a minimum and maximum number of neurons per layer and increments to consider for the number of neurons."
   ],
   "metadata": {}
  },
  {
   "outputs": [
    {
     "output_type": "execute_result",
     "data": {
      "text/plain": "generate_networks (generic function with 1 method)"
     },
     "metadata": {},
     "execution_count": 4
    }
   ],
   "cell_type": "code",
   "source": [
    "function generate_networks(;\n",
    "\tmin_neurons::Int,\n",
    "\tmax_neurons::Int,\n",
    "\tneuron_step::Int,\n",
    "\tnum_layers::Int,\n",
    ")\n",
    "\t# Define the range of neurons\n",
    "\tneuron_range = min_neurons:neuron_step:max_neurons\n",
    "\n",
    "\t# Empty list to store the network configurations\n",
    "\tnetworks = Vector{Tuple{Vararg{Int, num_layers}}}()\n",
    "\n",
    "\t# Recursive helper function to generate all combinations of tuples\n",
    "\tfunction generate_tuple(current_layers, remaining_layers)\n",
    "\t\tif remaining_layers > 0\n",
    "\t\t\tfor n in neuron_range\n",
    "\t\t\t\t# current_layers =[] then current_layers=[(min_neurons)],\n",
    "\t\t\t\t# [(min_neurons+neuron_step)], [(min_neurons+2*neuron_step)],...\n",
    "\t\t\t\t# for each of these we call generate_layers again which appends\n",
    "\t\t\t\t# the n combinations for each one of them\n",
    "\t\t\t\tgenerate_tuple(vcat(current_layers, [n]), remaining_layers - 1)\n",
    "\t\t\tend\n",
    "\t\telse\n",
    "\t\t\t# in the base case, no more layers to \"recurse on\"\n",
    "\t\t\t# and we just append the current_layers as a tuple\n",
    "\t\t\tpush!(networks, tuple(current_layers...))\n",
    "\t\tend\n",
    "\tend\n",
    "\n",
    "\t# Generate networks for the given number of layers\n",
    "\tgenerate_tuple([], num_layers)\n",
    "\n",
    "\treturn networks\n",
    "end"
   ],
   "metadata": {},
   "execution_count": 4
  },
  {
   "cell_type": "markdown",
   "source": [
    "Now let's generate an array of all possible neural networks with three hidden layers and number of neurons per layer ∈ [1,64] with a step of 4"
   ],
   "metadata": {}
  },
  {
   "outputs": [
    {
     "output_type": "execute_result",
     "data": {
      "text/plain": "5-element Vector{Tuple{Int64, Int64, Int64}}:\n (1, 1, 1)\n (1, 1, 5)\n (1, 1, 9)\n (1, 1, 13)\n (1, 1, 17)"
     },
     "metadata": {},
     "execution_count": 5
    }
   ],
   "cell_type": "code",
   "source": [
    "networks_space =\n",
    "\tgenerate_networks(min_neurons = 1, max_neurons = 64, neuron_step = 4, num_layers = 3)\n",
    "\n",
    "networks_space[1:5]"
   ],
   "metadata": {},
   "execution_count": 5
  },
  {
   "cell_type": "markdown",
   "source": [
    "### Wrapping the Model for Tuning"
   ],
   "metadata": {}
  },
  {
   "cell_type": "markdown",
   "source": [
    "Let's use this array to define the range of hyperparameters and pass it along with the model to the `TunedModel` constructor."
   ],
   "metadata": {}
  },
  {
   "outputs": [],
   "cell_type": "code",
   "source": [
    "r1 = range(clf, :(builder.hidden), values = networks_space)\n",
    "\n",
    "tuned_clf = TunedModel(\n",
    "\tmodel = clf,\n",
    "\ttuning = RandomSearch(),\n",
    "\tresampling = CV(nfolds = 4, rng = 42),\n",
    "\trange = [r1],\n",
    "\tmeasure = cross_entropy,\n",
    "\tn = 100,             # searching over 100 random samples are enough\n",
    ");"
   ],
   "metadata": {},
   "execution_count": 6
  },
  {
   "cell_type": "markdown",
   "source": [
    "### Performing the Search"
   ],
   "metadata": {}
  },
  {
   "cell_type": "markdown",
   "source": [
    "Similar to the last workflow example, all we need now is to fit our model and the search will take place automatically:"
   ],
   "metadata": {}
  },
  {
   "outputs": [
    {
     "output_type": "execute_result",
     "data": {
      "text/plain": "NeuralNetworkClassifier(\n  builder = MLP(\n        hidden = (25, 53, 45), \n        σ = NNlib.relu), \n  finaliser = NNlib.softmax, \n  optimiser = Flux.Optimise.Adam(0.01, (0.9, 0.999), 1.0e-8, IdDict{Any, Any}()), \n  loss = Flux.Losses.crossentropy, \n  epochs = 10, \n  batch_size = 8, \n  lambda = 0.0, \n  alpha = 0.0, \n  rng = 42, \n  optimiser_changes_trigger_retraining = false, \n  acceleration = ComputationalResources.CPU1{Nothing}(nothing))"
     },
     "metadata": {},
     "execution_count": 7
    }
   ],
   "cell_type": "code",
   "source": [
    "mach = machine(tuned_clf, X, y);\n",
    "fit!(mach, verbosity = 0);\n",
    "fitted_params(mach).best_model"
   ],
   "metadata": {},
   "execution_count": 7
  },
  {
   "cell_type": "markdown",
   "source": [
    "### Analyzing the Search Results"
   ],
   "metadata": {}
  },
  {
   "cell_type": "markdown",
   "source": [
    "Let's analyze the search results by converting the history array to a dataframe and viewing it:"
   ],
   "metadata": {}
  },
  {
   "outputs": [
    {
     "output_type": "execute_result",
     "data": {
      "text/plain": "\u001b[1m10×2 DataFrame\u001b[0m\n\u001b[1m Row \u001b[0m│\u001b[1m mlp                           \u001b[0m\u001b[1m measurement \u001b[0m\n     │\u001b[90m MLP…                          \u001b[0m\u001b[90m Float64     \u001b[0m\n─────┼────────────────────────────────────────────\n   1 │ MLP(hidden = (25, 53, 45), …)    0.0865692\n   2 │ MLP(hidden = (49, 41, 49), …)    0.0870145\n   3 │ MLP(hidden = (25, 61, 21), …)    0.0870776\n   4 │ MLP(hidden = (45, 21, 41), …)    0.0921284\n   5 │ MLP(hidden = (49, 13, 33), …)    0.0941658\n   6 │ MLP(hidden = (21, 49, 53), …)    0.100384\n   7 │ MLP(hidden = (33, 57, 61), …)    0.101213\n   8 │ MLP(hidden = (33, 49, 9), …)     0.10241\n   9 │ MLP(hidden = (17, 37, 17), …)    0.10542\n  10 │ MLP(hidden = (29, 49, 17), …)    0.108438",
      "text/html": [
       "<div><div style = \"float: left;\"><span>10×2 DataFrame</span></div><div style = \"clear: both;\"></div></div><div class = \"data-frame\" style = \"overflow-x: scroll;\"><table class = \"data-frame\" style = \"margin-bottom: 6px;\"><thead><tr class = \"header\"><th class = \"rowNumber\" style = \"font-weight: bold; text-align: right;\">Row</th><th style = \"text-align: left;\">mlp</th><th style = \"text-align: left;\">measurement</th></tr><tr class = \"subheader headerLastRow\"><th class = \"rowNumber\" style = \"font-weight: bold; text-align: right;\"></th><th title = \"MLJFlux.MLP{3}\" style = \"text-align: left;\">MLP…</th><th title = \"Float64\" style = \"text-align: left;\">Float64</th></tr></thead><tbody><tr><td class = \"rowNumber\" style = \"font-weight: bold; text-align: right;\">1</td><td style = \"text-align: left;\">MLP(hidden = (25, 53, 45), …)</td><td style = \"text-align: right;\">0.0865692</td></tr><tr><td class = \"rowNumber\" style = \"font-weight: bold; text-align: right;\">2</td><td style = \"text-align: left;\">MLP(hidden = (49, 41, 49), …)</td><td style = \"text-align: right;\">0.0870145</td></tr><tr><td class = \"rowNumber\" style = \"font-weight: bold; text-align: right;\">3</td><td style = \"text-align: left;\">MLP(hidden = (25, 61, 21), …)</td><td style = \"text-align: right;\">0.0870776</td></tr><tr><td class = \"rowNumber\" style = \"font-weight: bold; text-align: right;\">4</td><td style = \"text-align: left;\">MLP(hidden = (45, 21, 41), …)</td><td style = \"text-align: right;\">0.0921284</td></tr><tr><td class = \"rowNumber\" style = \"font-weight: bold; text-align: right;\">5</td><td style = \"text-align: left;\">MLP(hidden = (49, 13, 33), …)</td><td style = \"text-align: right;\">0.0941658</td></tr><tr><td class = \"rowNumber\" style = \"font-weight: bold; text-align: right;\">6</td><td style = \"text-align: left;\">MLP(hidden = (21, 49, 53), …)</td><td style = \"text-align: right;\">0.100384</td></tr><tr><td class = \"rowNumber\" style = \"font-weight: bold; text-align: right;\">7</td><td style = \"text-align: left;\">MLP(hidden = (33, 57, 61), …)</td><td style = \"text-align: right;\">0.101213</td></tr><tr><td class = \"rowNumber\" style = \"font-weight: bold; text-align: right;\">8</td><td style = \"text-align: left;\">MLP(hidden = (33, 49, 9), …)</td><td style = \"text-align: right;\">0.10241</td></tr><tr><td class = \"rowNumber\" style = \"font-weight: bold; text-align: right;\">9</td><td style = \"text-align: left;\">MLP(hidden = (17, 37, 17), …)</td><td style = \"text-align: right;\">0.10542</td></tr><tr><td class = \"rowNumber\" style = \"font-weight: bold; text-align: right;\">10</td><td style = \"text-align: left;\">MLP(hidden = (29, 49, 17), …)</td><td style = \"text-align: right;\">0.108438</td></tr></tbody></table></div>"
      ]
     },
     "metadata": {},
     "execution_count": 8
    }
   ],
   "cell_type": "code",
   "source": [
    "history = report(mach).history\n",
    "history_df = DataFrame(\n",
    "\tmlp = [x[:model].builder for x in history],\n",
    "\tmeasurement = [x[:measurement][1] for x in history],\n",
    ")\n",
    "first(sort!(history_df, [order(:measurement)]), 10)"
   ],
   "metadata": {},
   "execution_count": 8
  },
  {
   "cell_type": "markdown",
   "source": [
    "---\n",
    "\n",
    "*This notebook was generated using [Literate.jl](https://github.com/fredrikekre/Literate.jl).*"
   ],
   "metadata": {}
  }
 ],
 "nbformat_minor": 3,
 "metadata": {
  "language_info": {
   "file_extension": ".jl",
   "mimetype": "application/julia",
   "name": "julia",
   "version": "1.10.0"
  },
  "kernelspec": {
   "name": "julia-1.10",
   "display_name": "Julia 1.10.0",
   "language": "julia"
  }
 },
 "nbformat": 4
}
