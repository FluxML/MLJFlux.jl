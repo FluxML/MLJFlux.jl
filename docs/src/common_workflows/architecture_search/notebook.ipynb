{
 "cells": [
  {
   "cell_type": "markdown",
   "source": [
    "# Neural Architecture Search with MLJFlux"
   ],
   "metadata": {}
  },
  {
   "cell_type": "markdown",
   "source": [
    "This demonstration is available as a Jupyter notebook or julia script\n",
    "[here](https://github.com/FluxML/MLJFlux.jl/tree/dev/docs/src/common_workflows/architecture_search)."
   ],
   "metadata": {}
  },
  {
   "cell_type": "markdown",
   "source": [
    "Neural Architecture Search (NAS) is an instance of hyperparameter tuning concerned\n",
    "with tuning model hyperparameters defining the architecture itself. Although it's\n",
    "typically performed with sophisticated search algorithms for efficiency, in this example\n",
    "we will be using a simple random search."
   ],
   "metadata": {}
  },
  {
   "outputs": [
    {
     "name": "stdout",
     "output_type": "stream",
     "text": [
      "  Activating project at `~/GoogleDrive/Julia/MLJ/MLJFlux/docs/src/common_workflows/architecture_search`\n"
     ]
    }
   ],
   "cell_type": "code",
   "source": [
    "using Pkg\n",
    "Pkg.activate(@__DIR__);\n",
    "Pkg.instantiate();"
   ],
   "metadata": {},
   "execution_count": 1
  },
  {
   "cell_type": "markdown",
   "source": [
    "**Julia version** is assumed to be 1.10.*"
   ],
   "metadata": {}
  },
  {
   "cell_type": "markdown",
   "source": [
    "### Basic Imports"
   ],
   "metadata": {}
  },
  {
   "outputs": [],
   "cell_type": "code",
   "source": [
    "using MLJ               # Has MLJFlux models\n",
    "using Flux              # For more flexibility\n",
    "using RDatasets: RDatasets        # Dataset source\n",
    "using DataFrames        # To view tuning results in a table\n",
    "import Optimisers       # native Flux.jl optimisers no longer supported"
   ],
   "metadata": {},
   "execution_count": 2
  },
  {
   "cell_type": "markdown",
   "source": [
    "### Loading and Splitting the Data"
   ],
   "metadata": {}
  },
  {
   "outputs": [
    {
     "output_type": "execute_result",
     "data": {
      "text/plain": "\u001b[1m5×4 DataFrame\u001b[0m\n\u001b[1m Row \u001b[0m│\u001b[1m SepalLength \u001b[0m\u001b[1m SepalWidth \u001b[0m\u001b[1m PetalLength \u001b[0m\u001b[1m PetalWidth \u001b[0m\n     │\u001b[90m Float32     \u001b[0m\u001b[90m Float32    \u001b[0m\u001b[90m Float32     \u001b[0m\u001b[90m Float32    \u001b[0m\n─────┼──────────────────────────────────────────────────\n   1 │         6.7         3.3          5.7         2.1\n   2 │         5.7         2.8          4.1         1.3\n   3 │         7.2         3.0          5.8         1.6\n   4 │         4.4         2.9          1.4         0.2\n   5 │         5.6         2.5          3.9         1.1",
      "text/html": [
       "<div><div style = \"float: left;\"><span>5×4 DataFrame</span></div><div style = \"clear: both;\"></div></div><div class = \"data-frame\" style = \"overflow-x: scroll;\"><table class = \"data-frame\" style = \"margin-bottom: 6px;\"><thead><tr class = \"header\"><th class = \"rowNumber\" style = \"font-weight: bold; text-align: right;\">Row</th><th style = \"text-align: left;\">SepalLength</th><th style = \"text-align: left;\">SepalWidth</th><th style = \"text-align: left;\">PetalLength</th><th style = \"text-align: left;\">PetalWidth</th></tr><tr class = \"subheader headerLastRow\"><th class = \"rowNumber\" style = \"font-weight: bold; text-align: right;\"></th><th title = \"Float32\" style = \"text-align: left;\">Float32</th><th title = \"Float32\" style = \"text-align: left;\">Float32</th><th title = \"Float32\" style = \"text-align: left;\">Float32</th><th title = \"Float32\" style = \"text-align: left;\">Float32</th></tr></thead><tbody><tr><td class = \"rowNumber\" style = \"font-weight: bold; text-align: right;\">1</td><td style = \"text-align: right;\">6.7</td><td style = \"text-align: right;\">3.3</td><td style = \"text-align: right;\">5.7</td><td style = \"text-align: right;\">2.1</td></tr><tr><td class = \"rowNumber\" style = \"font-weight: bold; text-align: right;\">2</td><td style = \"text-align: right;\">5.7</td><td style = \"text-align: right;\">2.8</td><td style = \"text-align: right;\">4.1</td><td style = \"text-align: right;\">1.3</td></tr><tr><td class = \"rowNumber\" style = \"font-weight: bold; text-align: right;\">3</td><td style = \"text-align: right;\">7.2</td><td style = \"text-align: right;\">3.0</td><td style = \"text-align: right;\">5.8</td><td style = \"text-align: right;\">1.6</td></tr><tr><td class = \"rowNumber\" style = \"font-weight: bold; text-align: right;\">4</td><td style = \"text-align: right;\">4.4</td><td style = \"text-align: right;\">2.9</td><td style = \"text-align: right;\">1.4</td><td style = \"text-align: right;\">0.2</td></tr><tr><td class = \"rowNumber\" style = \"font-weight: bold; text-align: right;\">5</td><td style = \"text-align: right;\">5.6</td><td style = \"text-align: right;\">2.5</td><td style = \"text-align: right;\">3.9</td><td style = \"text-align: right;\">1.1</td></tr></tbody></table></div>"
      ]
     },
     "metadata": {},
     "execution_count": 3
    }
   ],
   "cell_type": "code",
   "source": [
    "iris = RDatasets.dataset(\"datasets\", \"iris\");\n",
    "y, X = unpack(iris, ==(:Species), rng = 123);\n",
    "X = Float32.(X);      # To be compatible with type of network network parameters\n",
    "first(X, 5)"
   ],
   "metadata": {},
   "execution_count": 3
  },
  {
   "cell_type": "markdown",
   "source": [
    "### Instantiating the model"
   ],
   "metadata": {}
  },
  {
   "cell_type": "markdown",
   "source": [
    "Now let's construct our model. This follows a similar setup the one followed in the\n",
    "[Quick Start](../../index.md#Quick-Start)."
   ],
   "metadata": {}
  },
  {
   "outputs": [
    {
     "name": "stdout",
     "output_type": "stream",
     "text": [
      "[ Info: For silent loading, specify `verbosity=0`. \n",
      "import MLJFlux ✔\n"
     ]
    },
    {
     "output_type": "execute_result",
     "data": {
      "text/plain": "NeuralNetworkClassifier(\n  builder = MLP(\n        hidden = (1, 1, 1), \n        σ = NNlib.relu), \n  finaliser = NNlib.softmax, \n  optimiser = Adam(0.01, (0.9, 0.999), 1.0e-8), \n  loss = Flux.Losses.crossentropy, \n  epochs = 10, \n  batch_size = 8, \n  lambda = 0.0, \n  alpha = 0.0, \n  rng = 42, \n  optimiser_changes_trigger_retraining = false, \n  acceleration = CPU1{Nothing}(nothing))"
     },
     "metadata": {},
     "execution_count": 4
    }
   ],
   "cell_type": "code",
   "source": [
    "NeuralNetworkClassifier = @load NeuralNetworkClassifier pkg = \"MLJFlux\"\n",
    "clf = NeuralNetworkClassifier(\n",
    "    builder = MLJFlux.MLP(; hidden = (1, 1, 1), σ = Flux.relu),\n",
    "    optimiser = Optimisers.ADAM(0.01),\n",
    "    batch_size = 8,\n",
    "    epochs = 10,\n",
    "    rng = 42,\n",
    ")"
   ],
   "metadata": {},
   "execution_count": 4
  },
  {
   "cell_type": "markdown",
   "source": [
    "### Generating Network Architectures"
   ],
   "metadata": {}
  },
  {
   "cell_type": "markdown",
   "source": [
    "We know that the MLP builder takes a tuple of the form $(z_1, z_2, ..., z_k)$ to define\n",
    "a network with $k$ hidden layers and where the ith layer has $z_i$ neurons. We will\n",
    "proceed by defining a function that can generate all possible networks with a specific\n",
    "number of hidden layers, a minimum and maximum number of neurons per layer and\n",
    "increments to consider for the number of neurons."
   ],
   "metadata": {}
  },
  {
   "outputs": [
    {
     "output_type": "execute_result",
     "data": {
      "text/plain": "generate_networks (generic function with 1 method)"
     },
     "metadata": {},
     "execution_count": 5
    }
   ],
   "cell_type": "code",
   "source": [
    "function generate_networks(\n",
    "    ;min_neurons::Int,\n",
    "    max_neurons::Int,\n",
    "    neuron_step::Int,\n",
    "    num_layers::Int,\n",
    "    )\n",
    "    # Define the range of neurons\n",
    "    neuron_range = min_neurons:neuron_step:max_neurons\n",
    "\n",
    "    # Empty list to store the network configurations\n",
    "    networks = Vector{Tuple{Vararg{Int, num_layers}}}()\n",
    "\n",
    "    # Recursive helper function to generate all combinations of tuples\n",
    "    function generate_tuple(current_layers, remaining_layers)\n",
    "        if remaining_layers > 0\n",
    "            for n in neuron_range\n",
    "                # current_layers =[] then current_layers=[(min_neurons)],\n",
    "                # [(min_neurons+neuron_step)], [(min_neurons+2*neuron_step)],...\n",
    "                # for each of these we call generate_layers again which appends\n",
    "                # the n combinations for each one of them\n",
    "                generate_tuple(vcat(current_layers, [n]), remaining_layers - 1)\n",
    "            end\n",
    "        else\n",
    "            # in the base case, no more layers to \"recurse on\"\n",
    "            # and we just append the current_layers as a tuple\n",
    "            push!(networks, tuple(current_layers...))\n",
    "        end\n",
    "    end\n",
    "\n",
    "    # Generate networks for the given number of layers\n",
    "    generate_tuple([], num_layers)\n",
    "\n",
    "    return networks\n",
    "end"
   ],
   "metadata": {},
   "execution_count": 5
  },
  {
   "cell_type": "markdown",
   "source": [
    "Now let's generate an array of all possible neural networks with three hidden layers and\n",
    "number of neurons per layer ∈ [1,64] with a step of 4"
   ],
   "metadata": {}
  },
  {
   "outputs": [
    {
     "output_type": "execute_result",
     "data": {
      "text/plain": "5-element Vector{Tuple{Int64, Int64, Int64}}:\n (1, 1, 1)\n (1, 1, 5)\n (1, 1, 9)\n (1, 1, 13)\n (1, 1, 17)"
     },
     "metadata": {},
     "execution_count": 6
    }
   ],
   "cell_type": "code",
   "source": [
    "networks_space =\n",
    "    generate_networks(\n",
    "        min_neurons = 1,\n",
    "        max_neurons = 64,\n",
    "        neuron_step = 4,\n",
    "        num_layers = 3,\n",
    "    )\n",
    "\n",
    "networks_space[1:5]"
   ],
   "metadata": {},
   "execution_count": 6
  },
  {
   "cell_type": "markdown",
   "source": [
    "### Wrapping the Model for Tuning"
   ],
   "metadata": {}
  },
  {
   "cell_type": "markdown",
   "source": [
    "Let's use this array to define the range of hyperparameters and pass it along with the\n",
    "model to the `TunedModel` constructor."
   ],
   "metadata": {}
  },
  {
   "outputs": [],
   "cell_type": "code",
   "source": [
    "r1 = range(clf, :(builder.hidden), values = networks_space)\n",
    "\n",
    "tuned_clf = TunedModel(\n",
    "    model = clf,\n",
    "    tuning = RandomSearch(),\n",
    "    resampling = CV(nfolds = 4, rng = 42),\n",
    "    range = [r1],\n",
    "    measure = cross_entropy,\n",
    "    n = 100,             # searching over 100 random samples are enough\n",
    ");"
   ],
   "metadata": {},
   "execution_count": 7
  },
  {
   "cell_type": "markdown",
   "source": [
    "### Performing the Search"
   ],
   "metadata": {}
  },
  {
   "cell_type": "markdown",
   "source": [
    "Similar to the last workflow example, all we need now is to fit our model and the search\n",
    "will take place automatically:"
   ],
   "metadata": {}
  },
  {
   "outputs": [
    {
     "output_type": "execute_result",
     "data": {
      "text/plain": "NeuralNetworkClassifier(\n  builder = MLP(\n        hidden = (45, 49, 21), \n        σ = NNlib.relu), \n  finaliser = NNlib.softmax, \n  optimiser = Adam(0.01, (0.9, 0.999), 1.0e-8), \n  loss = Flux.Losses.crossentropy, \n  epochs = 10, \n  batch_size = 8, \n  lambda = 0.0, \n  alpha = 0.0, \n  rng = 42, \n  optimiser_changes_trigger_retraining = false, \n  acceleration = CPU1{Nothing}(nothing))"
     },
     "metadata": {},
     "execution_count": 8
    }
   ],
   "cell_type": "code",
   "source": [
    "mach = machine(tuned_clf, X, y);\n",
    "fit!(mach, verbosity = 0);\n",
    "fitted_params(mach).best_model"
   ],
   "metadata": {},
   "execution_count": 8
  },
  {
   "cell_type": "markdown",
   "source": [
    "### Analyzing the Search Results"
   ],
   "metadata": {}
  },
  {
   "cell_type": "markdown",
   "source": [
    "Let's analyze the search results by converting the history array to a dataframe and\n",
    "viewing it:"
   ],
   "metadata": {}
  },
  {
   "outputs": [
    {
     "output_type": "execute_result",
     "data": {
      "text/plain": "\u001b[1m10×2 DataFrame\u001b[0m\n\u001b[1m Row \u001b[0m│\u001b[1m mlp                           \u001b[0m\u001b[1m measurement \u001b[0m\n     │\u001b[90m MLP…                          \u001b[0m\u001b[90m Float64     \u001b[0m\n─────┼────────────────────────────────────────────\n   1 │ MLP(hidden = (45, 49, 21), …)    0.0860875\n   2 │ MLP(hidden = (25, 45, 33), …)    0.0877367\n   3 │ MLP(hidden = (29, 17, 53), …)    0.0970372\n   4 │ MLP(hidden = (61, 9, 29), …)     0.0970978\n   5 │ MLP(hidden = (49, 49, 9), …)     0.0971594\n   6 │ MLP(hidden = (21, 33, 61), …)    0.0984172\n   7 │ MLP(hidden = (57, 61, 61), …)    0.099232\n   8 │ MLP(hidden = (41, 13, 25), …)    0.101498\n   9 │ MLP(hidden = (53, 29, 21), …)    0.105323\n  10 │ MLP(hidden = (57, 33, 45), …)    0.110168",
      "text/html": [
       "<div><div style = \"float: left;\"><span>10×2 DataFrame</span></div><div style = \"clear: both;\"></div></div><div class = \"data-frame\" style = \"overflow-x: scroll;\"><table class = \"data-frame\" style = \"margin-bottom: 6px;\"><thead><tr class = \"header\"><th class = \"rowNumber\" style = \"font-weight: bold; text-align: right;\">Row</th><th style = \"text-align: left;\">mlp</th><th style = \"text-align: left;\">measurement</th></tr><tr class = \"subheader headerLastRow\"><th class = \"rowNumber\" style = \"font-weight: bold; text-align: right;\"></th><th title = \"MLJFlux.MLP{3}\" style = \"text-align: left;\">MLP…</th><th title = \"Float64\" style = \"text-align: left;\">Float64</th></tr></thead><tbody><tr><td class = \"rowNumber\" style = \"font-weight: bold; text-align: right;\">1</td><td style = \"text-align: left;\">MLP(hidden = (45, 49, 21), …)</td><td style = \"text-align: right;\">0.0860875</td></tr><tr><td class = \"rowNumber\" style = \"font-weight: bold; text-align: right;\">2</td><td style = \"text-align: left;\">MLP(hidden = (25, 45, 33), …)</td><td style = \"text-align: right;\">0.0877367</td></tr><tr><td class = \"rowNumber\" style = \"font-weight: bold; text-align: right;\">3</td><td style = \"text-align: left;\">MLP(hidden = (29, 17, 53), …)</td><td style = \"text-align: right;\">0.0970372</td></tr><tr><td class = \"rowNumber\" style = \"font-weight: bold; text-align: right;\">4</td><td style = \"text-align: left;\">MLP(hidden = (61, 9, 29), …)</td><td style = \"text-align: right;\">0.0970978</td></tr><tr><td class = \"rowNumber\" style = \"font-weight: bold; text-align: right;\">5</td><td style = \"text-align: left;\">MLP(hidden = (49, 49, 9), …)</td><td style = \"text-align: right;\">0.0971594</td></tr><tr><td class = \"rowNumber\" style = \"font-weight: bold; text-align: right;\">6</td><td style = \"text-align: left;\">MLP(hidden = (21, 33, 61), …)</td><td style = \"text-align: right;\">0.0984172</td></tr><tr><td class = \"rowNumber\" style = \"font-weight: bold; text-align: right;\">7</td><td style = \"text-align: left;\">MLP(hidden = (57, 61, 61), …)</td><td style = \"text-align: right;\">0.099232</td></tr><tr><td class = \"rowNumber\" style = \"font-weight: bold; text-align: right;\">8</td><td style = \"text-align: left;\">MLP(hidden = (41, 13, 25), …)</td><td style = \"text-align: right;\">0.101498</td></tr><tr><td class = \"rowNumber\" style = \"font-weight: bold; text-align: right;\">9</td><td style = \"text-align: left;\">MLP(hidden = (53, 29, 21), …)</td><td style = \"text-align: right;\">0.105323</td></tr><tr><td class = \"rowNumber\" style = \"font-weight: bold; text-align: right;\">10</td><td style = \"text-align: left;\">MLP(hidden = (57, 33, 45), …)</td><td style = \"text-align: right;\">0.110168</td></tr></tbody></table></div>"
      ]
     },
     "metadata": {},
     "execution_count": 9
    }
   ],
   "cell_type": "code",
   "source": [
    "history = report(mach).history\n",
    "history_df = DataFrame(\n",
    "    mlp = [x[:model].builder for x in history],\n",
    "    measurement = [x[:measurement][1] for x in history],\n",
    ")\n",
    "first(sort!(history_df, [order(:measurement)]), 10)"
   ],
   "metadata": {},
   "execution_count": 9
  },
  {
   "cell_type": "markdown",
   "source": [
    "---\n",
    "\n",
    "*This notebook was generated using [Literate.jl](https://github.com/fredrikekre/Literate.jl).*"
   ],
   "metadata": {}
  }
 ],
 "nbformat_minor": 3,
 "metadata": {
  "language_info": {
   "file_extension": ".jl",
   "mimetype": "application/julia",
   "name": "julia",
   "version": "1.10.3"
  },
  "kernelspec": {
   "name": "julia-1.10",
   "display_name": "Julia 1.10.3",
   "language": "julia"
  }
 },
 "nbformat": 4
}
