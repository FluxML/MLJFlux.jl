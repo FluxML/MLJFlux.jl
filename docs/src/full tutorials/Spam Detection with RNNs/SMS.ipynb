{
 "cells": [
  {
   "cell_type": "markdown",
   "source": [
    "# SMS Spam Detection with RNNs"
   ],
   "metadata": {}
  },
  {
   "cell_type": "markdown",
   "source": [
    "In this tutorial we use a custom RNN model from Flux with MLJFlux to classify text messages as spam or ham. We will be using the [SMS Collection Dataset](https://www.kaggle.com/datasets/uciml/sms-spam-collection-dataset) from Kaggle."
   ],
   "metadata": {}
  },
  {
   "cell_type": "markdown",
   "source": [
    "### Basic Imports"
   ],
   "metadata": {}
  },
  {
   "outputs": [],
   "cell_type": "code",
   "source": [
    "using MLJ\n",
    "using MLJFlux\n",
    "using Flux\n",
    "using CSV               # Read data\n",
    "using DataFrames        # Read data\n",
    "using ScientificTypes   # Type coercion\n",
    "using WordTokenizers    # For tokenization\n",
    "using Languages         # For stop words"
   ],
   "metadata": {},
   "execution_count": 1
  },
  {
   "cell_type": "markdown",
   "source": [
    "### Reading Data"
   ],
   "metadata": {}
  },
  {
   "outputs": [],
   "cell_type": "code",
   "source": [
    "df = CSV.read(\"./sms.csv\", DataFrame);"
   ],
   "metadata": {},
   "execution_count": 2
  },
  {
   "cell_type": "markdown",
   "source": [
    "Display the first 5 rows with DataFrames"
   ],
   "metadata": {}
  },
  {
   "outputs": [
    {
     "name": "stdout",
     "output_type": "stream",
     "text": [
      "┌──────────┬─────────────────────────────────────────────────────────────────────────────────────────────────────────────────────────────────────────────────────────────┐\n",
      "│ Category │ Message                                                                                                                                                     │\n",
      "│ String7  │ String                                                                                                                                                      │\n",
      "│ Textual  │ Textual                                                                                                                                                     │\n",
      "├──────────┼─────────────────────────────────────────────────────────────────────────────────────────────────────────────────────────────────────────────────────────────┤\n",
      "│ ham      │ Go until jurong point, crazy.. Available only in bugis n great world la e buffet... Cine there got amore wat...                                             │\n",
      "│ ham      │ Ok lar... Joking wif u oni...                                                                                                                               │\n",
      "│ spam     │ Free entry in 2 a wkly comp to win FA Cup final tkts 21st May 2005. Text FA to 87121 to receive entry question(std txt rate)T&C's apply 08452810075over18's │\n",
      "│ ham      │ U dun say so early hor... U c already then say...                                                                                                           │\n",
      "│ ham      │ Nah I don't think he goes to usf, he lives around here though                                                                                               │\n",
      "└──────────┴─────────────────────────────────────────────────────────────────────────────────────────────────────────────────────────────────────────────────────────────┘\n"
     ]
    }
   ],
   "cell_type": "code",
   "source": [
    "first(df, 5) |> pretty"
   ],
   "metadata": {},
   "execution_count": 3
  },
  {
   "cell_type": "markdown",
   "source": [
    "### Text Preprocessing\n",
    "Let's define a function that given an SMS message would:\n",
    "- Tokenize it (i.e., convert it into a vector of words)"
   ],
   "metadata": {}
  },
  {
   "cell_type": "markdown",
   "source": [
    "- Remove stop words (i.e., words that are not useful for the analysis, like \"the\", \"a\", etc.)"
   ],
   "metadata": {}
  },
  {
   "cell_type": "markdown",
   "source": [
    "- Return the filtered vector of words"
   ],
   "metadata": {}
  },
  {
   "outputs": [
    {
     "output_type": "execute_result",
     "data": {
      "text/plain": "preprocess_text (generic function with 1 method)"
     },
     "metadata": {},
     "execution_count": 4
    }
   ],
   "cell_type": "code",
   "source": [
    "function preprocess_text(text)\n",
    "\t# (1) Splitting texts into words (so later it can be a sequence of vectors)\n",
    "\ttokens = WordTokenizers.tokenize(text)\n",
    "\n",
    "\t# (2) Stop word removal\n",
    "\tstop_words = Languages.stopwords(Languages.English())\n",
    "\tfiltered_tokens = filter(token -> !(token in stop_words), tokens)\n",
    "\n",
    "\treturn filtered_tokens\n",
    "end"
   ],
   "metadata": {},
   "execution_count": 4
  },
  {
   "cell_type": "markdown",
   "source": [
    "Define the vocabulary to be the set of all words in our training set. We also need a function that would map each word in a given sequence of words into its index in the dictionary (which is equivalent to representing the words as one-hot vectors)."
   ],
   "metadata": {}
  },
  {
   "cell_type": "markdown",
   "source": [
    "Now after we do this the sequences will all be numerical vectors but they will be of unequal length. Thus, to facilitate batching of data for the deep learning model, we need to decide on a specific maximum length for all sequences and:"
   ],
   "metadata": {}
  },
  {
   "cell_type": "markdown",
   "source": [
    "- If a sequence is longer than the maximum length, we need to truncate it"
   ],
   "metadata": {}
  },
  {
   "cell_type": "markdown",
   "source": [
    "- If a sequence is shorter than the maximum length, we need to pad it with a new token"
   ],
   "metadata": {}
  },
  {
   "cell_type": "markdown",
   "source": [
    "Lastly, we must also handle the case that an incoming text sequence may involve words never seen in training by represent all such out-of-vocabulary words with a new token."
   ],
   "metadata": {}
  },
  {
   "cell_type": "markdown",
   "source": [
    "We will define a function that would do this for us."
   ],
   "metadata": {}
  },
  {
   "outputs": [
    {
     "output_type": "execute_result",
     "data": {
      "text/plain": "encode_and_equalize (generic function with 1 method)"
     },
     "metadata": {},
     "execution_count": 5
    }
   ],
   "cell_type": "code",
   "source": [
    "function encode_and_equalize(text_seq, vocab_dict, max_length, pad_val, oov_val)\n",
    "\t# (1) encode using the vocabulary\n",
    "\ttext_seq_inds = [get(vocab_dict, word, oov_val) for word in text_seq]\n",
    "\n",
    "\t# (2) truncate sequence if > max_length\n",
    "\tlength(text_seq_inds) > max_length && (text_seq_inds = text_seq_inds[1:max_length])\n",
    "\n",
    "\t# (3) pad with pad_val\n",
    "\ttext_seq_inds = vcat(text_seq_inds, fill(pad_val, max_length - length(text_seq_inds)))\n",
    "\n",
    "\treturn text_seq_inds\n",
    "end"
   ],
   "metadata": {},
   "execution_count": 5
  },
  {
   "cell_type": "markdown",
   "source": [
    "### Preparing Data\n",
    "Splitting the data"
   ],
   "metadata": {}
  },
  {
   "outputs": [],
   "cell_type": "code",
   "source": [
    "x_data, y_data = unpack(df, ==(:Message), ==(:Category))\n",
    "y_data = coerce(y_data, Multiclass);\n",
    "\n",
    "(x_train, x_val), (y_train, y_val) = partition((x_data, y_data), 0.8,\n",
    "\tmulti = true,\n",
    "\tshuffle = true,\n",
    "\trng = 42);"
   ],
   "metadata": {},
   "execution_count": 6
  },
  {
   "cell_type": "markdown",
   "source": [
    "Now let's process the training and validation sets:"
   ],
   "metadata": {}
  },
  {
   "outputs": [],
   "cell_type": "code",
   "source": [
    "x_train_processed = [preprocess_text(text) for text in x_train]\n",
    "x_val_processed = [preprocess_text(text) for text in x_val];"
   ],
   "metadata": {},
   "execution_count": 7
  },
  {
   "cell_type": "markdown",
   "source": [
    "sanity check"
   ],
   "metadata": {}
  },
  {
   "outputs": [
    {
     "name": "stdout",
     "output_type": "stream",
     "text": [
      "[\"Que\", \"pases\", \"un\", \"buen\", \"tiempo\"] is ham\n"
     ]
    }
   ],
   "cell_type": "code",
   "source": [
    "println(x_train_processed[1], \" is \", y_data[1])"
   ],
   "metadata": {},
   "execution_count": 8
  },
  {
   "cell_type": "markdown",
   "source": [
    "Define the vocabulary from the training data"
   ],
   "metadata": {}
  },
  {
   "outputs": [
    {
     "output_type": "execute_result",
     "data": {
      "text/plain": "12"
     },
     "metadata": {},
     "execution_count": 9
    }
   ],
   "cell_type": "code",
   "source": [
    "vocab = unique(vcat(x_train_processed...))\n",
    "vocab_dict = Dict(word => idx for (idx, word) in enumerate(vocab))\n",
    "vocab_size = length(vocab)\n",
    "pad_val, oov_val = vocab_size + 1, vocab_size + 2\n",
    "max_length = 12                 # can choose this more smartly if you wish"
   ],
   "metadata": {},
   "execution_count": 9
  },
  {
   "cell_type": "markdown",
   "source": [
    "Encode and equalize training and validation data:"
   ],
   "metadata": {}
  },
  {
   "outputs": [
    {
     "output_type": "execute_result",
     "data": {
      "text/plain": "5-element Vector{Vector{Int64}}:\n [1, 2, 3, 4, 5, 10404, 10404, 10404, 10404, 10404, 10404, 10404]\n [6, 7, 8, 9, 10, 11, 12, 13, 11, 14, 15, 16]\n [36, 37, 38, 39, 36, 40, 41, 42, 10404, 10404, 10404, 10404]\n [43, 24, 36, 44, 45, 46, 10404, 10404, 10404, 10404, 10404, 10404]\n [43, 47, 48, 49, 50, 51, 52, 53, 54, 55, 44, 45]"
     },
     "metadata": {},
     "execution_count": 10
    }
   ],
   "cell_type": "code",
   "source": [
    "x_train_processed_equalized = [\n",
    "\tencode_and_equalize(seq, vocab_dict, max_length, pad_val, oov_val) for\n",
    "\tseq in x_train_processed\n",
    "]\n",
    "x_val_processed_equalized = [\n",
    "\tencode_and_equalize(seq, vocab_dict, max_length, pad_val, oov_val) for\n",
    "\tseq in x_val_processed\n",
    "]\n",
    "x_train_processed_equalized[1:5]          # all sequences are encoded and of the same length"
   ],
   "metadata": {},
   "execution_count": 10
  },
  {
   "cell_type": "markdown",
   "source": [
    "Convert both structures into matrix form:"
   ],
   "metadata": {}
  },
  {
   "outputs": [
    {
     "output_type": "execute_result",
     "data": {
      "text/plain": "(4458, 12)"
     },
     "metadata": {},
     "execution_count": 11
    }
   ],
   "cell_type": "code",
   "source": [
    "matrixify(v) = reduce(hcat, v)'\n",
    "x_train_processed_equalized_fixed = matrixify(x_train_processed_equalized)\n",
    "x_val_processed_equalized_fixed = matrixify(x_val_processed_equalized)\n",
    "size(x_train_processed_equalized_fixed)"
   ],
   "metadata": {},
   "execution_count": 11
  },
  {
   "cell_type": "markdown",
   "source": [
    "### Instantiate Model"
   ],
   "metadata": {}
  },
  {
   "cell_type": "markdown",
   "source": [
    "For the model, we will use a RNN from Flux. We will average the hidden states corresponding to any sequence then pass that to a dense layer for classification."
   ],
   "metadata": {}
  },
  {
   "cell_type": "markdown",
   "source": [
    "For this, we need to define a custom Flux layer to perform the averaging operation:"
   ],
   "metadata": {}
  },
  {
   "outputs": [],
   "cell_type": "code",
   "source": [
    "struct Mean end\n",
    "Flux.@layer Mean\n",
    "(m::Mean)(x) = mean(x, dims = 2)[:, 1, :]   # [batch_size, seq_len, hidden_dim] => [batch_size, 1, hidden_dim]=> [batch_size, hidden_dim]"
   ],
   "metadata": {},
   "execution_count": 12
  },
  {
   "cell_type": "markdown",
   "source": [
    "For compatibility, we will also define a layer that simply casts the input to integers as the embedding layer in Flux expects integets but the MLJFlux model expects floats:"
   ],
   "metadata": {}
  },
  {
   "outputs": [],
   "cell_type": "code",
   "source": [
    "struct Intify end\n",
    "Flux.@layer Intify\n",
    "(m::Intify)(x) = Int.(x)"
   ],
   "metadata": {},
   "execution_count": 13
  },
  {
   "cell_type": "markdown",
   "source": [
    "Here we define out network:"
   ],
   "metadata": {}
  },
  {
   "outputs": [
    {
     "output_type": "execute_result",
     "data": {
      "text/plain": "GenericBuilder(apply = #15)\n"
     },
     "metadata": {},
     "execution_count": 14
    }
   ],
   "cell_type": "code",
   "source": [
    "builder = MLJFlux.@builder begin\n",
    "\tChain(\n",
    "\t\tIntify(),                         # Cast input to integer\n",
    "\t\tEmbedding(vocab_size + 2 => 300),  # Embedding layer\n",
    "\t\tRNN(300, 50, tanh),               # RNN layer\n",
    "\t\tMean(),                           # Mean pooling layer\n",
    "\t\tDense(50, 2)                     # Classification dense layer\n",
    "\t)\n",
    "end"
   ],
   "metadata": {},
   "execution_count": 14
  },
  {
   "cell_type": "markdown",
   "source": [
    "Notice that we used an embedding layer with input dimensionality `vocab_size + 2` to take into account the padding and out-of-vocabulary tokens. Recall that the indices in our input correspond to one-hot-vectors and the embedding layer's purpose is to learn to map them into meaningful dense vectors (of dimensionality 300 here)."
   ],
   "metadata": {}
  },
  {
   "cell_type": "markdown",
   "source": [
    "1. Load and instantiate model"
   ],
   "metadata": {}
  },
  {
   "outputs": [
    {
     "name": "stdout",
     "output_type": "stream",
     "text": [
      "[ Info: For silent loading, specify `verbosity=0`. \n",
      "import MLJFlux ✔\n"
     ]
    },
    {
     "output_type": "execute_result",
     "data": {
      "text/plain": "NeuralNetworkClassifier(\n  builder = GenericBuilder(\n        apply = Main.var\"##500\".var\"#15#16\"()), \n  finaliser = NNlib.softmax, \n  optimiser = Flux.Optimise.Adam(0.1, (0.9, 0.999), 1.0e-8, IdDict{Any, Any}()), \n  loss = Flux.Losses.crossentropy, \n  epochs = 10, \n  batch_size = 128, \n  lambda = 0.0, \n  alpha = 0.0, \n  rng = Random._GLOBAL_RNG(), \n  optimiser_changes_trigger_retraining = false, \n  acceleration = ComputationalResources.CPU1{Nothing}(nothing))"
     },
     "metadata": {},
     "execution_count": 15
    }
   ],
   "cell_type": "code",
   "source": [
    "NeuralNetworkClassifier = @load NeuralNetworkClassifier pkg = MLJFlux\n",
    "clf = NeuralNetworkClassifier(\n",
    "\tbuilder = builder,\n",
    "\toptimiser = Flux.ADAM(0.1),\n",
    "\tbatch_size = 128,\n",
    "\tepochs = 10,\n",
    ")"
   ],
   "metadata": {},
   "execution_count": 15
  },
  {
   "cell_type": "markdown",
   "source": [
    "2. Wrap it in a machine"
   ],
   "metadata": {}
  },
  {
   "outputs": [
    {
     "output_type": "execute_result",
     "data": {
      "text/plain": "untrained Machine; caches model-specific representations of data\n  model: NeuralNetworkClassifier(builder = GenericBuilder(apply = #15), …)\n  args: \n    1:\tSource @402 ⏎ AbstractMatrix{ScientificTypesBase.Continuous}\n    2:\tSource @501 ⏎ AbstractVector{ScientificTypesBase.Multiclass{2}}\n"
     },
     "metadata": {},
     "execution_count": 16
    }
   ],
   "cell_type": "code",
   "source": [
    "x_train_processed_equalized_fixed = coerce(x_train_processed_equalized_fixed, Continuous)\n",
    "mach = machine(clf, x_train_processed_equalized_fixed, y_train)"
   ],
   "metadata": {},
   "execution_count": 16
  },
  {
   "cell_type": "markdown",
   "source": [
    "## Train the Model"
   ],
   "metadata": {}
  },
  {
   "outputs": [
    {
     "name": "stdout",
     "output_type": "stream",
     "text": [
      "[ Info: Training machine(NeuralNetworkClassifier(builder = GenericBuilder(apply = #15), …), …).\n",
      "\rOptimising neural net:  18%[====>                    ]  ETA: 0:00:12\u001b[K\rOptimising neural net:  27%[======>                  ]  ETA: 0:00:10\u001b[K\rOptimising neural net:  36%[=========>               ]  ETA: 0:00:09\u001b[K\rOptimising neural net:  45%[===========>             ]  ETA: 0:00:07\u001b[K\rOptimising neural net:  55%[=============>           ]  ETA: 0:00:06\u001b[K\rOptimising neural net:  64%[===============>         ]  ETA: 0:00:05\u001b[K\rOptimising neural net:  73%[==================>      ]  ETA: 0:00:04\u001b[K\rOptimising neural net:  82%[====================>    ]  ETA: 0:00:02\u001b[K\rOptimising neural net:  91%[======================>  ]  ETA: 0:00:01\u001b[K\rOptimising neural net: 100%[=========================] Time: 0:00:12\u001b[K\n"
     ]
    },
    {
     "output_type": "execute_result",
     "data": {
      "text/plain": "trained Machine; caches model-specific representations of data\n  model: NeuralNetworkClassifier(builder = GenericBuilder(apply = #15), …)\n  args: \n    1:\tSource @402 ⏎ AbstractMatrix{ScientificTypesBase.Continuous}\n    2:\tSource @501 ⏎ AbstractVector{ScientificTypesBase.Multiclass{2}}\n"
     },
     "metadata": {},
     "execution_count": 17
    }
   ],
   "cell_type": "code",
   "source": [
    "fit!(mach)"
   ],
   "metadata": {},
   "execution_count": 17
  },
  {
   "cell_type": "markdown",
   "source": [
    "## Evaluate the Model"
   ],
   "metadata": {}
  },
  {
   "outputs": [
    {
     "output_type": "execute_result",
     "data": {
      "text/plain": "0.9370418555201171"
     },
     "metadata": {},
     "execution_count": 18
    }
   ],
   "cell_type": "code",
   "source": [
    "ŷ = predict_mode(mach, x_val_processed_equalized_fixed)\n",
    "balanced_accuracy(ŷ, y_val)"
   ],
   "metadata": {},
   "execution_count": 18
  },
  {
   "cell_type": "markdown",
   "source": [
    "Acceptable performance. Let's see some live examples:"
   ],
   "metadata": {}
  },
  {
   "outputs": [
    {
     "name": "stdout",
     "output_type": "stream",
     "text": [
      "SMS: `Hi elaine, is today's meeting confirmed?` and the prediction is `CategoricalArrays.CategoricalValue{InlineStrings.String7, UInt32}[InlineStrings.String7(\"ham\")]`"
     ]
    }
   ],
   "cell_type": "code",
   "source": [
    "using Random: Random;\n",
    "Random.seed!(99);\n",
    "\n",
    "z = rand(x_val)\n",
    "z_processed = preprocess_text(z)\n",
    "z_encoded_equalized =\n",
    "\tencode_and_equalize(z_processed, vocab_dict, max_length, pad_val, oov_val)\n",
    "z_encoded_equalized_fixed = matrixify([z_encoded_equalized])\n",
    "z_encoded_equalized_fixed = coerce(z_encoded_equalized_fixed, Continuous)\n",
    "z_pred = predict_mode(mach, z_encoded_equalized_fixed)\n",
    "\n",
    "print(\"SMS: `$(z)` and the prediction is `$(z_pred)`\")"
   ],
   "metadata": {},
   "execution_count": 19
  },
  {
   "cell_type": "markdown",
   "source": [
    "---\n",
    "\n",
    "*This notebook was generated using [Literate.jl](https://github.com/fredrikekre/Literate.jl).*"
   ],
   "metadata": {}
  }
 ],
 "nbformat_minor": 3,
 "metadata": {
  "language_info": {
   "file_extension": ".jl",
   "mimetype": "application/julia",
   "name": "julia",
   "version": "1.10.0"
  },
  "kernelspec": {
   "name": "julia-1.10",
   "display_name": "Julia 1.10.0",
   "language": "julia"
  }
 },
 "nbformat": 4
}
