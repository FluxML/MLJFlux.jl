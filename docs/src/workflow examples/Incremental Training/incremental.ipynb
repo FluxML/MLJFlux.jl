{
 "cells": [
  {
   "cell_type": "markdown",
   "source": [
    "# Incremental Training with MLJFlux\n",
    "In this workflow example we explore how to incrementally train MLJFlux models."
   ],
   "metadata": {}
  },
  {
   "cell_type": "markdown",
   "source": [
    "**Julia version** is assumed to be 1.10.*"
   ],
   "metadata": {}
  },
  {
   "cell_type": "markdown",
   "source": [
    "### Basic Imports"
   ],
   "metadata": {}
  },
  {
   "outputs": [],
   "cell_type": "code",
   "source": [
    "using MLJ               # Has MLJFlux models\n",
    "using Flux              # For more flexibility\n",
    "import RDatasets        # Dataset source"
   ],
   "metadata": {},
   "execution_count": 1
  },
  {
   "cell_type": "markdown",
   "source": [
    "### Loading and Splitting the Data"
   ],
   "metadata": {}
  },
  {
   "outputs": [],
   "cell_type": "code",
   "source": [
    "iris = RDatasets.dataset(\"datasets\", \"iris\");\n",
    "y, X = unpack(iris, ==(:Species), colname -> true, rng=123);\n",
    "X = Float32.(X)      # To be compatible with type of network network parameters\n",
    "(X_train, X_test), (y_train, y_test) = partition((X, y), 0.8,\n",
    "                                                 multi = true,\n",
    "                                                 shuffle = true,\n",
    "                                                 rng=42);"
   ],
   "metadata": {},
   "execution_count": 2
  },
  {
   "cell_type": "markdown",
   "source": [
    "### Instantiating the model\n",
    "Now let's construct our model. This follows a similar setup to the one followed in the [Quick Start](../../index.md#quick-start)."
   ],
   "metadata": {}
  },
  {
   "outputs": [
    {
     "name": "stdout",
     "output_type": "stream",
     "text": [
      "[ Info: For silent loading, specify `verbosity=0`. \n",
      "import MLJFlux ✔\n"
     ]
    },
    {
     "output_type": "execute_result",
     "data": {
      "text/plain": "NeuralNetworkClassifier(\n  builder = MLP(\n        hidden = (5, 4), \n        σ = NNlib.relu), \n  finaliser = NNlib.softmax, \n  optimiser = Flux.Optimise.Adam(0.01, (0.9, 0.999), 1.0e-8, IdDict{Any, Any}()), \n  loss = Flux.Losses.crossentropy, \n  epochs = 10, \n  batch_size = 8, \n  lambda = 0.0, \n  alpha = 0.0, \n  rng = 42, \n  optimiser_changes_trigger_retraining = false, \n  acceleration = ComputationalResources.CPU1{Nothing}(nothing))"
     },
     "metadata": {},
     "execution_count": 3
    }
   ],
   "cell_type": "code",
   "source": [
    "NeuralNetworkClassifier = @load NeuralNetworkClassifier pkg=MLJFlux\n",
    "clf = NeuralNetworkClassifier(\n",
    "    builder=MLJFlux.MLP(; hidden=(5,4), σ=Flux.relu),\n",
    "    optimiser=Flux.ADAM(0.01),\n",
    "    batch_size=8,\n",
    "    epochs=10,\n",
    "    rng=42\n",
    "    )"
   ],
   "metadata": {},
   "execution_count": 3
  },
  {
   "cell_type": "markdown",
   "source": [
    "### Initial round of training\n",
    "Now let's train the model. Calling fit! will automatically train it for 100 epochs as specified above."
   ],
   "metadata": {}
  },
  {
   "outputs": [
    {
     "name": "stdout",
     "output_type": "stream",
     "text": [
      "[ Info: Training machine(NeuralNetworkClassifier(builder = MLP(hidden = (5, 4), …), …), …).\n",
      "\rOptimising neural net:  18%[====>                    ]  ETA: 0:00:21\u001b[K\rOptimising neural net: 100%[=========================] Time: 0:00:05\u001b[K\n"
     ]
    },
    {
     "output_type": "execute_result",
     "data": {
      "text/plain": "trained Machine; caches model-specific representations of data\n  model: NeuralNetworkClassifier(builder = MLP(hidden = (5, 4), …), …)\n  args: \n    1:\tSource @655 ⏎ ScientificTypesBase.Table{AbstractVector{ScientificTypesBase.Continuous}}\n    2:\tSource @902 ⏎ AbstractVector{ScientificTypesBase.Multiclass{3}}\n"
     },
     "metadata": {},
     "execution_count": 4
    }
   ],
   "cell_type": "code",
   "source": [
    "mach = machine(clf, X_train, y_train)\n",
    "fit!(mach)"
   ],
   "metadata": {},
   "execution_count": 4
  },
  {
   "cell_type": "markdown",
   "source": [
    "Let's evaluate the training loss and validation accuracy"
   ],
   "metadata": {}
  },
  {
   "outputs": [
    {
     "output_type": "execute_result",
     "data": {
      "text/plain": "0.5187556517212482"
     },
     "metadata": {},
     "execution_count": 5
    }
   ],
   "cell_type": "code",
   "source": [
    "training_loss = cross_entropy(predict(mach, X_train), y_train)"
   ],
   "metadata": {},
   "execution_count": 5
  },
  {
   "outputs": [
    {
     "output_type": "execute_result",
     "data": {
      "text/plain": "0.5333333333333333"
     },
     "metadata": {},
     "execution_count": 6
    }
   ],
   "cell_type": "code",
   "source": [
    "val_acc = accuracy(predict_mode(mach, X_test), y_test)"
   ],
   "metadata": {},
   "execution_count": 6
  },
  {
   "cell_type": "markdown",
   "source": [
    "Poor performance it seems.\n",
    "### Incremental Training\n",
    "Now let's train it for another 30 epochs at half the original learning rate. All we need to do is changes these\n",
    "hyperparameters and call fit again. It won't reset the model parameters before training."
   ],
   "metadata": {}
  },
  {
   "outputs": [
    {
     "name": "stdout",
     "output_type": "stream",
     "text": [
      "[ Info: Updating machine(NeuralNetworkClassifier(builder = MLP(hidden = (5, 4), …), …), …).\n",
      "[ Info: Loss is 0.5195\n",
      "[ Info: Loss is 0.5113\n",
      "[ Info: Loss is 0.5056\n",
      "[ Info: Loss is 0.501\n",
      "[ Info: Loss is 0.497\n",
      "[ Info: Loss is 0.4944\n",
      "[ Info: Loss is 0.4909\n",
      "[ Info: Loss is 0.4881\n",
      "[ Info: Loss is 0.4855\n",
      "[ Info: Loss is 0.4833\n",
      "[ Info: Loss is 0.4813\n",
      "[ Info: Loss is 0.4794\n",
      "[ Info: Loss is 0.4777\n",
      "[ Info: Loss is 0.476\n",
      "[ Info: Loss is 0.4744\n",
      "[ Info: Loss is 0.4729\n",
      "[ Info: Loss is 0.471\n",
      "[ Info: Loss is 0.4685\n",
      "[ Info: Loss is 0.4357\n",
      "[ Info: Loss is 0.3986\n",
      "[ Info: Loss is 0.354\n",
      "[ Info: Loss is 0.3212\n",
      "[ Info: Loss is 0.294\n",
      "[ Info: Loss is 0.2832\n",
      "[ Info: Loss is 0.2727\n",
      "[ Info: Loss is 0.247\n",
      "[ Info: Loss is 0.2285\n",
      "[ Info: Loss is 0.2153\n",
      "[ Info: Loss is 0.2024\n",
      "[ Info: Loss is 0.1928\n"
     ]
    }
   ],
   "cell_type": "code",
   "source": [
    "clf.optimiser.eta = clf.optimiser.eta / 2\n",
    "clf.epochs = clf.epochs + 30\n",
    "fit!(mach, verbosity=2);"
   ],
   "metadata": {},
   "execution_count": 7
  },
  {
   "cell_type": "markdown",
   "source": [
    "Let's evaluate the training loss and validation accuracy"
   ],
   "metadata": {}
  },
  {
   "outputs": [
    {
     "output_type": "execute_result",
     "data": {
      "text/plain": "0.18276122841169196"
     },
     "metadata": {},
     "execution_count": 8
    }
   ],
   "cell_type": "code",
   "source": [
    "training_loss = cross_entropy(predict(mach, X_train), y_train)"
   ],
   "metadata": {},
   "execution_count": 8
  },
  {
   "outputs": [
    {
     "output_type": "execute_result",
     "data": {
      "text/plain": "0.9333333333333333"
     },
     "metadata": {},
     "execution_count": 9
    }
   ],
   "cell_type": "code",
   "source": [
    "training_acc = accuracy(predict_mode(mach, X_test), y_test)"
   ],
   "metadata": {},
   "execution_count": 9
  },
  {
   "cell_type": "markdown",
   "source": [
    "That's much better. If we are rather interested in resetting the model parameters before fitting, we can do `fit(mach, force=true)`."
   ],
   "metadata": {}
  },
  {
   "cell_type": "markdown",
   "source": [
    "---\n",
    "\n",
    "*This notebook was generated using [Literate.jl](https://github.com/fredrikekre/Literate.jl).*"
   ],
   "metadata": {}
  }
 ],
 "nbformat_minor": 3,
 "metadata": {
  "language_info": {
   "file_extension": ".jl",
   "mimetype": "application/julia",
   "name": "julia",
   "version": "1.10.0"
  },
  "kernelspec": {
   "name": "julia-1.10",
   "display_name": "Julia 1.10.0",
   "language": "julia"
  }
 },
 "nbformat": 4
}
