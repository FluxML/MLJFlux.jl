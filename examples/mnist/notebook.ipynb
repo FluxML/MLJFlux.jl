{
 "cells": [
  {
   "cell_type": "markdown",
   "metadata": {},
   "source": [
    "# Using MLJ to classifiy the MNIST image dataset"
   ]
  },
  {
   "cell_type": "code",
   "execution_count": 1,
   "metadata": {},
   "outputs": [
    {
     "name": "stderr",
     "output_type": "stream",
     "text": [
      "\u001b[32m\u001b[1m  Activating\u001b[22m\u001b[39m project at `~/GoogleDrive/Julia/MLJ/MLJFlux/examples/mnist`\n",
      "\u001b[32m\u001b[1mPrecompiling\u001b[22m\u001b[39m project...\n",
      "\u001b[32m  ✓ \u001b[39m\u001b[90mPlots → IJuliaExt\u001b[39m\n",
      "  1 dependency successfully precompiled in 9 seconds. 380 already precompiled.\n"
     ]
    }
   ],
   "source": [
    "using Pkg\n",
    "const DIR = @__DIR__\n",
    "Pkg.activate(DIR)\n",
    "Pkg.instantiate()"
   ]
  },
  {
   "cell_type": "markdown",
   "metadata": {},
   "source": [
    "**Julia version** is assumed to be ^1.10"
   ]
  },
  {
   "cell_type": "code",
   "execution_count": 2,
   "metadata": {},
   "outputs": [],
   "source": [
    "using MLJ\n",
    "using Flux\n",
    "import MLJFlux\n",
    "import MLUtils\n",
    "import MLJIteration # for `skip`"
   ]
  },
  {
   "cell_type": "markdown",
   "metadata": {},
   "source": [
    "If running on a GPU, you will also need to `import CUDA` and `import cuDNN`."
   ]
  },
  {
   "cell_type": "code",
   "execution_count": 3,
   "metadata": {},
   "outputs": [
    {
     "name": "stderr",
     "output_type": "stream",
     "text": [
      "\u001b[36m\u001b[1m[ \u001b[22m\u001b[39m\u001b[36m\u001b[1mInfo: \u001b[22m\u001b[39mPrecompiling IJuliaExt [2f4121a4-3b3a-5ce6-9c5e-1f2673ce168a]\n"
     ]
    }
   ],
   "source": [
    "using Plots\n",
    "gr(size=(600, 300*(sqrt(5)-1)));"
   ]
  },
  {
   "cell_type": "markdown",
   "metadata": {},
   "source": [
    "## Basic training"
   ]
  },
  {
   "cell_type": "markdown",
   "metadata": {},
   "source": [
    "Downloading the MNIST image dataset:"
   ]
  },
  {
   "cell_type": "code",
   "execution_count": 4,
   "metadata": {},
   "outputs": [],
   "source": [
    "import MLDatasets: MNIST\n",
    "\n",
    "ENV[\"DATADEPS_ALWAYS_ACCEPT\"] = true\n",
    "images, labels = MNIST(split=:train)[:];"
   ]
  },
  {
   "cell_type": "markdown",
   "metadata": {},
   "source": [
    "In MLJ, integers cannot be used for encoding categorical data, so we\n",
    "must force the labels to have the `Multiclass` [scientific\n",
    "type](https://juliaai.github.io/ScientificTypes.jl/dev/). For\n",
    "more on this, see [Working with Categorical\n",
    "Data](https://alan-turing-institute.github.io/MLJ.jl/dev/working_with_categorical_data/)."
   ]
  },
  {
   "cell_type": "code",
   "execution_count": 5,
   "metadata": {},
   "outputs": [],
   "source": [
    "labels = coerce(labels, Multiclass);\n",
    "images = coerce(images, GrayImage);"
   ]
  },
  {
   "cell_type": "markdown",
   "metadata": {},
   "source": [
    "Checking scientific types:"
   ]
  },
  {
   "cell_type": "code",
   "execution_count": 6,
   "metadata": {},
   "outputs": [],
   "source": [
    "@assert scitype(images) <: AbstractVector{<:Image}\n",
    "@assert scitype(labels) <: AbstractVector{<:Finite}"
   ]
  },
  {
   "cell_type": "markdown",
   "metadata": {},
   "source": [
    "Looks good."
   ]
  },
  {
   "cell_type": "markdown",
   "metadata": {},
   "source": [
    "For general instructions on coercing image data, see [Type coercion\n",
    "for image\n",
    "data](https://juliaai.github.io/ScientificTypes.jl/dev/#Type-coercion-for-image-data)"
   ]
  },
  {
   "cell_type": "code",
   "execution_count": 7,
   "metadata": {},
   "outputs": [
    {
     "data": {
      "image/svg+xml": [
       "<?xml version=\"1.0\" encoding=\"UTF-8\"?>\n",
       "<!DOCTYPE svg PUBLIC \"-//W3C//DTD SVG 1.1//EN\"\n",
       " \"http://www.w3.org/Graphics/SVG/1.1/DTD/svg11.dtd\">\n",
       "<svg xmlns=\"http://www.w3.org/2000/svg\" version=\"1.1\"\n",
       "     width=\"150mm\" height=\"150mm\"\n",
       "     viewBox=\"0 0 28 28\" preserveAspectRatio=\"none\"\n",
       "     shape-rendering=\"crispEdges\" stroke=\"none\">\n",
       "<rect width=\".81\" height=\".81\" x=\"0\" y=\"0\" fill=\"#000000\" />\n",
       "<rect width=\".81\" height=\".81\" x=\"1\" y=\"0\" fill=\"#000000\" />\n",
       "<rect width=\".81\" height=\".81\" x=\"2\" y=\"0\" fill=\"#000000\" />\n",
       "<rect width=\".81\" height=\".81\" x=\"3\" y=\"0\" fill=\"#000000\" />\n",
       "<rect width=\".81\" height=\".81\" x=\"4\" y=\"0\" fill=\"#000000\" />\n",
       "<rect width=\".81\" height=\".81\" x=\"5\" y=\"0\" fill=\"#000000\" />\n",
       "<rect width=\".81\" height=\".81\" x=\"6\" y=\"0\" fill=\"#000000\" />\n",
       "<rect width=\".81\" height=\".81\" x=\"7\" y=\"0\" fill=\"#000000\" />\n",
       "<rect width=\".81\" height=\".81\" x=\"8\" y=\"0\" fill=\"#000000\" />\n",
       "<rect width=\".81\" height=\".81\" x=\"9\" y=\"0\" fill=\"#000000\" />\n",
       "<rect width=\".81\" height=\".81\" x=\"10\" y=\"0\" fill=\"#000000\" />\n",
       "<rect width=\".81\" height=\".81\" x=\"11\" y=\"0\" fill=\"#000000\" />\n",
       "<rect width=\".81\" height=\".81\" x=\"12\" y=\"0\" fill=\"#000000\" />\n",
       "<rect width=\".81\" height=\".81\" x=\"13\" y=\"0\" fill=\"#000000\" />\n",
       "<rect width=\".81\" height=\".81\" x=\"14\" y=\"0\" fill=\"#000000\" />\n",
       "<rect width=\".81\" height=\".81\" x=\"15\" y=\"0\" fill=\"#000000\" />\n",
       "<rect width=\".81\" height=\".81\" x=\"16\" y=\"0\" fill=\"#000000\" />\n",
       "<rect width=\".81\" height=\".81\" x=\"17\" y=\"0\" fill=\"#000000\" />\n",
       "<rect width=\".81\" height=\".81\" x=\"18\" y=\"0\" fill=\"#000000\" />\n",
       "<rect width=\".81\" height=\".81\" x=\"19\" y=\"0\" fill=\"#000000\" />\n",
       "<rect width=\".81\" height=\".81\" x=\"20\" y=\"0\" fill=\"#000000\" />\n",
       "<rect width=\".81\" height=\".81\" x=\"21\" y=\"0\" fill=\"#000000\" />\n",
       "<rect width=\".81\" height=\".81\" x=\"22\" y=\"0\" fill=\"#000000\" />\n",
       "<rect width=\".81\" height=\".81\" x=\"23\" y=\"0\" fill=\"#000000\" />\n",
       "<rect width=\".81\" height=\".81\" x=\"24\" y=\"0\" fill=\"#000000\" />\n",
       "<rect width=\".81\" height=\".81\" x=\"25\" y=\"0\" fill=\"#000000\" />\n",
       "<rect width=\".81\" height=\".81\" x=\"26\" y=\"0\" fill=\"#000000\" />\n",
       "<rect width=\".81\" height=\".81\" x=\"27\" y=\"0\" fill=\"#000000\" />\n",
       "<rect width=\".81\" height=\".81\" x=\"0\" y=\"1\" fill=\"#000000\" />\n",
       "<rect width=\".81\" height=\".81\" x=\"1\" y=\"1\" fill=\"#000000\" />\n",
       "<rect width=\".81\" height=\".81\" x=\"2\" y=\"1\" fill=\"#000000\" />\n",
       "<rect width=\".81\" height=\".81\" x=\"3\" y=\"1\" fill=\"#000000\" />\n",
       "<rect width=\".81\" height=\".81\" x=\"4\" y=\"1\" fill=\"#000000\" />\n",
       "<rect width=\".81\" height=\".81\" x=\"5\" y=\"1\" fill=\"#000000\" />\n",
       "<rect width=\".81\" height=\".81\" x=\"6\" y=\"1\" fill=\"#000000\" />\n",
       "<rect width=\".81\" height=\".81\" x=\"7\" y=\"1\" fill=\"#000000\" />\n",
       "<rect width=\".81\" height=\".81\" x=\"8\" y=\"1\" fill=\"#000000\" />\n",
       "<rect width=\".81\" height=\".81\" x=\"9\" y=\"1\" fill=\"#000000\" />\n",
       "<rect width=\".81\" height=\".81\" x=\"10\" y=\"1\" fill=\"#000000\" />\n",
       "<rect width=\".81\" height=\".81\" x=\"11\" y=\"1\" fill=\"#000000\" />\n",
       "<rect width=\".81\" height=\".81\" x=\"12\" y=\"1\" fill=\"#000000\" />\n",
       "<rect width=\".81\" height=\".81\" x=\"13\" y=\"1\" fill=\"#000000\" />\n",
       "<rect width=\".81\" height=\".81\" x=\"14\" y=\"1\" fill=\"#000000\" />\n",
       "<rect width=\".81\" height=\".81\" x=\"15\" y=\"1\" fill=\"#000000\" />\n",
       "<rect width=\".81\" height=\".81\" x=\"16\" y=\"1\" fill=\"#000000\" />\n",
       "<rect width=\".81\" height=\".81\" x=\"17\" y=\"1\" fill=\"#000000\" />\n",
       "<rect width=\".81\" height=\".81\" x=\"18\" y=\"1\" fill=\"#000000\" />\n",
       "<rect width=\".81\" height=\".81\" x=\"19\" y=\"1\" fill=\"#000000\" />\n",
       "<rect width=\".81\" height=\".81\" x=\"20\" y=\"1\" fill=\"#000000\" />\n",
       "<rect width=\".81\" height=\".81\" x=\"21\" y=\"1\" fill=\"#000000\" />\n",
       "<rect width=\".81\" height=\".81\" x=\"22\" y=\"1\" fill=\"#000000\" />\n",
       "<rect width=\".81\" height=\".81\" x=\"23\" y=\"1\" fill=\"#000000\" />\n",
       "<rect width=\".81\" height=\".81\" x=\"24\" y=\"1\" fill=\"#000000\" />\n",
       "<rect width=\".81\" height=\".81\" x=\"25\" y=\"1\" fill=\"#000000\" />\n",
       "<rect width=\".81\" height=\".81\" x=\"26\" y=\"1\" fill=\"#000000\" />\n",
       "<rect width=\".81\" height=\".81\" x=\"27\" y=\"1\" fill=\"#000000\" />\n",
       "<rect width=\".81\" height=\".81\" x=\"0\" y=\"2\" fill=\"#000000\" />\n",
       "<rect width=\".81\" height=\".81\" x=\"1\" y=\"2\" fill=\"#000000\" />\n",
       "<rect width=\".81\" height=\".81\" x=\"2\" y=\"2\" fill=\"#000000\" />\n",
       "<rect width=\".81\" height=\".81\" x=\"3\" y=\"2\" fill=\"#000000\" />\n",
       "<rect width=\".81\" height=\".81\" x=\"4\" y=\"2\" fill=\"#000000\" />\n",
       "<rect width=\".81\" height=\".81\" x=\"5\" y=\"2\" fill=\"#000000\" />\n",
       "<rect width=\".81\" height=\".81\" x=\"6\" y=\"2\" fill=\"#000000\" />\n",
       "<rect width=\".81\" height=\".81\" x=\"7\" y=\"2\" fill=\"#000000\" />\n",
       "<rect width=\".81\" height=\".81\" x=\"8\" y=\"2\" fill=\"#000000\" />\n",
       "<rect width=\".81\" height=\".81\" x=\"9\" y=\"2\" fill=\"#000000\" />\n",
       "<rect width=\".81\" height=\".81\" x=\"10\" y=\"2\" fill=\"#000000\" />\n",
       "<rect width=\".81\" height=\".81\" x=\"11\" y=\"2\" fill=\"#000000\" />\n",
       "<rect width=\".81\" height=\".81\" x=\"12\" y=\"2\" fill=\"#000000\" />\n",
       "<rect width=\".81\" height=\".81\" x=\"13\" y=\"2\" fill=\"#000000\" />\n",
       "<rect width=\".81\" height=\".81\" x=\"14\" y=\"2\" fill=\"#000000\" />\n",
       "<rect width=\".81\" height=\".81\" x=\"15\" y=\"2\" fill=\"#000000\" />\n",
       "<rect width=\".81\" height=\".81\" x=\"16\" y=\"2\" fill=\"#000000\" />\n",
       "<rect width=\".81\" height=\".81\" x=\"17\" y=\"2\" fill=\"#000000\" />\n",
       "<rect width=\".81\" height=\".81\" x=\"18\" y=\"2\" fill=\"#000000\" />\n",
       "<rect width=\".81\" height=\".81\" x=\"19\" y=\"2\" fill=\"#000000\" />\n",
       "<rect width=\".81\" height=\".81\" x=\"20\" y=\"2\" fill=\"#000000\" />\n",
       "<rect width=\".81\" height=\".81\" x=\"21\" y=\"2\" fill=\"#000000\" />\n",
       "<rect width=\".81\" height=\".81\" x=\"22\" y=\"2\" fill=\"#000000\" />\n",
       "<rect width=\".81\" height=\".81\" x=\"23\" y=\"2\" fill=\"#000000\" />\n",
       "<rect width=\".81\" height=\".81\" x=\"24\" y=\"2\" fill=\"#000000\" />\n",
       "<rect width=\".81\" height=\".81\" x=\"25\" y=\"2\" fill=\"#000000\" />\n",
       "<rect width=\".81\" height=\".81\" x=\"26\" y=\"2\" fill=\"#000000\" />\n",
       "<rect width=\".81\" height=\".81\" x=\"27\" y=\"2\" fill=\"#000000\" />\n",
       "<rect width=\".81\" height=\".81\" x=\"0\" y=\"3\" fill=\"#000000\" />\n",
       "<rect width=\".81\" height=\".81\" x=\"1\" y=\"3\" fill=\"#000000\" />\n",
       "<rect width=\".81\" height=\".81\" x=\"2\" y=\"3\" fill=\"#000000\" />\n",
       "<rect width=\".81\" height=\".81\" x=\"3\" y=\"3\" fill=\"#000000\" />\n",
       "<rect width=\".81\" height=\".81\" x=\"4\" y=\"3\" fill=\"#000000\" />\n",
       "<rect width=\".81\" height=\".81\" x=\"5\" y=\"3\" fill=\"#000000\" />\n",
       "<rect width=\".81\" height=\".81\" x=\"6\" y=\"3\" fill=\"#000000\" />\n",
       "<rect width=\".81\" height=\".81\" x=\"7\" y=\"3\" fill=\"#000000\" />\n",
       "<rect width=\".81\" height=\".81\" x=\"8\" y=\"3\" fill=\"#000000\" />\n",
       "<rect width=\".81\" height=\".81\" x=\"9\" y=\"3\" fill=\"#000000\" />\n",
       "<rect width=\".81\" height=\".81\" x=\"10\" y=\"3\" fill=\"#000000\" />\n",
       "<rect width=\".81\" height=\".81\" x=\"11\" y=\"3\" fill=\"#000000\" />\n",
       "<rect width=\".81\" height=\".81\" x=\"12\" y=\"3\" fill=\"#000000\" />\n",
       "<rect width=\".81\" height=\".81\" x=\"13\" y=\"3\" fill=\"#000000\" />\n",
       "<rect width=\".81\" height=\".81\" x=\"14\" y=\"3\" fill=\"#000000\" />\n",
       "<rect width=\".81\" height=\".81\" x=\"15\" y=\"3\" fill=\"#000000\" />\n",
       "<rect width=\".81\" height=\".81\" x=\"16\" y=\"3\" fill=\"#000000\" />\n",
       "<rect width=\".81\" height=\".81\" x=\"17\" y=\"3\" fill=\"#000000\" />\n",
       "<rect width=\".81\" height=\".81\" x=\"18\" y=\"3\" fill=\"#000000\" />\n",
       "<rect width=\".81\" height=\".81\" x=\"19\" y=\"3\" fill=\"#000000\" />\n",
       "<rect width=\".81\" height=\".81\" x=\"20\" y=\"3\" fill=\"#000000\" />\n",
       "<rect width=\".81\" height=\".81\" x=\"21\" y=\"3\" fill=\"#000000\" />\n",
       "<rect width=\".81\" height=\".81\" x=\"22\" y=\"3\" fill=\"#000000\" />\n",
       "<rect width=\".81\" height=\".81\" x=\"23\" y=\"3\" fill=\"#000000\" />\n",
       "<rect width=\".81\" height=\".81\" x=\"24\" y=\"3\" fill=\"#000000\" />\n",
       "<rect width=\".81\" height=\".81\" x=\"25\" y=\"3\" fill=\"#000000\" />\n",
       "<rect width=\".81\" height=\".81\" x=\"26\" y=\"3\" fill=\"#000000\" />\n",
       "<rect width=\".81\" height=\".81\" x=\"27\" y=\"3\" fill=\"#000000\" />\n",
       "<rect width=\".81\" height=\".81\" x=\"0\" y=\"4\" fill=\"#000000\" />\n",
       "<rect width=\".81\" height=\".81\" x=\"1\" y=\"4\" fill=\"#000000\" />\n",
       "<rect width=\".81\" height=\".81\" x=\"2\" y=\"4\" fill=\"#000000\" />\n",
       "<rect width=\".81\" height=\".81\" x=\"3\" y=\"4\" fill=\"#000000\" />\n",
       "<rect width=\".81\" height=\".81\" x=\"4\" y=\"4\" fill=\"#000000\" />\n",
       "<rect width=\".81\" height=\".81\" x=\"5\" y=\"4\" fill=\"#000000\" />\n",
       "<rect width=\".81\" height=\".81\" x=\"6\" y=\"4\" fill=\"#000000\" />\n",
       "<rect width=\".81\" height=\".81\" x=\"7\" y=\"4\" fill=\"#000000\" />\n",
       "<rect width=\".81\" height=\".81\" x=\"8\" y=\"4\" fill=\"#000000\" />\n",
       "<rect width=\".81\" height=\".81\" x=\"9\" y=\"4\" fill=\"#000000\" />\n",
       "<rect width=\".81\" height=\".81\" x=\"10\" y=\"4\" fill=\"#000000\" />\n",
       "<rect width=\".81\" height=\".81\" x=\"11\" y=\"4\" fill=\"#000000\" />\n",
       "<rect width=\".81\" height=\".81\" x=\"12\" y=\"4\" fill=\"#000000\" />\n",
       "<rect width=\".81\" height=\".81\" x=\"13\" y=\"4\" fill=\"#000000\" />\n",
       "<rect width=\".81\" height=\".81\" x=\"14\" y=\"4\" fill=\"#000000\" />\n",
       "<rect width=\".81\" height=\".81\" x=\"15\" y=\"4\" fill=\"#000000\" />\n",
       "<rect width=\".81\" height=\".81\" x=\"16\" y=\"4\" fill=\"#000000\" />\n",
       "<rect width=\".81\" height=\".81\" x=\"17\" y=\"4\" fill=\"#000000\" />\n",
       "<rect width=\".81\" height=\".81\" x=\"18\" y=\"4\" fill=\"#000000\" />\n",
       "<rect width=\".81\" height=\".81\" x=\"19\" y=\"4\" fill=\"#000000\" />\n",
       "<rect width=\".81\" height=\".81\" x=\"20\" y=\"4\" fill=\"#000000\" />\n",
       "<rect width=\".81\" height=\".81\" x=\"21\" y=\"4\" fill=\"#000000\" />\n",
       "<rect width=\".81\" height=\".81\" x=\"22\" y=\"4\" fill=\"#000000\" />\n",
       "<rect width=\".81\" height=\".81\" x=\"23\" y=\"4\" fill=\"#373737\" />\n",
       "<rect width=\".81\" height=\".81\" x=\"24\" y=\"4\" fill=\"#888888\" />\n",
       "<rect width=\".81\" height=\".81\" x=\"25\" y=\"4\" fill=\"#000000\" />\n",
       "<rect width=\".81\" height=\".81\" x=\"26\" y=\"4\" fill=\"#000000\" />\n",
       "<rect width=\".81\" height=\".81\" x=\"27\" y=\"4\" fill=\"#000000\" />\n",
       "<rect width=\".81\" height=\".81\" x=\"0\" y=\"5\" fill=\"#000000\" />\n",
       "<rect width=\".81\" height=\".81\" x=\"1\" y=\"5\" fill=\"#000000\" />\n",
       "<rect width=\".81\" height=\".81\" x=\"2\" y=\"5\" fill=\"#000000\" />\n",
       "<rect width=\".81\" height=\".81\" x=\"3\" y=\"5\" fill=\"#000000\" />\n",
       "<rect width=\".81\" height=\".81\" x=\"4\" y=\"5\" fill=\"#000000\" />\n",
       "<rect width=\".81\" height=\".81\" x=\"5\" y=\"5\" fill=\"#000000\" />\n",
       "<rect width=\".81\" height=\".81\" x=\"6\" y=\"5\" fill=\"#000000\" />\n",
       "<rect width=\".81\" height=\".81\" x=\"7\" y=\"5\" fill=\"#000000\" />\n",
       "<rect width=\".81\" height=\".81\" x=\"8\" y=\"5\" fill=\"#000000\" />\n",
       "<rect width=\".81\" height=\".81\" x=\"9\" y=\"5\" fill=\"#000000\" />\n",
       "<rect width=\".81\" height=\".81\" x=\"10\" y=\"5\" fill=\"#000000\" />\n",
       "<rect width=\".81\" height=\".81\" x=\"11\" y=\"5\" fill=\"#000000\" />\n",
       "<rect width=\".81\" height=\".81\" x=\"12\" y=\"5\" fill=\"#000000\" />\n",
       "<rect width=\".81\" height=\".81\" x=\"13\" y=\"5\" fill=\"#000000\" />\n",
       "<rect width=\".81\" height=\".81\" x=\"14\" y=\"5\" fill=\"#000000\" />\n",
       "<rect width=\".81\" height=\".81\" x=\"15\" y=\"5\" fill=\"#000000\" />\n",
       "<rect width=\".81\" height=\".81\" x=\"16\" y=\"5\" fill=\"#000000\" />\n",
       "<rect width=\".81\" height=\".81\" x=\"17\" y=\"5\" fill=\"#000000\" />\n",
       "<rect width=\".81\" height=\".81\" x=\"18\" y=\"5\" fill=\"#000000\" />\n",
       "<rect width=\".81\" height=\".81\" x=\"19\" y=\"5\" fill=\"#000000\" />\n",
       "<rect width=\".81\" height=\".81\" x=\"20\" y=\"5\" fill=\"#000000\" />\n",
       "<rect width=\".81\" height=\".81\" x=\"21\" y=\"5\" fill=\"#000000\" />\n",
       "<rect width=\".81\" height=\".81\" x=\"22\" y=\"5\" fill=\"#000000\" />\n",
       "<rect width=\".81\" height=\".81\" x=\"23\" y=\"5\" fill=\"#ACACAC\" />\n",
       "<rect width=\".81\" height=\".81\" x=\"24\" y=\"5\" fill=\"#FDFDFD\" />\n",
       "<rect width=\".81\" height=\".81\" x=\"25\" y=\"5\" fill=\"#000000\" />\n",
       "<rect width=\".81\" height=\".81\" x=\"26\" y=\"5\" fill=\"#000000\" />\n",
       "<rect width=\".81\" height=\".81\" x=\"27\" y=\"5\" fill=\"#000000\" />\n",
       "<rect width=\".81\" height=\".81\" x=\"0\" y=\"6\" fill=\"#000000\" />\n",
       "<rect width=\".81\" height=\".81\" x=\"1\" y=\"6\" fill=\"#000000\" />\n",
       "<rect width=\".81\" height=\".81\" x=\"2\" y=\"6\" fill=\"#000000\" />\n",
       "<rect width=\".81\" height=\".81\" x=\"3\" y=\"6\" fill=\"#000000\" />\n",
       "<rect width=\".81\" height=\".81\" x=\"4\" y=\"6\" fill=\"#000000\" />\n",
       "<rect width=\".81\" height=\".81\" x=\"5\" y=\"6\" fill=\"#000000\" />\n",
       "<rect width=\".81\" height=\".81\" x=\"6\" y=\"6\" fill=\"#000000\" />\n",
       "<rect width=\".81\" height=\".81\" x=\"7\" y=\"6\" fill=\"#000000\" />\n",
       "<rect width=\".81\" height=\".81\" x=\"8\" y=\"6\" fill=\"#000000\" />\n",
       "<rect width=\".81\" height=\".81\" x=\"9\" y=\"6\" fill=\"#000000\" />\n",
       "<rect width=\".81\" height=\".81\" x=\"10\" y=\"6\" fill=\"#000000\" />\n",
       "<rect width=\".81\" height=\".81\" x=\"11\" y=\"6\" fill=\"#000000\" />\n",
       "<rect width=\".81\" height=\".81\" x=\"12\" y=\"6\" fill=\"#000000\" />\n",
       "<rect width=\".81\" height=\".81\" x=\"13\" y=\"6\" fill=\"#000000\" />\n",
       "<rect width=\".81\" height=\".81\" x=\"14\" y=\"6\" fill=\"#000000\" />\n",
       "<rect width=\".81\" height=\".81\" x=\"15\" y=\"6\" fill=\"#000000\" />\n",
       "<rect width=\".81\" height=\".81\" x=\"16\" y=\"6\" fill=\"#000000\" />\n",
       "<rect width=\".81\" height=\".81\" x=\"17\" y=\"6\" fill=\"#000000\" />\n",
       "<rect width=\".81\" height=\".81\" x=\"18\" y=\"6\" fill=\"#000000\" />\n",
       "<rect width=\".81\" height=\".81\" x=\"19\" y=\"6\" fill=\"#000000\" />\n",
       "<rect width=\".81\" height=\".81\" x=\"20\" y=\"6\" fill=\"#000000\" />\n",
       "<rect width=\".81\" height=\".81\" x=\"21\" y=\"6\" fill=\"#000000\" />\n",
       "<rect width=\".81\" height=\".81\" x=\"22\" y=\"6\" fill=\"#121212\" />\n",
       "<rect width=\".81\" height=\".81\" x=\"23\" y=\"6\" fill=\"#E2E2E2\" />\n",
       "<rect width=\".81\" height=\".81\" x=\"24\" y=\"6\" fill=\"#FDFDFD\" />\n",
       "<rect width=\".81\" height=\".81\" x=\"25\" y=\"6\" fill=\"#000000\" />\n",
       "<rect width=\".81\" height=\".81\" x=\"26\" y=\"6\" fill=\"#000000\" />\n",
       "<rect width=\".81\" height=\".81\" x=\"27\" y=\"6\" fill=\"#000000\" />\n",
       "<rect width=\".81\" height=\".81\" x=\"0\" y=\"7\" fill=\"#000000\" />\n",
       "<rect width=\".81\" height=\".81\" x=\"1\" y=\"7\" fill=\"#000000\" />\n",
       "<rect width=\".81\" height=\".81\" x=\"2\" y=\"7\" fill=\"#000000\" />\n",
       "<rect width=\".81\" height=\".81\" x=\"3\" y=\"7\" fill=\"#000000\" />\n",
       "<rect width=\".81\" height=\".81\" x=\"4\" y=\"7\" fill=\"#000000\" />\n",
       "<rect width=\".81\" height=\".81\" x=\"5\" y=\"7\" fill=\"#000000\" />\n",
       "<rect width=\".81\" height=\".81\" x=\"6\" y=\"7\" fill=\"#000000\" />\n",
       "<rect width=\".81\" height=\".81\" x=\"7\" y=\"7\" fill=\"#313131\" />\n",
       "<rect width=\".81\" height=\".81\" x=\"8\" y=\"7\" fill=\"#121212\" />\n",
       "<rect width=\".81\" height=\".81\" x=\"9\" y=\"7\" fill=\"#000000\" />\n",
       "<rect width=\".81\" height=\".81\" x=\"10\" y=\"7\" fill=\"#000000\" />\n",
       "<rect width=\".81\" height=\".81\" x=\"11\" y=\"7\" fill=\"#000000\" />\n",
       "<rect width=\".81\" height=\".81\" x=\"12\" y=\"7\" fill=\"#000000\" />\n",
       "<rect width=\".81\" height=\".81\" x=\"13\" y=\"7\" fill=\"#000000\" />\n",
       "<rect width=\".81\" height=\".81\" x=\"14\" y=\"7\" fill=\"#000000\" />\n",
       "<rect width=\".81\" height=\".81\" x=\"15\" y=\"7\" fill=\"#000000\" />\n",
       "<rect width=\".81\" height=\".81\" x=\"16\" y=\"7\" fill=\"#000000\" />\n",
       "<rect width=\".81\" height=\".81\" x=\"17\" y=\"7\" fill=\"#000000\" />\n",
       "<rect width=\".81\" height=\".81\" x=\"18\" y=\"7\" fill=\"#000000\" />\n",
       "<rect width=\".81\" height=\".81\" x=\"19\" y=\"7\" fill=\"#000000\" />\n",
       "<rect width=\".81\" height=\".81\" x=\"20\" y=\"7\" fill=\"#000000\" />\n",
       "<rect width=\".81\" height=\".81\" x=\"21\" y=\"7\" fill=\"#000000\" />\n",
       "<rect width=\".81\" height=\".81\" x=\"22\" y=\"7\" fill=\"#ABABAB\" />\n",
       "<rect width=\".81\" height=\".81\" x=\"23\" y=\"7\" fill=\"#FDFDFD\" />\n",
       "<rect width=\".81\" height=\".81\" x=\"24\" y=\"7\" fill=\"#FDFDFD\" />\n",
       "<rect width=\".81\" height=\".81\" x=\"25\" y=\"7\" fill=\"#000000\" />\n",
       "<rect width=\".81\" height=\".81\" x=\"26\" y=\"7\" fill=\"#000000\" />\n",
       "<rect width=\".81\" height=\".81\" x=\"27\" y=\"7\" fill=\"#000000\" />\n",
       "<rect width=\".81\" height=\".81\" x=\"0\" y=\"8\" fill=\"#000000\" />\n",
       "<rect width=\".81\" height=\".81\" x=\"1\" y=\"8\" fill=\"#000000\" />\n",
       "<rect width=\".81\" height=\".81\" x=\"2\" y=\"8\" fill=\"#000000\" />\n",
       "<rect width=\".81\" height=\".81\" x=\"3\" y=\"8\" fill=\"#000000\" />\n",
       "<rect width=\".81\" height=\".81\" x=\"4\" y=\"8\" fill=\"#000000\" />\n",
       "<rect width=\".81\" height=\".81\" x=\"5\" y=\"8\" fill=\"#000000\" />\n",
       "<rect width=\".81\" height=\".81\" x=\"6\" y=\"8\" fill=\"#1E1E1E\" />\n",
       "<rect width=\".81\" height=\".81\" x=\"7\" y=\"8\" fill=\"#EEEEEE\" />\n",
       "<rect width=\".81\" height=\".81\" x=\"8\" y=\"8\" fill=\"#DBDBDB\" />\n",
       "<rect width=\".81\" height=\".81\" x=\"9\" y=\"8\" fill=\"#505050\" />\n",
       "<rect width=\".81\" height=\".81\" x=\"10\" y=\"8\" fill=\"#000000\" />\n",
       "<rect width=\".81\" height=\".81\" x=\"11\" y=\"8\" fill=\"#000000\" />\n",
       "<rect width=\".81\" height=\".81\" x=\"12\" y=\"8\" fill=\"#000000\" />\n",
       "<rect width=\".81\" height=\".81\" x=\"13\" y=\"8\" fill=\"#000000\" />\n",
       "<rect width=\".81\" height=\".81\" x=\"14\" y=\"8\" fill=\"#000000\" />\n",
       "<rect width=\".81\" height=\".81\" x=\"15\" y=\"8\" fill=\"#000000\" />\n",
       "<rect width=\".81\" height=\".81\" x=\"16\" y=\"8\" fill=\"#000000\" />\n",
       "<rect width=\".81\" height=\".81\" x=\"17\" y=\"8\" fill=\"#000000\" />\n",
       "<rect width=\".81\" height=\".81\" x=\"18\" y=\"8\" fill=\"#000000\" />\n",
       "<rect width=\".81\" height=\".81\" x=\"19\" y=\"8\" fill=\"#000000\" />\n",
       "<rect width=\".81\" height=\".81\" x=\"20\" y=\"8\" fill=\"#000000\" />\n",
       "<rect width=\".81\" height=\".81\" x=\"21\" y=\"8\" fill=\"#171717\" />\n",
       "<rect width=\".81\" height=\".81\" x=\"22\" y=\"8\" fill=\"#DBDBDB\" />\n",
       "<rect width=\".81\" height=\".81\" x=\"23\" y=\"8\" fill=\"#FDFDFD\" />\n",
       "<rect width=\".81\" height=\".81\" x=\"24\" y=\"8\" fill=\"#D4D4D4\" />\n",
       "<rect width=\".81\" height=\".81\" x=\"25\" y=\"8\" fill=\"#000000\" />\n",
       "<rect width=\".81\" height=\".81\" x=\"26\" y=\"8\" fill=\"#000000\" />\n",
       "<rect width=\".81\" height=\".81\" x=\"27\" y=\"8\" fill=\"#000000\" />\n",
       "<rect width=\".81\" height=\".81\" x=\"0\" y=\"9\" fill=\"#000000\" />\n",
       "<rect width=\".81\" height=\".81\" x=\"1\" y=\"9\" fill=\"#000000\" />\n",
       "<rect width=\".81\" height=\".81\" x=\"2\" y=\"9\" fill=\"#000000\" />\n",
       "<rect width=\".81\" height=\".81\" x=\"3\" y=\"9\" fill=\"#000000\" />\n",
       "<rect width=\".81\" height=\".81\" x=\"4\" y=\"9\" fill=\"#000000\" />\n",
       "<rect width=\".81\" height=\".81\" x=\"5\" y=\"9\" fill=\"#000000\" />\n",
       "<rect width=\".81\" height=\".81\" x=\"6\" y=\"9\" fill=\"#242424\" />\n",
       "<rect width=\".81\" height=\".81\" x=\"7\" y=\"9\" fill=\"#FDFDFD\" />\n",
       "<rect width=\".81\" height=\".81\" x=\"8\" y=\"9\" fill=\"#FDFDFD\" />\n",
       "<rect width=\".81\" height=\".81\" x=\"9\" y=\"9\" fill=\"#9C9C9C\" />\n",
       "<rect width=\".81\" height=\".81\" x=\"10\" y=\"9\" fill=\"#0E0E0E\" />\n",
       "<rect width=\".81\" height=\".81\" x=\"11\" y=\"9\" fill=\"#000000\" />\n",
       "<rect width=\".81\" height=\".81\" x=\"12\" y=\"9\" fill=\"#000000\" />\n",
       "<rect width=\".81\" height=\".81\" x=\"13\" y=\"9\" fill=\"#000000\" />\n",
       "<rect width=\".81\" height=\".81\" x=\"14\" y=\"9\" fill=\"#000000\" />\n",
       "<rect width=\".81\" height=\".81\" x=\"15\" y=\"9\" fill=\"#000000\" />\n",
       "<rect width=\".81\" height=\".81\" x=\"16\" y=\"9\" fill=\"#000000\" />\n",
       "<rect width=\".81\" height=\".81\" x=\"17\" y=\"9\" fill=\"#000000\" />\n",
       "<rect width=\".81\" height=\".81\" x=\"18\" y=\"9\" fill=\"#000000\" />\n",
       "<rect width=\".81\" height=\".81\" x=\"19\" y=\"9\" fill=\"#000000\" />\n",
       "<rect width=\".81\" height=\".81\" x=\"20\" y=\"9\" fill=\"#000000\" />\n",
       "<rect width=\".81\" height=\".81\" x=\"21\" y=\"9\" fill=\"#424242\" />\n",
       "<rect width=\".81\" height=\".81\" x=\"22\" y=\"9\" fill=\"#FDFDFD\" />\n",
       "<rect width=\".81\" height=\".81\" x=\"23\" y=\"9\" fill=\"#FDFDFD\" />\n",
       "<rect width=\".81\" height=\".81\" x=\"24\" y=\"9\" fill=\"#878787\" />\n",
       "<rect width=\".81\" height=\".81\" x=\"25\" y=\"9\" fill=\"#000000\" />\n",
       "<rect width=\".81\" height=\".81\" x=\"26\" y=\"9\" fill=\"#000000\" />\n",
       "<rect width=\".81\" height=\".81\" x=\"27\" y=\"9\" fill=\"#000000\" />\n",
       "<rect width=\".81\" height=\".81\" x=\"0\" y=\"10\" fill=\"#000000\" />\n",
       "<rect width=\".81\" height=\".81\" x=\"1\" y=\"10\" fill=\"#000000\" />\n",
       "<rect width=\".81\" height=\".81\" x=\"2\" y=\"10\" fill=\"#000000\" />\n",
       "<rect width=\".81\" height=\".81\" x=\"3\" y=\"10\" fill=\"#000000\" />\n",
       "<rect width=\".81\" height=\".81\" x=\"4\" y=\"10\" fill=\"#000000\" />\n",
       "<rect width=\".81\" height=\".81\" x=\"5\" y=\"10\" fill=\"#000000\" />\n",
       "<rect width=\".81\" height=\".81\" x=\"6\" y=\"10\" fill=\"#5E5E5E\" />\n",
       "<rect width=\".81\" height=\".81\" x=\"7\" y=\"10\" fill=\"#FDFDFD\" />\n",
       "<rect width=\".81\" height=\".81\" x=\"8\" y=\"10\" fill=\"#FDFDFD\" />\n",
       "<rect width=\".81\" height=\".81\" x=\"9\" y=\"10\" fill=\"#6B6B6B\" />\n",
       "<rect width=\".81\" height=\".81\" x=\"10\" y=\"10\" fill=\"#010101\" />\n",
       "<rect width=\".81\" height=\".81\" x=\"11\" y=\"10\" fill=\"#000000\" />\n",
       "<rect width=\".81\" height=\".81\" x=\"12\" y=\"10\" fill=\"#000000\" />\n",
       "<rect width=\".81\" height=\".81\" x=\"13\" y=\"10\" fill=\"#000000\" />\n",
       "<rect width=\".81\" height=\".81\" x=\"14\" y=\"10\" fill=\"#000000\" />\n",
       "<rect width=\".81\" height=\".81\" x=\"15\" y=\"10\" fill=\"#000000\" />\n",
       "<rect width=\".81\" height=\".81\" x=\"16\" y=\"10\" fill=\"#000000\" />\n",
       "<rect width=\".81\" height=\".81\" x=\"17\" y=\"10\" fill=\"#000000\" />\n",
       "<rect width=\".81\" height=\".81\" x=\"18\" y=\"10\" fill=\"#000000\" />\n",
       "<rect width=\".81\" height=\".81\" x=\"19\" y=\"10\" fill=\"#000000\" />\n",
       "<rect width=\".81\" height=\".81\" x=\"20\" y=\"10\" fill=\"#181818\" />\n",
       "<rect width=\".81\" height=\".81\" x=\"21\" y=\"10\" fill=\"#D5D5D5\" />\n",
       "<rect width=\".81\" height=\".81\" x=\"22\" y=\"10\" fill=\"#FDFDFD\" />\n",
       "<rect width=\".81\" height=\".81\" x=\"23\" y=\"10\" fill=\"#FDFDFD\" />\n",
       "<rect width=\".81\" height=\".81\" x=\"24\" y=\"10\" fill=\"#848484\" />\n",
       "<rect width=\".81\" height=\".81\" x=\"25\" y=\"10\" fill=\"#000000\" />\n",
       "<rect width=\".81\" height=\".81\" x=\"26\" y=\"10\" fill=\"#000000\" />\n",
       "<rect width=\".81\" height=\".81\" x=\"27\" y=\"10\" fill=\"#000000\" />\n",
       "<rect width=\".81\" height=\".81\" x=\"0\" y=\"11\" fill=\"#000000\" />\n",
       "<rect width=\".81\" height=\".81\" x=\"1\" y=\"11\" fill=\"#000000\" />\n",
       "<rect width=\".81\" height=\".81\" x=\"2\" y=\"11\" fill=\"#000000\" />\n",
       "<rect width=\".81\" height=\".81\" x=\"3\" y=\"11\" fill=\"#000000\" />\n",
       "<rect width=\".81\" height=\".81\" x=\"4\" y=\"11\" fill=\"#000000\" />\n",
       "<rect width=\".81\" height=\".81\" x=\"5\" y=\"11\" fill=\"#000000\" />\n",
       "<rect width=\".81\" height=\".81\" x=\"6\" y=\"11\" fill=\"#9A9A9A\" />\n",
       "<rect width=\".81\" height=\".81\" x=\"7\" y=\"11\" fill=\"#FDFDFD\" />\n",
       "<rect width=\".81\" height=\".81\" x=\"8\" y=\"11\" fill=\"#FDFDFD\" />\n",
       "<rect width=\".81\" height=\".81\" x=\"9\" y=\"11\" fill=\"#FDFDFD\" />\n",
       "<rect width=\".81\" height=\".81\" x=\"10\" y=\"11\" fill=\"#9A9A9A\" />\n",
       "<rect width=\".81\" height=\".81\" x=\"11\" y=\"11\" fill=\"#8B8B8B\" />\n",
       "<rect width=\".81\" height=\".81\" x=\"12\" y=\"11\" fill=\"#0B0B0B\" />\n",
       "<rect width=\".81\" height=\".81\" x=\"13\" y=\"11\" fill=\"#000000\" />\n",
       "<rect width=\".81\" height=\".81\" x=\"14\" y=\"11\" fill=\"#000000\" />\n",
       "<rect width=\".81\" height=\".81\" x=\"15\" y=\"11\" fill=\"#000000\" />\n",
       "<rect width=\".81\" height=\".81\" x=\"16\" y=\"11\" fill=\"#000000\" />\n",
       "<rect width=\".81\" height=\".81\" x=\"17\" y=\"11\" fill=\"#000000\" />\n",
       "<rect width=\".81\" height=\".81\" x=\"18\" y=\"11\" fill=\"#000000\" />\n",
       "<rect width=\".81\" height=\".81\" x=\"19\" y=\"11\" fill=\"#000000\" />\n",
       "<rect width=\".81\" height=\".81\" x=\"20\" y=\"11\" fill=\"#727272\" />\n",
       "<rect width=\".81\" height=\".81\" x=\"21\" y=\"11\" fill=\"#FDFDFD\" />\n",
       "<rect width=\".81\" height=\".81\" x=\"22\" y=\"11\" fill=\"#FDFDFD\" />\n",
       "<rect width=\".81\" height=\".81\" x=\"23\" y=\"11\" fill=\"#F4F4F4\" />\n",
       "<rect width=\".81\" height=\".81\" x=\"24\" y=\"11\" fill=\"#101010\" />\n",
       "<rect width=\".81\" height=\".81\" x=\"25\" y=\"11\" fill=\"#000000\" />\n",
       "<rect width=\".81\" height=\".81\" x=\"26\" y=\"11\" fill=\"#000000\" />\n",
       "<rect width=\".81\" height=\".81\" x=\"27\" y=\"11\" fill=\"#000000\" />\n",
       "<rect width=\".81\" height=\".81\" x=\"0\" y=\"12\" fill=\"#000000\" />\n",
       "<rect width=\".81\" height=\".81\" x=\"1\" y=\"12\" fill=\"#000000\" />\n",
       "<rect width=\".81\" height=\".81\" x=\"2\" y=\"12\" fill=\"#000000\" />\n",
       "<rect width=\".81\" height=\".81\" x=\"3\" y=\"12\" fill=\"#000000\" />\n",
       "<rect width=\".81\" height=\".81\" x=\"4\" y=\"12\" fill=\"#000000\" />\n",
       "<rect width=\".81\" height=\".81\" x=\"5\" y=\"12\" fill=\"#030303\" />\n",
       "<rect width=\".81\" height=\".81\" x=\"6\" y=\"12\" fill=\"#AAAAAA\" />\n",
       "<rect width=\".81\" height=\".81\" x=\"7\" y=\"12\" fill=\"#FDFDFD\" />\n",
       "<rect width=\".81\" height=\".81\" x=\"8\" y=\"12\" fill=\"#FDFDFD\" />\n",
       "<rect width=\".81\" height=\".81\" x=\"9\" y=\"12\" fill=\"#FDFDFD\" />\n",
       "<rect width=\".81\" height=\".81\" x=\"10\" y=\"12\" fill=\"#FDFDFD\" />\n",
       "<rect width=\".81\" height=\".81\" x=\"11\" y=\"12\" fill=\"#FDFDFD\" />\n",
       "<rect width=\".81\" height=\".81\" x=\"12\" y=\"12\" fill=\"#BEBEBE\" />\n",
       "<rect width=\".81\" height=\".81\" x=\"13\" y=\"12\" fill=\"#232323\" />\n",
       "<rect width=\".81\" height=\".81\" x=\"14\" y=\"12\" fill=\"#000000\" />\n",
       "<rect width=\".81\" height=\".81\" x=\"15\" y=\"12\" fill=\"#000000\" />\n",
       "<rect width=\".81\" height=\".81\" x=\"16\" y=\"12\" fill=\"#000000\" />\n",
       "<rect width=\".81\" height=\".81\" x=\"17\" y=\"12\" fill=\"#000000\" />\n",
       "<rect width=\".81\" height=\".81\" x=\"18\" y=\"12\" fill=\"#000000\" />\n",
       "<rect width=\".81\" height=\".81\" x=\"19\" y=\"12\" fill=\"#272727\" />\n",
       "<rect width=\".81\" height=\".81\" x=\"20\" y=\"12\" fill=\"#DDDDDD\" />\n",
       "<rect width=\".81\" height=\".81\" x=\"21\" y=\"12\" fill=\"#FDFDFD\" />\n",
       "<rect width=\".81\" height=\".81\" x=\"22\" y=\"12\" fill=\"#FDFDFD\" />\n",
       "<rect width=\".81\" height=\".81\" x=\"23\" y=\"12\" fill=\"#858585\" />\n",
       "<rect width=\".81\" height=\".81\" x=\"24\" y=\"12\" fill=\"#000000\" />\n",
       "<rect width=\".81\" height=\".81\" x=\"25\" y=\"12\" fill=\"#000000\" />\n",
       "<rect width=\".81\" height=\".81\" x=\"26\" y=\"12\" fill=\"#000000\" />\n",
       "<rect width=\".81\" height=\".81\" x=\"27\" y=\"12\" fill=\"#000000\" />\n",
       "<rect width=\".81\" height=\".81\" x=\"0\" y=\"13\" fill=\"#000000\" />\n",
       "<rect width=\".81\" height=\".81\" x=\"1\" y=\"13\" fill=\"#000000\" />\n",
       "<rect width=\".81\" height=\".81\" x=\"2\" y=\"13\" fill=\"#000000\" />\n",
       "<rect width=\".81\" height=\".81\" x=\"3\" y=\"13\" fill=\"#000000\" />\n",
       "<rect width=\".81\" height=\".81\" x=\"4\" y=\"13\" fill=\"#000000\" />\n",
       "<rect width=\".81\" height=\".81\" x=\"5\" y=\"13\" fill=\"#121212\" />\n",
       "<rect width=\".81\" height=\".81\" x=\"6\" y=\"13\" fill=\"#FDFDFD\" />\n",
       "<rect width=\".81\" height=\".81\" x=\"7\" y=\"13\" fill=\"#FDFDFD\" />\n",
       "<rect width=\".81\" height=\".81\" x=\"8\" y=\"13\" fill=\"#FDFDFD\" />\n",
       "<rect width=\".81\" height=\".81\" x=\"9\" y=\"13\" fill=\"#CDCDCD\" />\n",
       "<rect width=\".81\" height=\".81\" x=\"10\" y=\"13\" fill=\"#5A5A5A\" />\n",
       "<rect width=\".81\" height=\".81\" x=\"11\" y=\"13\" fill=\"#BEBEBE\" />\n",
       "<rect width=\".81\" height=\".81\" x=\"12\" y=\"13\" fill=\"#FDFDFD\" />\n",
       "<rect width=\".81\" height=\".81\" x=\"13\" y=\"13\" fill=\"#F1F1F1\" />\n",
       "<rect width=\".81\" height=\".81\" x=\"14\" y=\"13\" fill=\"#515151\" />\n",
       "<rect width=\".81\" height=\".81\" x=\"15\" y=\"13\" fill=\"#000000\" />\n",
       "<rect width=\".81\" height=\".81\" x=\"16\" y=\"13\" fill=\"#000000\" />\n",
       "<rect width=\".81\" height=\".81\" x=\"17\" y=\"13\" fill=\"#000000\" />\n",
       "<rect width=\".81\" height=\".81\" x=\"18\" y=\"13\" fill=\"#000000\" />\n",
       "<rect width=\".81\" height=\".81\" x=\"19\" y=\"13\" fill=\"#949494\" />\n",
       "<rect width=\".81\" height=\".81\" x=\"20\" y=\"13\" fill=\"#FDFDFD\" />\n",
       "<rect width=\".81\" height=\".81\" x=\"21\" y=\"13\" fill=\"#FDFDFD\" />\n",
       "<rect width=\".81\" height=\".81\" x=\"22\" y=\"13\" fill=\"#C3C3C3\" />\n",
       "<rect width=\".81\" height=\".81\" x=\"23\" y=\"13\" fill=\"#0B0B0B\" />\n",
       "<rect width=\".81\" height=\".81\" x=\"24\" y=\"13\" fill=\"#000000\" />\n",
       "<rect width=\".81\" height=\".81\" x=\"25\" y=\"13\" fill=\"#000000\" />\n",
       "<rect width=\".81\" height=\".81\" x=\"26\" y=\"13\" fill=\"#000000\" />\n",
       "<rect width=\".81\" height=\".81\" x=\"27\" y=\"13\" fill=\"#000000\" />\n",
       "<rect width=\".81\" height=\".81\" x=\"0\" y=\"14\" fill=\"#000000\" />\n",
       "<rect width=\".81\" height=\".81\" x=\"1\" y=\"14\" fill=\"#000000\" />\n",
       "<rect width=\".81\" height=\".81\" x=\"2\" y=\"14\" fill=\"#000000\" />\n",
       "<rect width=\".81\" height=\".81\" x=\"3\" y=\"14\" fill=\"#000000\" />\n",
       "<rect width=\".81\" height=\".81\" x=\"4\" y=\"14\" fill=\"#000000\" />\n",
       "<rect width=\".81\" height=\".81\" x=\"5\" y=\"14\" fill=\"#121212\" />\n",
       "<rect width=\".81\" height=\".81\" x=\"6\" y=\"14\" fill=\"#FDFDFD\" />\n",
       "<rect width=\".81\" height=\".81\" x=\"7\" y=\"14\" fill=\"#FDFDFD\" />\n",
       "<rect width=\".81\" height=\".81\" x=\"8\" y=\"14\" fill=\"#C6C6C6\" />\n",
       "<rect width=\".81\" height=\".81\" x=\"9\" y=\"14\" fill=\"#0B0B0B\" />\n",
       "<rect width=\".81\" height=\".81\" x=\"10\" y=\"14\" fill=\"#000000\" />\n",
       "<rect width=\".81\" height=\".81\" x=\"11\" y=\"14\" fill=\"#020202\" />\n",
       "<rect width=\".81\" height=\".81\" x=\"12\" y=\"14\" fill=\"#464646\" />\n",
       "<rect width=\".81\" height=\".81\" x=\"13\" y=\"14\" fill=\"#E1E1E1\" />\n",
       "<rect width=\".81\" height=\".81\" x=\"14\" y=\"14\" fill=\"#F0F0F0\" />\n",
       "<rect width=\".81\" height=\".81\" x=\"15\" y=\"14\" fill=\"#2D2D2D\" />\n",
       "<rect width=\".81\" height=\".81\" x=\"16\" y=\"14\" fill=\"#000000\" />\n",
       "<rect width=\".81\" height=\".81\" x=\"17\" y=\"14\" fill=\"#000000\" />\n",
       "<rect width=\".81\" height=\".81\" x=\"18\" y=\"14\" fill=\"#2E2E2E\" />\n",
       "<rect width=\".81\" height=\".81\" x=\"19\" y=\"14\" fill=\"#E5E5E5\" />\n",
       "<rect width=\".81\" height=\".81\" x=\"20\" y=\"14\" fill=\"#FDFDFD\" />\n",
       "<rect width=\".81\" height=\".81\" x=\"21\" y=\"14\" fill=\"#FDFDFD\" />\n",
       "<rect width=\".81\" height=\".81\" x=\"22\" y=\"14\" fill=\"#505050\" />\n",
       "<rect width=\".81\" height=\".81\" x=\"23\" y=\"14\" fill=\"#000000\" />\n",
       "<rect width=\".81\" height=\".81\" x=\"24\" y=\"14\" fill=\"#000000\" />\n",
       "<rect width=\".81\" height=\".81\" x=\"25\" y=\"14\" fill=\"#000000\" />\n",
       "<rect width=\".81\" height=\".81\" x=\"26\" y=\"14\" fill=\"#000000\" />\n",
       "<rect width=\".81\" height=\".81\" x=\"27\" y=\"14\" fill=\"#000000\" />\n",
       "<rect width=\".81\" height=\".81\" x=\"0\" y=\"15\" fill=\"#000000\" />\n",
       "<rect width=\".81\" height=\".81\" x=\"1\" y=\"15\" fill=\"#000000\" />\n",
       "<rect width=\".81\" height=\".81\" x=\"2\" y=\"15\" fill=\"#000000\" />\n",
       "<rect width=\".81\" height=\".81\" x=\"3\" y=\"15\" fill=\"#000000\" />\n",
       "<rect width=\".81\" height=\".81\" x=\"4\" y=\"15\" fill=\"#000000\" />\n",
       "<rect width=\".81\" height=\".81\" x=\"5\" y=\"15\" fill=\"#121212\" />\n",
       "<rect width=\".81\" height=\".81\" x=\"6\" y=\"15\" fill=\"#FDFDFD\" />\n",
       "<rect width=\".81\" height=\".81\" x=\"7\" y=\"15\" fill=\"#FDFDFD\" />\n",
       "<rect width=\".81\" height=\".81\" x=\"8\" y=\"15\" fill=\"#B6B6B6\" />\n",
       "<rect width=\".81\" height=\".81\" x=\"9\" y=\"15\" fill=\"#000000\" />\n",
       "<rect width=\".81\" height=\".81\" x=\"10\" y=\"15\" fill=\"#000000\" />\n",
       "<rect width=\".81\" height=\".81\" x=\"11\" y=\"15\" fill=\"#000000\" />\n",
       "<rect width=\".81\" height=\".81\" x=\"12\" y=\"15\" fill=\"#000000\" />\n",
       "<rect width=\".81\" height=\".81\" x=\"13\" y=\"15\" fill=\"#A0A0A0\" />\n",
       "<rect width=\".81\" height=\".81\" x=\"14\" y=\"15\" fill=\"#FDFDFD\" />\n",
       "<rect width=\".81\" height=\".81\" x=\"15\" y=\"15\" fill=\"#BABABA\" />\n",
       "<rect width=\".81\" height=\".81\" x=\"16\" y=\"15\" fill=\"#101010\" />\n",
       "<rect width=\".81\" height=\".81\" x=\"17\" y=\"15\" fill=\"#000000\" />\n",
       "<rect width=\".81\" height=\".81\" x=\"18\" y=\"15\" fill=\"#828282\" />\n",
       "<rect width=\".81\" height=\".81\" x=\"19\" y=\"15\" fill=\"#FDFDFD\" />\n",
       "<rect width=\".81\" height=\".81\" x=\"20\" y=\"15\" fill=\"#FDFDFD\" />\n",
       "<rect width=\".81\" height=\".81\" x=\"21\" y=\"15\" fill=\"#C6C6C6\" />\n",
       "<rect width=\".81\" height=\".81\" x=\"22\" y=\"15\" fill=\"#090909\" />\n",
       "<rect width=\".81\" height=\".81\" x=\"23\" y=\"15\" fill=\"#000000\" />\n",
       "<rect width=\".81\" height=\".81\" x=\"24\" y=\"15\" fill=\"#000000\" />\n",
       "<rect width=\".81\" height=\".81\" x=\"25\" y=\"15\" fill=\"#000000\" />\n",
       "<rect width=\".81\" height=\".81\" x=\"26\" y=\"15\" fill=\"#000000\" />\n",
       "<rect width=\".81\" height=\".81\" x=\"27\" y=\"15\" fill=\"#000000\" />\n",
       "<rect width=\".81\" height=\".81\" x=\"0\" y=\"16\" fill=\"#000000\" />\n",
       "<rect width=\".81\" height=\".81\" x=\"1\" y=\"16\" fill=\"#000000\" />\n",
       "<rect width=\".81\" height=\".81\" x=\"2\" y=\"16\" fill=\"#000000\" />\n",
       "<rect width=\".81\" height=\".81\" x=\"3\" y=\"16\" fill=\"#000000\" />\n",
       "<rect width=\".81\" height=\".81\" x=\"4\" y=\"16\" fill=\"#000000\" />\n",
       "<rect width=\".81\" height=\".81\" x=\"5\" y=\"16\" fill=\"#7E7E7E\" />\n",
       "<rect width=\".81\" height=\".81\" x=\"6\" y=\"16\" fill=\"#FDFDFD\" />\n",
       "<rect width=\".81\" height=\".81\" x=\"7\" y=\"16\" fill=\"#FDFDFD\" />\n",
       "<rect width=\".81\" height=\".81\" x=\"8\" y=\"16\" fill=\"#F7F7F7\" />\n",
       "<rect width=\".81\" height=\".81\" x=\"9\" y=\"16\" fill=\"#2B2B2B\" />\n",
       "<rect width=\".81\" height=\".81\" x=\"10\" y=\"16\" fill=\"#000000\" />\n",
       "<rect width=\".81\" height=\".81\" x=\"11\" y=\"16\" fill=\"#000000\" />\n",
       "<rect width=\".81\" height=\".81\" x=\"12\" y=\"16\" fill=\"#000000\" />\n",
       "<rect width=\".81\" height=\".81\" x=\"13\" y=\"16\" fill=\"#6C6C6C\" />\n",
       "<rect width=\".81\" height=\".81\" x=\"14\" y=\"16\" fill=\"#FDFDFD\" />\n",
       "<rect width=\".81\" height=\".81\" x=\"15\" y=\"16\" fill=\"#FDFDFD\" />\n",
       "<rect width=\".81\" height=\".81\" x=\"16\" y=\"16\" fill=\"#5D5D5D\" />\n",
       "<rect width=\".81\" height=\".81\" x=\"17\" y=\"16\" fill=\"#000000\" />\n",
       "<rect width=\".81\" height=\".81\" x=\"18\" y=\"16\" fill=\"#B7B7B7\" />\n",
       "<rect width=\".81\" height=\".81\" x=\"19\" y=\"16\" fill=\"#FDFDFD\" />\n",
       "<rect width=\".81\" height=\".81\" x=\"20\" y=\"16\" fill=\"#FDFDFD\" />\n",
       "<rect width=\".81\" height=\".81\" x=\"21\" y=\"16\" fill=\"#515151\" />\n",
       "<rect width=\".81\" height=\".81\" x=\"22\" y=\"16\" fill=\"#000000\" />\n",
       "<rect width=\".81\" height=\".81\" x=\"23\" y=\"16\" fill=\"#000000\" />\n",
       "<rect width=\".81\" height=\".81\" x=\"24\" y=\"16\" fill=\"#000000\" />\n",
       "<rect width=\".81\" height=\".81\" x=\"25\" y=\"16\" fill=\"#000000\" />\n",
       "<rect width=\".81\" height=\".81\" x=\"26\" y=\"16\" fill=\"#000000\" />\n",
       "<rect width=\".81\" height=\".81\" x=\"27\" y=\"16\" fill=\"#000000\" />\n",
       "<rect width=\".81\" height=\".81\" x=\"0\" y=\"17\" fill=\"#000000\" />\n",
       "<rect width=\".81\" height=\".81\" x=\"1\" y=\"17\" fill=\"#000000\" />\n",
       "<rect width=\".81\" height=\".81\" x=\"2\" y=\"17\" fill=\"#000000\" />\n",
       "<rect width=\".81\" height=\".81\" x=\"3\" y=\"17\" fill=\"#000000\" />\n",
       "<rect width=\".81\" height=\".81\" x=\"4\" y=\"17\" fill=\"#000000\" />\n",
       "<rect width=\".81\" height=\".81\" x=\"5\" y=\"17\" fill=\"#888888\" />\n",
       "<rect width=\".81\" height=\".81\" x=\"6\" y=\"17\" fill=\"#FDFDFD\" />\n",
       "<rect width=\".81\" height=\".81\" x=\"7\" y=\"17\" fill=\"#FBFBFB\" />\n",
       "<rect width=\".81\" height=\".81\" x=\"8\" y=\"17\" fill=\"#F1F1F1\" />\n",
       "<rect width=\".81\" height=\".81\" x=\"9\" y=\"17\" fill=\"#9A9A9A\" />\n",
       "<rect width=\".81\" height=\".81\" x=\"10\" y=\"17\" fill=\"#000000\" />\n",
       "<rect width=\".81\" height=\".81\" x=\"11\" y=\"17\" fill=\"#000000\" />\n",
       "<rect width=\".81\" height=\".81\" x=\"12\" y=\"17\" fill=\"#000000\" />\n",
       "<rect width=\".81\" height=\".81\" x=\"13\" y=\"17\" fill=\"#010101\" />\n",
       "<rect width=\".81\" height=\".81\" x=\"14\" y=\"17\" fill=\"#777777\" />\n",
       "<rect width=\".81\" height=\".81\" x=\"15\" y=\"17\" fill=\"#FDFDFD\" />\n",
       "<rect width=\".81\" height=\".81\" x=\"16\" y=\"17\" fill=\"#FCFCFC\" />\n",
       "<rect width=\".81\" height=\".81\" x=\"17\" y=\"17\" fill=\"#F9F9F9\" />\n",
       "<rect width=\".81\" height=\".81\" x=\"18\" y=\"17\" fill=\"#FDFDFD\" />\n",
       "<rect width=\".81\" height=\".81\" x=\"19\" y=\"17\" fill=\"#FDFDFD\" />\n",
       "<rect width=\".81\" height=\".81\" x=\"20\" y=\"17\" fill=\"#C9C9C9\" />\n",
       "<rect width=\".81\" height=\".81\" x=\"21\" y=\"17\" fill=\"#020202\" />\n",
       "<rect width=\".81\" height=\".81\" x=\"22\" y=\"17\" fill=\"#000000\" />\n",
       "<rect width=\".81\" height=\".81\" x=\"23\" y=\"17\" fill=\"#000000\" />\n",
       "<rect width=\".81\" height=\".81\" x=\"24\" y=\"17\" fill=\"#000000\" />\n",
       "<rect width=\".81\" height=\".81\" x=\"25\" y=\"17\" fill=\"#000000\" />\n",
       "<rect width=\".81\" height=\".81\" x=\"26\" y=\"17\" fill=\"#000000\" />\n",
       "<rect width=\".81\" height=\".81\" x=\"27\" y=\"17\" fill=\"#000000\" />\n",
       "<rect width=\".81\" height=\".81\" x=\"0\" y=\"18\" fill=\"#000000\" />\n",
       "<rect width=\".81\" height=\".81\" x=\"1\" y=\"18\" fill=\"#000000\" />\n",
       "<rect width=\".81\" height=\".81\" x=\"2\" y=\"18\" fill=\"#000000\" />\n",
       "<rect width=\".81\" height=\".81\" x=\"3\" y=\"18\" fill=\"#000000\" />\n",
       "<rect width=\".81\" height=\".81\" x=\"4\" y=\"18\" fill=\"#000000\" />\n",
       "<rect width=\".81\" height=\".81\" x=\"5\" y=\"18\" fill=\"#AFAFAF\" />\n",
       "<rect width=\".81\" height=\".81\" x=\"6\" y=\"18\" fill=\"#E1E1E1\" />\n",
       "<rect width=\".81\" height=\".81\" x=\"7\" y=\"18\" fill=\"#5D5D5D\" />\n",
       "<rect width=\".81\" height=\".81\" x=\"8\" y=\"18\" fill=\"#000000\" />\n",
       "<rect width=\".81\" height=\".81\" x=\"9\" y=\"18\" fill=\"#000000\" />\n",
       "<rect width=\".81\" height=\".81\" x=\"10\" y=\"18\" fill=\"#000000\" />\n",
       "<rect width=\".81\" height=\".81\" x=\"11\" y=\"18\" fill=\"#000000\" />\n",
       "<rect width=\".81\" height=\".81\" x=\"12\" y=\"18\" fill=\"#000000\" />\n",
       "<rect width=\".81\" height=\".81\" x=\"13\" y=\"18\" fill=\"#000000\" />\n",
       "<rect width=\".81\" height=\".81\" x=\"14\" y=\"18\" fill=\"#191919\" />\n",
       "<rect width=\".81\" height=\".81\" x=\"15\" y=\"18\" fill=\"#969696\" />\n",
       "<rect width=\".81\" height=\".81\" x=\"16\" y=\"18\" fill=\"#FDFDFD\" />\n",
       "<rect width=\".81\" height=\".81\" x=\"17\" y=\"18\" fill=\"#FDFDFD\" />\n",
       "<rect width=\".81\" height=\".81\" x=\"18\" y=\"18\" fill=\"#FDFDFD\" />\n",
       "<rect width=\".81\" height=\".81\" x=\"19\" y=\"18\" fill=\"#FAFAFA\" />\n",
       "<rect width=\".81\" height=\".81\" x=\"20\" y=\"18\" fill=\"#4E4E4E\" />\n",
       "<rect width=\".81\" height=\".81\" x=\"21\" y=\"18\" fill=\"#000000\" />\n",
       "<rect width=\".81\" height=\".81\" x=\"22\" y=\"18\" fill=\"#000000\" />\n",
       "<rect width=\".81\" height=\".81\" x=\"23\" y=\"18\" fill=\"#000000\" />\n",
       "<rect width=\".81\" height=\".81\" x=\"24\" y=\"18\" fill=\"#000000\" />\n",
       "<rect width=\".81\" height=\".81\" x=\"25\" y=\"18\" fill=\"#000000\" />\n",
       "<rect width=\".81\" height=\".81\" x=\"26\" y=\"18\" fill=\"#000000\" />\n",
       "<rect width=\".81\" height=\".81\" x=\"27\" y=\"18\" fill=\"#000000\" />\n",
       "<rect width=\".81\" height=\".81\" x=\"0\" y=\"19\" fill=\"#000000\" />\n",
       "<rect width=\".81\" height=\".81\" x=\"1\" y=\"19\" fill=\"#000000\" />\n",
       "<rect width=\".81\" height=\".81\" x=\"2\" y=\"19\" fill=\"#000000\" />\n",
       "<rect width=\".81\" height=\".81\" x=\"3\" y=\"19\" fill=\"#000000\" />\n",
       "<rect width=\".81\" height=\".81\" x=\"4\" y=\"19\" fill=\"#000000\" />\n",
       "<rect width=\".81\" height=\".81\" x=\"5\" y=\"19\" fill=\"#1A1A1A\" />\n",
       "<rect width=\".81\" height=\".81\" x=\"6\" y=\"19\" fill=\"#ACACAC\" />\n",
       "<rect width=\".81\" height=\".81\" x=\"7\" y=\"19\" fill=\"#525252\" />\n",
       "<rect width=\".81\" height=\".81\" x=\"8\" y=\"19\" fill=\"#000000\" />\n",
       "<rect width=\".81\" height=\".81\" x=\"9\" y=\"19\" fill=\"#000000\" />\n",
       "<rect width=\".81\" height=\".81\" x=\"10\" y=\"19\" fill=\"#000000\" />\n",
       "<rect width=\".81\" height=\".81\" x=\"11\" y=\"19\" fill=\"#000000\" />\n",
       "<rect width=\".81\" height=\".81\" x=\"12\" y=\"19\" fill=\"#000000\" />\n",
       "<rect width=\".81\" height=\".81\" x=\"13\" y=\"19\" fill=\"#000000\" />\n",
       "<rect width=\".81\" height=\".81\" x=\"14\" y=\"19\" fill=\"#000000\" />\n",
       "<rect width=\".81\" height=\".81\" x=\"15\" y=\"19\" fill=\"#1B1B1B\" />\n",
       "<rect width=\".81\" height=\".81\" x=\"16\" y=\"19\" fill=\"#BBBBBB\" />\n",
       "<rect width=\".81\" height=\".81\" x=\"17\" y=\"19\" fill=\"#F9F9F9\" />\n",
       "<rect width=\".81\" height=\".81\" x=\"18\" y=\"19\" fill=\"#CFCFCF\" />\n",
       "<rect width=\".81\" height=\".81\" x=\"19\" y=\"19\" fill=\"#B6B6B6\" />\n",
       "<rect width=\".81\" height=\".81\" x=\"20\" y=\"19\" fill=\"#000000\" />\n",
       "<rect width=\".81\" height=\".81\" x=\"21\" y=\"19\" fill=\"#000000\" />\n",
       "<rect width=\".81\" height=\".81\" x=\"22\" y=\"19\" fill=\"#000000\" />\n",
       "<rect width=\".81\" height=\".81\" x=\"23\" y=\"19\" fill=\"#000000\" />\n",
       "<rect width=\".81\" height=\".81\" x=\"24\" y=\"19\" fill=\"#000000\" />\n",
       "<rect width=\".81\" height=\".81\" x=\"25\" y=\"19\" fill=\"#000000\" />\n",
       "<rect width=\".81\" height=\".81\" x=\"26\" y=\"19\" fill=\"#000000\" />\n",
       "<rect width=\".81\" height=\".81\" x=\"27\" y=\"19\" fill=\"#000000\" />\n",
       "<rect width=\".81\" height=\".81\" x=\"0\" y=\"20\" fill=\"#000000\" />\n",
       "<rect width=\".81\" height=\".81\" x=\"1\" y=\"20\" fill=\"#000000\" />\n",
       "<rect width=\".81\" height=\".81\" x=\"2\" y=\"20\" fill=\"#000000\" />\n",
       "<rect width=\".81\" height=\".81\" x=\"3\" y=\"20\" fill=\"#000000\" />\n",
       "<rect width=\".81\" height=\".81\" x=\"4\" y=\"20\" fill=\"#000000\" />\n",
       "<rect width=\".81\" height=\".81\" x=\"5\" y=\"20\" fill=\"#A6A6A6\" />\n",
       "<rect width=\".81\" height=\".81\" x=\"6\" y=\"20\" fill=\"#FDFDFD\" />\n",
       "<rect width=\".81\" height=\".81\" x=\"7\" y=\"20\" fill=\"#525252\" />\n",
       "<rect width=\".81\" height=\".81\" x=\"8\" y=\"20\" fill=\"#000000\" />\n",
       "<rect width=\".81\" height=\".81\" x=\"9\" y=\"20\" fill=\"#000000\" />\n",
       "<rect width=\".81\" height=\".81\" x=\"10\" y=\"20\" fill=\"#000000\" />\n",
       "<rect width=\".81\" height=\".81\" x=\"11\" y=\"20\" fill=\"#000000\" />\n",
       "<rect width=\".81\" height=\".81\" x=\"12\" y=\"20\" fill=\"#000000\" />\n",
       "<rect width=\".81\" height=\".81\" x=\"13\" y=\"20\" fill=\"#000000\" />\n",
       "<rect width=\".81\" height=\".81\" x=\"14\" y=\"20\" fill=\"#000000\" />\n",
       "<rect width=\".81\" height=\".81\" x=\"15\" y=\"20\" fill=\"#000000\" />\n",
       "<rect width=\".81\" height=\".81\" x=\"16\" y=\"20\" fill=\"#000000\" />\n",
       "<rect width=\".81\" height=\".81\" x=\"17\" y=\"20\" fill=\"#404040\" />\n",
       "<rect width=\".81\" height=\".81\" x=\"18\" y=\"20\" fill=\"#020202\" />\n",
       "<rect width=\".81\" height=\".81\" x=\"19\" y=\"20\" fill=\"#000000\" />\n",
       "<rect width=\".81\" height=\".81\" x=\"20\" y=\"20\" fill=\"#000000\" />\n",
       "<rect width=\".81\" height=\".81\" x=\"21\" y=\"20\" fill=\"#000000\" />\n",
       "<rect width=\".81\" height=\".81\" x=\"22\" y=\"20\" fill=\"#000000\" />\n",
       "<rect width=\".81\" height=\".81\" x=\"23\" y=\"20\" fill=\"#000000\" />\n",
       "<rect width=\".81\" height=\".81\" x=\"24\" y=\"20\" fill=\"#000000\" />\n",
       "<rect width=\".81\" height=\".81\" x=\"25\" y=\"20\" fill=\"#000000\" />\n",
       "<rect width=\".81\" height=\".81\" x=\"26\" y=\"20\" fill=\"#000000\" />\n",
       "<rect width=\".81\" height=\".81\" x=\"27\" y=\"20\" fill=\"#000000\" />\n",
       "<rect width=\".81\" height=\".81\" x=\"0\" y=\"21\" fill=\"#000000\" />\n",
       "<rect width=\".81\" height=\".81\" x=\"1\" y=\"21\" fill=\"#000000\" />\n",
       "<rect width=\".81\" height=\".81\" x=\"2\" y=\"21\" fill=\"#000000\" />\n",
       "<rect width=\".81\" height=\".81\" x=\"3\" y=\"21\" fill=\"#000000\" />\n",
       "<rect width=\".81\" height=\".81\" x=\"4\" y=\"21\" fill=\"#000000\" />\n",
       "<rect width=\".81\" height=\".81\" x=\"5\" y=\"21\" fill=\"#FFFFFF\" />\n",
       "<rect width=\".81\" height=\".81\" x=\"6\" y=\"21\" fill=\"#F2F2F2\" />\n",
       "<rect width=\".81\" height=\".81\" x=\"7\" y=\"21\" fill=\"#383838\" />\n",
       "<rect width=\".81\" height=\".81\" x=\"8\" y=\"21\" fill=\"#000000\" />\n",
       "<rect width=\".81\" height=\".81\" x=\"9\" y=\"21\" fill=\"#000000\" />\n",
       "<rect width=\".81\" height=\".81\" x=\"10\" y=\"21\" fill=\"#000000\" />\n",
       "<rect width=\".81\" height=\".81\" x=\"11\" y=\"21\" fill=\"#000000\" />\n",
       "<rect width=\".81\" height=\".81\" x=\"12\" y=\"21\" fill=\"#000000\" />\n",
       "<rect width=\".81\" height=\".81\" x=\"13\" y=\"21\" fill=\"#000000\" />\n",
       "<rect width=\".81\" height=\".81\" x=\"14\" y=\"21\" fill=\"#000000\" />\n",
       "<rect width=\".81\" height=\".81\" x=\"15\" y=\"21\" fill=\"#000000\" />\n",
       "<rect width=\".81\" height=\".81\" x=\"16\" y=\"21\" fill=\"#000000\" />\n",
       "<rect width=\".81\" height=\".81\" x=\"17\" y=\"21\" fill=\"#000000\" />\n",
       "<rect width=\".81\" height=\".81\" x=\"18\" y=\"21\" fill=\"#000000\" />\n",
       "<rect width=\".81\" height=\".81\" x=\"19\" y=\"21\" fill=\"#000000\" />\n",
       "<rect width=\".81\" height=\".81\" x=\"20\" y=\"21\" fill=\"#000000\" />\n",
       "<rect width=\".81\" height=\".81\" x=\"21\" y=\"21\" fill=\"#000000\" />\n",
       "<rect width=\".81\" height=\".81\" x=\"22\" y=\"21\" fill=\"#000000\" />\n",
       "<rect width=\".81\" height=\".81\" x=\"23\" y=\"21\" fill=\"#000000\" />\n",
       "<rect width=\".81\" height=\".81\" x=\"24\" y=\"21\" fill=\"#000000\" />\n",
       "<rect width=\".81\" height=\".81\" x=\"25\" y=\"21\" fill=\"#000000\" />\n",
       "<rect width=\".81\" height=\".81\" x=\"26\" y=\"21\" fill=\"#000000\" />\n",
       "<rect width=\".81\" height=\".81\" x=\"27\" y=\"21\" fill=\"#000000\" />\n",
       "<rect width=\".81\" height=\".81\" x=\"0\" y=\"22\" fill=\"#000000\" />\n",
       "<rect width=\".81\" height=\".81\" x=\"1\" y=\"22\" fill=\"#000000\" />\n",
       "<rect width=\".81\" height=\".81\" x=\"2\" y=\"22\" fill=\"#000000\" />\n",
       "<rect width=\".81\" height=\".81\" x=\"3\" y=\"22\" fill=\"#000000\" />\n",
       "<rect width=\".81\" height=\".81\" x=\"4\" y=\"22\" fill=\"#000000\" />\n",
       "<rect width=\".81\" height=\".81\" x=\"5\" y=\"22\" fill=\"#F7F7F7\" />\n",
       "<rect width=\".81\" height=\".81\" x=\"6\" y=\"22\" fill=\"#C3C3C3\" />\n",
       "<rect width=\".81\" height=\".81\" x=\"7\" y=\"22\" fill=\"#272727\" />\n",
       "<rect width=\".81\" height=\".81\" x=\"8\" y=\"22\" fill=\"#000000\" />\n",
       "<rect width=\".81\" height=\".81\" x=\"9\" y=\"22\" fill=\"#000000\" />\n",
       "<rect width=\".81\" height=\".81\" x=\"10\" y=\"22\" fill=\"#000000\" />\n",
       "<rect width=\".81\" height=\".81\" x=\"11\" y=\"22\" fill=\"#000000\" />\n",
       "<rect width=\".81\" height=\".81\" x=\"12\" y=\"22\" fill=\"#000000\" />\n",
       "<rect width=\".81\" height=\".81\" x=\"13\" y=\"22\" fill=\"#000000\" />\n",
       "<rect width=\".81\" height=\".81\" x=\"14\" y=\"22\" fill=\"#000000\" />\n",
       "<rect width=\".81\" height=\".81\" x=\"15\" y=\"22\" fill=\"#000000\" />\n",
       "<rect width=\".81\" height=\".81\" x=\"16\" y=\"22\" fill=\"#000000\" />\n",
       "<rect width=\".81\" height=\".81\" x=\"17\" y=\"22\" fill=\"#000000\" />\n",
       "<rect width=\".81\" height=\".81\" x=\"18\" y=\"22\" fill=\"#000000\" />\n",
       "<rect width=\".81\" height=\".81\" x=\"19\" y=\"22\" fill=\"#000000\" />\n",
       "<rect width=\".81\" height=\".81\" x=\"20\" y=\"22\" fill=\"#000000\" />\n",
       "<rect width=\".81\" height=\".81\" x=\"21\" y=\"22\" fill=\"#000000\" />\n",
       "<rect width=\".81\" height=\".81\" x=\"22\" y=\"22\" fill=\"#000000\" />\n",
       "<rect width=\".81\" height=\".81\" x=\"23\" y=\"22\" fill=\"#000000\" />\n",
       "<rect width=\".81\" height=\".81\" x=\"24\" y=\"22\" fill=\"#000000\" />\n",
       "<rect width=\".81\" height=\".81\" x=\"25\" y=\"22\" fill=\"#000000\" />\n",
       "<rect width=\".81\" height=\".81\" x=\"26\" y=\"22\" fill=\"#000000\" />\n",
       "<rect width=\".81\" height=\".81\" x=\"27\" y=\"22\" fill=\"#000000\" />\n",
       "<rect width=\".81\" height=\".81\" x=\"0\" y=\"23\" fill=\"#000000\" />\n",
       "<rect width=\".81\" height=\".81\" x=\"1\" y=\"23\" fill=\"#000000\" />\n",
       "<rect width=\".81\" height=\".81\" x=\"2\" y=\"23\" fill=\"#000000\" />\n",
       "<rect width=\".81\" height=\".81\" x=\"3\" y=\"23\" fill=\"#000000\" />\n",
       "<rect width=\".81\" height=\".81\" x=\"4\" y=\"23\" fill=\"#000000\" />\n",
       "<rect width=\".81\" height=\".81\" x=\"5\" y=\"23\" fill=\"#7F7F7F\" />\n",
       "<rect width=\".81\" height=\".81\" x=\"6\" y=\"23\" fill=\"#404040\" />\n",
       "<rect width=\".81\" height=\".81\" x=\"7\" y=\"23\" fill=\"#000000\" />\n",
       "<rect width=\".81\" height=\".81\" x=\"8\" y=\"23\" fill=\"#000000\" />\n",
       "<rect width=\".81\" height=\".81\" x=\"9\" y=\"23\" fill=\"#000000\" />\n",
       "<rect width=\".81\" height=\".81\" x=\"10\" y=\"23\" fill=\"#000000\" />\n",
       "<rect width=\".81\" height=\".81\" x=\"11\" y=\"23\" fill=\"#000000\" />\n",
       "<rect width=\".81\" height=\".81\" x=\"12\" y=\"23\" fill=\"#000000\" />\n",
       "<rect width=\".81\" height=\".81\" x=\"13\" y=\"23\" fill=\"#000000\" />\n",
       "<rect width=\".81\" height=\".81\" x=\"14\" y=\"23\" fill=\"#000000\" />\n",
       "<rect width=\".81\" height=\".81\" x=\"15\" y=\"23\" fill=\"#000000\" />\n",
       "<rect width=\".81\" height=\".81\" x=\"16\" y=\"23\" fill=\"#000000\" />\n",
       "<rect width=\".81\" height=\".81\" x=\"17\" y=\"23\" fill=\"#000000\" />\n",
       "<rect width=\".81\" height=\".81\" x=\"18\" y=\"23\" fill=\"#000000\" />\n",
       "<rect width=\".81\" height=\".81\" x=\"19\" y=\"23\" fill=\"#000000\" />\n",
       "<rect width=\".81\" height=\".81\" x=\"20\" y=\"23\" fill=\"#000000\" />\n",
       "<rect width=\".81\" height=\".81\" x=\"21\" y=\"23\" fill=\"#000000\" />\n",
       "<rect width=\".81\" height=\".81\" x=\"22\" y=\"23\" fill=\"#000000\" />\n",
       "<rect width=\".81\" height=\".81\" x=\"23\" y=\"23\" fill=\"#000000\" />\n",
       "<rect width=\".81\" height=\".81\" x=\"24\" y=\"23\" fill=\"#000000\" />\n",
       "<rect width=\".81\" height=\".81\" x=\"25\" y=\"23\" fill=\"#000000\" />\n",
       "<rect width=\".81\" height=\".81\" x=\"26\" y=\"23\" fill=\"#000000\" />\n",
       "<rect width=\".81\" height=\".81\" x=\"27\" y=\"23\" fill=\"#000000\" />\n",
       "<rect width=\".81\" height=\".81\" x=\"0\" y=\"24\" fill=\"#000000\" />\n",
       "<rect width=\".81\" height=\".81\" x=\"1\" y=\"24\" fill=\"#000000\" />\n",
       "<rect width=\".81\" height=\".81\" x=\"2\" y=\"24\" fill=\"#000000\" />\n",
       "<rect width=\".81\" height=\".81\" x=\"3\" y=\"24\" fill=\"#000000\" />\n",
       "<rect width=\".81\" height=\".81\" x=\"4\" y=\"24\" fill=\"#000000\" />\n",
       "<rect width=\".81\" height=\".81\" x=\"5\" y=\"24\" fill=\"#000000\" />\n",
       "<rect width=\".81\" height=\".81\" x=\"6\" y=\"24\" fill=\"#000000\" />\n",
       "<rect width=\".81\" height=\".81\" x=\"7\" y=\"24\" fill=\"#000000\" />\n",
       "<rect width=\".81\" height=\".81\" x=\"8\" y=\"24\" fill=\"#000000\" />\n",
       "<rect width=\".81\" height=\".81\" x=\"9\" y=\"24\" fill=\"#000000\" />\n",
       "<rect width=\".81\" height=\".81\" x=\"10\" y=\"24\" fill=\"#000000\" />\n",
       "<rect width=\".81\" height=\".81\" x=\"11\" y=\"24\" fill=\"#000000\" />\n",
       "<rect width=\".81\" height=\".81\" x=\"12\" y=\"24\" fill=\"#000000\" />\n",
       "<rect width=\".81\" height=\".81\" x=\"13\" y=\"24\" fill=\"#000000\" />\n",
       "<rect width=\".81\" height=\".81\" x=\"14\" y=\"24\" fill=\"#000000\" />\n",
       "<rect width=\".81\" height=\".81\" x=\"15\" y=\"24\" fill=\"#000000\" />\n",
       "<rect width=\".81\" height=\".81\" x=\"16\" y=\"24\" fill=\"#000000\" />\n",
       "<rect width=\".81\" height=\".81\" x=\"17\" y=\"24\" fill=\"#000000\" />\n",
       "<rect width=\".81\" height=\".81\" x=\"18\" y=\"24\" fill=\"#000000\" />\n",
       "<rect width=\".81\" height=\".81\" x=\"19\" y=\"24\" fill=\"#000000\" />\n",
       "<rect width=\".81\" height=\".81\" x=\"20\" y=\"24\" fill=\"#000000\" />\n",
       "<rect width=\".81\" height=\".81\" x=\"21\" y=\"24\" fill=\"#000000\" />\n",
       "<rect width=\".81\" height=\".81\" x=\"22\" y=\"24\" fill=\"#000000\" />\n",
       "<rect width=\".81\" height=\".81\" x=\"23\" y=\"24\" fill=\"#000000\" />\n",
       "<rect width=\".81\" height=\".81\" x=\"24\" y=\"24\" fill=\"#000000\" />\n",
       "<rect width=\".81\" height=\".81\" x=\"25\" y=\"24\" fill=\"#000000\" />\n",
       "<rect width=\".81\" height=\".81\" x=\"26\" y=\"24\" fill=\"#000000\" />\n",
       "<rect width=\".81\" height=\".81\" x=\"27\" y=\"24\" fill=\"#000000\" />\n",
       "<rect width=\".81\" height=\".81\" x=\"0\" y=\"25\" fill=\"#000000\" />\n",
       "<rect width=\".81\" height=\".81\" x=\"1\" y=\"25\" fill=\"#000000\" />\n",
       "<rect width=\".81\" height=\".81\" x=\"2\" y=\"25\" fill=\"#000000\" />\n",
       "<rect width=\".81\" height=\".81\" x=\"3\" y=\"25\" fill=\"#000000\" />\n",
       "<rect width=\".81\" height=\".81\" x=\"4\" y=\"25\" fill=\"#000000\" />\n",
       "<rect width=\".81\" height=\".81\" x=\"5\" y=\"25\" fill=\"#000000\" />\n",
       "<rect width=\".81\" height=\".81\" x=\"6\" y=\"25\" fill=\"#000000\" />\n",
       "<rect width=\".81\" height=\".81\" x=\"7\" y=\"25\" fill=\"#000000\" />\n",
       "<rect width=\".81\" height=\".81\" x=\"8\" y=\"25\" fill=\"#000000\" />\n",
       "<rect width=\".81\" height=\".81\" x=\"9\" y=\"25\" fill=\"#000000\" />\n",
       "<rect width=\".81\" height=\".81\" x=\"10\" y=\"25\" fill=\"#000000\" />\n",
       "<rect width=\".81\" height=\".81\" x=\"11\" y=\"25\" fill=\"#000000\" />\n",
       "<rect width=\".81\" height=\".81\" x=\"12\" y=\"25\" fill=\"#000000\" />\n",
       "<rect width=\".81\" height=\".81\" x=\"13\" y=\"25\" fill=\"#000000\" />\n",
       "<rect width=\".81\" height=\".81\" x=\"14\" y=\"25\" fill=\"#000000\" />\n",
       "<rect width=\".81\" height=\".81\" x=\"15\" y=\"25\" fill=\"#000000\" />\n",
       "<rect width=\".81\" height=\".81\" x=\"16\" y=\"25\" fill=\"#000000\" />\n",
       "<rect width=\".81\" height=\".81\" x=\"17\" y=\"25\" fill=\"#000000\" />\n",
       "<rect width=\".81\" height=\".81\" x=\"18\" y=\"25\" fill=\"#000000\" />\n",
       "<rect width=\".81\" height=\".81\" x=\"19\" y=\"25\" fill=\"#000000\" />\n",
       "<rect width=\".81\" height=\".81\" x=\"20\" y=\"25\" fill=\"#000000\" />\n",
       "<rect width=\".81\" height=\".81\" x=\"21\" y=\"25\" fill=\"#000000\" />\n",
       "<rect width=\".81\" height=\".81\" x=\"22\" y=\"25\" fill=\"#000000\" />\n",
       "<rect width=\".81\" height=\".81\" x=\"23\" y=\"25\" fill=\"#000000\" />\n",
       "<rect width=\".81\" height=\".81\" x=\"24\" y=\"25\" fill=\"#000000\" />\n",
       "<rect width=\".81\" height=\".81\" x=\"25\" y=\"25\" fill=\"#000000\" />\n",
       "<rect width=\".81\" height=\".81\" x=\"26\" y=\"25\" fill=\"#000000\" />\n",
       "<rect width=\".81\" height=\".81\" x=\"27\" y=\"25\" fill=\"#000000\" />\n",
       "<rect width=\".81\" height=\".81\" x=\"0\" y=\"26\" fill=\"#000000\" />\n",
       "<rect width=\".81\" height=\".81\" x=\"1\" y=\"26\" fill=\"#000000\" />\n",
       "<rect width=\".81\" height=\".81\" x=\"2\" y=\"26\" fill=\"#000000\" />\n",
       "<rect width=\".81\" height=\".81\" x=\"3\" y=\"26\" fill=\"#000000\" />\n",
       "<rect width=\".81\" height=\".81\" x=\"4\" y=\"26\" fill=\"#000000\" />\n",
       "<rect width=\".81\" height=\".81\" x=\"5\" y=\"26\" fill=\"#000000\" />\n",
       "<rect width=\".81\" height=\".81\" x=\"6\" y=\"26\" fill=\"#000000\" />\n",
       "<rect width=\".81\" height=\".81\" x=\"7\" y=\"26\" fill=\"#000000\" />\n",
       "<rect width=\".81\" height=\".81\" x=\"8\" y=\"26\" fill=\"#000000\" />\n",
       "<rect width=\".81\" height=\".81\" x=\"9\" y=\"26\" fill=\"#000000\" />\n",
       "<rect width=\".81\" height=\".81\" x=\"10\" y=\"26\" fill=\"#000000\" />\n",
       "<rect width=\".81\" height=\".81\" x=\"11\" y=\"26\" fill=\"#000000\" />\n",
       "<rect width=\".81\" height=\".81\" x=\"12\" y=\"26\" fill=\"#000000\" />\n",
       "<rect width=\".81\" height=\".81\" x=\"13\" y=\"26\" fill=\"#000000\" />\n",
       "<rect width=\".81\" height=\".81\" x=\"14\" y=\"26\" fill=\"#000000\" />\n",
       "<rect width=\".81\" height=\".81\" x=\"15\" y=\"26\" fill=\"#000000\" />\n",
       "<rect width=\".81\" height=\".81\" x=\"16\" y=\"26\" fill=\"#000000\" />\n",
       "<rect width=\".81\" height=\".81\" x=\"17\" y=\"26\" fill=\"#000000\" />\n",
       "<rect width=\".81\" height=\".81\" x=\"18\" y=\"26\" fill=\"#000000\" />\n",
       "<rect width=\".81\" height=\".81\" x=\"19\" y=\"26\" fill=\"#000000\" />\n",
       "<rect width=\".81\" height=\".81\" x=\"20\" y=\"26\" fill=\"#000000\" />\n",
       "<rect width=\".81\" height=\".81\" x=\"21\" y=\"26\" fill=\"#000000\" />\n",
       "<rect width=\".81\" height=\".81\" x=\"22\" y=\"26\" fill=\"#000000\" />\n",
       "<rect width=\".81\" height=\".81\" x=\"23\" y=\"26\" fill=\"#000000\" />\n",
       "<rect width=\".81\" height=\".81\" x=\"24\" y=\"26\" fill=\"#000000\" />\n",
       "<rect width=\".81\" height=\".81\" x=\"25\" y=\"26\" fill=\"#000000\" />\n",
       "<rect width=\".81\" height=\".81\" x=\"26\" y=\"26\" fill=\"#000000\" />\n",
       "<rect width=\".81\" height=\".81\" x=\"27\" y=\"26\" fill=\"#000000\" />\n",
       "<rect width=\".81\" height=\".81\" x=\"0\" y=\"27\" fill=\"#000000\" />\n",
       "<rect width=\".81\" height=\".81\" x=\"1\" y=\"27\" fill=\"#000000\" />\n",
       "<rect width=\".81\" height=\".81\" x=\"2\" y=\"27\" fill=\"#000000\" />\n",
       "<rect width=\".81\" height=\".81\" x=\"3\" y=\"27\" fill=\"#000000\" />\n",
       "<rect width=\".81\" height=\".81\" x=\"4\" y=\"27\" fill=\"#000000\" />\n",
       "<rect width=\".81\" height=\".81\" x=\"5\" y=\"27\" fill=\"#000000\" />\n",
       "<rect width=\".81\" height=\".81\" x=\"6\" y=\"27\" fill=\"#000000\" />\n",
       "<rect width=\".81\" height=\".81\" x=\"7\" y=\"27\" fill=\"#000000\" />\n",
       "<rect width=\".81\" height=\".81\" x=\"8\" y=\"27\" fill=\"#000000\" />\n",
       "<rect width=\".81\" height=\".81\" x=\"9\" y=\"27\" fill=\"#000000\" />\n",
       "<rect width=\".81\" height=\".81\" x=\"10\" y=\"27\" fill=\"#000000\" />\n",
       "<rect width=\".81\" height=\".81\" x=\"11\" y=\"27\" fill=\"#000000\" />\n",
       "<rect width=\".81\" height=\".81\" x=\"12\" y=\"27\" fill=\"#000000\" />\n",
       "<rect width=\".81\" height=\".81\" x=\"13\" y=\"27\" fill=\"#000000\" />\n",
       "<rect width=\".81\" height=\".81\" x=\"14\" y=\"27\" fill=\"#000000\" />\n",
       "<rect width=\".81\" height=\".81\" x=\"15\" y=\"27\" fill=\"#000000\" />\n",
       "<rect width=\".81\" height=\".81\" x=\"16\" y=\"27\" fill=\"#000000\" />\n",
       "<rect width=\".81\" height=\".81\" x=\"17\" y=\"27\" fill=\"#000000\" />\n",
       "<rect width=\".81\" height=\".81\" x=\"18\" y=\"27\" fill=\"#000000\" />\n",
       "<rect width=\".81\" height=\".81\" x=\"19\" y=\"27\" fill=\"#000000\" />\n",
       "<rect width=\".81\" height=\".81\" x=\"20\" y=\"27\" fill=\"#000000\" />\n",
       "<rect width=\".81\" height=\".81\" x=\"21\" y=\"27\" fill=\"#000000\" />\n",
       "<rect width=\".81\" height=\".81\" x=\"22\" y=\"27\" fill=\"#000000\" />\n",
       "<rect width=\".81\" height=\".81\" x=\"23\" y=\"27\" fill=\"#000000\" />\n",
       "<rect width=\".81\" height=\".81\" x=\"24\" y=\"27\" fill=\"#000000\" />\n",
       "<rect width=\".81\" height=\".81\" x=\"25\" y=\"27\" fill=\"#000000\" />\n",
       "<rect width=\".81\" height=\".81\" x=\"26\" y=\"27\" fill=\"#000000\" />\n",
       "<rect width=\".81\" height=\".81\" x=\"27\" y=\"27\" fill=\"#000000\" />\n",
       "</svg>"
      ],
      "text/plain": [
       "28×28 Array{Gray{Float32},2} with eltype Gray{Float32}:\n",
       " Gray{Float32}(0.0)  Gray{Float32}(0.0)  …  Gray{Float32}(0.0)\n",
       " Gray{Float32}(0.0)  Gray{Float32}(0.0)     Gray{Float32}(0.0)\n",
       " Gray{Float32}(0.0)  Gray{Float32}(0.0)     Gray{Float32}(0.0)\n",
       " Gray{Float32}(0.0)  Gray{Float32}(0.0)     Gray{Float32}(0.0)\n",
       " Gray{Float32}(0.0)  Gray{Float32}(0.0)     Gray{Float32}(0.0)\n",
       " Gray{Float32}(0.0)  Gray{Float32}(0.0)  …  Gray{Float32}(0.0)\n",
       " Gray{Float32}(0.0)  Gray{Float32}(0.0)     Gray{Float32}(0.0)\n",
       " Gray{Float32}(0.0)  Gray{Float32}(0.0)     Gray{Float32}(0.0)\n",
       " Gray{Float32}(0.0)  Gray{Float32}(0.0)     Gray{Float32}(0.0)\n",
       " Gray{Float32}(0.0)  Gray{Float32}(0.0)     Gray{Float32}(0.0)\n",
       " Gray{Float32}(0.0)  Gray{Float32}(0.0)  …  Gray{Float32}(0.0)\n",
       " Gray{Float32}(0.0)  Gray{Float32}(0.0)     Gray{Float32}(0.0)\n",
       " Gray{Float32}(0.0)  Gray{Float32}(0.0)     Gray{Float32}(0.0)\n",
       " ⋮                                       ⋱  \n",
       " Gray{Float32}(0.0)  Gray{Float32}(0.0)     Gray{Float32}(0.0)\n",
       " Gray{Float32}(0.0)  Gray{Float32}(0.0)     Gray{Float32}(0.0)\n",
       " Gray{Float32}(0.0)  Gray{Float32}(0.0)     Gray{Float32}(0.0)\n",
       " Gray{Float32}(0.0)  Gray{Float32}(0.0)     Gray{Float32}(0.0)\n",
       " Gray{Float32}(0.0)  Gray{Float32}(0.0)  …  Gray{Float32}(0.0)\n",
       " Gray{Float32}(0.0)  Gray{Float32}(0.0)     Gray{Float32}(0.0)\n",
       " Gray{Float32}(0.0)  Gray{Float32}(0.0)     Gray{Float32}(0.0)\n",
       " Gray{Float32}(0.0)  Gray{Float32}(0.0)     Gray{Float32}(0.0)\n",
       " Gray{Float32}(0.0)  Gray{Float32}(0.0)     Gray{Float32}(0.0)\n",
       " Gray{Float32}(0.0)  Gray{Float32}(0.0)  …  Gray{Float32}(0.0)\n",
       " Gray{Float32}(0.0)  Gray{Float32}(0.0)     Gray{Float32}(0.0)\n",
       " Gray{Float32}(0.0)  Gray{Float32}(0.0)     Gray{Float32}(0.0)"
      ]
     },
     "execution_count": 7,
     "metadata": {},
     "output_type": "execute_result"
    }
   ],
   "source": [
    "images[1]"
   ]
  },
  {
   "cell_type": "markdown",
   "metadata": {},
   "source": [
    "We start by defining a suitable `Builder` object. This is a recipe\n",
    "for building the neural network. Our builder will work for images of\n",
    "any (constant) size, whether they be color or black and white (ie,\n",
    "single or multi-channel).  The architecture always consists of six\n",
    "alternating convolution and max-pool layers, and a final dense\n",
    "layer; the filter size and the number of channels after each\n",
    "convolution layer is customisable."
   ]
  },
  {
   "cell_type": "code",
   "execution_count": 8,
   "metadata": {},
   "outputs": [],
   "source": [
    "import MLJFlux\n",
    "struct MyConvBuilder\n",
    "    filter_size::Int\n",
    "    channels1::Int\n",
    "    channels2::Int\n",
    "    channels3::Int\n",
    "end\n",
    "\n",
    "function MLJFlux.build(b::MyConvBuilder, rng, n_in, n_out, n_channels)\n",
    "    k, c1, c2, c3 = b.filter_size, b.channels1, b.channels2, b.channels3\n",
    "    mod(k, 2) == 1 || error(\"`filter_size` must be odd. \")\n",
    "    p = div(k - 1, 2) # padding to preserve image size\n",
    "    init = Flux.glorot_uniform(rng)\n",
    "    front = Chain(\n",
    "        Conv((k, k), n_channels => c1, pad=(p, p), relu, init=init),\n",
    "        MaxPool((2, 2)),\n",
    "        Conv((k, k), c1 => c2, pad=(p, p), relu, init=init),\n",
    "        MaxPool((2, 2)),\n",
    "        Conv((k, k), c2 => c3, pad=(p, p), relu, init=init),\n",
    "        MaxPool((2 ,2)),\n",
    "        MLUtils.flatten)\n",
    "    d = Flux.outputsize(front, (n_in..., n_channels, 1)) |> first\n",
    "    return Chain(front, Dense(d, n_out, init=init))\n",
    "end"
   ]
  },
  {
   "cell_type": "markdown",
   "metadata": {},
   "source": [
    "**Notes.**"
   ]
  },
  {
   "cell_type": "markdown",
   "metadata": {},
   "source": [
    "- There is no final `softmax` here, as this is applied by default in all MLJFLux\n",
    "  classifiers. Customisation of this behaviour is controlled using using the `finaliser`\n",
    "  hyperparameter of the classifier.\n",
    "\n",
    "- Instead of calculating the padding `p`, Flux can infer the required padding in each\n",
    "  dimension, which you enable by replacing `pad = (p, p)` with `pad = SamePad()`."
   ]
  },
  {
   "cell_type": "markdown",
   "metadata": {},
   "source": [
    "We now define the MLJ model."
   ]
  },
  {
   "cell_type": "code",
   "execution_count": 9,
   "metadata": {},
   "outputs": [
    {
     "name": "stderr",
     "output_type": "stream",
     "text": [
      "\u001b[36m\u001b[1m[ \u001b[22m\u001b[39m\u001b[36m\u001b[1mInfo: \u001b[22m\u001b[39mFor silent loading, specify `verbosity=0`. \n"
     ]
    },
    {
     "name": "stdout",
     "output_type": "stream",
     "text": [
      "import MLJFlux ✔\n"
     ]
    },
    {
     "data": {
      "text/plain": [
       "ImageClassifier(\n",
       "  builder = MyConvBuilder(3, 16, 32, 32), \n",
       "  finaliser = NNlib.softmax, \n",
       "  optimiser = Adam(0.001, (0.9, 0.999), 1.0e-8, IdDict{Any, Any}()), \n",
       "  loss = Flux.Losses.crossentropy, \n",
       "  epochs = 10, \n",
       "  batch_size = 50, \n",
       "  lambda = 0.0, \n",
       "  alpha = 0.0, \n",
       "  rng = 123, \n",
       "  optimiser_changes_trigger_retraining = false, \n",
       "  acceleration = CPU1{Nothing}(nothing))"
      ]
     },
     "execution_count": 9,
     "metadata": {},
     "output_type": "execute_result"
    }
   ],
   "source": [
    "ImageClassifier = @load ImageClassifier\n",
    "clf = ImageClassifier(\n",
    "    builder=MyConvBuilder(3, 16, 32, 32),\n",
    "    batch_size=50,\n",
    "    epochs=10,\n",
    "    rng=123,\n",
    ")"
   ]
  },
  {
   "cell_type": "markdown",
   "metadata": {},
   "source": [
    "You can add Flux options `optimiser=...` and `loss=...` in the above constructor\n",
    "call. At present, `loss` must be a Flux-compatible loss, not an MLJ measure. To run on a\n",
    "GPU, add to the constructor `acceleration=CUDALib()` and omit `rng`."
   ]
  },
  {
   "cell_type": "markdown",
   "metadata": {},
   "source": [
    "For illustration purposes, we won't use all the data here:"
   ]
  },
  {
   "cell_type": "code",
   "execution_count": 10,
   "metadata": {},
   "outputs": [
    {
     "data": {
      "text/plain": [
       "501:1000"
      ]
     },
     "execution_count": 10,
     "metadata": {},
     "output_type": "execute_result"
    }
   ],
   "source": [
    "train = 1:500\n",
    "test = 501:1000"
   ]
  },
  {
   "cell_type": "markdown",
   "metadata": {},
   "source": [
    "Binding the model with data in an MLJ machine:"
   ]
  },
  {
   "cell_type": "code",
   "execution_count": 11,
   "metadata": {},
   "outputs": [],
   "source": [
    "mach = machine(clf, images, labels);"
   ]
  },
  {
   "cell_type": "markdown",
   "metadata": {},
   "source": [
    "Training for 10 epochs on the first 500 images:"
   ]
  },
  {
   "cell_type": "code",
   "execution_count": 12,
   "metadata": {},
   "outputs": [
    {
     "name": "stderr",
     "output_type": "stream",
     "text": [
      "\u001b[36m\u001b[1m[ \u001b[22m\u001b[39m\u001b[36m\u001b[1mInfo: \u001b[22m\u001b[39mTraining machine(ImageClassifier(builder = MyConvBuilder(3, 16, 32, 32), …), …).\n",
      "\u001b[36m\u001b[1m[ \u001b[22m\u001b[39m\u001b[36m\u001b[1mInfo: \u001b[22m\u001b[39mLoss is 2.291\n",
      "\u001b[36m\u001b[1m[ \u001b[22m\u001b[39m\u001b[36m\u001b[1mInfo: \u001b[22m\u001b[39mLoss is 2.208\n",
      "\u001b[36m\u001b[1m[ \u001b[22m\u001b[39m\u001b[36m\u001b[1mInfo: \u001b[22m\u001b[39mLoss is 2.049\n",
      "\u001b[36m\u001b[1m[ \u001b[22m\u001b[39m\u001b[36m\u001b[1mInfo: \u001b[22m\u001b[39mLoss is 1.685\n",
      "\u001b[36m\u001b[1m[ \u001b[22m\u001b[39m\u001b[36m\u001b[1mInfo: \u001b[22m\u001b[39mLoss is 1.075\n",
      "\u001b[36m\u001b[1m[ \u001b[22m\u001b[39m\u001b[36m\u001b[1mInfo: \u001b[22m\u001b[39mLoss is 0.628\n",
      "\u001b[36m\u001b[1m[ \u001b[22m\u001b[39m\u001b[36m\u001b[1mInfo: \u001b[22m\u001b[39mLoss is 0.4639\n",
      "\u001b[36m\u001b[1m[ \u001b[22m\u001b[39m\u001b[36m\u001b[1mInfo: \u001b[22m\u001b[39mLoss is 0.361\n",
      "\u001b[36m\u001b[1m[ \u001b[22m\u001b[39m\u001b[36m\u001b[1mInfo: \u001b[22m\u001b[39mLoss is 0.2921\n",
      "\u001b[36m\u001b[1m[ \u001b[22m\u001b[39m\u001b[36m\u001b[1mInfo: \u001b[22m\u001b[39mLoss is 0.2478\n"
     ]
    }
   ],
   "source": [
    "fit!(mach, rows=train, verbosity=2);"
   ]
  },
  {
   "cell_type": "markdown",
   "metadata": {},
   "source": [
    "Inspecting:"
   ]
  },
  {
   "cell_type": "code",
   "execution_count": 13,
   "metadata": {},
   "outputs": [
    {
     "data": {
      "text/plain": [
       "(training_losses = Float32[2.3242702, 2.2908378, 2.20822, 2.0489829, 1.6850392, 1.0751165, 0.6279615, 0.46388212, 0.36103815, 0.29207793, 0.2478443],)"
      ]
     },
     "execution_count": 13,
     "metadata": {},
     "output_type": "execute_result"
    }
   ],
   "source": [
    "report(mach)"
   ]
  },
  {
   "cell_type": "code",
   "execution_count": 14,
   "metadata": {},
   "outputs": [
    {
     "data": {
      "text/plain": [
       "(chain = Chain(Chain(Chain(Conv((3, 3), 1 => 16, relu, pad=1), MaxPool((2, 2)), Conv((3, 3), 16 => 32, relu, pad=1), MaxPool((2, 2)), Conv((3, 3), 32 => 32, relu, pad=1), MaxPool((2, 2)), flatten), Dense(288 => 10)), softmax),)"
      ]
     },
     "execution_count": 14,
     "metadata": {},
     "output_type": "execute_result"
    }
   ],
   "source": [
    "chain = fitted_params(mach)"
   ]
  },
  {
   "cell_type": "code",
   "execution_count": 15,
   "metadata": {},
   "outputs": [
    {
     "data": {
      "text/plain": [
       "16-element Vector{Float32}:\n",
       "  0.011803599\n",
       "  0.05579675\n",
       "  8.461591f-5\n",
       "  0.013422165\n",
       " -0.001925053\n",
       "  0.011568692\n",
       " -0.00051727734\n",
       " -0.0003228416\n",
       "  0.03614383\n",
       "  0.06365696\n",
       " -0.0005846103\n",
       " -0.004092362\n",
       "  0.0036211032\n",
       "  0.0031117066\n",
       "  0.02764553\n",
       "  0.05152524"
      ]
     },
     "execution_count": 15,
     "metadata": {},
     "output_type": "execute_result"
    }
   ],
   "source": [
    "Flux.params(chain)[2]"
   ]
  },
  {
   "cell_type": "markdown",
   "metadata": {},
   "source": [
    "Adding 20 more epochs:"
   ]
  },
  {
   "cell_type": "code",
   "execution_count": 16,
   "metadata": {},
   "outputs": [
    {
     "name": "stderr",
     "output_type": "stream",
     "text": [
      "\u001b[36m\u001b[1m[ \u001b[22m\u001b[39m\u001b[36m\u001b[1mInfo: \u001b[22m\u001b[39mUpdating machine(ImageClassifier(builder = MyConvBuilder(3, 16, 32, 32), …), …).\n",
      "\u001b[33mOptimising neural net: 100%[=========================] Time: 0:01:54\u001b[39m\n"
     ]
    }
   ],
   "source": [
    "clf.epochs = clf.epochs + 20\n",
    "fit!(mach, rows=train);"
   ]
  },
  {
   "cell_type": "markdown",
   "metadata": {},
   "source": [
    "Computing an out-of-sample estimate of the loss:"
   ]
  },
  {
   "cell_type": "code",
   "execution_count": 17,
   "metadata": {},
   "outputs": [
    {
     "data": {
      "text/plain": [
       "0.36284237158113225"
      ]
     },
     "execution_count": 17,
     "metadata": {},
     "output_type": "execute_result"
    }
   ],
   "source": [
    "predicted_labels = predict(mach, rows=test);\n",
    "cross_entropy(predicted_labels, labels[test])"
   ]
  },
  {
   "cell_type": "markdown",
   "metadata": {},
   "source": [
    "Or, in one line:"
   ]
  },
  {
   "cell_type": "code",
   "execution_count": 18,
   "metadata": {},
   "outputs": [
    {
     "data": {
      "text/plain": [
       "PerformanceEvaluation object with these fields:\n",
       "  model, measure, operation,\n",
       "  measurement, per_fold, per_observation,\n",
       "  fitted_params_per_fold, report_per_fold,\n",
       "  train_test_rows, resampling, repeats\n",
       "Extract:\n",
       "┌──────────────────────┬───────────┬─────────────┐\n",
       "│\u001b[22m measure              \u001b[0m│\u001b[22m operation \u001b[0m│\u001b[22m measurement \u001b[0m│\n",
       "├──────────────────────┼───────────┼─────────────┤\n",
       "│ LogLoss(             │ predict   │ 0.363       │\n",
       "│   tol = 2.22045e-16) │           │             │\n",
       "└──────────────────────┴───────────┴─────────────┘\n"
      ]
     },
     "execution_count": 18,
     "metadata": {},
     "output_type": "execute_result"
    }
   ],
   "source": [
    "evaluate!(mach,\n",
    "          resampling=Holdout(fraction_train=0.5),\n",
    "          measure=cross_entropy,\n",
    "          rows=1:1000,\n",
    "          verbosity=0)"
   ]
  },
  {
   "cell_type": "markdown",
   "metadata": {},
   "source": [
    "## Wrapping the MLJFlux model with iteration controls"
   ]
  },
  {
   "cell_type": "markdown",
   "metadata": {},
   "source": [
    "Any iterative MLJFlux model can be wrapped in *iteration controls*,\n",
    "as we demonstrate next. For more on MLJ's `IteratedModel` wrapper,\n",
    "see the [MLJ\n",
    "documentation](https://alan-turing-institute.github.io/MLJ.jl/dev/controlling_iterative_models/)."
   ]
  },
  {
   "cell_type": "markdown",
   "metadata": {},
   "source": [
    "The \"self-iterating\" classifier, called `iterated_clf` below, is for\n",
    "iterating the image classifier defined above until one of the\n",
    "following stopping criterion apply:"
   ]
  },
  {
   "cell_type": "markdown",
   "metadata": {},
   "source": [
    "- `Patience(3)`: 3 consecutive increases in the loss\n",
    "- `InvalidValue()`: an out-of-sample loss, or a training loss, is `NaN`, `Inf`, or `-Inf`\n",
    "- `TimeLimit(t=5/60)`: training time has exceeded 5 minutes\n",
    "\n",
    "These checks (and other controls) will be applied every two epochs\n",
    "(because of the `Step(2)` control). Additionally, training a\n",
    "machine bound to `iterated_clf` will:\n",
    "\n",
    "- save a snapshot of the machine every three control cycles (every six epochs)\n",
    "- record traces of the out-of-sample loss and training losses for plotting\n",
    "- record mean value traces of each Flux parameter for plotting"
   ]
  },
  {
   "cell_type": "markdown",
   "metadata": {},
   "source": [
    "For a complete list of controls, see [this\n",
    "table](https://alan-turing-institute.github.io/MLJ.jl/dev/controlling_iterative_models/#Controls-provided)."
   ]
  },
  {
   "cell_type": "markdown",
   "metadata": {},
   "source": [
    "### Wrapping the classifier"
   ]
  },
  {
   "cell_type": "markdown",
   "metadata": {},
   "source": [
    "Some helpers"
   ]
  },
  {
   "cell_type": "markdown",
   "metadata": {},
   "source": [
    "To extract Flux params from an MLJFlux machine"
   ]
  },
  {
   "cell_type": "code",
   "execution_count": 19,
   "metadata": {},
   "outputs": [],
   "source": [
    "parameters(mach) = vec.(Flux.params(fitted_params(mach)));"
   ]
  },
  {
   "cell_type": "markdown",
   "metadata": {},
   "source": [
    "To store the traces:"
   ]
  },
  {
   "cell_type": "code",
   "execution_count": 20,
   "metadata": {},
   "outputs": [
    {
     "data": {
      "text/plain": [
       "Any[]"
      ]
     },
     "execution_count": 20,
     "metadata": {},
     "output_type": "execute_result"
    }
   ],
   "source": [
    "losses = []\n",
    "training_losses = []\n",
    "parameter_means = Float32[];\n",
    "epochs = []"
   ]
  },
  {
   "cell_type": "markdown",
   "metadata": {},
   "source": [
    "To update the traces:"
   ]
  },
  {
   "cell_type": "code",
   "execution_count": 21,
   "metadata": {},
   "outputs": [
    {
     "data": {
      "text/plain": [
       "update_epochs (generic function with 1 method)"
      ]
     },
     "execution_count": 21,
     "metadata": {},
     "output_type": "execute_result"
    }
   ],
   "source": [
    "update_loss(loss) = push!(losses, loss)\n",
    "update_training_loss(losses) = push!(training_losses, losses[end])\n",
    "update_means(mach) = append!(parameter_means, mean.(parameters(mach)));\n",
    "update_epochs(epoch) = push!(epochs, epoch)"
   ]
  },
  {
   "cell_type": "markdown",
   "metadata": {},
   "source": [
    "The controls to apply:"
   ]
  },
  {
   "cell_type": "code",
   "execution_count": 22,
   "metadata": {},
   "outputs": [],
   "source": [
    "save_control =\n",
    "    MLJIteration.skip(Save(joinpath(DIR, \"mnist.jls\")), predicate=3)\n",
    "\n",
    "controls=[\n",
    "    Step(2),\n",
    "    Patience(3),\n",
    "    InvalidValue(),\n",
    "    TimeLimit(5/60),\n",
    "    save_control,\n",
    "    WithLossDo(),\n",
    "    WithLossDo(update_loss),\n",
    "    WithTrainingLossesDo(update_training_loss),\n",
    "    Callback(update_means),\n",
    "    WithIterationsDo(update_epochs),\n",
    "];"
   ]
  },
  {
   "cell_type": "markdown",
   "metadata": {},
   "source": [
    "The \"self-iterating\" classifier:"
   ]
  },
  {
   "cell_type": "code",
   "execution_count": 23,
   "metadata": {},
   "outputs": [
    {
     "data": {
      "text/plain": [
       "ProbabilisticIteratedModel(\n",
       "  model = ImageClassifier(\n",
       "        builder = MyConvBuilder(3, 16, 32, 32), \n",
       "        finaliser = NNlib.softmax, \n",
       "        optimiser = Adam(0.001, (0.9, 0.999), 1.0e-8, IdDict{Any, Any}()), \n",
       "        loss = Flux.Losses.crossentropy, \n",
       "        epochs = 30, \n",
       "        batch_size = 50, \n",
       "        lambda = 0.0, \n",
       "        alpha = 0.0, \n",
       "        rng = 123, \n",
       "        optimiser_changes_trigger_retraining = false, \n",
       "        acceleration = CPU1{Nothing}(nothing)), \n",
       "  controls = Any[Step(2), Patience(3), InvalidValue(), TimeLimit(Dates.Millisecond(300000)), IterationControl.Skip{Save{typeof(Serialization.serialize)}, IterationControl.var\"#8#9\"{Int64}}(Save{typeof(Serialization.serialize)}(\"/Users/anthony/GoogleDrive/Julia/MLJ/MLJFlux/examples/mnist/mnist.jls\", Serialization.serialize), IterationControl.var\"#8#9\"{Int64}(3)), WithLossDo{IterationControl.var\"#20#22\"}(IterationControl.var\"#20#22\"(), false, nothing), WithLossDo{typeof(update_loss)}(update_loss, false, nothing), WithTrainingLossesDo{typeof(update_training_loss)}(update_training_loss, false, nothing), Callback{typeof(update_means)}(update_means, false, nothing, false), WithIterationsDo{typeof(update_epochs)}(update_epochs, false, nothing)], \n",
       "  resampling = Holdout(\n",
       "        fraction_train = 0.7, \n",
       "        shuffle = false, \n",
       "        rng = Random._GLOBAL_RNG()), \n",
       "  measure = LogLoss(tol = 2.22045e-16), \n",
       "  weights = nothing, \n",
       "  class_weights = nothing, \n",
       "  operation = MLJModelInterface.predict, \n",
       "  retrain = false, \n",
       "  check_measure = true, \n",
       "  iteration_parameter = nothing, \n",
       "  cache = true)"
      ]
     },
     "execution_count": 23,
     "metadata": {},
     "output_type": "execute_result"
    }
   ],
   "source": [
    "iterated_clf = IteratedModel(\n",
    "    clf,\n",
    "    controls=controls,\n",
    "    resampling=Holdout(fraction_train=0.7),\n",
    "    measure=log_loss,\n",
    ")"
   ]
  },
  {
   "cell_type": "markdown",
   "metadata": {},
   "source": [
    "### Binding the wrapped model to data:"
   ]
  },
  {
   "cell_type": "code",
   "execution_count": 24,
   "metadata": {},
   "outputs": [],
   "source": [
    "mach = machine(iterated_clf, images, labels);"
   ]
  },
  {
   "cell_type": "markdown",
   "metadata": {},
   "source": [
    "### Training"
   ]
  },
  {
   "cell_type": "code",
   "execution_count": 25,
   "metadata": {},
   "outputs": [
    {
     "name": "stderr",
     "output_type": "stream",
     "text": [
      "\u001b[36m\u001b[1m[ \u001b[22m\u001b[39m\u001b[36m\u001b[1mInfo: \u001b[22m\u001b[39mTraining machine(ProbabilisticIteratedModel(model = ImageClassifier(builder = MyConvBuilder(3, 16, 32, 32), …), …), …).\n",
      "\u001b[36m\u001b[1m[ \u001b[22m\u001b[39m\u001b[36m\u001b[1mInfo: \u001b[22m\u001b[39mNo iteration parameter specified. Using `iteration_parameter=:(epochs)`. \n",
      "\u001b[36m\u001b[1m[ \u001b[22m\u001b[39m\u001b[36m\u001b[1mInfo: \u001b[22m\u001b[39mloss: 2.2247422992833092\n",
      "\u001b[36m\u001b[1m[ \u001b[22m\u001b[39m\u001b[36m\u001b[1mInfo: \u001b[22m\u001b[39mloss: 1.9681479167178544\n",
      "\u001b[36m\u001b[1m[ \u001b[22m\u001b[39m\u001b[36m\u001b[1mInfo: \u001b[22m\u001b[39mSaving \"/Users/anthony/GoogleDrive/Julia/MLJ/MLJFlux/examples/mnist/mnist1.jls\". \n",
      "\u001b[36m\u001b[1m[ \u001b[22m\u001b[39m\u001b[36m\u001b[1mInfo: \u001b[22m\u001b[39mloss: 1.220910971646785\n",
      "\u001b[36m\u001b[1m[ \u001b[22m\u001b[39m\u001b[36m\u001b[1mInfo: \u001b[22m\u001b[39mloss: 0.5940933327640742\n",
      "\u001b[36m\u001b[1m[ \u001b[22m\u001b[39m\u001b[36m\u001b[1mInfo: \u001b[22m\u001b[39mloss: 0.46833501799372196\n",
      "\u001b[36m\u001b[1m[ \u001b[22m\u001b[39m\u001b[36m\u001b[1mInfo: \u001b[22m\u001b[39mSaving \"/Users/anthony/GoogleDrive/Julia/MLJ/MLJFlux/examples/mnist/mnist2.jls\". \n",
      "\u001b[36m\u001b[1m[ \u001b[22m\u001b[39m\u001b[36m\u001b[1mInfo: \u001b[22m\u001b[39mloss: 0.4241402839593314\n",
      "\u001b[36m\u001b[1m[ \u001b[22m\u001b[39m\u001b[36m\u001b[1mInfo: \u001b[22m\u001b[39mloss: 0.40840895980242126\n",
      "\u001b[36m\u001b[1m[ \u001b[22m\u001b[39m\u001b[36m\u001b[1mInfo: \u001b[22m\u001b[39mloss: 0.404754883332919\n",
      "\u001b[36m\u001b[1m[ \u001b[22m\u001b[39m\u001b[36m\u001b[1mInfo: \u001b[22m\u001b[39mSaving \"/Users/anthony/GoogleDrive/Julia/MLJ/MLJFlux/examples/mnist/mnist3.jls\". \n",
      "\u001b[36m\u001b[1m[ \u001b[22m\u001b[39m\u001b[36m\u001b[1mInfo: \u001b[22m\u001b[39mloss: 0.4097772917650752\n",
      "\u001b[36m\u001b[1m[ \u001b[22m\u001b[39m\u001b[36m\u001b[1mInfo: \u001b[22m\u001b[39mloss: 0.420399235463716\n",
      "\u001b[36m\u001b[1m[ \u001b[22m\u001b[39m\u001b[36m\u001b[1mInfo: \u001b[22m\u001b[39mloss: 0.43216415903189187\n",
      "\u001b[36m\u001b[1m[ \u001b[22m\u001b[39m\u001b[36m\u001b[1mInfo: \u001b[22m\u001b[39mfinal loss: 0.43216415903189187\n",
      "\u001b[36m\u001b[1m[ \u001b[22m\u001b[39m\u001b[36m\u001b[1mInfo: \u001b[22m\u001b[39mfinal training loss: 0.043363843\n",
      "\u001b[36m\u001b[1m[ \u001b[22m\u001b[39m\u001b[36m\u001b[1mInfo: \u001b[22m\u001b[39mStop triggered by Patience(3) stopping criterion. \n",
      "\u001b[36m\u001b[1m[ \u001b[22m\u001b[39m\u001b[36m\u001b[1mInfo: \u001b[22m\u001b[39mTotal of 22 iterations. \n"
     ]
    }
   ],
   "source": [
    "fit!(mach, rows=train);"
   ]
  },
  {
   "cell_type": "markdown",
   "metadata": {},
   "source": [
    "### Comparison of the training and out-of-sample losses:"
   ]
  },
  {
   "cell_type": "code",
   "execution_count": 26,
   "metadata": {},
   "outputs": [
    {
     "data": {
      "text/plain": [
       "\"/Users/anthony/GoogleDrive/Julia/MLJ/MLJFlux/examples/mnist/loss.png\""
      ]
     },
     "execution_count": 26,
     "metadata": {},
     "output_type": "execute_result"
    }
   ],
   "source": [
    "plot(\n",
    "    epochs,\n",
    "    losses,\n",
    "    xlab = \"epoch\",\n",
    "    ylab = \"cross entropy\",\n",
    "    label=\"out-of-sample\",\n",
    ")\n",
    "plot!(epochs, training_losses, label=\"training\")\n",
    "\n",
    "savefig(joinpath(DIR, \"loss.png\"))"
   ]
  },
  {
   "cell_type": "markdown",
   "metadata": {},
   "source": [
    "### Evolution of weights"
   ]
  },
  {
   "cell_type": "code",
   "execution_count": 27,
   "metadata": {},
   "outputs": [
    {
     "data": {
      "image/png": "[encoded data removed]",
      "image/svg+xml": [
       "<?xml version=\"1.0\" encoding=\"utf-8\"?>\n",
       "<svg xmlns=\"http://www.w3.org/2000/svg\" xmlns:xlink=\"http://www.w3.org/1999/xlink\" width=\"600\" height=\"370.75\" viewBox=\"0 0 2400 1483\">\n",
       "<defs>\n",
       "  <clipPath id=\"clip610\">\n",
       "    <rect x=\"0\" y=\"0\" width=\"2400\" height=\"1483\"/>\n",
       "  </clipPath>\n",
       "</defs>\n",
       "<path clip-path=\"url(#clip610)\" d=\"M0 1483 L2400 1483 L2400 -2.27374e-13 L0 -2.27374e-13  Z\" fill=\"#ffffff\" fill-rule=\"evenodd\" fill-opacity=\"1\"/>\n",
       "<defs>\n",
       "  <clipPath id=\"clip611\">\n",
       "    <rect x=\"480\" y=\"0\" width=\"1681\" height=\"1483\"/>\n",
       "  </clipPath>\n",
       "</defs>\n",
       "<path clip-path=\"url(#clip610)\" d=\"M222.871 1313.37 L2352.76 1313.37 L2352.76 119.038 L222.871 119.038  Z\" fill=\"#ffffff\" fill-rule=\"evenodd\" fill-opacity=\"1\"/>\n",
       "<defs>\n",
       "  <clipPath id=\"clip612\">\n",
       "    <rect x=\"222\" y=\"119\" width=\"2131\" height=\"1195\"/>\n",
       "  </clipPath>\n",
       "</defs>\n",
       "<polyline clip-path=\"url(#clip612)\" style=\"stroke:#000000; stroke-linecap:round; stroke-linejoin:round; stroke-width:1.99962; stroke-opacity:0.1; fill:none\" points=\"584.55,1313.37 584.55,119.038 \"/>\n",
       "<polyline clip-path=\"url(#clip612)\" style=\"stroke:#000000; stroke-linecap:round; stroke-linejoin:round; stroke-width:1.99962; stroke-opacity:0.1; fill:none\" points=\"1086.88,1313.37 1086.88,119.038 \"/>\n",
       "<polyline clip-path=\"url(#clip612)\" style=\"stroke:#000000; stroke-linecap:round; stroke-linejoin:round; stroke-width:1.99962; stroke-opacity:0.1; fill:none\" points=\"1589.21,1313.37 1589.21,119.038 \"/>\n",
       "<polyline clip-path=\"url(#clip612)\" style=\"stroke:#000000; stroke-linecap:round; stroke-linejoin:round; stroke-width:1.99962; stroke-opacity:0.1; fill:none\" points=\"2091.54,1313.37 2091.54,119.038 \"/>\n",
       "<polyline clip-path=\"url(#clip610)\" style=\"stroke:#000000; stroke-linecap:round; stroke-linejoin:round; stroke-width:3.99924; stroke-opacity:1; fill:none\" points=\"222.871,1313.37 2352.76,1313.37 \"/>\n",
       "<polyline clip-path=\"url(#clip610)\" style=\"stroke:#000000; stroke-linecap:round; stroke-linejoin:round; stroke-width:3.99924; stroke-opacity:1; fill:none\" points=\"584.55,1313.37 584.55,1294.47 \"/>\n",
       "<polyline clip-path=\"url(#clip610)\" style=\"stroke:#000000; stroke-linecap:round; stroke-linejoin:round; stroke-width:3.99924; stroke-opacity:1; fill:none\" points=\"1086.88,1313.37 1086.88,1294.47 \"/>\n",
       "<polyline clip-path=\"url(#clip610)\" style=\"stroke:#000000; stroke-linecap:round; stroke-linejoin:round; stroke-width:3.99924; stroke-opacity:1; fill:none\" points=\"1589.21,1313.37 1589.21,1294.47 \"/>\n",
       "<polyline clip-path=\"url(#clip610)\" style=\"stroke:#000000; stroke-linecap:round; stroke-linejoin:round; stroke-width:3.99924; stroke-opacity:1; fill:none\" points=\"2091.54,1313.37 2091.54,1294.47 \"/>\n",
       "<path clip-path=\"url(#clip610)\" d=\"M574.827 1341.2 L593.184 1341.2 L593.184 1345.14 L579.11 1345.14 L579.11 1353.61 Q580.128 1353.26 581.147 1353.1 Q582.165 1352.91 583.184 1352.91 Q588.971 1352.91 592.35 1356.08 Q595.73 1359.25 595.73 1364.67 Q595.73 1370.25 592.258 1373.35 Q588.786 1376.43 582.466 1376.43 Q580.29 1376.43 578.022 1376.06 Q575.776 1375.69 573.369 1374.95 L573.369 1370.25 Q575.452 1371.38 577.675 1371.94 Q579.897 1372.49 582.374 1372.49 Q586.378 1372.49 588.716 1370.39 Q591.054 1368.28 591.054 1364.67 Q591.054 1361.06 588.716 1358.95 Q586.378 1356.85 582.374 1356.85 Q580.499 1356.85 578.624 1357.26 Q576.772 1357.68 574.827 1358.56 L574.827 1341.2 Z\" fill=\"#000000\" fill-rule=\"nonzero\" fill-opacity=\"1\" /><path clip-path=\"url(#clip610)\" d=\"M1061.57 1371.82 L1069.21 1371.82 L1069.21 1345.46 L1060.9 1347.13 L1060.9 1342.87 L1069.16 1341.2 L1073.84 1341.2 L1073.84 1371.82 L1081.48 1371.82 L1081.48 1375.76 L1061.57 1375.76 L1061.57 1371.82 Z\" fill=\"#000000\" fill-rule=\"nonzero\" fill-opacity=\"1\" /><path clip-path=\"url(#clip610)\" d=\"M1100.92 1344.28 Q1097.31 1344.28 1095.48 1347.84 Q1093.67 1351.38 1093.67 1358.51 Q1093.67 1365.62 1095.48 1369.18 Q1097.31 1372.72 1100.92 1372.72 Q1104.55 1372.72 1106.36 1369.18 Q1108.19 1365.62 1108.19 1358.51 Q1108.19 1351.38 1106.36 1347.84 Q1104.55 1344.28 1100.92 1344.28 M1100.92 1340.58 Q1106.73 1340.58 1109.79 1345.18 Q1112.86 1349.76 1112.86 1358.51 Q1112.86 1367.24 1109.79 1371.84 Q1106.73 1376.43 1100.92 1376.43 Q1095.11 1376.43 1092.03 1371.84 Q1088.98 1367.24 1088.98 1358.51 Q1088.98 1349.76 1092.03 1345.18 Q1095.11 1340.58 1100.92 1340.58 Z\" fill=\"#000000\" fill-rule=\"nonzero\" fill-opacity=\"1\" /><path clip-path=\"url(#clip610)\" d=\"M1564.4 1371.82 L1572.04 1371.82 L1572.04 1345.46 L1563.73 1347.13 L1563.73 1342.87 L1571.99 1341.2 L1576.67 1341.2 L1576.67 1371.82 L1584.3 1371.82 L1584.3 1375.76 L1564.4 1375.76 L1564.4 1371.82 Z\" fill=\"#000000\" fill-rule=\"nonzero\" fill-opacity=\"1\" /><path clip-path=\"url(#clip610)\" d=\"M1593.8 1341.2 L1612.15 1341.2 L1612.15 1345.14 L1598.08 1345.14 L1598.08 1353.61 Q1599.1 1353.26 1600.11 1353.1 Q1601.13 1352.91 1602.15 1352.91 Q1607.94 1352.91 1611.32 1356.08 Q1614.7 1359.25 1614.7 1364.67 Q1614.7 1370.25 1611.23 1373.35 Q1607.75 1376.43 1601.43 1376.43 Q1599.26 1376.43 1596.99 1376.06 Q1594.74 1375.69 1592.34 1374.95 L1592.34 1370.25 Q1594.42 1371.38 1596.64 1371.94 Q1598.86 1372.49 1601.34 1372.49 Q1605.35 1372.49 1607.68 1370.39 Q1610.02 1368.28 1610.02 1364.67 Q1610.02 1361.06 1607.68 1358.95 Q1605.35 1356.85 1601.34 1356.85 Q1599.47 1356.85 1597.59 1357.26 Q1595.74 1357.68 1593.8 1358.56 L1593.8 1341.2 Z\" fill=\"#000000\" fill-rule=\"nonzero\" fill-opacity=\"1\" /><path clip-path=\"url(#clip610)\" d=\"M2070.32 1371.82 L2086.64 1371.82 L2086.64 1375.76 L2064.69 1375.76 L2064.69 1371.82 Q2067.35 1369.07 2071.94 1364.44 Q2076.54 1359.79 2077.72 1358.44 Q2079.97 1355.92 2080.85 1354.19 Q2081.75 1352.43 2081.75 1350.74 Q2081.75 1347.98 2079.81 1346.25 Q2077.89 1344.51 2074.78 1344.51 Q2072.59 1344.51 2070.13 1345.27 Q2067.7 1346.04 2064.92 1347.59 L2064.92 1342.87 Q2067.75 1341.73 2070.2 1341.16 Q2072.65 1340.58 2074.69 1340.58 Q2080.06 1340.58 2083.26 1343.26 Q2086.45 1345.95 2086.45 1350.44 Q2086.45 1352.57 2085.64 1354.49 Q2084.85 1356.38 2082.75 1358.98 Q2082.17 1359.65 2079.07 1362.86 Q2075.96 1366.06 2070.32 1371.82 Z\" fill=\"#000000\" fill-rule=\"nonzero\" fill-opacity=\"1\" /><path clip-path=\"url(#clip610)\" d=\"M2106.45 1344.28 Q2102.84 1344.28 2101.01 1347.84 Q2099.21 1351.38 2099.21 1358.51 Q2099.21 1365.62 2101.01 1369.18 Q2102.84 1372.72 2106.45 1372.72 Q2110.09 1372.72 2111.89 1369.18 Q2113.72 1365.62 2113.72 1358.51 Q2113.72 1351.38 2111.89 1347.84 Q2110.09 1344.28 2106.45 1344.28 M2106.45 1340.58 Q2112.26 1340.58 2115.32 1345.18 Q2118.4 1349.76 2118.4 1358.51 Q2118.4 1367.24 2115.32 1371.84 Q2112.26 1376.43 2106.45 1376.43 Q2100.64 1376.43 2097.56 1371.84 Q2094.51 1367.24 2094.51 1358.51 Q2094.51 1349.76 2097.56 1345.18 Q2100.64 1340.58 2106.45 1340.58 Z\" fill=\"#000000\" fill-rule=\"nonzero\" fill-opacity=\"1\" /><path clip-path=\"url(#clip610)\" d=\"M1226.16 1438.92 L1226.16 1441.78 L1199.23 1441.78 Q1199.62 1447.83 1202.86 1451.01 Q1206.14 1454.16 1211.97 1454.16 Q1215.34 1454.16 1218.49 1453.33 Q1221.67 1452.51 1224.79 1450.85 L1224.79 1456.39 Q1221.64 1457.73 1218.33 1458.43 Q1215.02 1459.13 1211.62 1459.13 Q1203.09 1459.13 1198.09 1454.16 Q1193.12 1449.2 1193.12 1440.73 Q1193.12 1431.98 1197.83 1426.86 Q1202.58 1421.7 1210.6 1421.7 Q1217.79 1421.7 1221.96 1426.35 Q1226.16 1430.96 1226.16 1438.92 M1220.31 1437.2 Q1220.24 1432.4 1217.6 1429.53 Q1214.99 1426.67 1210.66 1426.67 Q1205.76 1426.67 1202.8 1429.44 Q1199.87 1432.2 1199.43 1437.23 L1220.31 1437.2 Z\" fill=\"#000000\" fill-rule=\"nonzero\" fill-opacity=\"1\" /><path clip-path=\"url(#clip610)\" d=\"M1241.44 1452.86 L1241.44 1471.76 L1235.55 1471.76 L1235.55 1422.56 L1241.44 1422.56 L1241.44 1427.97 Q1243.29 1424.79 1246.09 1423.26 Q1248.92 1421.7 1252.83 1421.7 Q1259.33 1421.7 1263.37 1426.86 Q1267.44 1432.01 1267.44 1440.41 Q1267.44 1448.82 1263.37 1453.97 Q1259.33 1459.13 1252.83 1459.13 Q1248.92 1459.13 1246.09 1457.6 Q1243.29 1456.04 1241.44 1452.86 M1261.36 1440.41 Q1261.36 1433.95 1258.69 1430.3 Q1256.05 1426.6 1251.4 1426.6 Q1246.75 1426.6 1244.08 1430.3 Q1241.44 1433.95 1241.44 1440.41 Q1241.44 1446.87 1244.08 1450.57 Q1246.75 1454.23 1251.4 1454.23 Q1256.05 1454.23 1258.69 1450.57 Q1261.36 1446.87 1261.36 1440.41 Z\" fill=\"#000000\" fill-rule=\"nonzero\" fill-opacity=\"1\" /><path clip-path=\"url(#clip610)\" d=\"M1290.96 1426.67 Q1286.25 1426.67 1283.52 1430.36 Q1280.78 1434.02 1280.78 1440.41 Q1280.78 1446.81 1283.48 1450.5 Q1286.22 1454.16 1290.96 1454.16 Q1295.64 1454.16 1298.38 1450.47 Q1301.12 1446.78 1301.12 1440.41 Q1301.12 1434.08 1298.38 1430.39 Q1295.64 1426.67 1290.96 1426.67 M1290.96 1421.7 Q1298.6 1421.7 1302.96 1426.67 Q1307.32 1431.63 1307.32 1440.41 Q1307.32 1449.17 1302.96 1454.16 Q1298.6 1459.13 1290.96 1459.13 Q1283.29 1459.13 1278.93 1454.16 Q1274.6 1449.17 1274.6 1440.41 Q1274.6 1431.63 1278.93 1426.67 Q1283.29 1421.7 1290.96 1421.7 Z\" fill=\"#000000\" fill-rule=\"nonzero\" fill-opacity=\"1\" /><path clip-path=\"url(#clip610)\" d=\"M1342.69 1423.93 L1342.69 1429.4 Q1340.2 1428.04 1337.69 1427.37 Q1335.21 1426.67 1332.66 1426.67 Q1326.96 1426.67 1323.81 1430.3 Q1320.66 1433.89 1320.66 1440.41 Q1320.66 1446.94 1323.81 1450.57 Q1326.96 1454.16 1332.66 1454.16 Q1335.21 1454.16 1337.69 1453.49 Q1340.2 1452.79 1342.69 1451.43 L1342.69 1456.84 Q1340.24 1457.98 1337.59 1458.55 Q1334.98 1459.13 1332.02 1459.13 Q1323.97 1459.13 1319.23 1454.07 Q1314.49 1449.01 1314.49 1440.41 Q1314.49 1431.7 1319.26 1426.7 Q1324.07 1421.7 1332.41 1421.7 Q1335.11 1421.7 1337.69 1422.28 Q1340.27 1422.82 1342.69 1423.93 Z\" fill=\"#000000\" fill-rule=\"nonzero\" fill-opacity=\"1\" /><path clip-path=\"url(#clip610)\" d=\"M1382.5 1436.69 L1382.5 1458.2 L1376.65 1458.2 L1376.65 1436.88 Q1376.65 1431.82 1374.67 1429.31 Q1372.7 1426.79 1368.75 1426.79 Q1364.01 1426.79 1361.27 1429.82 Q1358.54 1432.84 1358.54 1438.06 L1358.54 1458.2 L1352.65 1458.2 L1352.65 1408.69 L1358.54 1408.69 L1358.54 1428.1 Q1360.64 1424.89 1363.47 1423.29 Q1366.33 1421.7 1370.06 1421.7 Q1376.2 1421.7 1379.35 1425.52 Q1382.5 1429.31 1382.5 1436.69 Z\" fill=\"#000000\" fill-rule=\"nonzero\" fill-opacity=\"1\" /><polyline clip-path=\"url(#clip612)\" style=\"stroke:#000000; stroke-linecap:round; stroke-linejoin:round; stroke-width:1.99962; stroke-opacity:0.1; fill:none\" points=\"222.871,1251.4 2352.76,1251.4 \"/>\n",
       "<polyline clip-path=\"url(#clip612)\" style=\"stroke:#000000; stroke-linecap:round; stroke-linejoin:round; stroke-width:1.99962; stroke-opacity:0.1; fill:none\" points=\"222.871,1062.42 2352.76,1062.42 \"/>\n",
       "<polyline clip-path=\"url(#clip612)\" style=\"stroke:#000000; stroke-linecap:round; stroke-linejoin:round; stroke-width:1.99962; stroke-opacity:0.1; fill:none\" points=\"222.871,873.44 2352.76,873.44 \"/>\n",
       "<polyline clip-path=\"url(#clip612)\" style=\"stroke:#000000; stroke-linecap:round; stroke-linejoin:round; stroke-width:1.99962; stroke-opacity:0.1; fill:none\" points=\"222.871,684.46 2352.76,684.46 \"/>\n",
       "<polyline clip-path=\"url(#clip612)\" style=\"stroke:#000000; stroke-linecap:round; stroke-linejoin:round; stroke-width:1.99962; stroke-opacity:0.1; fill:none\" points=\"222.871,495.481 2352.76,495.481 \"/>\n",
       "<polyline clip-path=\"url(#clip612)\" style=\"stroke:#000000; stroke-linecap:round; stroke-linejoin:round; stroke-width:1.99962; stroke-opacity:0.1; fill:none\" points=\"222.871,306.501 2352.76,306.501 \"/>\n",
       "<polyline clip-path=\"url(#clip610)\" style=\"stroke:#000000; stroke-linecap:round; stroke-linejoin:round; stroke-width:3.99924; stroke-opacity:1; fill:none\" points=\"222.871,1313.37 222.871,119.038 \"/>\n",
       "<polyline clip-path=\"url(#clip610)\" style=\"stroke:#000000; stroke-linecap:round; stroke-linejoin:round; stroke-width:3.99924; stroke-opacity:1; fill:none\" points=\"222.871,1251.4 241.769,1251.4 \"/>\n",
       "<polyline clip-path=\"url(#clip610)\" style=\"stroke:#000000; stroke-linecap:round; stroke-linejoin:round; stroke-width:3.99924; stroke-opacity:1; fill:none\" points=\"222.871,1062.42 241.769,1062.42 \"/>\n",
       "<polyline clip-path=\"url(#clip610)\" style=\"stroke:#000000; stroke-linecap:round; stroke-linejoin:round; stroke-width:3.99924; stroke-opacity:1; fill:none\" points=\"222.871,873.44 241.769,873.44 \"/>\n",
       "<polyline clip-path=\"url(#clip610)\" style=\"stroke:#000000; stroke-linecap:round; stroke-linejoin:round; stroke-width:3.99924; stroke-opacity:1; fill:none\" points=\"222.871,684.46 241.769,684.46 \"/>\n",
       "<polyline clip-path=\"url(#clip610)\" style=\"stroke:#000000; stroke-linecap:round; stroke-linejoin:round; stroke-width:3.99924; stroke-opacity:1; fill:none\" points=\"222.871,495.481 241.769,495.481 \"/>\n",
       "<polyline clip-path=\"url(#clip610)\" style=\"stroke:#000000; stroke-linecap:round; stroke-linejoin:round; stroke-width:3.99924; stroke-opacity:1; fill:none\" points=\"222.871,306.501 241.769,306.501 \"/>\n",
       "<path clip-path=\"url(#clip610)\" d=\"M50.9921 1251.85 L80.6679 1251.85 L80.6679 1255.79 L50.9921 1255.79 L50.9921 1251.85 Z\" fill=\"#000000\" fill-rule=\"nonzero\" fill-opacity=\"1\" /><path clip-path=\"url(#clip610)\" d=\"M100.76 1237.2 Q97.1493 1237.2 95.3206 1240.76 Q93.515 1244.31 93.515 1251.43 Q93.515 1258.54 95.3206 1262.1 Q97.1493 1265.64 100.76 1265.64 Q104.395 1265.64 106.2 1262.1 Q108.029 1258.54 108.029 1251.43 Q108.029 1244.31 106.2 1240.76 Q104.395 1237.2 100.76 1237.2 M100.76 1233.5 Q106.571 1233.5 109.626 1238.1 Q112.705 1242.69 112.705 1251.43 Q112.705 1260.16 109.626 1264.76 Q106.571 1269.35 100.76 1269.35 Q94.9502 1269.35 91.8715 1264.76 Q88.816 1260.16 88.816 1251.43 Q88.816 1242.69 91.8715 1238.1 Q94.9502 1233.5 100.76 1233.5 Z\" fill=\"#000000\" fill-rule=\"nonzero\" fill-opacity=\"1\" /><path clip-path=\"url(#clip610)\" d=\"M120.922 1262.8 L125.807 1262.8 L125.807 1268.68 L120.922 1268.68 L120.922 1262.8 Z\" fill=\"#000000\" fill-rule=\"nonzero\" fill-opacity=\"1\" /><path clip-path=\"url(#clip610)\" d=\"M145.992 1237.2 Q142.381 1237.2 140.552 1240.76 Q138.746 1244.31 138.746 1251.43 Q138.746 1258.54 140.552 1262.1 Q142.381 1265.64 145.992 1265.64 Q149.626 1265.64 151.431 1262.1 Q153.26 1258.54 153.26 1251.43 Q153.26 1244.31 151.431 1240.76 Q149.626 1237.2 145.992 1237.2 M145.992 1233.5 Q151.802 1233.5 154.857 1238.1 Q157.936 1242.69 157.936 1251.43 Q157.936 1260.16 154.857 1264.76 Q151.802 1269.35 145.992 1269.35 Q140.181 1269.35 137.103 1264.76 Q134.047 1260.16 134.047 1251.43 Q134.047 1242.69 137.103 1238.1 Q140.181 1233.5 145.992 1233.5 Z\" fill=\"#000000\" fill-rule=\"nonzero\" fill-opacity=\"1\" /><path clip-path=\"url(#clip610)\" d=\"M166.964 1264.74 L174.603 1264.74 L174.603 1238.38 L166.292 1240.05 L166.292 1235.79 L174.556 1234.12 L179.232 1234.12 L179.232 1264.74 L186.871 1264.74 L186.871 1268.68 L166.964 1268.68 L166.964 1264.74 Z\" fill=\"#000000\" fill-rule=\"nonzero\" fill-opacity=\"1\" /><path clip-path=\"url(#clip610)\" d=\"M99.5335 1048.22 Q95.9224 1048.22 94.0937 1051.79 Q92.2882 1055.33 92.2882 1062.45 Q92.2882 1069.56 94.0937 1073.12 Q95.9224 1076.66 99.5335 1076.66 Q103.168 1076.66 104.973 1073.12 Q106.802 1069.56 106.802 1062.45 Q106.802 1055.33 104.973 1051.79 Q103.168 1048.22 99.5335 1048.22 M99.5335 1044.52 Q105.344 1044.52 108.399 1049.12 Q111.478 1053.71 111.478 1062.45 Q111.478 1071.18 108.399 1075.79 Q105.344 1080.37 99.5335 1080.37 Q93.7234 1080.37 90.6447 1075.79 Q87.5892 1071.18 87.5892 1062.45 Q87.5892 1053.71 90.6447 1049.12 Q93.7234 1044.52 99.5335 1044.52 Z\" fill=\"#000000\" fill-rule=\"nonzero\" fill-opacity=\"1\" /><path clip-path=\"url(#clip610)\" d=\"M119.695 1073.82 L124.58 1073.82 L124.58 1079.7 L119.695 1079.7 L119.695 1073.82 Z\" fill=\"#000000\" fill-rule=\"nonzero\" fill-opacity=\"1\" /><path clip-path=\"url(#clip610)\" d=\"M144.765 1048.22 Q141.154 1048.22 139.325 1051.79 Q137.519 1055.33 137.519 1062.45 Q137.519 1069.56 139.325 1073.12 Q141.154 1076.66 144.765 1076.66 Q148.399 1076.66 150.205 1073.12 Q152.033 1069.56 152.033 1062.45 Q152.033 1055.33 150.205 1051.79 Q148.399 1048.22 144.765 1048.22 M144.765 1044.52 Q150.575 1044.52 153.63 1049.12 Q156.709 1053.71 156.709 1062.45 Q156.709 1071.18 153.63 1075.79 Q150.575 1080.37 144.765 1080.37 Q138.955 1080.37 135.876 1075.79 Q132.82 1071.18 132.82 1062.45 Q132.82 1053.71 135.876 1049.12 Q138.955 1044.52 144.765 1044.52 Z\" fill=\"#000000\" fill-rule=\"nonzero\" fill-opacity=\"1\" /><path clip-path=\"url(#clip610)\" d=\"M174.927 1048.22 Q171.316 1048.22 169.487 1051.79 Q167.681 1055.33 167.681 1062.45 Q167.681 1069.56 169.487 1073.12 Q171.316 1076.66 174.927 1076.66 Q178.561 1076.66 180.366 1073.12 Q182.195 1069.56 182.195 1062.45 Q182.195 1055.33 180.366 1051.79 Q178.561 1048.22 174.927 1048.22 M174.927 1044.52 Q180.737 1044.52 183.792 1049.12 Q186.871 1053.71 186.871 1062.45 Q186.871 1071.18 183.792 1075.79 Q180.737 1080.37 174.927 1080.37 Q169.116 1080.37 166.038 1075.79 Q162.982 1071.18 162.982 1062.45 Q162.982 1053.71 166.038 1049.12 Q169.116 1044.52 174.927 1044.52 Z\" fill=\"#000000\" fill-rule=\"nonzero\" fill-opacity=\"1\" /><path clip-path=\"url(#clip610)\" d=\"M100.76 859.241 Q97.1493 859.241 95.3206 862.806 Q93.515 866.347 93.515 873.475 Q93.515 880.58 95.3206 884.144 Q97.1493 887.685 100.76 887.685 Q104.395 887.685 106.2 884.144 Q108.029 880.58 108.029 873.475 Q108.029 866.347 106.2 862.806 Q104.395 859.241 100.76 859.241 M100.76 855.539 Q106.571 855.539 109.626 860.144 Q112.705 864.727 112.705 873.475 Q112.705 882.2 109.626 886.806 Q106.571 891.388 100.76 891.388 Q94.9502 891.388 91.8715 886.806 Q88.816 882.2 88.816 873.475 Q88.816 864.727 91.8715 860.144 Q94.9502 855.539 100.76 855.539 Z\" fill=\"#000000\" fill-rule=\"nonzero\" fill-opacity=\"1\" /><path clip-path=\"url(#clip610)\" d=\"M120.922 884.838 L125.807 884.838 L125.807 890.717 L120.922 890.717 L120.922 884.838 Z\" fill=\"#000000\" fill-rule=\"nonzero\" fill-opacity=\"1\" /><path clip-path=\"url(#clip610)\" d=\"M145.992 859.241 Q142.381 859.241 140.552 862.806 Q138.746 866.347 138.746 873.475 Q138.746 880.58 140.552 884.144 Q142.381 887.685 145.992 887.685 Q149.626 887.685 151.431 884.144 Q153.26 880.58 153.26 873.475 Q153.26 866.347 151.431 862.806 Q149.626 859.241 145.992 859.241 M145.992 855.539 Q151.802 855.539 154.857 860.144 Q157.936 864.727 157.936 873.475 Q157.936 882.2 154.857 886.806 Q151.802 891.388 145.992 891.388 Q140.181 891.388 137.103 886.806 Q134.047 882.2 134.047 873.475 Q134.047 864.727 137.103 860.144 Q140.181 855.539 145.992 855.539 Z\" fill=\"#000000\" fill-rule=\"nonzero\" fill-opacity=\"1\" /><path clip-path=\"url(#clip610)\" d=\"M166.964 886.782 L174.603 886.782 L174.603 860.422 L166.292 862.088 L166.292 857.83 L174.556 856.163 L179.232 856.163 L179.232 886.782 L186.871 886.782 L186.871 890.717 L166.964 890.717 L166.964 886.782 Z\" fill=\"#000000\" fill-rule=\"nonzero\" fill-opacity=\"1\" /><path clip-path=\"url(#clip610)\" d=\"M101.131 670.262 Q97.5197 670.262 95.691 673.826 Q93.8854 677.367 93.8854 684.495 Q93.8854 691.6 95.691 695.164 Q97.5197 698.705 101.131 698.705 Q104.765 698.705 106.571 695.164 Q108.399 691.6 108.399 684.495 Q108.399 677.367 106.571 673.826 Q104.765 670.262 101.131 670.262 M101.131 666.559 Q106.941 666.559 109.996 671.164 Q113.075 675.747 113.075 684.495 Q113.075 693.22 109.996 697.826 Q106.941 702.408 101.131 702.408 Q95.3206 702.408 92.2419 697.826 Q89.1864 693.22 89.1864 684.495 Q89.1864 675.747 92.2419 671.164 Q95.3206 666.559 101.131 666.559 Z\" fill=\"#000000\" fill-rule=\"nonzero\" fill-opacity=\"1\" /><path clip-path=\"url(#clip610)\" d=\"M121.293 695.859 L126.177 695.859 L126.177 701.737 L121.293 701.737 L121.293 695.859 Z\" fill=\"#000000\" fill-rule=\"nonzero\" fill-opacity=\"1\" /><path clip-path=\"url(#clip610)\" d=\"M146.362 670.262 Q142.751 670.262 140.922 673.826 Q139.117 677.367 139.117 684.495 Q139.117 691.6 140.922 695.164 Q142.751 698.705 146.362 698.705 Q149.996 698.705 151.802 695.164 Q153.63 691.6 153.63 684.495 Q153.63 677.367 151.802 673.826 Q149.996 670.262 146.362 670.262 M146.362 666.559 Q152.172 666.559 155.228 671.164 Q158.306 675.747 158.306 684.495 Q158.306 693.22 155.228 697.826 Q152.172 702.408 146.362 702.408 Q140.552 702.408 137.473 697.826 Q134.418 693.22 134.418 684.495 Q134.418 675.747 137.473 671.164 Q140.552 666.559 146.362 666.559 Z\" fill=\"#000000\" fill-rule=\"nonzero\" fill-opacity=\"1\" /><path clip-path=\"url(#clip610)\" d=\"M170.552 697.803 L186.871 697.803 L186.871 701.737 L164.927 701.737 L164.927 697.803 Q167.589 695.049 172.172 690.42 Q176.778 685.768 177.959 684.426 Q180.204 681.903 181.084 680.167 Q181.987 678.408 181.987 676.719 Q181.987 673.965 180.042 672.229 Q178.121 670.493 175.019 670.493 Q172.82 670.493 170.366 671.257 Q167.936 672.021 165.158 673.571 L165.158 668.85 Q167.982 667.716 170.436 667.137 Q172.89 666.559 174.927 666.559 Q180.297 666.559 183.491 669.244 Q186.686 671.928 186.686 676.418 Q186.686 678.547 185.876 680.468 Q185.089 682.366 182.982 684.958 Q182.403 685.629 179.302 688.846 Q176.2 692.04 170.552 697.803 Z\" fill=\"#000000\" fill-rule=\"nonzero\" fill-opacity=\"1\" /><path clip-path=\"url(#clip610)\" d=\"M100.182 481.282 Q96.5706 481.282 94.7419 484.846 Q92.9363 488.387 92.9363 495.516 Q92.9363 502.621 94.7419 506.185 Q96.5706 509.726 100.182 509.726 Q103.816 509.726 105.621 506.185 Q107.45 502.621 107.45 495.516 Q107.45 488.387 105.621 484.846 Q103.816 481.282 100.182 481.282 M100.182 477.579 Q105.992 477.579 109.047 482.185 Q112.126 486.767 112.126 495.516 Q112.126 504.241 109.047 508.846 Q105.992 513.429 100.182 513.429 Q94.3715 513.429 91.2928 508.846 Q88.2373 504.241 88.2373 495.516 Q88.2373 486.767 91.2928 482.185 Q94.3715 477.579 100.182 477.579 Z\" fill=\"#000000\" fill-rule=\"nonzero\" fill-opacity=\"1\" /><path clip-path=\"url(#clip610)\" d=\"M120.344 506.879 L125.228 506.879 L125.228 512.758 L120.344 512.758 L120.344 506.879 Z\" fill=\"#000000\" fill-rule=\"nonzero\" fill-opacity=\"1\" /><path clip-path=\"url(#clip610)\" d=\"M145.413 481.282 Q141.802 481.282 139.973 484.846 Q138.168 488.387 138.168 495.516 Q138.168 502.621 139.973 506.185 Q141.802 509.726 145.413 509.726 Q149.047 509.726 150.853 506.185 Q152.681 502.621 152.681 495.516 Q152.681 488.387 150.853 484.846 Q149.047 481.282 145.413 481.282 M145.413 477.579 Q151.223 477.579 154.279 482.185 Q157.357 486.767 157.357 495.516 Q157.357 504.241 154.279 508.846 Q151.223 513.429 145.413 513.429 Q139.603 513.429 136.524 508.846 Q133.469 504.241 133.469 495.516 Q133.469 486.767 136.524 482.185 Q139.603 477.579 145.413 477.579 Z\" fill=\"#000000\" fill-rule=\"nonzero\" fill-opacity=\"1\" /><path clip-path=\"url(#clip610)\" d=\"M179.741 494.127 Q183.098 494.844 184.973 497.112 Q186.871 499.381 186.871 502.713 Q186.871 507.828 183.353 510.628 Q179.834 513.429 173.353 513.429 Q171.177 513.429 168.862 512.989 Q166.57 512.572 164.117 511.716 L164.117 507.203 Q166.061 508.337 168.376 508.916 Q170.691 509.494 173.214 509.494 Q177.612 509.494 179.903 507.759 Q182.218 506.023 182.218 502.713 Q182.218 499.658 180.066 497.946 Q177.936 496.21 174.116 496.21 L170.089 496.21 L170.089 492.368 L174.302 492.368 Q177.751 492.368 179.579 491.003 Q181.408 489.614 181.408 487.022 Q181.408 484.36 179.51 482.949 Q177.635 481.514 174.116 481.514 Q172.195 481.514 169.996 481.93 Q167.797 482.347 165.158 483.226 L165.158 479.06 Q167.82 478.32 170.135 477.95 Q172.473 477.579 174.533 477.579 Q179.857 477.579 182.959 480.009 Q186.061 482.416 186.061 486.536 Q186.061 489.406 184.417 491.396 Q182.774 493.363 179.741 494.127 Z\" fill=\"#000000\" fill-rule=\"nonzero\" fill-opacity=\"1\" /><path clip-path=\"url(#clip610)\" d=\"M99.0474 292.303 Q95.4363 292.303 93.6076 295.867 Q91.8021 299.408 91.8021 306.536 Q91.8021 313.641 93.6076 317.205 Q95.4363 320.746 99.0474 320.746 Q102.682 320.746 104.487 317.205 Q106.316 313.641 106.316 306.536 Q106.316 299.408 104.487 295.867 Q102.682 292.303 99.0474 292.303 M99.0474 288.6 Q104.858 288.6 107.913 293.205 Q110.992 297.788 110.992 306.536 Q110.992 315.261 107.913 319.867 Q104.858 324.449 99.0474 324.449 Q93.2373 324.449 90.1586 319.867 Q87.103 315.261 87.103 306.536 Q87.103 297.788 90.1586 293.205 Q93.2373 288.6 99.0474 288.6 Z\" fill=\"#000000\" fill-rule=\"nonzero\" fill-opacity=\"1\" /><path clip-path=\"url(#clip610)\" d=\"M119.209 317.899 L124.094 317.899 L124.094 323.778 L119.209 323.778 L119.209 317.899 Z\" fill=\"#000000\" fill-rule=\"nonzero\" fill-opacity=\"1\" /><path clip-path=\"url(#clip610)\" d=\"M144.279 292.303 Q140.668 292.303 138.839 295.867 Q137.033 299.408 137.033 306.536 Q137.033 313.641 138.839 317.205 Q140.668 320.746 144.279 320.746 Q147.913 320.746 149.718 317.205 Q151.547 313.641 151.547 306.536 Q151.547 299.408 149.718 295.867 Q147.913 292.303 144.279 292.303 M144.279 288.6 Q150.089 288.6 153.144 293.205 Q156.223 297.788 156.223 306.536 Q156.223 315.261 153.144 319.867 Q150.089 324.449 144.279 324.449 Q138.469 324.449 135.39 319.867 Q132.334 315.261 132.334 306.536 Q132.334 297.788 135.39 293.205 Q138.469 288.6 144.279 288.6 Z\" fill=\"#000000\" fill-rule=\"nonzero\" fill-opacity=\"1\" /><path clip-path=\"url(#clip610)\" d=\"M177.288 293.298 L165.482 311.743 L177.288 311.743 L177.288 293.298 M176.061 289.224 L181.94 289.224 L181.94 311.743 L186.871 311.743 L186.871 315.631 L181.94 315.631 L181.94 323.778 L177.288 323.778 L177.288 315.631 L161.686 315.631 L161.686 311.118 L176.061 289.224 Z\" fill=\"#000000\" fill-rule=\"nonzero\" fill-opacity=\"1\" /><path clip-path=\"url(#clip610)\" d=\"M670.03 12.0937 L704.787 12.0937 L704.787 18.9789 L678.213 18.9789 L678.213 36.7995 L702.194 36.7995 L702.194 43.6848 L678.213 43.6848 L678.213 72.5622 L670.03 72.5622 L670.03 12.0937 Z\" fill=\"#000000\" fill-rule=\"nonzero\" fill-opacity=\"1\" /><path clip-path=\"url(#clip610)\" d=\"M717.426 9.54212 L724.88 9.54212 L724.88 72.5622 L717.426 72.5622 L717.426 9.54212 Z\" fill=\"#000000\" fill-rule=\"nonzero\" fill-opacity=\"1\" /><path clip-path=\"url(#clip610)\" d=\"M739.706 54.6606 L739.706 27.2007 L747.16 27.2007 L747.16 54.3771 Q747.16 60.8168 749.671 64.0569 Q752.183 67.2565 757.206 67.2565 Q763.242 67.2565 766.725 63.4089 Q770.25 59.5613 770.25 52.9191 L770.25 27.2007 L777.703 27.2007 L777.703 72.5622 L770.25 72.5622 L770.25 65.596 Q767.536 69.7271 763.93 71.7522 Q760.365 73.7368 755.626 73.7368 Q747.808 73.7368 743.757 68.8766 Q739.706 64.0164 739.706 54.6606 M758.462 26.1072 L758.462 26.1072 Z\" fill=\"#000000\" fill-rule=\"nonzero\" fill-opacity=\"1\" /><path clip-path=\"url(#clip610)\" d=\"M830.77 27.2007 L814.364 49.2739 L831.621 72.5622 L822.83 72.5622 L809.624 54.7416 L796.419 72.5622 L787.628 72.5622 L805.25 48.8284 L789.127 27.2007 L797.917 27.2007 L809.949 43.3607 L821.98 27.2007 L830.77 27.2007 Z\" fill=\"#000000\" fill-rule=\"nonzero\" fill-opacity=\"1\" /><path clip-path=\"url(#clip610)\" d=\"M875.735 65.758 L875.735 89.8158 L868.241 89.8158 L868.241 27.2007 L875.735 27.2007 L875.735 34.0859 Q878.085 30.0358 881.65 28.0917 Q885.255 26.1072 890.237 26.1072 Q898.501 26.1072 903.646 32.6684 Q908.831 39.2296 908.831 49.922 Q908.831 60.6143 903.646 67.1755 Q898.501 73.7368 890.237 73.7368 Q885.255 73.7368 881.65 71.7927 Q878.085 69.8081 875.735 65.758 M901.094 49.922 Q901.094 41.7002 897.691 37.0425 Q894.329 32.3444 888.415 32.3444 Q882.5 32.3444 879.097 37.0425 Q875.735 41.7002 875.735 49.922 Q875.735 58.1437 879.097 62.8419 Q882.5 67.4996 888.415 67.4996 Q894.329 67.4996 897.691 62.8419 Q901.094 58.1437 901.094 49.922 Z\" fill=\"#000000\" fill-rule=\"nonzero\" fill-opacity=\"1\" /><path clip-path=\"url(#clip610)\" d=\"M941.805 49.76 Q932.772 49.76 929.288 51.8255 Q925.804 53.8911 925.804 58.8728 Q925.804 62.8419 928.397 65.191 Q931.03 67.4996 935.527 67.4996 Q941.724 67.4996 945.451 63.1254 Q949.219 58.7108 949.219 51.4205 L949.219 49.76 L941.805 49.76 M956.672 46.6819 L956.672 72.5622 L949.219 72.5622 L949.219 65.677 Q946.667 69.8081 942.859 71.7927 Q939.051 73.7368 933.542 73.7368 Q926.574 73.7368 922.442 69.8486 Q918.351 65.92 918.351 59.3588 Q918.351 51.704 923.455 47.8159 Q928.6 43.9278 938.767 43.9278 L949.219 43.9278 L949.219 43.1987 Q949.219 38.0551 945.816 35.2605 Q942.454 32.4254 936.337 32.4254 Q932.448 32.4254 928.762 33.3569 Q925.075 34.2884 921.672 36.1515 L921.672 29.2663 Q925.764 27.6867 929.612 26.9172 Q933.461 26.1072 937.106 26.1072 Q946.95 26.1072 951.811 31.2103 Q956.672 36.3135 956.672 46.6819 Z\" fill=\"#000000\" fill-rule=\"nonzero\" fill-opacity=\"1\" /><path clip-path=\"url(#clip610)\" d=\"M998.316 34.1669 Q997.06 33.4379 995.561 33.1139 Q994.103 32.7494 992.32 32.7494 Q986.001 32.7494 982.598 36.8805 Q979.236 40.9712 979.236 48.6664 L979.236 72.5622 L971.742 72.5622 L971.742 27.2007 L979.236 27.2007 L979.236 34.2479 Q981.585 30.1168 985.353 28.1322 Q989.12 26.1072 994.508 26.1072 Q995.277 26.1072 996.209 26.2287 Q997.141 26.3097 998.275 26.5122 L998.316 34.1669 Z\" fill=\"#000000\" fill-rule=\"nonzero\" fill-opacity=\"1\" /><path clip-path=\"url(#clip610)\" d=\"M1026.75 49.76 Q1017.72 49.76 1014.24 51.8255 Q1010.75 53.8911 1010.75 58.8728 Q1010.75 62.8419 1013.34 65.191 Q1015.98 67.4996 1020.47 67.4996 Q1026.67 67.4996 1030.4 63.1254 Q1034.17 58.7108 1034.17 51.4205 L1034.17 49.76 L1026.75 49.76 M1041.62 46.6819 L1041.62 72.5622 L1034.17 72.5622 L1034.17 65.677 Q1031.61 69.8081 1027.81 71.7927 Q1024 73.7368 1018.49 73.7368 Q1011.52 73.7368 1007.39 69.8486 Q1003.3 65.92 1003.3 59.3588 Q1003.3 51.704 1008.4 47.8159 Q1013.55 43.9278 1023.71 43.9278 L1034.17 43.9278 L1034.17 43.1987 Q1034.17 38.0551 1030.76 35.2605 Q1027.4 32.4254 1021.28 32.4254 Q1017.4 32.4254 1013.71 33.3569 Q1010.02 34.2884 1006.62 36.1515 L1006.62 29.2663 Q1010.71 27.6867 1014.56 26.9172 Q1018.41 26.1072 1022.05 26.1072 Q1031.9 26.1072 1036.76 31.2103 Q1041.62 36.3135 1041.62 46.6819 Z\" fill=\"#000000\" fill-rule=\"nonzero\" fill-opacity=\"1\" /><path clip-path=\"url(#clip610)\" d=\"M1092.3 35.9085 Q1095.09 30.8863 1098.98 28.4968 Q1102.87 26.1072 1108.14 26.1072 Q1115.22 26.1072 1119.07 31.0888 Q1122.92 36.03 1122.92 45.1833 L1122.92 72.5622 L1115.43 72.5622 L1115.43 45.4263 Q1115.43 38.9056 1113.12 35.7465 Q1110.81 32.5874 1106.07 32.5874 Q1100.28 32.5874 1096.91 36.435 Q1093.55 40.2826 1093.55 46.9249 L1093.55 72.5622 L1086.06 72.5622 L1086.06 45.4263 Q1086.06 38.8651 1083.75 35.7465 Q1081.44 32.5874 1076.62 32.5874 Q1070.91 32.5874 1067.55 36.4755 Q1064.18 40.3231 1064.18 46.9249 L1064.18 72.5622 L1056.69 72.5622 L1056.69 27.2007 L1064.18 27.2007 L1064.18 34.2479 Q1066.74 30.0763 1070.3 28.0917 Q1073.86 26.1072 1078.77 26.1072 Q1083.71 26.1072 1087.15 28.6183 Q1090.64 31.1293 1092.3 35.9085 Z\" fill=\"#000000\" fill-rule=\"nonzero\" fill-opacity=\"1\" /><path clip-path=\"url(#clip610)\" d=\"M1176.6 48.0184 L1176.6 51.6635 L1142.33 51.6635 Q1142.81 59.3588 1146.94 63.4089 Q1151.12 67.4186 1158.53 67.4186 Q1162.82 67.4186 1166.83 66.3655 Q1170.88 65.3125 1174.85 63.2064 L1174.85 70.2536 Q1170.84 71.9547 1166.63 72.8457 Q1162.42 73.7368 1158.08 73.7368 Q1147.23 73.7368 1140.87 67.4186 Q1134.55 61.1003 1134.55 50.327 Q1134.55 39.1891 1140.54 32.6684 Q1146.58 26.1072 1156.79 26.1072 Q1165.94 26.1072 1171.25 32.0204 Q1176.6 37.8931 1176.6 48.0184 M1169.14 45.8313 Q1169.06 39.7156 1165.7 36.0705 Q1162.38 32.4254 1156.87 32.4254 Q1150.63 32.4254 1146.86 35.949 Q1143.14 39.4726 1142.57 45.8718 L1169.14 45.8313 Z\" fill=\"#000000\" fill-rule=\"nonzero\" fill-opacity=\"1\" /><path clip-path=\"url(#clip610)\" d=\"M1196.2 14.3213 L1196.2 27.2007 L1211.56 27.2007 L1211.56 32.9924 L1196.2 32.9924 L1196.2 57.6172 Q1196.2 63.1659 1197.7 64.7455 Q1199.24 66.325 1203.9 66.325 L1211.56 66.325 L1211.56 72.5622 L1203.9 72.5622 Q1195.27 72.5622 1191.99 69.3626 Q1188.71 66.1225 1188.71 57.6172 L1188.71 32.9924 L1183.24 32.9924 L1183.24 27.2007 L1188.71 27.2007 L1188.71 14.3213 L1196.2 14.3213 Z\" fill=\"#000000\" fill-rule=\"nonzero\" fill-opacity=\"1\" /><path clip-path=\"url(#clip610)\" d=\"M1260.17 48.0184 L1260.17 51.6635 L1225.9 51.6635 Q1226.38 59.3588 1230.51 63.4089 Q1234.69 67.4186 1242.1 67.4186 Q1246.39 67.4186 1250.4 66.3655 Q1254.45 65.3125 1258.42 63.2064 L1258.42 70.2536 Q1254.41 71.9547 1250.2 72.8457 Q1245.99 73.7368 1241.65 73.7368 Q1230.8 73.7368 1224.44 67.4186 Q1218.12 61.1003 1218.12 50.327 Q1218.12 39.1891 1224.11 32.6684 Q1230.15 26.1072 1240.36 26.1072 Q1249.51 26.1072 1254.82 32.0204 Q1260.17 37.8931 1260.17 48.0184 M1252.71 45.8313 Q1252.63 39.7156 1249.27 36.0705 Q1245.95 32.4254 1240.44 32.4254 Q1234.2 32.4254 1230.43 35.949 Q1226.71 39.4726 1226.14 45.8718 L1252.71 45.8313 Z\" fill=\"#000000\" fill-rule=\"nonzero\" fill-opacity=\"1\" /><path clip-path=\"url(#clip610)\" d=\"M1298.69 34.1669 Q1297.43 33.4379 1295.94 33.1139 Q1294.48 32.7494 1292.69 32.7494 Q1286.38 32.7494 1282.97 36.8805 Q1279.61 40.9712 1279.61 48.6664 L1279.61 72.5622 L1272.12 72.5622 L1272.12 27.2007 L1279.61 27.2007 L1279.61 34.2479 Q1281.96 30.1168 1285.73 28.1322 Q1289.49 26.1072 1294.88 26.1072 Q1295.65 26.1072 1296.58 26.2287 Q1297.52 26.3097 1298.65 26.5122 L1298.69 34.1669 Z\" fill=\"#000000\" fill-rule=\"nonzero\" fill-opacity=\"1\" /><path clip-path=\"url(#clip610)\" d=\"M1368.2 35.9085 Q1371 30.8863 1374.89 28.4968 Q1378.78 26.1072 1384.04 26.1072 Q1391.13 26.1072 1394.98 31.0888 Q1398.83 36.03 1398.83 45.1833 L1398.83 72.5622 L1391.33 72.5622 L1391.33 45.4263 Q1391.33 38.9056 1389.03 35.7465 Q1386.72 32.5874 1381.98 32.5874 Q1376.18 32.5874 1372.82 36.435 Q1369.46 40.2826 1369.46 46.9249 L1369.46 72.5622 L1361.97 72.5622 L1361.97 45.4263 Q1361.97 38.8651 1359.66 35.7465 Q1357.35 32.5874 1352.53 32.5874 Q1346.81 32.5874 1343.45 36.4755 Q1340.09 40.3231 1340.09 46.9249 L1340.09 72.5622 L1332.6 72.5622 L1332.6 27.2007 L1340.09 27.2007 L1340.09 34.2479 Q1342.64 30.0763 1346.21 28.0917 Q1349.77 26.1072 1354.67 26.1072 Q1359.62 26.1072 1363.06 28.6183 Q1366.54 31.1293 1368.2 35.9085 Z\" fill=\"#000000\" fill-rule=\"nonzero\" fill-opacity=\"1\" /><path clip-path=\"url(#clip610)\" d=\"M1452.5 48.0184 L1452.5 51.6635 L1418.23 51.6635 Q1418.72 59.3588 1422.85 63.4089 Q1427.02 67.4186 1434.44 67.4186 Q1438.73 67.4186 1442.74 66.3655 Q1446.79 65.3125 1450.76 63.2064 L1450.76 70.2536 Q1446.75 71.9547 1442.54 72.8457 Q1438.32 73.7368 1433.99 73.7368 Q1423.13 73.7368 1416.77 67.4186 Q1410.45 61.1003 1410.45 50.327 Q1410.45 39.1891 1416.45 32.6684 Q1422.49 26.1072 1432.69 26.1072 Q1441.85 26.1072 1447.16 32.0204 Q1452.5 37.8931 1452.5 48.0184 M1445.05 45.8313 Q1444.97 39.7156 1441.61 36.0705 Q1438.28 32.4254 1432.78 32.4254 Q1426.54 32.4254 1422.77 35.949 Q1419.04 39.4726 1418.48 45.8718 L1445.05 45.8313 Z\" fill=\"#000000\" fill-rule=\"nonzero\" fill-opacity=\"1\" /><path clip-path=\"url(#clip610)\" d=\"M1485.36 49.76 Q1476.32 49.76 1472.84 51.8255 Q1469.35 53.8911 1469.35 58.8728 Q1469.35 62.8419 1471.95 65.191 Q1474.58 67.4996 1479.08 67.4996 Q1485.27 67.4996 1489 63.1254 Q1492.77 58.7108 1492.77 51.4205 L1492.77 49.76 L1485.36 49.76 M1500.22 46.6819 L1500.22 72.5622 L1492.77 72.5622 L1492.77 65.677 Q1490.22 69.8081 1486.41 71.7927 Q1482.6 73.7368 1477.09 73.7368 Q1470.12 73.7368 1465.99 69.8486 Q1461.9 65.92 1461.9 59.3588 Q1461.9 51.704 1467.01 47.8159 Q1472.15 43.9278 1482.32 43.9278 L1492.77 43.9278 L1492.77 43.1987 Q1492.77 38.0551 1489.37 35.2605 Q1486 32.4254 1479.89 32.4254 Q1476 32.4254 1472.31 33.3569 Q1468.63 34.2884 1465.22 36.1515 L1465.22 29.2663 Q1469.31 27.6867 1473.16 26.9172 Q1477.01 26.1072 1480.66 26.1072 Q1490.5 26.1072 1495.36 31.2103 Q1500.22 36.3135 1500.22 46.6819 Z\" fill=\"#000000\" fill-rule=\"nonzero\" fill-opacity=\"1\" /><path clip-path=\"url(#clip610)\" d=\"M1553.29 45.1833 L1553.29 72.5622 L1545.84 72.5622 L1545.84 45.4263 Q1545.84 38.9866 1543.32 35.787 Q1540.81 32.5874 1535.79 32.5874 Q1529.75 32.5874 1526.27 36.435 Q1522.79 40.2826 1522.79 46.9249 L1522.79 72.5622 L1515.29 72.5622 L1515.29 27.2007 L1522.79 27.2007 L1522.79 34.2479 Q1525.46 30.1573 1529.07 28.1322 Q1532.71 26.1072 1537.45 26.1072 Q1545.27 26.1072 1549.28 30.9673 Q1553.29 35.787 1553.29 45.1833 Z\" fill=\"#000000\" fill-rule=\"nonzero\" fill-opacity=\"1\" /><path clip-path=\"url(#clip610)\" d=\"M1590.19 27.2007 L1597.65 27.2007 L1606.96 62.5989 L1616.24 27.2007 L1625.03 27.2007 L1634.35 62.5989 L1643.62 27.2007 L1651.08 27.2007 L1639.21 72.5622 L1630.42 72.5622 L1620.66 35.382 L1610.85 72.5622 L1602.06 72.5622 L1590.19 27.2007 Z\" fill=\"#000000\" fill-rule=\"nonzero\" fill-opacity=\"1\" /><path clip-path=\"url(#clip610)\" d=\"M1701.19 48.0184 L1701.19 51.6635 L1666.92 51.6635 Q1667.4 59.3588 1671.54 63.4089 Q1675.71 67.4186 1683.12 67.4186 Q1687.41 67.4186 1691.43 66.3655 Q1695.48 65.3125 1699.45 63.2064 L1699.45 70.2536 Q1695.44 71.9547 1691.22 72.8457 Q1687.01 73.7368 1682.68 73.7368 Q1671.82 73.7368 1665.46 67.4186 Q1659.14 61.1003 1659.14 50.327 Q1659.14 39.1891 1665.13 32.6684 Q1671.17 26.1072 1681.38 26.1072 Q1690.53 26.1072 1695.84 32.0204 Q1701.19 37.8931 1701.19 48.0184 M1693.73 45.8313 Q1693.65 39.7156 1690.29 36.0705 Q1686.97 32.4254 1681.46 32.4254 Q1675.22 32.4254 1671.45 35.949 Q1667.73 39.4726 1667.16 45.8718 L1693.73 45.8313 Z\" fill=\"#000000\" fill-rule=\"nonzero\" fill-opacity=\"1\" /><path clip-path=\"url(#clip610)\" d=\"M1713.42 27.2007 L1720.88 27.2007 L1720.88 72.5622 L1713.42 72.5622 L1713.42 27.2007 M1713.42 9.54212 L1720.88 9.54212 L1720.88 18.9789 L1713.42 18.9789 L1713.42 9.54212 Z\" fill=\"#000000\" fill-rule=\"nonzero\" fill-opacity=\"1\" /><path clip-path=\"url(#clip610)\" d=\"M1766.33 49.3549 Q1766.33 41.2547 1762.96 36.7995 Q1759.64 32.3444 1753.61 32.3444 Q1747.61 32.3444 1744.25 36.7995 Q1740.93 41.2547 1740.93 49.3549 Q1740.93 57.4147 1744.25 61.8699 Q1747.61 66.325 1753.61 66.325 Q1759.64 66.325 1762.96 61.8699 Q1766.33 57.4147 1766.33 49.3549 M1773.78 66.9325 Q1773.78 78.5159 1768.64 84.1456 Q1763.49 89.8158 1752.88 89.8158 Q1748.95 89.8158 1745.46 89.2083 Q1741.98 88.6413 1738.7 87.4262 L1738.7 80.1765 Q1741.98 81.9585 1745.18 82.8091 Q1748.38 83.6596 1751.7 83.6596 Q1759.03 83.6596 1762.68 79.812 Q1766.33 76.0048 1766.33 68.2691 L1766.33 64.5835 Q1764.02 68.5931 1760.41 70.5777 Q1756.81 72.5622 1751.78 72.5622 Q1743.44 72.5622 1738.33 66.2035 Q1733.23 59.8448 1733.23 49.3549 Q1733.23 38.8246 1738.33 32.4659 Q1743.44 26.1072 1751.78 26.1072 Q1756.81 26.1072 1760.41 28.0917 Q1764.02 30.0763 1766.33 34.0859 L1766.33 27.2007 L1773.78 27.2007 L1773.78 66.9325 Z\" fill=\"#000000\" fill-rule=\"nonzero\" fill-opacity=\"1\" /><path clip-path=\"url(#clip610)\" d=\"M1826.85 45.1833 L1826.85 72.5622 L1819.39 72.5622 L1819.39 45.4263 Q1819.39 38.9866 1816.88 35.787 Q1814.37 32.5874 1809.35 32.5874 Q1803.31 32.5874 1799.83 36.435 Q1796.34 40.2826 1796.34 46.9249 L1796.34 72.5622 L1788.85 72.5622 L1788.85 9.54212 L1796.34 9.54212 L1796.34 34.2479 Q1799.02 30.1573 1802.62 28.1322 Q1806.27 26.1072 1811.01 26.1072 Q1818.83 26.1072 1822.84 30.9673 Q1826.85 35.787 1826.85 45.1833 Z\" fill=\"#000000\" fill-rule=\"nonzero\" fill-opacity=\"1\" /><path clip-path=\"url(#clip610)\" d=\"M1849.09 14.3213 L1849.09 27.2007 L1864.44 27.2007 L1864.44 32.9924 L1849.09 32.9924 L1849.09 57.6172 Q1849.09 63.1659 1850.59 64.7455 Q1852.12 66.325 1856.78 66.325 L1864.44 66.325 L1864.44 72.5622 L1856.78 72.5622 Q1848.15 72.5622 1844.87 69.3626 Q1841.59 66.1225 1841.59 57.6172 L1841.59 32.9924 L1836.12 32.9924 L1836.12 27.2007 L1841.59 27.2007 L1841.59 14.3213 L1849.09 14.3213 Z\" fill=\"#000000\" fill-rule=\"nonzero\" fill-opacity=\"1\" /><path clip-path=\"url(#clip610)\" d=\"M1903.17 28.5373 L1903.17 35.5845 Q1900.01 33.9644 1896.6 33.1544 Q1893.2 32.3444 1889.56 32.3444 Q1884.01 32.3444 1881.21 34.0454 Q1878.46 35.7465 1878.46 39.1486 Q1878.46 41.7407 1880.44 43.2392 Q1882.43 44.6973 1888.42 46.0338 L1890.97 46.6009 Q1898.91 48.3019 1902.23 51.4205 Q1905.6 54.4986 1905.6 60.0473 Q1905.6 66.3655 1900.57 70.0511 Q1895.59 73.7368 1886.84 73.7368 Q1883.2 73.7368 1879.23 73.0077 Q1875.3 72.3192 1870.92 70.9017 L1870.92 63.2064 Q1875.05 65.353 1879.06 66.4465 Q1883.07 67.4996 1887 67.4996 Q1892.27 67.4996 1895.1 65.7175 Q1897.94 63.8949 1897.94 60.6143 Q1897.94 57.5767 1895.87 55.9567 Q1893.85 54.3366 1886.92 52.8381 L1884.33 52.2305 Q1877.4 50.7725 1874.32 47.7754 Q1871.24 44.7378 1871.24 39.4726 Q1871.24 33.0734 1875.78 29.5903 Q1880.32 26.1072 1888.66 26.1072 Q1892.8 26.1072 1896.44 26.7147 Q1900.09 27.3222 1903.17 28.5373 Z\" fill=\"#000000\" fill-rule=\"nonzero\" fill-opacity=\"1\" /><polyline clip-path=\"url(#clip612)\" style=\"stroke:#009af9; stroke-linecap:round; stroke-linejoin:round; stroke-width:3.99924; stroke-opacity:1; fill:none\" points=\"283.151,1149.13 484.083,1000.77 685.016,752.493 885.948,493.656 1086.88,371.665 1287.81,329.341 1488.75,300.729 1689.68,268.407 1890.61,230.537 2091.54,190.993 2292.48,152.839 \"/>\n",
       "<polyline clip-path=\"url(#clip612)\" style=\"stroke:#e26f46; stroke-linecap:round; stroke-linejoin:round; stroke-width:3.99924; stroke-opacity:1; fill:none\" points=\"283.151,1057.17 484.083,960.943 685.016,825.644 885.948,704.981 1086.88,656.788 1287.81,636.822 1488.75,615.128 1689.68,595.801 1890.61,580.269 2091.54,569.406 2292.48,558.063 \"/>\n",
       "<polyline clip-path=\"url(#clip612)\" style=\"stroke:#3da44d; stroke-linecap:round; stroke-linejoin:round; stroke-width:3.99924; stroke-opacity:1; fill:none\" points=\"283.151,1040.91 484.083,985.128 685.016,898.031 885.948,822.173 1086.88,798.269 1287.81,794.324 1488.75,790.598 1689.68,783.371 1890.61,774.315 2091.54,764.981 2292.48,755.871 \"/>\n",
       "<polyline clip-path=\"url(#clip612)\" style=\"stroke:#c271d2; stroke-linecap:round; stroke-linejoin:round; stroke-width:3.99924; stroke-opacity:1; fill:none\" points=\"283.151,1071.29 484.083,994.302 685.016,884.565 885.948,810.518 1086.88,783.206 1287.81,772.097 1488.75,764.526 1689.68,757.163 1890.61,750.404 2091.54,745.312 2292.48,740.996 \"/>\n",
       "<polyline clip-path=\"url(#clip612)\" style=\"stroke:#ac8d18; stroke-linecap:round; stroke-linejoin:round; stroke-width:3.99924; stroke-opacity:1; fill:none\" points=\"283.151,1070.5 484.083,1042.55 685.016,1002.79 885.948,965.362 1086.88,956.197 1287.81,952.057 1488.75,949.283 1689.68,945.704 1890.61,943.235 2091.54,941.262 2292.48,940.528 \"/>\n",
       "<polyline clip-path=\"url(#clip612)\" style=\"stroke:#00a9ad; stroke-linecap:round; stroke-linejoin:round; stroke-width:3.99924; stroke-opacity:1; fill:none\" points=\"283.151,1049.81 484.083,998.809 685.016,949.437 885.948,915.746 1086.88,907.165 1287.81,902.951 1488.75,899.025 1689.68,895.025 1890.61,891.446 2091.54,888.665 2292.48,886.656 \"/>\n",
       "<polyline clip-path=\"url(#clip612)\" style=\"stroke:#ed5d92; stroke-linecap:round; stroke-linejoin:round; stroke-width:3.99924; stroke-opacity:1; fill:none\" points=\"283.151,1149.54 484.083,1176.71 685.016,1205.11 885.948,1233.36 1086.88,1249.27 1287.81,1257.77 1488.75,1263.45 1689.68,1268.03 1890.61,1272.31 2091.54,1276.27 2292.48,1279.57 \"/>\n",
       "<polyline clip-path=\"url(#clip612)\" style=\"stroke:#c68125; stroke-linecap:round; stroke-linejoin:round; stroke-width:3.99924; stroke-opacity:1; fill:none\" points=\"283.151,1091.18 484.083,1109.11 685.016,1117.32 885.948,1122.2 1086.88,1124.29 1287.81,1124.74 1488.75,1124.5 1689.68,1124.22 1890.61,1124.03 2091.54,1123.89 2292.48,1123.75 \"/>\n",
       "<path clip-path=\"url(#clip610)\" d=\"M293.867 625.32 L560.999 625.32 L560.999 158.849 L293.867 158.849  Z\" fill=\"#ffffff\" fill-rule=\"evenodd\" fill-opacity=\"1\"/>\n",
       "<polyline clip-path=\"url(#clip610)\" style=\"stroke:#000000; stroke-linecap:round; stroke-linejoin:round; stroke-width:3.99924; stroke-opacity:1; fill:none\" points=\"293.867,625.32 560.999,625.32 560.999,158.849 293.867,158.849 293.867,625.32 \"/>\n",
       "<polyline clip-path=\"url(#clip610)\" style=\"stroke:#009af9; stroke-linecap:round; stroke-linejoin:round; stroke-width:3.99924; stroke-opacity:1; fill:none\" points=\"317.533,210.679 459.525,210.679 \"/>\n",
       "<path clip-path=\"url(#clip610)\" d=\"M497.033 230.362 Q495.227 234.991 493.514 236.403 Q491.801 237.815 488.931 237.815 L485.528 237.815 L485.528 234.25 L488.028 234.25 Q489.787 234.25 490.76 233.417 Q491.732 232.584 492.912 229.483 L493.676 227.539 L483.19 202.035 L487.704 202.035 L495.806 222.308 L503.908 202.035 L508.422 202.035 L497.033 230.362 Z\" fill=\"#000000\" fill-rule=\"nonzero\" fill-opacity=\"1\" /><path clip-path=\"url(#clip610)\" d=\"M515.713 224.021 L523.352 224.021 L523.352 197.66 L515.042 199.327 L515.042 195.068 L523.306 193.402 L527.982 193.402 L527.982 224.021 L535.621 224.021 L535.621 227.955 L515.713 227.955 L515.713 224.021 Z\" fill=\"#000000\" fill-rule=\"nonzero\" fill-opacity=\"1\" /><polyline clip-path=\"url(#clip610)\" style=\"stroke:#e26f46; stroke-linecap:round; stroke-linejoin:round; stroke-width:3.99924; stroke-opacity:1; fill:none\" points=\"317.533,262.509 459.525,262.509 \"/>\n",
       "<path clip-path=\"url(#clip610)\" d=\"M497.033 282.193 Q495.227 286.821 493.514 288.233 Q491.801 289.645 488.931 289.645 L485.528 289.645 L485.528 286.081 L488.028 286.081 Q489.787 286.081 490.76 285.247 Q491.732 284.414 492.912 281.313 L493.676 279.369 L483.19 253.865 L487.704 253.865 L495.806 274.139 L503.908 253.865 L508.422 253.865 L497.033 282.193 Z\" fill=\"#000000\" fill-rule=\"nonzero\" fill-opacity=\"1\" /><path clip-path=\"url(#clip610)\" d=\"M518.931 275.851 L535.25 275.851 L535.25 279.786 L513.306 279.786 L513.306 275.851 Q515.968 273.097 520.551 268.468 Q525.158 263.816 526.338 262.474 Q528.584 259.951 529.463 258.216 Q530.366 256.457 530.366 254.767 Q530.366 252.013 528.422 250.277 Q526.5 248.542 523.398 248.542 Q521.199 248.542 518.746 249.305 Q516.315 250.069 513.537 251.62 L513.537 246.898 Q516.361 245.764 518.815 245.186 Q521.269 244.607 523.306 244.607 Q528.676 244.607 531.871 247.292 Q535.065 249.977 535.065 254.466 Q535.065 256.596 534.255 258.517 Q533.468 260.414 531.361 263.006 Q530.783 263.678 527.681 266.895 Q524.579 270.088 518.931 275.851 Z\" fill=\"#000000\" fill-rule=\"nonzero\" fill-opacity=\"1\" /><polyline clip-path=\"url(#clip610)\" style=\"stroke:#3da44d; stroke-linecap:round; stroke-linejoin:round; stroke-width:3.99924; stroke-opacity:1; fill:none\" points=\"317.533,314.339 459.525,314.339 \"/>\n",
       "<path clip-path=\"url(#clip610)\" d=\"M497.033 334.023 Q495.227 338.651 493.514 340.063 Q491.801 341.475 488.931 341.475 L485.528 341.475 L485.528 337.911 L488.028 337.911 Q489.787 337.911 490.76 337.078 Q491.732 336.244 492.912 333.143 L493.676 331.199 L483.19 305.695 L487.704 305.695 L495.806 325.969 L503.908 305.695 L508.422 305.695 L497.033 334.023 Z\" fill=\"#000000\" fill-rule=\"nonzero\" fill-opacity=\"1\" /><path clip-path=\"url(#clip610)\" d=\"M529.07 312.985 Q532.426 313.703 534.301 315.971 Q536.199 318.239 536.199 321.571 Q536.199 326.686 532.681 329.487 Q529.162 332.287 522.681 332.287 Q520.505 332.287 518.19 331.847 Q515.898 331.431 513.445 330.574 L513.445 326.061 Q515.389 327.195 517.704 327.774 Q520.019 328.352 522.542 328.352 Q526.94 328.352 529.232 326.617 Q531.547 324.881 531.547 321.571 Q531.547 318.516 529.394 316.804 Q527.264 315.068 523.445 315.068 L519.417 315.068 L519.417 311.226 L523.63 311.226 Q527.079 311.226 528.908 309.861 Q530.736 308.472 530.736 305.88 Q530.736 303.219 528.838 301.807 Q526.963 300.372 523.445 300.372 Q521.523 300.372 519.324 300.788 Q517.125 301.205 514.486 302.084 L514.486 297.919 Q517.148 297.178 519.463 296.808 Q521.801 296.437 523.861 296.437 Q529.185 296.437 532.287 298.868 Q535.389 301.274 535.389 305.394 Q535.389 308.264 533.746 310.254 Q532.102 312.221 529.07 312.985 Z\" fill=\"#000000\" fill-rule=\"nonzero\" fill-opacity=\"1\" /><polyline clip-path=\"url(#clip610)\" style=\"stroke:#c271d2; stroke-linecap:round; stroke-linejoin:round; stroke-width:3.99924; stroke-opacity:1; fill:none\" points=\"317.533,366.169 459.525,366.169 \"/>\n",
       "<path clip-path=\"url(#clip610)\" d=\"M497.033 385.853 Q495.227 390.482 493.514 391.893 Q491.801 393.305 488.931 393.305 L485.528 393.305 L485.528 389.741 L488.028 389.741 Q489.787 389.741 490.76 388.908 Q491.732 388.075 492.912 384.973 L493.676 383.029 L483.19 357.525 L487.704 357.525 L495.806 377.799 L503.908 357.525 L508.422 357.525 L497.033 385.853 Z\" fill=\"#000000\" fill-rule=\"nonzero\" fill-opacity=\"1\" /><path clip-path=\"url(#clip610)\" d=\"M527.75 352.966 L515.945 371.411 L527.75 371.411 L527.75 352.966 M526.523 348.892 L532.403 348.892 L532.403 371.411 L537.334 371.411 L537.334 375.299 L532.403 375.299 L532.403 383.446 L527.75 383.446 L527.75 375.299 L512.148 375.299 L512.148 370.786 L526.523 348.892 Z\" fill=\"#000000\" fill-rule=\"nonzero\" fill-opacity=\"1\" /><polyline clip-path=\"url(#clip610)\" style=\"stroke:#ac8d18; stroke-linecap:round; stroke-linejoin:round; stroke-width:3.99924; stroke-opacity:1; fill:none\" points=\"317.533,417.999 459.525,417.999 \"/>\n",
       "<path clip-path=\"url(#clip610)\" d=\"M497.033 437.683 Q495.227 442.312 493.514 443.723 Q491.801 445.135 488.931 445.135 L485.528 445.135 L485.528 441.571 L488.028 441.571 Q489.787 441.571 490.76 440.738 Q491.732 439.905 492.912 436.804 L493.676 434.859 L483.19 409.355 L487.704 409.355 L495.806 429.629 L503.908 409.355 L508.422 409.355 L497.033 437.683 Z\" fill=\"#000000\" fill-rule=\"nonzero\" fill-opacity=\"1\" /><path clip-path=\"url(#clip610)\" d=\"M514.949 400.723 L533.306 400.723 L533.306 404.657 L519.232 404.657 L519.232 413.128 Q520.25 412.78 521.269 412.618 Q522.287 412.433 523.306 412.433 Q529.093 412.433 532.472 415.604 Q535.852 418.775 535.852 424.19 Q535.852 429.768 532.38 432.869 Q528.908 435.947 522.588 435.947 Q520.412 435.947 518.144 435.577 Q515.898 435.207 513.491 434.466 L513.491 429.768 Q515.574 430.902 517.797 431.457 Q520.019 432.013 522.496 432.013 Q526.5 432.013 528.838 429.907 Q531.176 427.801 531.176 424.19 Q531.176 420.58 528.838 418.474 Q526.5 416.368 522.496 416.368 Q520.621 416.368 518.746 416.784 Q516.894 417.201 514.949 418.08 L514.949 400.723 Z\" fill=\"#000000\" fill-rule=\"nonzero\" fill-opacity=\"1\" /><polyline clip-path=\"url(#clip610)\" style=\"stroke:#00a9ad; stroke-linecap:round; stroke-linejoin:round; stroke-width:3.99924; stroke-opacity:1; fill:none\" points=\"317.533,469.83 459.525,469.83 \"/>\n",
       "<path clip-path=\"url(#clip610)\" d=\"M497.033 489.513 Q495.227 494.142 493.514 495.554 Q491.801 496.965 488.931 496.965 L485.528 496.965 L485.528 493.401 L488.028 493.401 Q489.787 493.401 490.76 492.568 Q491.732 491.735 492.912 488.634 L493.676 486.69 L483.19 461.185 L487.704 461.185 L495.806 481.459 L503.908 461.185 L508.422 461.185 L497.033 489.513 Z\" fill=\"#000000\" fill-rule=\"nonzero\" fill-opacity=\"1\" /><path clip-path=\"url(#clip610)\" d=\"M525.482 467.966 Q522.334 467.966 520.482 470.119 Q518.653 472.271 518.653 476.02 Q518.653 479.747 520.482 481.922 Q522.334 484.074 525.482 484.074 Q528.63 484.074 530.459 481.922 Q532.31 479.747 532.31 476.02 Q532.31 472.271 530.459 470.119 Q528.63 467.966 525.482 467.966 M534.764 453.317 L534.764 457.575 Q533.005 456.742 531.199 456.302 Q529.417 455.862 527.658 455.862 Q523.028 455.862 520.574 458.987 Q518.144 462.111 517.797 468.429 Q519.162 466.416 521.222 465.351 Q523.283 464.263 525.76 464.263 Q530.968 464.263 533.977 467.434 Q537.009 470.582 537.009 476.02 Q537.009 481.343 533.861 484.56 Q530.713 487.777 525.482 487.777 Q519.486 487.777 516.315 483.195 Q513.144 478.589 513.144 469.864 Q513.144 461.671 517.033 456.811 Q520.922 451.928 527.472 451.928 Q529.232 451.928 531.014 452.275 Q532.82 452.622 534.764 453.317 Z\" fill=\"#000000\" fill-rule=\"nonzero\" fill-opacity=\"1\" /><polyline clip-path=\"url(#clip610)\" style=\"stroke:#ed5d92; stroke-linecap:round; stroke-linejoin:round; stroke-width:3.99924; stroke-opacity:1; fill:none\" points=\"317.533,521.66 459.525,521.66 \"/>\n",
       "<path clip-path=\"url(#clip610)\" d=\"M497.033 541.343 Q495.227 545.972 493.514 547.384 Q491.801 548.796 488.931 548.796 L485.528 548.796 L485.528 545.231 L488.028 545.231 Q489.787 545.231 490.76 544.398 Q491.732 543.565 492.912 540.464 L493.676 538.52 L483.19 513.016 L487.704 513.016 L495.806 533.289 L503.908 513.016 L508.422 513.016 L497.033 541.343 Z\" fill=\"#000000\" fill-rule=\"nonzero\" fill-opacity=\"1\" /><path clip-path=\"url(#clip610)\" d=\"M513.723 504.383 L535.945 504.383 L535.945 506.373 L523.398 538.936 L518.514 538.936 L530.32 508.317 L513.723 508.317 L513.723 504.383 Z\" fill=\"#000000\" fill-rule=\"nonzero\" fill-opacity=\"1\" /><polyline clip-path=\"url(#clip610)\" style=\"stroke:#c68125; stroke-linecap:round; stroke-linejoin:round; stroke-width:3.99924; stroke-opacity:1; fill:none\" points=\"317.533,573.49 459.525,573.49 \"/>\n",
       "<path clip-path=\"url(#clip610)\" d=\"M497.033 593.173 Q495.227 597.802 493.514 599.214 Q491.801 600.626 488.931 600.626 L485.528 600.626 L485.528 597.062 L488.028 597.062 Q489.787 597.062 490.76 596.228 Q491.732 595.395 492.912 592.294 L493.676 590.35 L483.19 564.846 L487.704 564.846 L495.806 585.119 L503.908 564.846 L508.422 564.846 L497.033 593.173 Z\" fill=\"#000000\" fill-rule=\"nonzero\" fill-opacity=\"1\" /><path clip-path=\"url(#clip610)\" d=\"M524.903 574.358 Q521.57 574.358 519.648 576.14 Q517.75 577.922 517.75 581.046 Q517.75 584.171 519.648 585.953 Q521.57 587.735 524.903 587.735 Q528.236 587.735 530.158 585.953 Q532.079 584.147 532.079 581.046 Q532.079 577.922 530.158 576.14 Q528.259 574.358 524.903 574.358 M520.227 572.367 Q517.218 571.627 515.528 569.567 Q513.861 567.507 513.861 564.545 Q513.861 560.402 516.801 557.995 Q519.764 555.588 524.903 555.588 Q530.065 555.588 533.005 557.995 Q535.945 560.402 535.945 564.545 Q535.945 567.507 534.255 569.567 Q532.588 571.627 529.602 572.367 Q532.982 573.154 534.857 575.445 Q536.755 577.737 536.755 581.046 Q536.755 586.068 533.676 588.753 Q530.621 591.438 524.903 591.438 Q519.185 591.438 516.107 588.753 Q513.051 586.068 513.051 581.046 Q513.051 577.737 514.949 575.445 Q516.848 573.154 520.227 572.367 M518.514 564.985 Q518.514 567.669 520.181 569.174 Q521.871 570.678 524.903 570.678 Q527.912 570.678 529.602 569.174 Q531.315 567.669 531.315 564.985 Q531.315 562.3 529.602 560.796 Q527.912 559.291 524.903 559.291 Q521.871 559.291 520.181 560.796 Q518.514 562.3 518.514 564.985 Z\" fill=\"#000000\" fill-rule=\"nonzero\" fill-opacity=\"1\" /></svg>\n"
      ],
      "text/html": [
       "<?xml version=\"1.0\" encoding=\"utf-8\"?>\n",
       "<svg xmlns=\"http://www.w3.org/2000/svg\" xmlns:xlink=\"http://www.w3.org/1999/xlink\" width=\"600\" height=\"370.75\" viewBox=\"0 0 2400 1483\">\n",
       "<defs>\n",
       "  <clipPath id=\"clip660\">\n",
       "    <rect x=\"0\" y=\"0\" width=\"2400\" height=\"1483\"/>\n",
       "  </clipPath>\n",
       "</defs>\n",
       "<path clip-path=\"url(#clip660)\" d=\"M0 1483 L2400 1483 L2400 -2.27374e-13 L0 -2.27374e-13  Z\" fill=\"#ffffff\" fill-rule=\"evenodd\" fill-opacity=\"1\"/>\n",
       "<defs>\n",
       "  <clipPath id=\"clip661\">\n",
       "    <rect x=\"480\" y=\"0\" width=\"1681\" height=\"1483\"/>\n",
       "  </clipPath>\n",
       "</defs>\n",
       "<path clip-path=\"url(#clip660)\" d=\"M222.871 1313.37 L2352.76 1313.37 L2352.76 119.038 L222.871 119.038  Z\" fill=\"#ffffff\" fill-rule=\"evenodd\" fill-opacity=\"1\"/>\n",
       "<defs>\n",
       "  <clipPath id=\"clip662\">\n",
       "    <rect x=\"222\" y=\"119\" width=\"2131\" height=\"1195\"/>\n",
       "  </clipPath>\n",
       "</defs>\n",
       "<polyline clip-path=\"url(#clip662)\" style=\"stroke:#000000; stroke-linecap:round; stroke-linejoin:round; stroke-width:1.99962; stroke-opacity:0.1; fill:none\" points=\"584.55,1313.37 584.55,119.038 \"/>\n",
       "<polyline clip-path=\"url(#clip662)\" style=\"stroke:#000000; stroke-linecap:round; stroke-linejoin:round; stroke-width:1.99962; stroke-opacity:0.1; fill:none\" points=\"1086.88,1313.37 1086.88,119.038 \"/>\n",
       "<polyline clip-path=\"url(#clip662)\" style=\"stroke:#000000; stroke-linecap:round; stroke-linejoin:round; stroke-width:1.99962; stroke-opacity:0.1; fill:none\" points=\"1589.21,1313.37 1589.21,119.038 \"/>\n",
       "<polyline clip-path=\"url(#clip662)\" style=\"stroke:#000000; stroke-linecap:round; stroke-linejoin:round; stroke-width:1.99962; stroke-opacity:0.1; fill:none\" points=\"2091.54,1313.37 2091.54,119.038 \"/>\n",
       "<polyline clip-path=\"url(#clip660)\" style=\"stroke:#000000; stroke-linecap:round; stroke-linejoin:round; stroke-width:3.99924; stroke-opacity:1; fill:none\" points=\"222.871,1313.37 2352.76,1313.37 \"/>\n",
       "<polyline clip-path=\"url(#clip660)\" style=\"stroke:#000000; stroke-linecap:round; stroke-linejoin:round; stroke-width:3.99924; stroke-opacity:1; fill:none\" points=\"584.55,1313.37 584.55,1294.47 \"/>\n",
       "<polyline clip-path=\"url(#clip660)\" style=\"stroke:#000000; stroke-linecap:round; stroke-linejoin:round; stroke-width:3.99924; stroke-opacity:1; fill:none\" points=\"1086.88,1313.37 1086.88,1294.47 \"/>\n",
       "<polyline clip-path=\"url(#clip660)\" style=\"stroke:#000000; stroke-linecap:round; stroke-linejoin:round; stroke-width:3.99924; stroke-opacity:1; fill:none\" points=\"1589.21,1313.37 1589.21,1294.47 \"/>\n",
       "<polyline clip-path=\"url(#clip660)\" style=\"stroke:#000000; stroke-linecap:round; stroke-linejoin:round; stroke-width:3.99924; stroke-opacity:1; fill:none\" points=\"2091.54,1313.37 2091.54,1294.47 \"/>\n",
       "<path clip-path=\"url(#clip660)\" d=\"M574.827 1341.2 L593.184 1341.2 L593.184 1345.14 L579.11 1345.14 L579.11 1353.61 Q580.128 1353.26 581.147 1353.1 Q582.165 1352.91 583.184 1352.91 Q588.971 1352.91 592.35 1356.08 Q595.73 1359.25 595.73 1364.67 Q595.73 1370.25 592.258 1373.35 Q588.786 1376.43 582.466 1376.43 Q580.29 1376.43 578.022 1376.06 Q575.776 1375.69 573.369 1374.95 L573.369 1370.25 Q575.452 1371.38 577.675 1371.94 Q579.897 1372.49 582.374 1372.49 Q586.378 1372.49 588.716 1370.39 Q591.054 1368.28 591.054 1364.67 Q591.054 1361.06 588.716 1358.95 Q586.378 1356.85 582.374 1356.85 Q580.499 1356.85 578.624 1357.26 Q576.772 1357.68 574.827 1358.56 L574.827 1341.2 Z\" fill=\"#000000\" fill-rule=\"nonzero\" fill-opacity=\"1\" /><path clip-path=\"url(#clip660)\" d=\"M1061.57 1371.82 L1069.21 1371.82 L1069.21 1345.46 L1060.9 1347.13 L1060.9 1342.87 L1069.16 1341.2 L1073.84 1341.2 L1073.84 1371.82 L1081.48 1371.82 L1081.48 1375.76 L1061.57 1375.76 L1061.57 1371.82 Z\" fill=\"#000000\" fill-rule=\"nonzero\" fill-opacity=\"1\" /><path clip-path=\"url(#clip660)\" d=\"M1100.92 1344.28 Q1097.31 1344.28 1095.48 1347.84 Q1093.67 1351.38 1093.67 1358.51 Q1093.67 1365.62 1095.48 1369.18 Q1097.31 1372.72 1100.92 1372.72 Q1104.55 1372.72 1106.36 1369.18 Q1108.19 1365.62 1108.19 1358.51 Q1108.19 1351.38 1106.36 1347.84 Q1104.55 1344.28 1100.92 1344.28 M1100.92 1340.58 Q1106.73 1340.58 1109.79 1345.18 Q1112.86 1349.76 1112.86 1358.51 Q1112.86 1367.24 1109.79 1371.84 Q1106.73 1376.43 1100.92 1376.43 Q1095.11 1376.43 1092.03 1371.84 Q1088.98 1367.24 1088.98 1358.51 Q1088.98 1349.76 1092.03 1345.18 Q1095.11 1340.58 1100.92 1340.58 Z\" fill=\"#000000\" fill-rule=\"nonzero\" fill-opacity=\"1\" /><path clip-path=\"url(#clip660)\" d=\"M1564.4 1371.82 L1572.04 1371.82 L1572.04 1345.46 L1563.73 1347.13 L1563.73 1342.87 L1571.99 1341.2 L1576.67 1341.2 L1576.67 1371.82 L1584.3 1371.82 L1584.3 1375.76 L1564.4 1375.76 L1564.4 1371.82 Z\" fill=\"#000000\" fill-rule=\"nonzero\" fill-opacity=\"1\" /><path clip-path=\"url(#clip660)\" d=\"M1593.8 1341.2 L1612.15 1341.2 L1612.15 1345.14 L1598.08 1345.14 L1598.08 1353.61 Q1599.1 1353.26 1600.11 1353.1 Q1601.13 1352.91 1602.15 1352.91 Q1607.94 1352.91 1611.32 1356.08 Q1614.7 1359.25 1614.7 1364.67 Q1614.7 1370.25 1611.23 1373.35 Q1607.75 1376.43 1601.43 1376.43 Q1599.26 1376.43 1596.99 1376.06 Q1594.74 1375.69 1592.34 1374.95 L1592.34 1370.25 Q1594.42 1371.38 1596.64 1371.94 Q1598.86 1372.49 1601.34 1372.49 Q1605.35 1372.49 1607.68 1370.39 Q1610.02 1368.28 1610.02 1364.67 Q1610.02 1361.06 1607.68 1358.95 Q1605.35 1356.85 1601.34 1356.85 Q1599.47 1356.85 1597.59 1357.26 Q1595.74 1357.68 1593.8 1358.56 L1593.8 1341.2 Z\" fill=\"#000000\" fill-rule=\"nonzero\" fill-opacity=\"1\" /><path clip-path=\"url(#clip660)\" d=\"M2070.32 1371.82 L2086.64 1371.82 L2086.64 1375.76 L2064.69 1375.76 L2064.69 1371.82 Q2067.35 1369.07 2071.94 1364.44 Q2076.54 1359.79 2077.72 1358.44 Q2079.97 1355.92 2080.85 1354.19 Q2081.75 1352.43 2081.75 1350.74 Q2081.75 1347.98 2079.81 1346.25 Q2077.89 1344.51 2074.78 1344.51 Q2072.59 1344.51 2070.13 1345.27 Q2067.7 1346.04 2064.92 1347.59 L2064.92 1342.87 Q2067.75 1341.73 2070.2 1341.16 Q2072.65 1340.58 2074.69 1340.58 Q2080.06 1340.58 2083.26 1343.26 Q2086.45 1345.95 2086.45 1350.44 Q2086.45 1352.57 2085.64 1354.49 Q2084.85 1356.38 2082.75 1358.98 Q2082.17 1359.65 2079.07 1362.86 Q2075.96 1366.06 2070.32 1371.82 Z\" fill=\"#000000\" fill-rule=\"nonzero\" fill-opacity=\"1\" /><path clip-path=\"url(#clip660)\" d=\"M2106.45 1344.28 Q2102.84 1344.28 2101.01 1347.84 Q2099.21 1351.38 2099.21 1358.51 Q2099.21 1365.62 2101.01 1369.18 Q2102.84 1372.72 2106.45 1372.72 Q2110.09 1372.72 2111.89 1369.18 Q2113.72 1365.62 2113.72 1358.51 Q2113.72 1351.38 2111.89 1347.84 Q2110.09 1344.28 2106.45 1344.28 M2106.45 1340.58 Q2112.26 1340.58 2115.32 1345.18 Q2118.4 1349.76 2118.4 1358.51 Q2118.4 1367.24 2115.32 1371.84 Q2112.26 1376.43 2106.45 1376.43 Q2100.64 1376.43 2097.56 1371.84 Q2094.51 1367.24 2094.51 1358.51 Q2094.51 1349.76 2097.56 1345.18 Q2100.64 1340.58 2106.45 1340.58 Z\" fill=\"#000000\" fill-rule=\"nonzero\" fill-opacity=\"1\" /><path clip-path=\"url(#clip660)\" d=\"M1226.16 1438.92 L1226.16 1441.78 L1199.23 1441.78 Q1199.62 1447.83 1202.86 1451.01 Q1206.14 1454.16 1211.97 1454.16 Q1215.34 1454.16 1218.49 1453.33 Q1221.67 1452.51 1224.79 1450.85 L1224.79 1456.39 Q1221.64 1457.73 1218.33 1458.43 Q1215.02 1459.13 1211.62 1459.13 Q1203.09 1459.13 1198.09 1454.16 Q1193.12 1449.2 1193.12 1440.73 Q1193.12 1431.98 1197.83 1426.86 Q1202.58 1421.7 1210.6 1421.7 Q1217.79 1421.7 1221.96 1426.35 Q1226.16 1430.96 1226.16 1438.92 M1220.31 1437.2 Q1220.24 1432.4 1217.6 1429.53 Q1214.99 1426.67 1210.66 1426.67 Q1205.76 1426.67 1202.8 1429.44 Q1199.87 1432.2 1199.43 1437.23 L1220.31 1437.2 Z\" fill=\"#000000\" fill-rule=\"nonzero\" fill-opacity=\"1\" /><path clip-path=\"url(#clip660)\" d=\"M1241.44 1452.86 L1241.44 1471.76 L1235.55 1471.76 L1235.55 1422.56 L1241.44 1422.56 L1241.44 1427.97 Q1243.29 1424.79 1246.09 1423.26 Q1248.92 1421.7 1252.83 1421.7 Q1259.33 1421.7 1263.37 1426.86 Q1267.44 1432.01 1267.44 1440.41 Q1267.44 1448.82 1263.37 1453.97 Q1259.33 1459.13 1252.83 1459.13 Q1248.92 1459.13 1246.09 1457.6 Q1243.29 1456.04 1241.44 1452.86 M1261.36 1440.41 Q1261.36 1433.95 1258.69 1430.3 Q1256.05 1426.6 1251.4 1426.6 Q1246.75 1426.6 1244.08 1430.3 Q1241.44 1433.95 1241.44 1440.41 Q1241.44 1446.87 1244.08 1450.57 Q1246.75 1454.23 1251.4 1454.23 Q1256.05 1454.23 1258.69 1450.57 Q1261.36 1446.87 1261.36 1440.41 Z\" fill=\"#000000\" fill-rule=\"nonzero\" fill-opacity=\"1\" /><path clip-path=\"url(#clip660)\" d=\"M1290.96 1426.67 Q1286.25 1426.67 1283.52 1430.36 Q1280.78 1434.02 1280.78 1440.41 Q1280.78 1446.81 1283.48 1450.5 Q1286.22 1454.16 1290.96 1454.16 Q1295.64 1454.16 1298.38 1450.47 Q1301.12 1446.78 1301.12 1440.41 Q1301.12 1434.08 1298.38 1430.39 Q1295.64 1426.67 1290.96 1426.67 M1290.96 1421.7 Q1298.6 1421.7 1302.96 1426.67 Q1307.32 1431.63 1307.32 1440.41 Q1307.32 1449.17 1302.96 1454.16 Q1298.6 1459.13 1290.96 1459.13 Q1283.29 1459.13 1278.93 1454.16 Q1274.6 1449.17 1274.6 1440.41 Q1274.6 1431.63 1278.93 1426.67 Q1283.29 1421.7 1290.96 1421.7 Z\" fill=\"#000000\" fill-rule=\"nonzero\" fill-opacity=\"1\" /><path clip-path=\"url(#clip660)\" d=\"M1342.69 1423.93 L1342.69 1429.4 Q1340.2 1428.04 1337.69 1427.37 Q1335.21 1426.67 1332.66 1426.67 Q1326.96 1426.67 1323.81 1430.3 Q1320.66 1433.89 1320.66 1440.41 Q1320.66 1446.94 1323.81 1450.57 Q1326.96 1454.16 1332.66 1454.16 Q1335.21 1454.16 1337.69 1453.49 Q1340.2 1452.79 1342.69 1451.43 L1342.69 1456.84 Q1340.24 1457.98 1337.59 1458.55 Q1334.98 1459.13 1332.02 1459.13 Q1323.97 1459.13 1319.23 1454.07 Q1314.49 1449.01 1314.49 1440.41 Q1314.49 1431.7 1319.26 1426.7 Q1324.07 1421.7 1332.41 1421.7 Q1335.11 1421.7 1337.69 1422.28 Q1340.27 1422.82 1342.69 1423.93 Z\" fill=\"#000000\" fill-rule=\"nonzero\" fill-opacity=\"1\" /><path clip-path=\"url(#clip660)\" d=\"M1382.5 1436.69 L1382.5 1458.2 L1376.65 1458.2 L1376.65 1436.88 Q1376.65 1431.82 1374.67 1429.31 Q1372.7 1426.79 1368.75 1426.79 Q1364.01 1426.79 1361.27 1429.82 Q1358.54 1432.84 1358.54 1438.06 L1358.54 1458.2 L1352.65 1458.2 L1352.65 1408.69 L1358.54 1408.69 L1358.54 1428.1 Q1360.64 1424.89 1363.47 1423.29 Q1366.33 1421.7 1370.06 1421.7 Q1376.2 1421.7 1379.35 1425.52 Q1382.5 1429.31 1382.5 1436.69 Z\" fill=\"#000000\" fill-rule=\"nonzero\" fill-opacity=\"1\" /><polyline clip-path=\"url(#clip662)\" style=\"stroke:#000000; stroke-linecap:round; stroke-linejoin:round; stroke-width:1.99962; stroke-opacity:0.1; fill:none\" points=\"222.871,1251.4 2352.76,1251.4 \"/>\n",
       "<polyline clip-path=\"url(#clip662)\" style=\"stroke:#000000; stroke-linecap:round; stroke-linejoin:round; stroke-width:1.99962; stroke-opacity:0.1; fill:none\" points=\"222.871,1062.42 2352.76,1062.42 \"/>\n",
       "<polyline clip-path=\"url(#clip662)\" style=\"stroke:#000000; stroke-linecap:round; stroke-linejoin:round; stroke-width:1.99962; stroke-opacity:0.1; fill:none\" points=\"222.871,873.44 2352.76,873.44 \"/>\n",
       "<polyline clip-path=\"url(#clip662)\" style=\"stroke:#000000; stroke-linecap:round; stroke-linejoin:round; stroke-width:1.99962; stroke-opacity:0.1; fill:none\" points=\"222.871,684.46 2352.76,684.46 \"/>\n",
       "<polyline clip-path=\"url(#clip662)\" style=\"stroke:#000000; stroke-linecap:round; stroke-linejoin:round; stroke-width:1.99962; stroke-opacity:0.1; fill:none\" points=\"222.871,495.481 2352.76,495.481 \"/>\n",
       "<polyline clip-path=\"url(#clip662)\" style=\"stroke:#000000; stroke-linecap:round; stroke-linejoin:round; stroke-width:1.99962; stroke-opacity:0.1; fill:none\" points=\"222.871,306.501 2352.76,306.501 \"/>\n",
       "<polyline clip-path=\"url(#clip660)\" style=\"stroke:#000000; stroke-linecap:round; stroke-linejoin:round; stroke-width:3.99924; stroke-opacity:1; fill:none\" points=\"222.871,1313.37 222.871,119.038 \"/>\n",
       "<polyline clip-path=\"url(#clip660)\" style=\"stroke:#000000; stroke-linecap:round; stroke-linejoin:round; stroke-width:3.99924; stroke-opacity:1; fill:none\" points=\"222.871,1251.4 241.769,1251.4 \"/>\n",
       "<polyline clip-path=\"url(#clip660)\" style=\"stroke:#000000; stroke-linecap:round; stroke-linejoin:round; stroke-width:3.99924; stroke-opacity:1; fill:none\" points=\"222.871,1062.42 241.769,1062.42 \"/>\n",
       "<polyline clip-path=\"url(#clip660)\" style=\"stroke:#000000; stroke-linecap:round; stroke-linejoin:round; stroke-width:3.99924; stroke-opacity:1; fill:none\" points=\"222.871,873.44 241.769,873.44 \"/>\n",
       "<polyline clip-path=\"url(#clip660)\" style=\"stroke:#000000; stroke-linecap:round; stroke-linejoin:round; stroke-width:3.99924; stroke-opacity:1; fill:none\" points=\"222.871,684.46 241.769,684.46 \"/>\n",
       "<polyline clip-path=\"url(#clip660)\" style=\"stroke:#000000; stroke-linecap:round; stroke-linejoin:round; stroke-width:3.99924; stroke-opacity:1; fill:none\" points=\"222.871,495.481 241.769,495.481 \"/>\n",
       "<polyline clip-path=\"url(#clip660)\" style=\"stroke:#000000; stroke-linecap:round; stroke-linejoin:round; stroke-width:3.99924; stroke-opacity:1; fill:none\" points=\"222.871,306.501 241.769,306.501 \"/>\n",
       "<path clip-path=\"url(#clip660)\" d=\"M50.9921 1251.85 L80.6679 1251.85 L80.6679 1255.79 L50.9921 1255.79 L50.9921 1251.85 Z\" fill=\"#000000\" fill-rule=\"nonzero\" fill-opacity=\"1\" /><path clip-path=\"url(#clip660)\" d=\"M100.76 1237.2 Q97.1493 1237.2 95.3206 1240.76 Q93.515 1244.31 93.515 1251.43 Q93.515 1258.54 95.3206 1262.1 Q97.1493 1265.64 100.76 1265.64 Q104.395 1265.64 106.2 1262.1 Q108.029 1258.54 108.029 1251.43 Q108.029 1244.31 106.2 1240.76 Q104.395 1237.2 100.76 1237.2 M100.76 1233.5 Q106.571 1233.5 109.626 1238.1 Q112.705 1242.69 112.705 1251.43 Q112.705 1260.16 109.626 1264.76 Q106.571 1269.35 100.76 1269.35 Q94.9502 1269.35 91.8715 1264.76 Q88.816 1260.16 88.816 1251.43 Q88.816 1242.69 91.8715 1238.1 Q94.9502 1233.5 100.76 1233.5 Z\" fill=\"#000000\" fill-rule=\"nonzero\" fill-opacity=\"1\" /><path clip-path=\"url(#clip660)\" d=\"M120.922 1262.8 L125.807 1262.8 L125.807 1268.68 L120.922 1268.68 L120.922 1262.8 Z\" fill=\"#000000\" fill-rule=\"nonzero\" fill-opacity=\"1\" /><path clip-path=\"url(#clip660)\" d=\"M145.992 1237.2 Q142.381 1237.2 140.552 1240.76 Q138.746 1244.31 138.746 1251.43 Q138.746 1258.54 140.552 1262.1 Q142.381 1265.64 145.992 1265.64 Q149.626 1265.64 151.431 1262.1 Q153.26 1258.54 153.26 1251.43 Q153.26 1244.31 151.431 1240.76 Q149.626 1237.2 145.992 1237.2 M145.992 1233.5 Q151.802 1233.5 154.857 1238.1 Q157.936 1242.69 157.936 1251.43 Q157.936 1260.16 154.857 1264.76 Q151.802 1269.35 145.992 1269.35 Q140.181 1269.35 137.103 1264.76 Q134.047 1260.16 134.047 1251.43 Q134.047 1242.69 137.103 1238.1 Q140.181 1233.5 145.992 1233.5 Z\" fill=\"#000000\" fill-rule=\"nonzero\" fill-opacity=\"1\" /><path clip-path=\"url(#clip660)\" d=\"M166.964 1264.74 L174.603 1264.74 L174.603 1238.38 L166.292 1240.05 L166.292 1235.79 L174.556 1234.12 L179.232 1234.12 L179.232 1264.74 L186.871 1264.74 L186.871 1268.68 L166.964 1268.68 L166.964 1264.74 Z\" fill=\"#000000\" fill-rule=\"nonzero\" fill-opacity=\"1\" /><path clip-path=\"url(#clip660)\" d=\"M99.5335 1048.22 Q95.9224 1048.22 94.0937 1051.79 Q92.2882 1055.33 92.2882 1062.45 Q92.2882 1069.56 94.0937 1073.12 Q95.9224 1076.66 99.5335 1076.66 Q103.168 1076.66 104.973 1073.12 Q106.802 1069.56 106.802 1062.45 Q106.802 1055.33 104.973 1051.79 Q103.168 1048.22 99.5335 1048.22 M99.5335 1044.52 Q105.344 1044.52 108.399 1049.12 Q111.478 1053.71 111.478 1062.45 Q111.478 1071.18 108.399 1075.79 Q105.344 1080.37 99.5335 1080.37 Q93.7234 1080.37 90.6447 1075.79 Q87.5892 1071.18 87.5892 1062.45 Q87.5892 1053.71 90.6447 1049.12 Q93.7234 1044.52 99.5335 1044.52 Z\" fill=\"#000000\" fill-rule=\"nonzero\" fill-opacity=\"1\" /><path clip-path=\"url(#clip660)\" d=\"M119.695 1073.82 L124.58 1073.82 L124.58 1079.7 L119.695 1079.7 L119.695 1073.82 Z\" fill=\"#000000\" fill-rule=\"nonzero\" fill-opacity=\"1\" /><path clip-path=\"url(#clip660)\" d=\"M144.765 1048.22 Q141.154 1048.22 139.325 1051.79 Q137.519 1055.33 137.519 1062.45 Q137.519 1069.56 139.325 1073.12 Q141.154 1076.66 144.765 1076.66 Q148.399 1076.66 150.205 1073.12 Q152.033 1069.56 152.033 1062.45 Q152.033 1055.33 150.205 1051.79 Q148.399 1048.22 144.765 1048.22 M144.765 1044.52 Q150.575 1044.52 153.63 1049.12 Q156.709 1053.71 156.709 1062.45 Q156.709 1071.18 153.63 1075.79 Q150.575 1080.37 144.765 1080.37 Q138.955 1080.37 135.876 1075.79 Q132.82 1071.18 132.82 1062.45 Q132.82 1053.71 135.876 1049.12 Q138.955 1044.52 144.765 1044.52 Z\" fill=\"#000000\" fill-rule=\"nonzero\" fill-opacity=\"1\" /><path clip-path=\"url(#clip660)\" d=\"M174.927 1048.22 Q171.316 1048.22 169.487 1051.79 Q167.681 1055.33 167.681 1062.45 Q167.681 1069.56 169.487 1073.12 Q171.316 1076.66 174.927 1076.66 Q178.561 1076.66 180.366 1073.12 Q182.195 1069.56 182.195 1062.45 Q182.195 1055.33 180.366 1051.79 Q178.561 1048.22 174.927 1048.22 M174.927 1044.52 Q180.737 1044.52 183.792 1049.12 Q186.871 1053.71 186.871 1062.45 Q186.871 1071.18 183.792 1075.79 Q180.737 1080.37 174.927 1080.37 Q169.116 1080.37 166.038 1075.79 Q162.982 1071.18 162.982 1062.45 Q162.982 1053.71 166.038 1049.12 Q169.116 1044.52 174.927 1044.52 Z\" fill=\"#000000\" fill-rule=\"nonzero\" fill-opacity=\"1\" /><path clip-path=\"url(#clip660)\" d=\"M100.76 859.241 Q97.1493 859.241 95.3206 862.806 Q93.515 866.347 93.515 873.475 Q93.515 880.58 95.3206 884.144 Q97.1493 887.685 100.76 887.685 Q104.395 887.685 106.2 884.144 Q108.029 880.58 108.029 873.475 Q108.029 866.347 106.2 862.806 Q104.395 859.241 100.76 859.241 M100.76 855.539 Q106.571 855.539 109.626 860.144 Q112.705 864.727 112.705 873.475 Q112.705 882.2 109.626 886.806 Q106.571 891.388 100.76 891.388 Q94.9502 891.388 91.8715 886.806 Q88.816 882.2 88.816 873.475 Q88.816 864.727 91.8715 860.144 Q94.9502 855.539 100.76 855.539 Z\" fill=\"#000000\" fill-rule=\"nonzero\" fill-opacity=\"1\" /><path clip-path=\"url(#clip660)\" d=\"M120.922 884.838 L125.807 884.838 L125.807 890.717 L120.922 890.717 L120.922 884.838 Z\" fill=\"#000000\" fill-rule=\"nonzero\" fill-opacity=\"1\" /><path clip-path=\"url(#clip660)\" d=\"M145.992 859.241 Q142.381 859.241 140.552 862.806 Q138.746 866.347 138.746 873.475 Q138.746 880.58 140.552 884.144 Q142.381 887.685 145.992 887.685 Q149.626 887.685 151.431 884.144 Q153.26 880.58 153.26 873.475 Q153.26 866.347 151.431 862.806 Q149.626 859.241 145.992 859.241 M145.992 855.539 Q151.802 855.539 154.857 860.144 Q157.936 864.727 157.936 873.475 Q157.936 882.2 154.857 886.806 Q151.802 891.388 145.992 891.388 Q140.181 891.388 137.103 886.806 Q134.047 882.2 134.047 873.475 Q134.047 864.727 137.103 860.144 Q140.181 855.539 145.992 855.539 Z\" fill=\"#000000\" fill-rule=\"nonzero\" fill-opacity=\"1\" /><path clip-path=\"url(#clip660)\" d=\"M166.964 886.782 L174.603 886.782 L174.603 860.422 L166.292 862.088 L166.292 857.83 L174.556 856.163 L179.232 856.163 L179.232 886.782 L186.871 886.782 L186.871 890.717 L166.964 890.717 L166.964 886.782 Z\" fill=\"#000000\" fill-rule=\"nonzero\" fill-opacity=\"1\" /><path clip-path=\"url(#clip660)\" d=\"M101.131 670.262 Q97.5197 670.262 95.691 673.826 Q93.8854 677.367 93.8854 684.495 Q93.8854 691.6 95.691 695.164 Q97.5197 698.705 101.131 698.705 Q104.765 698.705 106.571 695.164 Q108.399 691.6 108.399 684.495 Q108.399 677.367 106.571 673.826 Q104.765 670.262 101.131 670.262 M101.131 666.559 Q106.941 666.559 109.996 671.164 Q113.075 675.747 113.075 684.495 Q113.075 693.22 109.996 697.826 Q106.941 702.408 101.131 702.408 Q95.3206 702.408 92.2419 697.826 Q89.1864 693.22 89.1864 684.495 Q89.1864 675.747 92.2419 671.164 Q95.3206 666.559 101.131 666.559 Z\" fill=\"#000000\" fill-rule=\"nonzero\" fill-opacity=\"1\" /><path clip-path=\"url(#clip660)\" d=\"M121.293 695.859 L126.177 695.859 L126.177 701.737 L121.293 701.737 L121.293 695.859 Z\" fill=\"#000000\" fill-rule=\"nonzero\" fill-opacity=\"1\" /><path clip-path=\"url(#clip660)\" d=\"M146.362 670.262 Q142.751 670.262 140.922 673.826 Q139.117 677.367 139.117 684.495 Q139.117 691.6 140.922 695.164 Q142.751 698.705 146.362 698.705 Q149.996 698.705 151.802 695.164 Q153.63 691.6 153.63 684.495 Q153.63 677.367 151.802 673.826 Q149.996 670.262 146.362 670.262 M146.362 666.559 Q152.172 666.559 155.228 671.164 Q158.306 675.747 158.306 684.495 Q158.306 693.22 155.228 697.826 Q152.172 702.408 146.362 702.408 Q140.552 702.408 137.473 697.826 Q134.418 693.22 134.418 684.495 Q134.418 675.747 137.473 671.164 Q140.552 666.559 146.362 666.559 Z\" fill=\"#000000\" fill-rule=\"nonzero\" fill-opacity=\"1\" /><path clip-path=\"url(#clip660)\" d=\"M170.552 697.803 L186.871 697.803 L186.871 701.737 L164.927 701.737 L164.927 697.803 Q167.589 695.049 172.172 690.42 Q176.778 685.768 177.959 684.426 Q180.204 681.903 181.084 680.167 Q181.987 678.408 181.987 676.719 Q181.987 673.965 180.042 672.229 Q178.121 670.493 175.019 670.493 Q172.82 670.493 170.366 671.257 Q167.936 672.021 165.158 673.571 L165.158 668.85 Q167.982 667.716 170.436 667.137 Q172.89 666.559 174.927 666.559 Q180.297 666.559 183.491 669.244 Q186.686 671.928 186.686 676.418 Q186.686 678.547 185.876 680.468 Q185.089 682.366 182.982 684.958 Q182.403 685.629 179.302 688.846 Q176.2 692.04 170.552 697.803 Z\" fill=\"#000000\" fill-rule=\"nonzero\" fill-opacity=\"1\" /><path clip-path=\"url(#clip660)\" d=\"M100.182 481.282 Q96.5706 481.282 94.7419 484.846 Q92.9363 488.387 92.9363 495.516 Q92.9363 502.621 94.7419 506.185 Q96.5706 509.726 100.182 509.726 Q103.816 509.726 105.621 506.185 Q107.45 502.621 107.45 495.516 Q107.45 488.387 105.621 484.846 Q103.816 481.282 100.182 481.282 M100.182 477.579 Q105.992 477.579 109.047 482.185 Q112.126 486.767 112.126 495.516 Q112.126 504.241 109.047 508.846 Q105.992 513.429 100.182 513.429 Q94.3715 513.429 91.2928 508.846 Q88.2373 504.241 88.2373 495.516 Q88.2373 486.767 91.2928 482.185 Q94.3715 477.579 100.182 477.579 Z\" fill=\"#000000\" fill-rule=\"nonzero\" fill-opacity=\"1\" /><path clip-path=\"url(#clip660)\" d=\"M120.344 506.879 L125.228 506.879 L125.228 512.758 L120.344 512.758 L120.344 506.879 Z\" fill=\"#000000\" fill-rule=\"nonzero\" fill-opacity=\"1\" /><path clip-path=\"url(#clip660)\" d=\"M145.413 481.282 Q141.802 481.282 139.973 484.846 Q138.168 488.387 138.168 495.516 Q138.168 502.621 139.973 506.185 Q141.802 509.726 145.413 509.726 Q149.047 509.726 150.853 506.185 Q152.681 502.621 152.681 495.516 Q152.681 488.387 150.853 484.846 Q149.047 481.282 145.413 481.282 M145.413 477.579 Q151.223 477.579 154.279 482.185 Q157.357 486.767 157.357 495.516 Q157.357 504.241 154.279 508.846 Q151.223 513.429 145.413 513.429 Q139.603 513.429 136.524 508.846 Q133.469 504.241 133.469 495.516 Q133.469 486.767 136.524 482.185 Q139.603 477.579 145.413 477.579 Z\" fill=\"#000000\" fill-rule=\"nonzero\" fill-opacity=\"1\" /><path clip-path=\"url(#clip660)\" d=\"M179.741 494.127 Q183.098 494.844 184.973 497.112 Q186.871 499.381 186.871 502.713 Q186.871 507.828 183.353 510.628 Q179.834 513.429 173.353 513.429 Q171.177 513.429 168.862 512.989 Q166.57 512.572 164.117 511.716 L164.117 507.203 Q166.061 508.337 168.376 508.916 Q170.691 509.494 173.214 509.494 Q177.612 509.494 179.903 507.759 Q182.218 506.023 182.218 502.713 Q182.218 499.658 180.066 497.946 Q177.936 496.21 174.116 496.21 L170.089 496.21 L170.089 492.368 L174.302 492.368 Q177.751 492.368 179.579 491.003 Q181.408 489.614 181.408 487.022 Q181.408 484.36 179.51 482.949 Q177.635 481.514 174.116 481.514 Q172.195 481.514 169.996 481.93 Q167.797 482.347 165.158 483.226 L165.158 479.06 Q167.82 478.32 170.135 477.95 Q172.473 477.579 174.533 477.579 Q179.857 477.579 182.959 480.009 Q186.061 482.416 186.061 486.536 Q186.061 489.406 184.417 491.396 Q182.774 493.363 179.741 494.127 Z\" fill=\"#000000\" fill-rule=\"nonzero\" fill-opacity=\"1\" /><path clip-path=\"url(#clip660)\" d=\"M99.0474 292.303 Q95.4363 292.303 93.6076 295.867 Q91.8021 299.408 91.8021 306.536 Q91.8021 313.641 93.6076 317.205 Q95.4363 320.746 99.0474 320.746 Q102.682 320.746 104.487 317.205 Q106.316 313.641 106.316 306.536 Q106.316 299.408 104.487 295.867 Q102.682 292.303 99.0474 292.303 M99.0474 288.6 Q104.858 288.6 107.913 293.205 Q110.992 297.788 110.992 306.536 Q110.992 315.261 107.913 319.867 Q104.858 324.449 99.0474 324.449 Q93.2373 324.449 90.1586 319.867 Q87.103 315.261 87.103 306.536 Q87.103 297.788 90.1586 293.205 Q93.2373 288.6 99.0474 288.6 Z\" fill=\"#000000\" fill-rule=\"nonzero\" fill-opacity=\"1\" /><path clip-path=\"url(#clip660)\" d=\"M119.209 317.899 L124.094 317.899 L124.094 323.778 L119.209 323.778 L119.209 317.899 Z\" fill=\"#000000\" fill-rule=\"nonzero\" fill-opacity=\"1\" /><path clip-path=\"url(#clip660)\" d=\"M144.279 292.303 Q140.668 292.303 138.839 295.867 Q137.033 299.408 137.033 306.536 Q137.033 313.641 138.839 317.205 Q140.668 320.746 144.279 320.746 Q147.913 320.746 149.718 317.205 Q151.547 313.641 151.547 306.536 Q151.547 299.408 149.718 295.867 Q147.913 292.303 144.279 292.303 M144.279 288.6 Q150.089 288.6 153.144 293.205 Q156.223 297.788 156.223 306.536 Q156.223 315.261 153.144 319.867 Q150.089 324.449 144.279 324.449 Q138.469 324.449 135.39 319.867 Q132.334 315.261 132.334 306.536 Q132.334 297.788 135.39 293.205 Q138.469 288.6 144.279 288.6 Z\" fill=\"#000000\" fill-rule=\"nonzero\" fill-opacity=\"1\" /><path clip-path=\"url(#clip660)\" d=\"M177.288 293.298 L165.482 311.743 L177.288 311.743 L177.288 293.298 M176.061 289.224 L181.94 289.224 L181.94 311.743 L186.871 311.743 L186.871 315.631 L181.94 315.631 L181.94 323.778 L177.288 323.778 L177.288 315.631 L161.686 315.631 L161.686 311.118 L176.061 289.224 Z\" fill=\"#000000\" fill-rule=\"nonzero\" fill-opacity=\"1\" /><path clip-path=\"url(#clip660)\" d=\"M670.03 12.0937 L704.787 12.0937 L704.787 18.9789 L678.213 18.9789 L678.213 36.7995 L702.194 36.7995 L702.194 43.6848 L678.213 43.6848 L678.213 72.5622 L670.03 72.5622 L670.03 12.0937 Z\" fill=\"#000000\" fill-rule=\"nonzero\" fill-opacity=\"1\" /><path clip-path=\"url(#clip660)\" d=\"M717.426 9.54212 L724.88 9.54212 L724.88 72.5622 L717.426 72.5622 L717.426 9.54212 Z\" fill=\"#000000\" fill-rule=\"nonzero\" fill-opacity=\"1\" /><path clip-path=\"url(#clip660)\" d=\"M739.706 54.6606 L739.706 27.2007 L747.16 27.2007 L747.16 54.3771 Q747.16 60.8168 749.671 64.0569 Q752.183 67.2565 757.206 67.2565 Q763.242 67.2565 766.725 63.4089 Q770.25 59.5613 770.25 52.9191 L770.25 27.2007 L777.703 27.2007 L777.703 72.5622 L770.25 72.5622 L770.25 65.596 Q767.536 69.7271 763.93 71.7522 Q760.365 73.7368 755.626 73.7368 Q747.808 73.7368 743.757 68.8766 Q739.706 64.0164 739.706 54.6606 M758.462 26.1072 L758.462 26.1072 Z\" fill=\"#000000\" fill-rule=\"nonzero\" fill-opacity=\"1\" /><path clip-path=\"url(#clip660)\" d=\"M830.77 27.2007 L814.364 49.2739 L831.621 72.5622 L822.83 72.5622 L809.624 54.7416 L796.419 72.5622 L787.628 72.5622 L805.25 48.8284 L789.127 27.2007 L797.917 27.2007 L809.949 43.3607 L821.98 27.2007 L830.77 27.2007 Z\" fill=\"#000000\" fill-rule=\"nonzero\" fill-opacity=\"1\" /><path clip-path=\"url(#clip660)\" d=\"M875.735 65.758 L875.735 89.8158 L868.241 89.8158 L868.241 27.2007 L875.735 27.2007 L875.735 34.0859 Q878.085 30.0358 881.65 28.0917 Q885.255 26.1072 890.237 26.1072 Q898.501 26.1072 903.646 32.6684 Q908.831 39.2296 908.831 49.922 Q908.831 60.6143 903.646 67.1755 Q898.501 73.7368 890.237 73.7368 Q885.255 73.7368 881.65 71.7927 Q878.085 69.8081 875.735 65.758 M901.094 49.922 Q901.094 41.7002 897.691 37.0425 Q894.329 32.3444 888.415 32.3444 Q882.5 32.3444 879.097 37.0425 Q875.735 41.7002 875.735 49.922 Q875.735 58.1437 879.097 62.8419 Q882.5 67.4996 888.415 67.4996 Q894.329 67.4996 897.691 62.8419 Q901.094 58.1437 901.094 49.922 Z\" fill=\"#000000\" fill-rule=\"nonzero\" fill-opacity=\"1\" /><path clip-path=\"url(#clip660)\" d=\"M941.805 49.76 Q932.772 49.76 929.288 51.8255 Q925.804 53.8911 925.804 58.8728 Q925.804 62.8419 928.397 65.191 Q931.03 67.4996 935.527 67.4996 Q941.724 67.4996 945.451 63.1254 Q949.219 58.7108 949.219 51.4205 L949.219 49.76 L941.805 49.76 M956.672 46.6819 L956.672 72.5622 L949.219 72.5622 L949.219 65.677 Q946.667 69.8081 942.859 71.7927 Q939.051 73.7368 933.542 73.7368 Q926.574 73.7368 922.442 69.8486 Q918.351 65.92 918.351 59.3588 Q918.351 51.704 923.455 47.8159 Q928.6 43.9278 938.767 43.9278 L949.219 43.9278 L949.219 43.1987 Q949.219 38.0551 945.816 35.2605 Q942.454 32.4254 936.337 32.4254 Q932.448 32.4254 928.762 33.3569 Q925.075 34.2884 921.672 36.1515 L921.672 29.2663 Q925.764 27.6867 929.612 26.9172 Q933.461 26.1072 937.106 26.1072 Q946.95 26.1072 951.811 31.2103 Q956.672 36.3135 956.672 46.6819 Z\" fill=\"#000000\" fill-rule=\"nonzero\" fill-opacity=\"1\" /><path clip-path=\"url(#clip660)\" d=\"M998.316 34.1669 Q997.06 33.4379 995.561 33.1139 Q994.103 32.7494 992.32 32.7494 Q986.001 32.7494 982.598 36.8805 Q979.236 40.9712 979.236 48.6664 L979.236 72.5622 L971.742 72.5622 L971.742 27.2007 L979.236 27.2007 L979.236 34.2479 Q981.585 30.1168 985.353 28.1322 Q989.12 26.1072 994.508 26.1072 Q995.277 26.1072 996.209 26.2287 Q997.141 26.3097 998.275 26.5122 L998.316 34.1669 Z\" fill=\"#000000\" fill-rule=\"nonzero\" fill-opacity=\"1\" /><path clip-path=\"url(#clip660)\" d=\"M1026.75 49.76 Q1017.72 49.76 1014.24 51.8255 Q1010.75 53.8911 1010.75 58.8728 Q1010.75 62.8419 1013.34 65.191 Q1015.98 67.4996 1020.47 67.4996 Q1026.67 67.4996 1030.4 63.1254 Q1034.17 58.7108 1034.17 51.4205 L1034.17 49.76 L1026.75 49.76 M1041.62 46.6819 L1041.62 72.5622 L1034.17 72.5622 L1034.17 65.677 Q1031.61 69.8081 1027.81 71.7927 Q1024 73.7368 1018.49 73.7368 Q1011.52 73.7368 1007.39 69.8486 Q1003.3 65.92 1003.3 59.3588 Q1003.3 51.704 1008.4 47.8159 Q1013.55 43.9278 1023.71 43.9278 L1034.17 43.9278 L1034.17 43.1987 Q1034.17 38.0551 1030.76 35.2605 Q1027.4 32.4254 1021.28 32.4254 Q1017.4 32.4254 1013.71 33.3569 Q1010.02 34.2884 1006.62 36.1515 L1006.62 29.2663 Q1010.71 27.6867 1014.56 26.9172 Q1018.41 26.1072 1022.05 26.1072 Q1031.9 26.1072 1036.76 31.2103 Q1041.62 36.3135 1041.62 46.6819 Z\" fill=\"#000000\" fill-rule=\"nonzero\" fill-opacity=\"1\" /><path clip-path=\"url(#clip660)\" d=\"M1092.3 35.9085 Q1095.09 30.8863 1098.98 28.4968 Q1102.87 26.1072 1108.14 26.1072 Q1115.22 26.1072 1119.07 31.0888 Q1122.92 36.03 1122.92 45.1833 L1122.92 72.5622 L1115.43 72.5622 L1115.43 45.4263 Q1115.43 38.9056 1113.12 35.7465 Q1110.81 32.5874 1106.07 32.5874 Q1100.28 32.5874 1096.91 36.435 Q1093.55 40.2826 1093.55 46.9249 L1093.55 72.5622 L1086.06 72.5622 L1086.06 45.4263 Q1086.06 38.8651 1083.75 35.7465 Q1081.44 32.5874 1076.62 32.5874 Q1070.91 32.5874 1067.55 36.4755 Q1064.18 40.3231 1064.18 46.9249 L1064.18 72.5622 L1056.69 72.5622 L1056.69 27.2007 L1064.18 27.2007 L1064.18 34.2479 Q1066.74 30.0763 1070.3 28.0917 Q1073.86 26.1072 1078.77 26.1072 Q1083.71 26.1072 1087.15 28.6183 Q1090.64 31.1293 1092.3 35.9085 Z\" fill=\"#000000\" fill-rule=\"nonzero\" fill-opacity=\"1\" /><path clip-path=\"url(#clip660)\" d=\"M1176.6 48.0184 L1176.6 51.6635 L1142.33 51.6635 Q1142.81 59.3588 1146.94 63.4089 Q1151.12 67.4186 1158.53 67.4186 Q1162.82 67.4186 1166.83 66.3655 Q1170.88 65.3125 1174.85 63.2064 L1174.85 70.2536 Q1170.84 71.9547 1166.63 72.8457 Q1162.42 73.7368 1158.08 73.7368 Q1147.23 73.7368 1140.87 67.4186 Q1134.55 61.1003 1134.55 50.327 Q1134.55 39.1891 1140.54 32.6684 Q1146.58 26.1072 1156.79 26.1072 Q1165.94 26.1072 1171.25 32.0204 Q1176.6 37.8931 1176.6 48.0184 M1169.14 45.8313 Q1169.06 39.7156 1165.7 36.0705 Q1162.38 32.4254 1156.87 32.4254 Q1150.63 32.4254 1146.86 35.949 Q1143.14 39.4726 1142.57 45.8718 L1169.14 45.8313 Z\" fill=\"#000000\" fill-rule=\"nonzero\" fill-opacity=\"1\" /><path clip-path=\"url(#clip660)\" d=\"M1196.2 14.3213 L1196.2 27.2007 L1211.56 27.2007 L1211.56 32.9924 L1196.2 32.9924 L1196.2 57.6172 Q1196.2 63.1659 1197.7 64.7455 Q1199.24 66.325 1203.9 66.325 L1211.56 66.325 L1211.56 72.5622 L1203.9 72.5622 Q1195.27 72.5622 1191.99 69.3626 Q1188.71 66.1225 1188.71 57.6172 L1188.71 32.9924 L1183.24 32.9924 L1183.24 27.2007 L1188.71 27.2007 L1188.71 14.3213 L1196.2 14.3213 Z\" fill=\"#000000\" fill-rule=\"nonzero\" fill-opacity=\"1\" /><path clip-path=\"url(#clip660)\" d=\"M1260.17 48.0184 L1260.17 51.6635 L1225.9 51.6635 Q1226.38 59.3588 1230.51 63.4089 Q1234.69 67.4186 1242.1 67.4186 Q1246.39 67.4186 1250.4 66.3655 Q1254.45 65.3125 1258.42 63.2064 L1258.42 70.2536 Q1254.41 71.9547 1250.2 72.8457 Q1245.99 73.7368 1241.65 73.7368 Q1230.8 73.7368 1224.44 67.4186 Q1218.12 61.1003 1218.12 50.327 Q1218.12 39.1891 1224.11 32.6684 Q1230.15 26.1072 1240.36 26.1072 Q1249.51 26.1072 1254.82 32.0204 Q1260.17 37.8931 1260.17 48.0184 M1252.71 45.8313 Q1252.63 39.7156 1249.27 36.0705 Q1245.95 32.4254 1240.44 32.4254 Q1234.2 32.4254 1230.43 35.949 Q1226.71 39.4726 1226.14 45.8718 L1252.71 45.8313 Z\" fill=\"#000000\" fill-rule=\"nonzero\" fill-opacity=\"1\" /><path clip-path=\"url(#clip660)\" d=\"M1298.69 34.1669 Q1297.43 33.4379 1295.94 33.1139 Q1294.48 32.7494 1292.69 32.7494 Q1286.38 32.7494 1282.97 36.8805 Q1279.61 40.9712 1279.61 48.6664 L1279.61 72.5622 L1272.12 72.5622 L1272.12 27.2007 L1279.61 27.2007 L1279.61 34.2479 Q1281.96 30.1168 1285.73 28.1322 Q1289.49 26.1072 1294.88 26.1072 Q1295.65 26.1072 1296.58 26.2287 Q1297.52 26.3097 1298.65 26.5122 L1298.69 34.1669 Z\" fill=\"#000000\" fill-rule=\"nonzero\" fill-opacity=\"1\" /><path clip-path=\"url(#clip660)\" d=\"M1368.2 35.9085 Q1371 30.8863 1374.89 28.4968 Q1378.78 26.1072 1384.04 26.1072 Q1391.13 26.1072 1394.98 31.0888 Q1398.83 36.03 1398.83 45.1833 L1398.83 72.5622 L1391.33 72.5622 L1391.33 45.4263 Q1391.33 38.9056 1389.03 35.7465 Q1386.72 32.5874 1381.98 32.5874 Q1376.18 32.5874 1372.82 36.435 Q1369.46 40.2826 1369.46 46.9249 L1369.46 72.5622 L1361.97 72.5622 L1361.97 45.4263 Q1361.97 38.8651 1359.66 35.7465 Q1357.35 32.5874 1352.53 32.5874 Q1346.81 32.5874 1343.45 36.4755 Q1340.09 40.3231 1340.09 46.9249 L1340.09 72.5622 L1332.6 72.5622 L1332.6 27.2007 L1340.09 27.2007 L1340.09 34.2479 Q1342.64 30.0763 1346.21 28.0917 Q1349.77 26.1072 1354.67 26.1072 Q1359.62 26.1072 1363.06 28.6183 Q1366.54 31.1293 1368.2 35.9085 Z\" fill=\"#000000\" fill-rule=\"nonzero\" fill-opacity=\"1\" /><path clip-path=\"url(#clip660)\" d=\"M1452.5 48.0184 L1452.5 51.6635 L1418.23 51.6635 Q1418.72 59.3588 1422.85 63.4089 Q1427.02 67.4186 1434.44 67.4186 Q1438.73 67.4186 1442.74 66.3655 Q1446.79 65.3125 1450.76 63.2064 L1450.76 70.2536 Q1446.75 71.9547 1442.54 72.8457 Q1438.32 73.7368 1433.99 73.7368 Q1423.13 73.7368 1416.77 67.4186 Q1410.45 61.1003 1410.45 50.327 Q1410.45 39.1891 1416.45 32.6684 Q1422.49 26.1072 1432.69 26.1072 Q1441.85 26.1072 1447.16 32.0204 Q1452.5 37.8931 1452.5 48.0184 M1445.05 45.8313 Q1444.97 39.7156 1441.61 36.0705 Q1438.28 32.4254 1432.78 32.4254 Q1426.54 32.4254 1422.77 35.949 Q1419.04 39.4726 1418.48 45.8718 L1445.05 45.8313 Z\" fill=\"#000000\" fill-rule=\"nonzero\" fill-opacity=\"1\" /><path clip-path=\"url(#clip660)\" d=\"M1485.36 49.76 Q1476.32 49.76 1472.84 51.8255 Q1469.35 53.8911 1469.35 58.8728 Q1469.35 62.8419 1471.95 65.191 Q1474.58 67.4996 1479.08 67.4996 Q1485.27 67.4996 1489 63.1254 Q1492.77 58.7108 1492.77 51.4205 L1492.77 49.76 L1485.36 49.76 M1500.22 46.6819 L1500.22 72.5622 L1492.77 72.5622 L1492.77 65.677 Q1490.22 69.8081 1486.41 71.7927 Q1482.6 73.7368 1477.09 73.7368 Q1470.12 73.7368 1465.99 69.8486 Q1461.9 65.92 1461.9 59.3588 Q1461.9 51.704 1467.01 47.8159 Q1472.15 43.9278 1482.32 43.9278 L1492.77 43.9278 L1492.77 43.1987 Q1492.77 38.0551 1489.37 35.2605 Q1486 32.4254 1479.89 32.4254 Q1476 32.4254 1472.31 33.3569 Q1468.63 34.2884 1465.22 36.1515 L1465.22 29.2663 Q1469.31 27.6867 1473.16 26.9172 Q1477.01 26.1072 1480.66 26.1072 Q1490.5 26.1072 1495.36 31.2103 Q1500.22 36.3135 1500.22 46.6819 Z\" fill=\"#000000\" fill-rule=\"nonzero\" fill-opacity=\"1\" /><path clip-path=\"url(#clip660)\" d=\"M1553.29 45.1833 L1553.29 72.5622 L1545.84 72.5622 L1545.84 45.4263 Q1545.84 38.9866 1543.32 35.787 Q1540.81 32.5874 1535.79 32.5874 Q1529.75 32.5874 1526.27 36.435 Q1522.79 40.2826 1522.79 46.9249 L1522.79 72.5622 L1515.29 72.5622 L1515.29 27.2007 L1522.79 27.2007 L1522.79 34.2479 Q1525.46 30.1573 1529.07 28.1322 Q1532.71 26.1072 1537.45 26.1072 Q1545.27 26.1072 1549.28 30.9673 Q1553.29 35.787 1553.29 45.1833 Z\" fill=\"#000000\" fill-rule=\"nonzero\" fill-opacity=\"1\" /><path clip-path=\"url(#clip660)\" d=\"M1590.19 27.2007 L1597.65 27.2007 L1606.96 62.5989 L1616.24 27.2007 L1625.03 27.2007 L1634.35 62.5989 L1643.62 27.2007 L1651.08 27.2007 L1639.21 72.5622 L1630.42 72.5622 L1620.66 35.382 L1610.85 72.5622 L1602.06 72.5622 L1590.19 27.2007 Z\" fill=\"#000000\" fill-rule=\"nonzero\" fill-opacity=\"1\" /><path clip-path=\"url(#clip660)\" d=\"M1701.19 48.0184 L1701.19 51.6635 L1666.92 51.6635 Q1667.4 59.3588 1671.54 63.4089 Q1675.71 67.4186 1683.12 67.4186 Q1687.41 67.4186 1691.43 66.3655 Q1695.48 65.3125 1699.45 63.2064 L1699.45 70.2536 Q1695.44 71.9547 1691.22 72.8457 Q1687.01 73.7368 1682.68 73.7368 Q1671.82 73.7368 1665.46 67.4186 Q1659.14 61.1003 1659.14 50.327 Q1659.14 39.1891 1665.13 32.6684 Q1671.17 26.1072 1681.38 26.1072 Q1690.53 26.1072 1695.84 32.0204 Q1701.19 37.8931 1701.19 48.0184 M1693.73 45.8313 Q1693.65 39.7156 1690.29 36.0705 Q1686.97 32.4254 1681.46 32.4254 Q1675.22 32.4254 1671.45 35.949 Q1667.73 39.4726 1667.16 45.8718 L1693.73 45.8313 Z\" fill=\"#000000\" fill-rule=\"nonzero\" fill-opacity=\"1\" /><path clip-path=\"url(#clip660)\" d=\"M1713.42 27.2007 L1720.88 27.2007 L1720.88 72.5622 L1713.42 72.5622 L1713.42 27.2007 M1713.42 9.54212 L1720.88 9.54212 L1720.88 18.9789 L1713.42 18.9789 L1713.42 9.54212 Z\" fill=\"#000000\" fill-rule=\"nonzero\" fill-opacity=\"1\" /><path clip-path=\"url(#clip660)\" d=\"M1766.33 49.3549 Q1766.33 41.2547 1762.96 36.7995 Q1759.64 32.3444 1753.61 32.3444 Q1747.61 32.3444 1744.25 36.7995 Q1740.93 41.2547 1740.93 49.3549 Q1740.93 57.4147 1744.25 61.8699 Q1747.61 66.325 1753.61 66.325 Q1759.64 66.325 1762.96 61.8699 Q1766.33 57.4147 1766.33 49.3549 M1773.78 66.9325 Q1773.78 78.5159 1768.64 84.1456 Q1763.49 89.8158 1752.88 89.8158 Q1748.95 89.8158 1745.46 89.2083 Q1741.98 88.6413 1738.7 87.4262 L1738.7 80.1765 Q1741.98 81.9585 1745.18 82.8091 Q1748.38 83.6596 1751.7 83.6596 Q1759.03 83.6596 1762.68 79.812 Q1766.33 76.0048 1766.33 68.2691 L1766.33 64.5835 Q1764.02 68.5931 1760.41 70.5777 Q1756.81 72.5622 1751.78 72.5622 Q1743.44 72.5622 1738.33 66.2035 Q1733.23 59.8448 1733.23 49.3549 Q1733.23 38.8246 1738.33 32.4659 Q1743.44 26.1072 1751.78 26.1072 Q1756.81 26.1072 1760.41 28.0917 Q1764.02 30.0763 1766.33 34.0859 L1766.33 27.2007 L1773.78 27.2007 L1773.78 66.9325 Z\" fill=\"#000000\" fill-rule=\"nonzero\" fill-opacity=\"1\" /><path clip-path=\"url(#clip660)\" d=\"M1826.85 45.1833 L1826.85 72.5622 L1819.39 72.5622 L1819.39 45.4263 Q1819.39 38.9866 1816.88 35.787 Q1814.37 32.5874 1809.35 32.5874 Q1803.31 32.5874 1799.83 36.435 Q1796.34 40.2826 1796.34 46.9249 L1796.34 72.5622 L1788.85 72.5622 L1788.85 9.54212 L1796.34 9.54212 L1796.34 34.2479 Q1799.02 30.1573 1802.62 28.1322 Q1806.27 26.1072 1811.01 26.1072 Q1818.83 26.1072 1822.84 30.9673 Q1826.85 35.787 1826.85 45.1833 Z\" fill=\"#000000\" fill-rule=\"nonzero\" fill-opacity=\"1\" /><path clip-path=\"url(#clip660)\" d=\"M1849.09 14.3213 L1849.09 27.2007 L1864.44 27.2007 L1864.44 32.9924 L1849.09 32.9924 L1849.09 57.6172 Q1849.09 63.1659 1850.59 64.7455 Q1852.12 66.325 1856.78 66.325 L1864.44 66.325 L1864.44 72.5622 L1856.78 72.5622 Q1848.15 72.5622 1844.87 69.3626 Q1841.59 66.1225 1841.59 57.6172 L1841.59 32.9924 L1836.12 32.9924 L1836.12 27.2007 L1841.59 27.2007 L1841.59 14.3213 L1849.09 14.3213 Z\" fill=\"#000000\" fill-rule=\"nonzero\" fill-opacity=\"1\" /><path clip-path=\"url(#clip660)\" d=\"M1903.17 28.5373 L1903.17 35.5845 Q1900.01 33.9644 1896.6 33.1544 Q1893.2 32.3444 1889.56 32.3444 Q1884.01 32.3444 1881.21 34.0454 Q1878.46 35.7465 1878.46 39.1486 Q1878.46 41.7407 1880.44 43.2392 Q1882.43 44.6973 1888.42 46.0338 L1890.97 46.6009 Q1898.91 48.3019 1902.23 51.4205 Q1905.6 54.4986 1905.6 60.0473 Q1905.6 66.3655 1900.57 70.0511 Q1895.59 73.7368 1886.84 73.7368 Q1883.2 73.7368 1879.23 73.0077 Q1875.3 72.3192 1870.92 70.9017 L1870.92 63.2064 Q1875.05 65.353 1879.06 66.4465 Q1883.07 67.4996 1887 67.4996 Q1892.27 67.4996 1895.1 65.7175 Q1897.94 63.8949 1897.94 60.6143 Q1897.94 57.5767 1895.87 55.9567 Q1893.85 54.3366 1886.92 52.8381 L1884.33 52.2305 Q1877.4 50.7725 1874.32 47.7754 Q1871.24 44.7378 1871.24 39.4726 Q1871.24 33.0734 1875.78 29.5903 Q1880.32 26.1072 1888.66 26.1072 Q1892.8 26.1072 1896.44 26.7147 Q1900.09 27.3222 1903.17 28.5373 Z\" fill=\"#000000\" fill-rule=\"nonzero\" fill-opacity=\"1\" /><polyline clip-path=\"url(#clip662)\" style=\"stroke:#009af9; stroke-linecap:round; stroke-linejoin:round; stroke-width:3.99924; stroke-opacity:1; fill:none\" points=\"283.151,1149.13 484.083,1000.77 685.016,752.493 885.948,493.656 1086.88,371.665 1287.81,329.341 1488.75,300.729 1689.68,268.407 1890.61,230.537 2091.54,190.993 2292.48,152.839 \"/>\n",
       "<polyline clip-path=\"url(#clip662)\" style=\"stroke:#e26f46; stroke-linecap:round; stroke-linejoin:round; stroke-width:3.99924; stroke-opacity:1; fill:none\" points=\"283.151,1057.17 484.083,960.943 685.016,825.644 885.948,704.981 1086.88,656.788 1287.81,636.822 1488.75,615.128 1689.68,595.801 1890.61,580.269 2091.54,569.406 2292.48,558.063 \"/>\n",
       "<polyline clip-path=\"url(#clip662)\" style=\"stroke:#3da44d; stroke-linecap:round; stroke-linejoin:round; stroke-width:3.99924; stroke-opacity:1; fill:none\" points=\"283.151,1040.91 484.083,985.128 685.016,898.031 885.948,822.173 1086.88,798.269 1287.81,794.324 1488.75,790.598 1689.68,783.371 1890.61,774.315 2091.54,764.981 2292.48,755.871 \"/>\n",
       "<polyline clip-path=\"url(#clip662)\" style=\"stroke:#c271d2; stroke-linecap:round; stroke-linejoin:round; stroke-width:3.99924; stroke-opacity:1; fill:none\" points=\"283.151,1071.29 484.083,994.302 685.016,884.565 885.948,810.518 1086.88,783.206 1287.81,772.097 1488.75,764.526 1689.68,757.163 1890.61,750.404 2091.54,745.312 2292.48,740.996 \"/>\n",
       "<polyline clip-path=\"url(#clip662)\" style=\"stroke:#ac8d18; stroke-linecap:round; stroke-linejoin:round; stroke-width:3.99924; stroke-opacity:1; fill:none\" points=\"283.151,1070.5 484.083,1042.55 685.016,1002.79 885.948,965.362 1086.88,956.197 1287.81,952.057 1488.75,949.283 1689.68,945.704 1890.61,943.235 2091.54,941.262 2292.48,940.528 \"/>\n",
       "<polyline clip-path=\"url(#clip662)\" style=\"stroke:#00a9ad; stroke-linecap:round; stroke-linejoin:round; stroke-width:3.99924; stroke-opacity:1; fill:none\" points=\"283.151,1049.81 484.083,998.809 685.016,949.437 885.948,915.746 1086.88,907.165 1287.81,902.951 1488.75,899.025 1689.68,895.025 1890.61,891.446 2091.54,888.665 2292.48,886.656 \"/>\n",
       "<polyline clip-path=\"url(#clip662)\" style=\"stroke:#ed5d92; stroke-linecap:round; stroke-linejoin:round; stroke-width:3.99924; stroke-opacity:1; fill:none\" points=\"283.151,1149.54 484.083,1176.71 685.016,1205.11 885.948,1233.36 1086.88,1249.27 1287.81,1257.77 1488.75,1263.45 1689.68,1268.03 1890.61,1272.31 2091.54,1276.27 2292.48,1279.57 \"/>\n",
       "<polyline clip-path=\"url(#clip662)\" style=\"stroke:#c68125; stroke-linecap:round; stroke-linejoin:round; stroke-width:3.99924; stroke-opacity:1; fill:none\" points=\"283.151,1091.18 484.083,1109.11 685.016,1117.32 885.948,1122.2 1086.88,1124.29 1287.81,1124.74 1488.75,1124.5 1689.68,1124.22 1890.61,1124.03 2091.54,1123.89 2292.48,1123.75 \"/>\n",
       "<path clip-path=\"url(#clip660)\" d=\"M293.867 625.32 L560.999 625.32 L560.999 158.849 L293.867 158.849  Z\" fill=\"#ffffff\" fill-rule=\"evenodd\" fill-opacity=\"1\"/>\n",
       "<polyline clip-path=\"url(#clip660)\" style=\"stroke:#000000; stroke-linecap:round; stroke-linejoin:round; stroke-width:3.99924; stroke-opacity:1; fill:none\" points=\"293.867,625.32 560.999,625.32 560.999,158.849 293.867,158.849 293.867,625.32 \"/>\n",
       "<polyline clip-path=\"url(#clip660)\" style=\"stroke:#009af9; stroke-linecap:round; stroke-linejoin:round; stroke-width:3.99924; stroke-opacity:1; fill:none\" points=\"317.533,210.679 459.525,210.679 \"/>\n",
       "<path clip-path=\"url(#clip660)\" d=\"M497.033 230.362 Q495.227 234.991 493.514 236.403 Q491.801 237.815 488.931 237.815 L485.528 237.815 L485.528 234.25 L488.028 234.25 Q489.787 234.25 490.76 233.417 Q491.732 232.584 492.912 229.483 L493.676 227.539 L483.19 202.035 L487.704 202.035 L495.806 222.308 L503.908 202.035 L508.422 202.035 L497.033 230.362 Z\" fill=\"#000000\" fill-rule=\"nonzero\" fill-opacity=\"1\" /><path clip-path=\"url(#clip660)\" d=\"M515.713 224.021 L523.352 224.021 L523.352 197.66 L515.042 199.327 L515.042 195.068 L523.306 193.402 L527.982 193.402 L527.982 224.021 L535.621 224.021 L535.621 227.955 L515.713 227.955 L515.713 224.021 Z\" fill=\"#000000\" fill-rule=\"nonzero\" fill-opacity=\"1\" /><polyline clip-path=\"url(#clip660)\" style=\"stroke:#e26f46; stroke-linecap:round; stroke-linejoin:round; stroke-width:3.99924; stroke-opacity:1; fill:none\" points=\"317.533,262.509 459.525,262.509 \"/>\n",
       "<path clip-path=\"url(#clip660)\" d=\"M497.033 282.193 Q495.227 286.821 493.514 288.233 Q491.801 289.645 488.931 289.645 L485.528 289.645 L485.528 286.081 L488.028 286.081 Q489.787 286.081 490.76 285.247 Q491.732 284.414 492.912 281.313 L493.676 279.369 L483.19 253.865 L487.704 253.865 L495.806 274.139 L503.908 253.865 L508.422 253.865 L497.033 282.193 Z\" fill=\"#000000\" fill-rule=\"nonzero\" fill-opacity=\"1\" /><path clip-path=\"url(#clip660)\" d=\"M518.931 275.851 L535.25 275.851 L535.25 279.786 L513.306 279.786 L513.306 275.851 Q515.968 273.097 520.551 268.468 Q525.158 263.816 526.338 262.474 Q528.584 259.951 529.463 258.216 Q530.366 256.457 530.366 254.767 Q530.366 252.013 528.422 250.277 Q526.5 248.542 523.398 248.542 Q521.199 248.542 518.746 249.305 Q516.315 250.069 513.537 251.62 L513.537 246.898 Q516.361 245.764 518.815 245.186 Q521.269 244.607 523.306 244.607 Q528.676 244.607 531.871 247.292 Q535.065 249.977 535.065 254.466 Q535.065 256.596 534.255 258.517 Q533.468 260.414 531.361 263.006 Q530.783 263.678 527.681 266.895 Q524.579 270.088 518.931 275.851 Z\" fill=\"#000000\" fill-rule=\"nonzero\" fill-opacity=\"1\" /><polyline clip-path=\"url(#clip660)\" style=\"stroke:#3da44d; stroke-linecap:round; stroke-linejoin:round; stroke-width:3.99924; stroke-opacity:1; fill:none\" points=\"317.533,314.339 459.525,314.339 \"/>\n",
       "<path clip-path=\"url(#clip660)\" d=\"M497.033 334.023 Q495.227 338.651 493.514 340.063 Q491.801 341.475 488.931 341.475 L485.528 341.475 L485.528 337.911 L488.028 337.911 Q489.787 337.911 490.76 337.078 Q491.732 336.244 492.912 333.143 L493.676 331.199 L483.19 305.695 L487.704 305.695 L495.806 325.969 L503.908 305.695 L508.422 305.695 L497.033 334.023 Z\" fill=\"#000000\" fill-rule=\"nonzero\" fill-opacity=\"1\" /><path clip-path=\"url(#clip660)\" d=\"M529.07 312.985 Q532.426 313.703 534.301 315.971 Q536.199 318.239 536.199 321.571 Q536.199 326.686 532.681 329.487 Q529.162 332.287 522.681 332.287 Q520.505 332.287 518.19 331.847 Q515.898 331.431 513.445 330.574 L513.445 326.061 Q515.389 327.195 517.704 327.774 Q520.019 328.352 522.542 328.352 Q526.94 328.352 529.232 326.617 Q531.547 324.881 531.547 321.571 Q531.547 318.516 529.394 316.804 Q527.264 315.068 523.445 315.068 L519.417 315.068 L519.417 311.226 L523.63 311.226 Q527.079 311.226 528.908 309.861 Q530.736 308.472 530.736 305.88 Q530.736 303.219 528.838 301.807 Q526.963 300.372 523.445 300.372 Q521.523 300.372 519.324 300.788 Q517.125 301.205 514.486 302.084 L514.486 297.919 Q517.148 297.178 519.463 296.808 Q521.801 296.437 523.861 296.437 Q529.185 296.437 532.287 298.868 Q535.389 301.274 535.389 305.394 Q535.389 308.264 533.746 310.254 Q532.102 312.221 529.07 312.985 Z\" fill=\"#000000\" fill-rule=\"nonzero\" fill-opacity=\"1\" /><polyline clip-path=\"url(#clip660)\" style=\"stroke:#c271d2; stroke-linecap:round; stroke-linejoin:round; stroke-width:3.99924; stroke-opacity:1; fill:none\" points=\"317.533,366.169 459.525,366.169 \"/>\n",
       "<path clip-path=\"url(#clip660)\" d=\"M497.033 385.853 Q495.227 390.482 493.514 391.893 Q491.801 393.305 488.931 393.305 L485.528 393.305 L485.528 389.741 L488.028 389.741 Q489.787 389.741 490.76 388.908 Q491.732 388.075 492.912 384.973 L493.676 383.029 L483.19 357.525 L487.704 357.525 L495.806 377.799 L503.908 357.525 L508.422 357.525 L497.033 385.853 Z\" fill=\"#000000\" fill-rule=\"nonzero\" fill-opacity=\"1\" /><path clip-path=\"url(#clip660)\" d=\"M527.75 352.966 L515.945 371.411 L527.75 371.411 L527.75 352.966 M526.523 348.892 L532.403 348.892 L532.403 371.411 L537.334 371.411 L537.334 375.299 L532.403 375.299 L532.403 383.446 L527.75 383.446 L527.75 375.299 L512.148 375.299 L512.148 370.786 L526.523 348.892 Z\" fill=\"#000000\" fill-rule=\"nonzero\" fill-opacity=\"1\" /><polyline clip-path=\"url(#clip660)\" style=\"stroke:#ac8d18; stroke-linecap:round; stroke-linejoin:round; stroke-width:3.99924; stroke-opacity:1; fill:none\" points=\"317.533,417.999 459.525,417.999 \"/>\n",
       "<path clip-path=\"url(#clip660)\" d=\"M497.033 437.683 Q495.227 442.312 493.514 443.723 Q491.801 445.135 488.931 445.135 L485.528 445.135 L485.528 441.571 L488.028 441.571 Q489.787 441.571 490.76 440.738 Q491.732 439.905 492.912 436.804 L493.676 434.859 L483.19 409.355 L487.704 409.355 L495.806 429.629 L503.908 409.355 L508.422 409.355 L497.033 437.683 Z\" fill=\"#000000\" fill-rule=\"nonzero\" fill-opacity=\"1\" /><path clip-path=\"url(#clip660)\" d=\"M514.949 400.723 L533.306 400.723 L533.306 404.657 L519.232 404.657 L519.232 413.128 Q520.25 412.78 521.269 412.618 Q522.287 412.433 523.306 412.433 Q529.093 412.433 532.472 415.604 Q535.852 418.775 535.852 424.19 Q535.852 429.768 532.38 432.869 Q528.908 435.947 522.588 435.947 Q520.412 435.947 518.144 435.577 Q515.898 435.207 513.491 434.466 L513.491 429.768 Q515.574 430.902 517.797 431.457 Q520.019 432.013 522.496 432.013 Q526.5 432.013 528.838 429.907 Q531.176 427.801 531.176 424.19 Q531.176 420.58 528.838 418.474 Q526.5 416.368 522.496 416.368 Q520.621 416.368 518.746 416.784 Q516.894 417.201 514.949 418.08 L514.949 400.723 Z\" fill=\"#000000\" fill-rule=\"nonzero\" fill-opacity=\"1\" /><polyline clip-path=\"url(#clip660)\" style=\"stroke:#00a9ad; stroke-linecap:round; stroke-linejoin:round; stroke-width:3.99924; stroke-opacity:1; fill:none\" points=\"317.533,469.83 459.525,469.83 \"/>\n",
       "<path clip-path=\"url(#clip660)\" d=\"M497.033 489.513 Q495.227 494.142 493.514 495.554 Q491.801 496.965 488.931 496.965 L485.528 496.965 L485.528 493.401 L488.028 493.401 Q489.787 493.401 490.76 492.568 Q491.732 491.735 492.912 488.634 L493.676 486.69 L483.19 461.185 L487.704 461.185 L495.806 481.459 L503.908 461.185 L508.422 461.185 L497.033 489.513 Z\" fill=\"#000000\" fill-rule=\"nonzero\" fill-opacity=\"1\" /><path clip-path=\"url(#clip660)\" d=\"M525.482 467.966 Q522.334 467.966 520.482 470.119 Q518.653 472.271 518.653 476.02 Q518.653 479.747 520.482 481.922 Q522.334 484.074 525.482 484.074 Q528.63 484.074 530.459 481.922 Q532.31 479.747 532.31 476.02 Q532.31 472.271 530.459 470.119 Q528.63 467.966 525.482 467.966 M534.764 453.317 L534.764 457.575 Q533.005 456.742 531.199 456.302 Q529.417 455.862 527.658 455.862 Q523.028 455.862 520.574 458.987 Q518.144 462.111 517.797 468.429 Q519.162 466.416 521.222 465.351 Q523.283 464.263 525.76 464.263 Q530.968 464.263 533.977 467.434 Q537.009 470.582 537.009 476.02 Q537.009 481.343 533.861 484.56 Q530.713 487.777 525.482 487.777 Q519.486 487.777 516.315 483.195 Q513.144 478.589 513.144 469.864 Q513.144 461.671 517.033 456.811 Q520.922 451.928 527.472 451.928 Q529.232 451.928 531.014 452.275 Q532.82 452.622 534.764 453.317 Z\" fill=\"#000000\" fill-rule=\"nonzero\" fill-opacity=\"1\" /><polyline clip-path=\"url(#clip660)\" style=\"stroke:#ed5d92; stroke-linecap:round; stroke-linejoin:round; stroke-width:3.99924; stroke-opacity:1; fill:none\" points=\"317.533,521.66 459.525,521.66 \"/>\n",
       "<path clip-path=\"url(#clip660)\" d=\"M497.033 541.343 Q495.227 545.972 493.514 547.384 Q491.801 548.796 488.931 548.796 L485.528 548.796 L485.528 545.231 L488.028 545.231 Q489.787 545.231 490.76 544.398 Q491.732 543.565 492.912 540.464 L493.676 538.52 L483.19 513.016 L487.704 513.016 L495.806 533.289 L503.908 513.016 L508.422 513.016 L497.033 541.343 Z\" fill=\"#000000\" fill-rule=\"nonzero\" fill-opacity=\"1\" /><path clip-path=\"url(#clip660)\" d=\"M513.723 504.383 L535.945 504.383 L535.945 506.373 L523.398 538.936 L518.514 538.936 L530.32 508.317 L513.723 508.317 L513.723 504.383 Z\" fill=\"#000000\" fill-rule=\"nonzero\" fill-opacity=\"1\" /><polyline clip-path=\"url(#clip660)\" style=\"stroke:#c68125; stroke-linecap:round; stroke-linejoin:round; stroke-width:3.99924; stroke-opacity:1; fill:none\" points=\"317.533,573.49 459.525,573.49 \"/>\n",
       "<path clip-path=\"url(#clip660)\" d=\"M497.033 593.173 Q495.227 597.802 493.514 599.214 Q491.801 600.626 488.931 600.626 L485.528 600.626 L485.528 597.062 L488.028 597.062 Q489.787 597.062 490.76 596.228 Q491.732 595.395 492.912 592.294 L493.676 590.35 L483.19 564.846 L487.704 564.846 L495.806 585.119 L503.908 564.846 L508.422 564.846 L497.033 593.173 Z\" fill=\"#000000\" fill-rule=\"nonzero\" fill-opacity=\"1\" /><path clip-path=\"url(#clip660)\" d=\"M524.903 574.358 Q521.57 574.358 519.648 576.14 Q517.75 577.922 517.75 581.046 Q517.75 584.171 519.648 585.953 Q521.57 587.735 524.903 587.735 Q528.236 587.735 530.158 585.953 Q532.079 584.147 532.079 581.046 Q532.079 577.922 530.158 576.14 Q528.259 574.358 524.903 574.358 M520.227 572.367 Q517.218 571.627 515.528 569.567 Q513.861 567.507 513.861 564.545 Q513.861 560.402 516.801 557.995 Q519.764 555.588 524.903 555.588 Q530.065 555.588 533.005 557.995 Q535.945 560.402 535.945 564.545 Q535.945 567.507 534.255 569.567 Q532.588 571.627 529.602 572.367 Q532.982 573.154 534.857 575.445 Q536.755 577.737 536.755 581.046 Q536.755 586.068 533.676 588.753 Q530.621 591.438 524.903 591.438 Q519.185 591.438 516.107 588.753 Q513.051 586.068 513.051 581.046 Q513.051 577.737 514.949 575.445 Q516.848 573.154 520.227 572.367 M518.514 564.985 Q518.514 567.669 520.181 569.174 Q521.871 570.678 524.903 570.678 Q527.912 570.678 529.602 569.174 Q531.315 567.669 531.315 564.985 Q531.315 562.3 529.602 560.796 Q527.912 559.291 524.903 559.291 Q521.871 559.291 520.181 560.796 Q518.514 562.3 518.514 564.985 Z\" fill=\"#000000\" fill-rule=\"nonzero\" fill-opacity=\"1\" /></svg>\n"
      ]
     },
     "execution_count": 27,
     "metadata": {},
     "output_type": "execute_result"
    }
   ],
   "source": [
    "n_epochs =  length(losses)\n",
    "n_parameters = div(length(parameter_means), n_epochs)\n",
    "parameter_means2 = reshape(copy(parameter_means), n_parameters, n_epochs)'\n",
    "plot(\n",
    "    epochs,\n",
    "    parameter_means2,\n",
    "    title=\"Flux parameter mean weights\",\n",
    "    xlab = \"epoch\",\n",
    ")"
   ]
  },
  {
   "cell_type": "markdown",
   "metadata": {},
   "source": [
    "**Note.** The higher the number, the deeper the layer we are weight-averaging."
   ]
  },
  {
   "cell_type": "code",
   "execution_count": 28,
   "metadata": {},
   "outputs": [
    {
     "data": {
      "text/plain": [
       "\"/Users/anthony/GoogleDrive/Julia/MLJ/MLJFlux/examples/mnist/weights.png\""
      ]
     },
     "execution_count": 28,
     "metadata": {},
     "output_type": "execute_result"
    }
   ],
   "source": [
    "savefig(joinpath(DIR, \"weights.png\"))"
   ]
  },
  {
   "cell_type": "markdown",
   "metadata": {},
   "source": [
    "### Retrieving a snapshot for a prediction:"
   ]
  },
  {
   "cell_type": "code",
   "execution_count": 29,
   "metadata": {},
   "outputs": [
    {
     "data": {
      "text/plain": [
       "3-element CategoricalArrays.CategoricalArray{Int64,1,UInt32}:\n",
       " 7\n",
       " 9\n",
       " 5"
      ]
     },
     "execution_count": 29,
     "metadata": {},
     "output_type": "execute_result"
    }
   ],
   "source": [
    "mach2 = machine(joinpath(DIR, \"mnist3.jls\"))\n",
    "predict_mode(mach2, images[501:503])"
   ]
  },
  {
   "cell_type": "markdown",
   "metadata": {},
   "source": [
    "### Restarting training"
   ]
  },
  {
   "cell_type": "markdown",
   "metadata": {},
   "source": [
    "Mutating `iterated_clf.controls` or `clf.epochs` (which is otherwise\n",
    "ignored) will allow you to restart training from where it left off."
   ]
  },
  {
   "cell_type": "code",
   "execution_count": 30,
   "metadata": {},
   "outputs": [
    {
     "name": "stderr",
     "output_type": "stream",
     "text": [
      "\u001b[36m\u001b[1m[ \u001b[22m\u001b[39m\u001b[36m\u001b[1mInfo: \u001b[22m\u001b[39mUpdating machine(ProbabilisticIteratedModel(model = ImageClassifier(builder = MyConvBuilder(3, 16, 32, 32), …), …), …).\n",
      "\u001b[36m\u001b[1m[ \u001b[22m\u001b[39m\u001b[36m\u001b[1mInfo: \u001b[22m\u001b[39mloss: 0.4449181129617429\n",
      "\u001b[36m\u001b[1m[ \u001b[22m\u001b[39m\u001b[36m\u001b[1mInfo: \u001b[22m\u001b[39mloss: 0.4575672614002921\n",
      "\u001b[36m\u001b[1m[ \u001b[22m\u001b[39m\u001b[36m\u001b[1mInfo: \u001b[22m\u001b[39mSaving \"/Users/anthony/GoogleDrive/Julia/MLJ/MLJFlux/examples/mnist/mnist1.jls\". \n",
      "\u001b[36m\u001b[1m[ \u001b[22m\u001b[39m\u001b[36m\u001b[1mInfo: \u001b[22m\u001b[39mloss: 0.4693455717095324\n",
      "\u001b[36m\u001b[1m[ \u001b[22m\u001b[39m\u001b[36m\u001b[1mInfo: \u001b[22m\u001b[39mloss: 0.48012884529192995\n",
      "\u001b[36m\u001b[1m[ \u001b[22m\u001b[39m\u001b[36m\u001b[1mInfo: \u001b[22m\u001b[39mloss: 0.49023152105995377\n",
      "\u001b[36m\u001b[1m[ \u001b[22m\u001b[39m\u001b[36m\u001b[1mInfo: \u001b[22m\u001b[39mfinal loss: 0.49023152105995377\n",
      "\u001b[36m\u001b[1m[ \u001b[22m\u001b[39m\u001b[36m\u001b[1mInfo: \u001b[22m\u001b[39mfinal training loss: 0.010609009\n",
      "\u001b[36m\u001b[1m[ \u001b[22m\u001b[39m\u001b[36m\u001b[1mInfo: \u001b[22m\u001b[39mStop triggered by Patience(4) stopping criterion. \n",
      "\u001b[36m\u001b[1m[ \u001b[22m\u001b[39m\u001b[36m\u001b[1mInfo: \u001b[22m\u001b[39mTotal of 32 iterations. \n"
     ]
    },
    {
     "data": {
      "image/png": "[encoded data removed]",
      "image/svg+xml": [
       "<?xml version=\"1.0\" encoding=\"utf-8\"?>\n",
       "<svg xmlns=\"http://www.w3.org/2000/svg\" xmlns:xlink=\"http://www.w3.org/1999/xlink\" width=\"600\" height=\"370.75\" viewBox=\"0 0 2400 1483\">\n",
       "<defs>\n",
       "  <clipPath id=\"clip710\">\n",
       "    <rect x=\"0\" y=\"0\" width=\"2400\" height=\"1483\"/>\n",
       "  </clipPath>\n",
       "</defs>\n",
       "<path clip-path=\"url(#clip710)\" d=\"M0 1483 L2400 1483 L2400 -2.27374e-13 L0 -2.27374e-13  Z\" fill=\"#ffffff\" fill-rule=\"evenodd\" fill-opacity=\"1\"/>\n",
       "<defs>\n",
       "  <clipPath id=\"clip711\">\n",
       "    <rect x=\"480\" y=\"0\" width=\"1681\" height=\"1483\"/>\n",
       "  </clipPath>\n",
       "</defs>\n",
       "<path clip-path=\"url(#clip710)\" d=\"M215.914 1313.37 L2352.76 1313.37 L2352.76 47.2351 L215.914 47.2351  Z\" fill=\"#ffffff\" fill-rule=\"evenodd\" fill-opacity=\"1\"/>\n",
       "<defs>\n",
       "  <clipPath id=\"clip712\">\n",
       "    <rect x=\"215\" y=\"47\" width=\"2138\" height=\"1267\"/>\n",
       "  </clipPath>\n",
       "</defs>\n",
       "<polyline clip-path=\"url(#clip712)\" style=\"stroke:#000000; stroke-linecap:round; stroke-linejoin:round; stroke-width:1.99962; stroke-opacity:0.1; fill:none\" points=\"477.979,1313.37 477.979,47.2351 \"/>\n",
       "<polyline clip-path=\"url(#clip712)\" style=\"stroke:#000000; stroke-linecap:round; stroke-linejoin:round; stroke-width:1.99962; stroke-opacity:0.1; fill:none\" points=\"813.961,1313.37 813.961,47.2351 \"/>\n",
       "<polyline clip-path=\"url(#clip712)\" style=\"stroke:#000000; stroke-linecap:round; stroke-linejoin:round; stroke-width:1.99962; stroke-opacity:0.1; fill:none\" points=\"1149.94,1313.37 1149.94,47.2351 \"/>\n",
       "<polyline clip-path=\"url(#clip712)\" style=\"stroke:#000000; stroke-linecap:round; stroke-linejoin:round; stroke-width:1.99962; stroke-opacity:0.1; fill:none\" points=\"1485.92,1313.37 1485.92,47.2351 \"/>\n",
       "<polyline clip-path=\"url(#clip712)\" style=\"stroke:#000000; stroke-linecap:round; stroke-linejoin:round; stroke-width:1.99962; stroke-opacity:0.1; fill:none\" points=\"1821.91,1313.37 1821.91,47.2351 \"/>\n",
       "<polyline clip-path=\"url(#clip712)\" style=\"stroke:#000000; stroke-linecap:round; stroke-linejoin:round; stroke-width:1.99962; stroke-opacity:0.1; fill:none\" points=\"2157.89,1313.37 2157.89,47.2351 \"/>\n",
       "<polyline clip-path=\"url(#clip710)\" style=\"stroke:#000000; stroke-linecap:round; stroke-linejoin:round; stroke-width:3.99924; stroke-opacity:1; fill:none\" points=\"215.914,1313.37 2352.76,1313.37 \"/>\n",
       "<polyline clip-path=\"url(#clip710)\" style=\"stroke:#000000; stroke-linecap:round; stroke-linejoin:round; stroke-width:3.99924; stroke-opacity:1; fill:none\" points=\"477.979,1313.37 477.979,1294.47 \"/>\n",
       "<polyline clip-path=\"url(#clip710)\" style=\"stroke:#000000; stroke-linecap:round; stroke-linejoin:round; stroke-width:3.99924; stroke-opacity:1; fill:none\" points=\"813.961,1313.37 813.961,1294.47 \"/>\n",
       "<polyline clip-path=\"url(#clip710)\" style=\"stroke:#000000; stroke-linecap:round; stroke-linejoin:round; stroke-width:3.99924; stroke-opacity:1; fill:none\" points=\"1149.94,1313.37 1149.94,1294.47 \"/>\n",
       "<polyline clip-path=\"url(#clip710)\" style=\"stroke:#000000; stroke-linecap:round; stroke-linejoin:round; stroke-width:3.99924; stroke-opacity:1; fill:none\" points=\"1485.92,1313.37 1485.92,1294.47 \"/>\n",
       "<polyline clip-path=\"url(#clip710)\" style=\"stroke:#000000; stroke-linecap:round; stroke-linejoin:round; stroke-width:3.99924; stroke-opacity:1; fill:none\" points=\"1821.91,1313.37 1821.91,1294.47 \"/>\n",
       "<polyline clip-path=\"url(#clip710)\" style=\"stroke:#000000; stroke-linecap:round; stroke-linejoin:round; stroke-width:3.99924; stroke-opacity:1; fill:none\" points=\"2157.89,1313.37 2157.89,1294.47 \"/>\n",
       "<path clip-path=\"url(#clip710)\" d=\"M468.257 1341.2 L486.613 1341.2 L486.613 1345.14 L472.539 1345.14 L472.539 1353.61 Q473.558 1353.26 474.576 1353.1 Q475.595 1352.91 476.613 1352.91 Q482.4 1352.91 485.78 1356.08 Q489.16 1359.25 489.16 1364.67 Q489.16 1370.25 485.687 1373.35 Q482.215 1376.43 475.896 1376.43 Q473.72 1376.43 471.451 1376.06 Q469.206 1375.69 466.799 1374.95 L466.799 1370.25 Q468.882 1371.38 471.104 1371.94 Q473.326 1372.49 475.803 1372.49 Q479.808 1372.49 482.146 1370.39 Q484.484 1368.28 484.484 1364.67 Q484.484 1361.06 482.146 1358.95 Q479.808 1356.85 475.803 1356.85 Q473.928 1356.85 472.053 1357.26 Q470.201 1357.68 468.257 1358.56 L468.257 1341.2 Z\" fill=\"#000000\" fill-rule=\"nonzero\" fill-opacity=\"1\" /><path clip-path=\"url(#clip710)\" d=\"M788.648 1371.82 L796.287 1371.82 L796.287 1345.46 L787.977 1347.13 L787.977 1342.87 L796.241 1341.2 L800.917 1341.2 L800.917 1371.82 L808.556 1371.82 L808.556 1375.76 L788.648 1375.76 L788.648 1371.82 Z\" fill=\"#000000\" fill-rule=\"nonzero\" fill-opacity=\"1\" /><path clip-path=\"url(#clip710)\" d=\"M828 1344.28 Q824.389 1344.28 822.56 1347.84 Q820.755 1351.38 820.755 1358.51 Q820.755 1365.62 822.56 1369.18 Q824.389 1372.72 828 1372.72 Q831.634 1372.72 833.44 1369.18 Q835.268 1365.62 835.268 1358.51 Q835.268 1351.38 833.44 1347.84 Q831.634 1344.28 828 1344.28 M828 1340.58 Q833.81 1340.58 836.866 1345.18 Q839.944 1349.76 839.944 1358.51 Q839.944 1367.24 836.866 1371.84 Q833.81 1376.43 828 1376.43 Q822.19 1376.43 819.111 1371.84 Q816.056 1367.24 816.056 1358.51 Q816.056 1349.76 819.111 1345.18 Q822.19 1340.58 828 1340.58 Z\" fill=\"#000000\" fill-rule=\"nonzero\" fill-opacity=\"1\" /><path clip-path=\"url(#clip710)\" d=\"M1125.13 1371.82 L1132.77 1371.82 L1132.77 1345.46 L1124.46 1347.13 L1124.46 1342.87 L1132.72 1341.2 L1137.4 1341.2 L1137.4 1371.82 L1145.03 1371.82 L1145.03 1375.76 L1125.13 1375.76 L1125.13 1371.82 Z\" fill=\"#000000\" fill-rule=\"nonzero\" fill-opacity=\"1\" /><path clip-path=\"url(#clip710)\" d=\"M1154.53 1341.2 L1172.88 1341.2 L1172.88 1345.14 L1158.81 1345.14 L1158.81 1353.61 Q1159.83 1353.26 1160.84 1353.1 Q1161.86 1352.91 1162.88 1352.91 Q1168.67 1352.91 1172.05 1356.08 Q1175.43 1359.25 1175.43 1364.67 Q1175.43 1370.25 1171.96 1373.35 Q1168.48 1376.43 1162.16 1376.43 Q1159.99 1376.43 1157.72 1376.06 Q1155.47 1375.69 1153.07 1374.95 L1153.07 1370.25 Q1155.15 1371.38 1157.37 1371.94 Q1159.59 1372.49 1162.07 1372.49 Q1166.08 1372.49 1168.41 1370.39 Q1170.75 1368.28 1170.75 1364.67 Q1170.75 1361.06 1168.41 1358.95 Q1166.08 1356.85 1162.07 1356.85 Q1160.2 1356.85 1158.32 1357.26 Q1156.47 1357.68 1154.53 1358.56 L1154.53 1341.2 Z\" fill=\"#000000\" fill-rule=\"nonzero\" fill-opacity=\"1\" /><path clip-path=\"url(#clip710)\" d=\"M1464.7 1371.82 L1481.02 1371.82 L1481.02 1375.76 L1459.07 1375.76 L1459.07 1371.82 Q1461.73 1369.07 1466.32 1364.44 Q1470.92 1359.79 1472.1 1358.44 Q1474.35 1355.92 1475.23 1354.19 Q1476.13 1352.43 1476.13 1350.74 Q1476.13 1347.98 1474.19 1346.25 Q1472.27 1344.51 1469.16 1344.51 Q1466.97 1344.51 1464.51 1345.27 Q1462.08 1346.04 1459.3 1347.59 L1459.3 1342.87 Q1462.13 1341.73 1464.58 1341.16 Q1467.03 1340.58 1469.07 1340.58 Q1474.44 1340.58 1477.64 1343.26 Q1480.83 1345.95 1480.83 1350.44 Q1480.83 1352.57 1480.02 1354.49 Q1479.23 1356.38 1477.13 1358.98 Q1476.55 1359.65 1473.45 1362.86 Q1470.35 1366.06 1464.7 1371.82 Z\" fill=\"#000000\" fill-rule=\"nonzero\" fill-opacity=\"1\" /><path clip-path=\"url(#clip710)\" d=\"M1500.83 1344.28 Q1497.22 1344.28 1495.39 1347.84 Q1493.59 1351.38 1493.59 1358.51 Q1493.59 1365.62 1495.39 1369.18 Q1497.22 1372.72 1500.83 1372.72 Q1504.47 1372.72 1506.27 1369.18 Q1508.1 1365.62 1508.1 1358.51 Q1508.1 1351.38 1506.27 1347.84 Q1504.47 1344.28 1500.83 1344.28 M1500.83 1340.58 Q1506.64 1340.58 1509.7 1345.18 Q1512.78 1349.76 1512.78 1358.51 Q1512.78 1367.24 1509.7 1371.84 Q1506.64 1376.43 1500.83 1376.43 Q1495.02 1376.43 1491.94 1371.84 Q1488.89 1367.24 1488.89 1358.51 Q1488.89 1349.76 1491.94 1345.18 Q1495.02 1340.58 1500.83 1340.58 Z\" fill=\"#000000\" fill-rule=\"nonzero\" fill-opacity=\"1\" /><path clip-path=\"url(#clip710)\" d=\"M1801.18 1371.82 L1817.5 1371.82 L1817.5 1375.76 L1795.55 1375.76 L1795.55 1371.82 Q1798.21 1369.07 1802.8 1364.44 Q1807.4 1359.79 1808.58 1358.44 Q1810.83 1355.92 1811.71 1354.19 Q1812.61 1352.43 1812.61 1350.74 Q1812.61 1347.98 1810.67 1346.25 Q1808.75 1344.51 1805.64 1344.51 Q1803.44 1344.51 1800.99 1345.27 Q1798.56 1346.04 1795.78 1347.59 L1795.78 1342.87 Q1798.61 1341.73 1801.06 1341.16 Q1803.51 1340.58 1805.55 1340.58 Q1810.92 1340.58 1814.12 1343.26 Q1817.31 1345.95 1817.31 1350.44 Q1817.31 1352.57 1816.5 1354.49 Q1815.71 1356.38 1813.61 1358.98 Q1813.03 1359.65 1809.93 1362.86 Q1806.82 1366.06 1801.18 1371.82 Z\" fill=\"#000000\" fill-rule=\"nonzero\" fill-opacity=\"1\" /><path clip-path=\"url(#clip710)\" d=\"M1827.36 1341.2 L1845.71 1341.2 L1845.71 1345.14 L1831.64 1345.14 L1831.64 1353.61 Q1832.66 1353.26 1833.68 1353.1 Q1834.69 1352.91 1835.71 1352.91 Q1841.5 1352.91 1844.88 1356.08 Q1848.26 1359.25 1848.26 1364.67 Q1848.26 1370.25 1844.79 1373.35 Q1841.31 1376.43 1835 1376.43 Q1832.82 1376.43 1830.55 1376.06 Q1828.31 1375.69 1825.9 1374.95 L1825.9 1370.25 Q1827.98 1371.38 1830.2 1371.94 Q1832.43 1372.49 1834.9 1372.49 Q1838.91 1372.49 1841.25 1370.39 Q1843.58 1368.28 1843.58 1364.67 Q1843.58 1361.06 1841.25 1358.95 Q1838.91 1356.85 1834.9 1356.85 Q1833.03 1356.85 1831.15 1357.26 Q1829.3 1357.68 1827.36 1358.56 L1827.36 1341.2 Z\" fill=\"#000000\" fill-rule=\"nonzero\" fill-opacity=\"1\" /><path clip-path=\"url(#clip710)\" d=\"M2146.73 1357.12 Q2150.09 1357.84 2151.96 1360.11 Q2153.86 1362.38 2153.86 1365.71 Q2153.86 1370.83 2150.34 1373.63 Q2146.82 1376.43 2140.34 1376.43 Q2138.16 1376.43 2135.85 1375.99 Q2133.56 1375.57 2131.1 1374.71 L2131.1 1370.2 Q2133.05 1371.33 2135.36 1371.91 Q2137.68 1372.49 2140.2 1372.49 Q2144.6 1372.49 2146.89 1370.76 Q2149.21 1369.02 2149.21 1365.71 Q2149.21 1362.66 2147.05 1360.94 Q2144.92 1359.21 2141.1 1359.21 L2137.08 1359.21 L2137.08 1355.37 L2141.29 1355.37 Q2144.74 1355.37 2146.57 1354 Q2148.4 1352.61 2148.4 1350.02 Q2148.4 1347.36 2146.5 1345.95 Q2144.62 1344.51 2141.1 1344.51 Q2139.18 1344.51 2136.98 1344.93 Q2134.78 1345.34 2132.15 1346.22 L2132.15 1342.06 Q2134.81 1341.32 2137.12 1340.95 Q2139.46 1340.58 2141.52 1340.58 Q2146.85 1340.58 2149.95 1343.01 Q2153.05 1345.41 2153.05 1349.53 Q2153.05 1352.4 2151.41 1354.39 Q2149.76 1356.36 2146.73 1357.12 Z\" fill=\"#000000\" fill-rule=\"nonzero\" fill-opacity=\"1\" /><path clip-path=\"url(#clip710)\" d=\"M2172.72 1344.28 Q2169.11 1344.28 2167.28 1347.84 Q2165.48 1351.38 2165.48 1358.51 Q2165.48 1365.62 2167.28 1369.18 Q2169.11 1372.72 2172.72 1372.72 Q2176.36 1372.72 2178.16 1369.18 Q2179.99 1365.62 2179.99 1358.51 Q2179.99 1351.38 2178.16 1347.84 Q2176.36 1344.28 2172.72 1344.28 M2172.72 1340.58 Q2178.53 1340.58 2181.59 1345.18 Q2184.67 1349.76 2184.67 1358.51 Q2184.67 1367.24 2181.59 1371.84 Q2178.53 1376.43 2172.72 1376.43 Q2166.91 1376.43 2163.84 1371.84 Q2160.78 1367.24 2160.78 1358.51 Q2160.78 1349.76 2163.84 1345.18 Q2166.91 1340.58 2172.72 1340.58 Z\" fill=\"#000000\" fill-rule=\"nonzero\" fill-opacity=\"1\" /><path clip-path=\"url(#clip710)\" d=\"M1222.68 1438.92 L1222.68 1441.78 L1195.76 1441.78 Q1196.14 1447.83 1199.38 1451.01 Q1202.66 1454.16 1208.49 1454.16 Q1211.86 1454.16 1215.01 1453.33 Q1218.2 1452.51 1221.31 1450.85 L1221.31 1456.39 Q1218.16 1457.73 1214.85 1458.43 Q1211.54 1459.13 1208.14 1459.13 Q1199.61 1459.13 1194.61 1454.16 Q1189.64 1449.2 1189.64 1440.73 Q1189.64 1431.98 1194.36 1426.86 Q1199.1 1421.7 1207.12 1421.7 Q1214.31 1421.7 1218.48 1426.35 Q1222.68 1430.96 1222.68 1438.92 M1216.83 1437.2 Q1216.76 1432.4 1214.12 1429.53 Q1211.51 1426.67 1207.18 1426.67 Q1202.28 1426.67 1199.32 1429.44 Q1196.39 1432.2 1195.95 1437.23 L1216.83 1437.2 Z\" fill=\"#000000\" fill-rule=\"nonzero\" fill-opacity=\"1\" /><path clip-path=\"url(#clip710)\" d=\"M1237.96 1452.86 L1237.96 1471.76 L1232.07 1471.76 L1232.07 1422.56 L1237.96 1422.56 L1237.96 1427.97 Q1239.81 1424.79 1242.61 1423.26 Q1245.44 1421.7 1249.36 1421.7 Q1255.85 1421.7 1259.89 1426.86 Q1263.96 1432.01 1263.96 1440.41 Q1263.96 1448.82 1259.89 1453.97 Q1255.85 1459.13 1249.36 1459.13 Q1245.44 1459.13 1242.61 1457.6 Q1239.81 1456.04 1237.96 1452.86 M1257.89 1440.41 Q1257.89 1433.95 1255.21 1430.3 Q1252.57 1426.6 1247.92 1426.6 Q1243.28 1426.6 1240.6 1430.3 Q1237.96 1433.95 1237.96 1440.41 Q1237.96 1446.87 1240.6 1450.57 Q1243.28 1454.23 1247.92 1454.23 Q1252.57 1454.23 1255.21 1450.57 Q1257.89 1446.87 1257.89 1440.41 Z\" fill=\"#000000\" fill-rule=\"nonzero\" fill-opacity=\"1\" /><path clip-path=\"url(#clip710)\" d=\"M1287.49 1426.67 Q1282.78 1426.67 1280.04 1430.36 Q1277.3 1434.02 1277.3 1440.41 Q1277.3 1446.81 1280.01 1450.5 Q1282.74 1454.16 1287.49 1454.16 Q1292.16 1454.16 1294.9 1450.47 Q1297.64 1446.78 1297.64 1440.41 Q1297.64 1434.08 1294.9 1430.39 Q1292.16 1426.67 1287.49 1426.67 M1287.49 1421.7 Q1295.12 1421.7 1299.49 1426.67 Q1303.85 1431.63 1303.85 1440.41 Q1303.85 1449.17 1299.49 1454.16 Q1295.12 1459.13 1287.49 1459.13 Q1279.82 1459.13 1275.45 1454.16 Q1271.13 1449.17 1271.13 1440.41 Q1271.13 1431.63 1275.45 1426.67 Q1279.82 1421.7 1287.49 1421.7 Z\" fill=\"#000000\" fill-rule=\"nonzero\" fill-opacity=\"1\" /><path clip-path=\"url(#clip710)\" d=\"M1339.21 1423.93 L1339.21 1429.4 Q1336.72 1428.04 1334.21 1427.37 Q1331.73 1426.67 1329.18 1426.67 Q1323.48 1426.67 1320.33 1430.3 Q1317.18 1433.89 1317.18 1440.41 Q1317.18 1446.94 1320.33 1450.57 Q1323.48 1454.16 1329.18 1454.16 Q1331.73 1454.16 1334.21 1453.49 Q1336.72 1452.79 1339.21 1451.43 L1339.21 1456.84 Q1336.76 1457.98 1334.11 1458.55 Q1331.5 1459.13 1328.54 1459.13 Q1320.49 1459.13 1315.75 1454.07 Q1311.01 1449.01 1311.01 1440.41 Q1311.01 1431.7 1315.78 1426.7 Q1320.59 1421.7 1328.93 1421.7 Q1331.63 1421.7 1334.21 1422.28 Q1336.79 1422.82 1339.21 1423.93 Z\" fill=\"#000000\" fill-rule=\"nonzero\" fill-opacity=\"1\" /><path clip-path=\"url(#clip710)\" d=\"M1379.02 1436.69 L1379.02 1458.2 L1373.17 1458.2 L1373.17 1436.88 Q1373.17 1431.82 1371.19 1429.31 Q1369.22 1426.79 1365.27 1426.79 Q1360.53 1426.79 1357.8 1429.82 Q1355.06 1432.84 1355.06 1438.06 L1355.06 1458.2 L1349.17 1458.2 L1349.17 1408.69 L1355.06 1408.69 L1355.06 1428.1 Q1357.16 1424.89 1359.99 1423.29 Q1362.86 1421.7 1366.58 1421.7 Q1372.72 1421.7 1375.87 1425.52 Q1379.02 1429.31 1379.02 1436.69 Z\" fill=\"#000000\" fill-rule=\"nonzero\" fill-opacity=\"1\" /><polyline clip-path=\"url(#clip712)\" style=\"stroke:#000000; stroke-linecap:round; stroke-linejoin:round; stroke-width:1.99962; stroke-opacity:0.1; fill:none\" points=\"215.914,1283.21 2352.76,1283.21 \"/>\n",
       "<polyline clip-path=\"url(#clip712)\" style=\"stroke:#000000; stroke-linecap:round; stroke-linejoin:round; stroke-width:1.99962; stroke-opacity:0.1; fill:none\" points=\"215.914,1015.6 2352.76,1015.6 \"/>\n",
       "<polyline clip-path=\"url(#clip712)\" style=\"stroke:#000000; stroke-linecap:round; stroke-linejoin:round; stroke-width:1.99962; stroke-opacity:0.1; fill:none\" points=\"215.914,747.996 2352.76,747.996 \"/>\n",
       "<polyline clip-path=\"url(#clip712)\" style=\"stroke:#000000; stroke-linecap:round; stroke-linejoin:round; stroke-width:1.99962; stroke-opacity:0.1; fill:none\" points=\"215.914,480.389 2352.76,480.389 \"/>\n",
       "<polyline clip-path=\"url(#clip712)\" style=\"stroke:#000000; stroke-linecap:round; stroke-linejoin:round; stroke-width:1.99962; stroke-opacity:0.1; fill:none\" points=\"215.914,212.782 2352.76,212.782 \"/>\n",
       "<polyline clip-path=\"url(#clip710)\" style=\"stroke:#000000; stroke-linecap:round; stroke-linejoin:round; stroke-width:3.99924; stroke-opacity:1; fill:none\" points=\"215.914,1313.37 215.914,47.2351 \"/>\n",
       "<polyline clip-path=\"url(#clip710)\" style=\"stroke:#000000; stroke-linecap:round; stroke-linejoin:round; stroke-width:3.99924; stroke-opacity:1; fill:none\" points=\"215.914,1283.21 234.811,1283.21 \"/>\n",
       "<polyline clip-path=\"url(#clip710)\" style=\"stroke:#000000; stroke-linecap:round; stroke-linejoin:round; stroke-width:3.99924; stroke-opacity:1; fill:none\" points=\"215.914,1015.6 234.811,1015.6 \"/>\n",
       "<polyline clip-path=\"url(#clip710)\" style=\"stroke:#000000; stroke-linecap:round; stroke-linejoin:round; stroke-width:3.99924; stroke-opacity:1; fill:none\" points=\"215.914,747.996 234.811,747.996 \"/>\n",
       "<polyline clip-path=\"url(#clip710)\" style=\"stroke:#000000; stroke-linecap:round; stroke-linejoin:round; stroke-width:3.99924; stroke-opacity:1; fill:none\" points=\"215.914,480.389 234.811,480.389 \"/>\n",
       "<polyline clip-path=\"url(#clip710)\" style=\"stroke:#000000; stroke-linecap:round; stroke-linejoin:round; stroke-width:3.99924; stroke-opacity:1; fill:none\" points=\"215.914,212.782 234.811,212.782 \"/>\n",
       "<path clip-path=\"url(#clip710)\" d=\"M122.738 1269.01 Q119.127 1269.01 117.298 1272.58 Q115.493 1276.12 115.493 1283.25 Q115.493 1290.35 117.298 1293.91 Q119.127 1297.46 122.738 1297.46 Q126.372 1297.46 128.178 1293.91 Q130.006 1290.35 130.006 1283.25 Q130.006 1276.12 128.178 1272.58 Q126.372 1269.01 122.738 1269.01 M122.738 1265.31 Q128.548 1265.31 131.604 1269.92 Q134.682 1274.5 134.682 1283.25 Q134.682 1291.97 131.604 1296.58 Q128.548 1301.16 122.738 1301.16 Q116.928 1301.16 113.849 1296.58 Q110.794 1291.97 110.794 1283.25 Q110.794 1274.5 113.849 1269.92 Q116.928 1265.31 122.738 1265.31 Z\" fill=\"#000000\" fill-rule=\"nonzero\" fill-opacity=\"1\" /><path clip-path=\"url(#clip710)\" d=\"M142.9 1294.61 L147.784 1294.61 L147.784 1300.49 L142.9 1300.49 L142.9 1294.61 Z\" fill=\"#000000\" fill-rule=\"nonzero\" fill-opacity=\"1\" /><path clip-path=\"url(#clip710)\" d=\"M167.969 1269.01 Q164.358 1269.01 162.529 1272.58 Q160.724 1276.12 160.724 1283.25 Q160.724 1290.35 162.529 1293.91 Q164.358 1297.46 167.969 1297.46 Q171.603 1297.46 173.409 1293.91 Q175.238 1290.35 175.238 1283.25 Q175.238 1276.12 173.409 1272.58 Q171.603 1269.01 167.969 1269.01 M167.969 1265.31 Q173.779 1265.31 176.835 1269.92 Q179.914 1274.5 179.914 1283.25 Q179.914 1291.97 176.835 1296.58 Q173.779 1301.16 167.969 1301.16 Q162.159 1301.16 159.08 1296.58 Q156.025 1291.97 156.025 1283.25 Q156.025 1274.5 159.08 1269.92 Q162.159 1265.31 167.969 1265.31 Z\" fill=\"#000000\" fill-rule=\"nonzero\" fill-opacity=\"1\" /><path clip-path=\"url(#clip710)\" d=\"M123.733 1001.41 Q120.122 1001.41 118.294 1004.97 Q116.488 1008.51 116.488 1015.64 Q116.488 1022.74 118.294 1026.31 Q120.122 1029.85 123.733 1029.85 Q127.368 1029.85 129.173 1026.31 Q131.002 1022.74 131.002 1015.64 Q131.002 1008.51 129.173 1004.97 Q127.368 1001.41 123.733 1001.41 M123.733 997.702 Q129.544 997.702 132.599 1002.31 Q135.678 1006.89 135.678 1015.64 Q135.678 1024.36 132.599 1028.97 Q129.544 1033.55 123.733 1033.55 Q117.923 1033.55 114.845 1028.97 Q111.789 1024.36 111.789 1015.64 Q111.789 1006.89 114.845 1002.31 Q117.923 997.702 123.733 997.702 Z\" fill=\"#000000\" fill-rule=\"nonzero\" fill-opacity=\"1\" /><path clip-path=\"url(#clip710)\" d=\"M143.895 1027 L148.78 1027 L148.78 1032.88 L143.895 1032.88 L143.895 1027 Z\" fill=\"#000000\" fill-rule=\"nonzero\" fill-opacity=\"1\" /><path clip-path=\"url(#clip710)\" d=\"M159.011 998.327 L177.367 998.327 L177.367 1002.26 L163.293 1002.26 L163.293 1010.73 Q164.312 1010.38 165.33 1010.22 Q166.349 1010.04 167.367 1010.04 Q173.154 1010.04 176.534 1013.21 Q179.914 1016.38 179.914 1021.79 Q179.914 1027.37 176.441 1030.47 Q172.969 1033.55 166.65 1033.55 Q164.474 1033.55 162.205 1033.18 Q159.96 1032.81 157.553 1032.07 L157.553 1027.37 Q159.636 1028.51 161.858 1029.06 Q164.08 1029.62 166.557 1029.62 Q170.562 1029.62 172.9 1027.51 Q175.238 1025.41 175.238 1021.79 Q175.238 1018.18 172.9 1016.08 Q170.562 1013.97 166.557 1013.97 Q164.682 1013.97 162.807 1014.39 Q160.955 1014.81 159.011 1015.68 L159.011 998.327 Z\" fill=\"#000000\" fill-rule=\"nonzero\" fill-opacity=\"1\" /><path clip-path=\"url(#clip710)\" d=\"M113.548 761.339 L121.187 761.339 L121.187 734.978 L112.877 736.645 L112.877 732.386 L121.141 730.72 L125.817 730.72 L125.817 761.339 L133.456 761.339 L133.456 765.273 L113.548 765.273 L113.548 761.339 Z\" fill=\"#000000\" fill-rule=\"nonzero\" fill-opacity=\"1\" /><path clip-path=\"url(#clip710)\" d=\"M142.9 759.395 L147.784 759.395 L147.784 765.273 L142.9 765.273 L142.9 759.395 Z\" fill=\"#000000\" fill-rule=\"nonzero\" fill-opacity=\"1\" /><path clip-path=\"url(#clip710)\" d=\"M167.969 733.798 Q164.358 733.798 162.529 737.362 Q160.724 740.903 160.724 748.031 Q160.724 755.136 162.529 758.7 Q164.358 762.241 167.969 762.241 Q171.603 762.241 173.409 758.7 Q175.238 755.136 175.238 748.031 Q175.238 740.903 173.409 737.362 Q171.603 733.798 167.969 733.798 M167.969 730.095 Q173.779 730.095 176.835 734.7 Q179.914 739.283 179.914 748.031 Q179.914 756.756 176.835 761.362 Q173.779 765.944 167.969 765.944 Q162.159 765.944 159.08 761.362 Q156.025 756.756 156.025 748.031 Q156.025 739.283 159.08 734.7 Q162.159 730.095 167.969 730.095 Z\" fill=\"#000000\" fill-rule=\"nonzero\" fill-opacity=\"1\" /><path clip-path=\"url(#clip710)\" d=\"M114.544 493.732 L122.182 493.732 L122.182 467.371 L113.872 469.037 L113.872 464.779 L122.136 463.112 L126.812 463.112 L126.812 493.732 L134.451 493.732 L134.451 497.666 L114.544 497.666 L114.544 493.732 Z\" fill=\"#000000\" fill-rule=\"nonzero\" fill-opacity=\"1\" /><path clip-path=\"url(#clip710)\" d=\"M143.895 491.787 L148.78 491.787 L148.78 497.666 L143.895 497.666 L143.895 491.787 Z\" fill=\"#000000\" fill-rule=\"nonzero\" fill-opacity=\"1\" /><path clip-path=\"url(#clip710)\" d=\"M159.011 463.112 L177.367 463.112 L177.367 467.047 L163.293 467.047 L163.293 475.517 Q164.312 475.17 165.33 475.008 Q166.349 474.823 167.367 474.823 Q173.154 474.823 176.534 477.994 Q179.914 481.165 179.914 486.58 Q179.914 492.158 176.441 495.259 Q172.969 498.337 166.65 498.337 Q164.474 498.337 162.205 497.967 Q159.96 497.596 157.553 496.856 L157.553 492.158 Q159.636 493.292 161.858 493.847 Q164.08 494.403 166.557 494.403 Q170.562 494.403 172.9 492.297 Q175.238 490.191 175.238 486.58 Q175.238 482.97 172.9 480.864 Q170.562 478.758 166.557 478.758 Q164.682 478.758 162.807 479.174 Q160.955 479.591 159.011 480.47 L159.011 463.112 Z\" fill=\"#000000\" fill-rule=\"nonzero\" fill-opacity=\"1\" /><path clip-path=\"url(#clip710)\" d=\"M116.766 226.124 L133.085 226.124 L133.085 230.059 L111.141 230.059 L111.141 226.124 Q113.803 223.37 118.386 218.741 Q122.993 214.09 124.173 212.747 Q126.419 210.225 127.298 208.489 Q128.201 206.73 128.201 205.04 Q128.201 202.286 126.257 200.551 Q124.335 198.815 121.233 198.815 Q119.034 198.815 116.581 199.578 Q114.15 200.342 111.372 201.893 L111.372 197.172 Q114.196 196.038 116.65 195.459 Q119.104 194.88 121.141 194.88 Q126.511 194.88 129.706 197.565 Q132.9 200.25 132.9 204.74 Q132.9 206.869 132.09 208.79 Q131.303 210.687 129.196 213.28 Q128.618 213.951 125.516 217.168 Q122.414 220.361 116.766 226.124 Z\" fill=\"#000000\" fill-rule=\"nonzero\" fill-opacity=\"1\" /><path clip-path=\"url(#clip710)\" d=\"M142.9 224.18 L147.784 224.18 L147.784 230.059 L142.9 230.059 L142.9 224.18 Z\" fill=\"#000000\" fill-rule=\"nonzero\" fill-opacity=\"1\" /><path clip-path=\"url(#clip710)\" d=\"M167.969 198.583 Q164.358 198.583 162.529 202.147 Q160.724 205.688 160.724 212.817 Q160.724 219.922 162.529 223.486 Q164.358 227.027 167.969 227.027 Q171.603 227.027 173.409 223.486 Q175.238 219.922 175.238 212.817 Q175.238 205.688 173.409 202.147 Q171.603 198.583 167.969 198.583 M167.969 194.88 Q173.779 194.88 176.835 199.486 Q179.914 204.068 179.914 212.817 Q179.914 221.542 176.835 226.147 Q173.779 230.73 167.969 230.73 Q162.159 230.73 159.08 226.147 Q156.025 221.542 156.025 212.817 Q156.025 204.068 159.08 199.486 Q162.159 194.88 167.969 194.88 Z\" fill=\"#000000\" fill-rule=\"nonzero\" fill-opacity=\"1\" /><path clip-path=\"url(#clip710)\" d=\"M26.2583 870.249 L31.7328 870.249 Q30.3642 872.732 29.6958 875.246 Q28.9955 877.728 28.9955 880.274 Q28.9955 885.97 32.624 889.12 Q36.2206 892.271 42.7455 892.271 Q49.2703 892.271 52.8988 889.12 Q56.4954 885.97 56.4954 880.274 Q56.4954 877.728 55.827 875.246 Q55.1268 872.732 53.7581 870.249 L59.169 870.249 Q60.3148 872.7 60.8877 875.341 Q61.4606 877.951 61.4606 880.91 Q61.4606 888.961 56.3999 893.703 Q51.3392 898.444 42.7455 898.444 Q34.0245 898.444 29.0274 893.671 Q24.0303 888.866 24.0303 880.528 Q24.0303 877.823 24.6032 875.246 Q25.1443 872.668 26.2583 870.249 Z\" fill=\"#000000\" fill-rule=\"nonzero\" fill-opacity=\"1\" /><path clip-path=\"url(#clip710)\" d=\"M30.3642 839.413 Q29.7913 840.4 29.5366 841.577 Q29.2502 842.723 29.2502 844.123 Q29.2502 849.088 32.4967 851.761 Q35.7114 854.402 41.7588 854.402 L60.5376 854.402 L60.5376 860.289 L24.8897 860.289 L24.8897 854.402 L30.4278 854.402 Q27.1813 852.556 25.6217 849.597 Q24.0303 846.637 24.0303 842.405 Q24.0303 841.8 24.1258 841.068 Q24.1894 840.336 24.3486 839.445 L30.3642 839.413 Z\" fill=\"#000000\" fill-rule=\"nonzero\" fill-opacity=\"1\" /><path clip-path=\"url(#clip710)\" d=\"M28.9955 820.893 Q28.9955 825.603 32.6877 828.339 Q36.3479 831.076 42.7455 831.076 Q49.143 831.076 52.8351 828.371 Q56.4954 825.634 56.4954 820.893 Q56.4954 816.215 52.8033 813.478 Q49.1112 810.741 42.7455 810.741 Q36.4116 810.741 32.7195 813.478 Q28.9955 816.215 28.9955 820.893 M24.0303 820.893 Q24.0303 813.255 28.9955 808.896 Q33.9608 804.536 42.7455 804.536 Q51.4983 804.536 56.4954 808.896 Q61.4606 813.255 61.4606 820.893 Q61.4606 828.562 56.4954 832.922 Q51.4983 837.25 42.7455 837.25 Q33.9608 837.25 28.9955 832.922 Q24.0303 828.562 24.0303 820.893 Z\" fill=\"#000000\" fill-rule=\"nonzero\" fill-opacity=\"1\" /><path clip-path=\"url(#clip710)\" d=\"M25.94 772.109 L31.4782 772.109 Q30.205 774.591 29.5685 777.264 Q28.9319 779.937 28.9319 782.801 Q28.9319 787.161 30.2687 789.357 Q31.6055 791.521 34.2791 791.521 Q36.3161 791.521 37.4938 789.961 Q38.6396 788.402 39.6899 783.692 L40.1355 781.687 Q41.4723 775.45 43.9231 772.841 Q46.3421 770.2 50.7026 770.2 Q55.6679 770.2 58.5643 774.146 Q61.4606 778.06 61.4606 784.933 Q61.4606 787.797 60.8877 790.916 Q60.3466 794.003 59.2327 797.44 L53.1852 797.44 Q54.8721 794.194 55.7315 791.043 Q56.5591 787.893 56.5591 784.806 Q56.5591 780.669 55.1586 778.442 Q53.7263 776.214 51.1482 776.214 Q48.7611 776.214 47.4879 777.837 Q46.2148 779.428 45.0371 784.87 L44.5597 786.906 Q43.4139 792.348 41.0586 794.767 Q38.6714 797.185 34.5337 797.185 Q29.5048 797.185 26.7675 793.621 Q24.0303 790.057 24.0303 783.501 Q24.0303 780.255 24.5077 777.391 Q24.9851 774.527 25.94 772.109 Z\" fill=\"#000000\" fill-rule=\"nonzero\" fill-opacity=\"1\" /><path clip-path=\"url(#clip710)\" d=\"M25.94 738.154 L31.4782 738.154 Q30.205 740.636 29.5685 743.31 Q28.9319 745.983 28.9319 748.847 Q28.9319 753.206 30.2687 755.402 Q31.6055 757.566 34.2791 757.566 Q36.3161 757.566 37.4938 756.007 Q38.6396 754.447 39.6899 749.738 L40.1355 747.733 Q41.4723 741.496 43.9231 738.886 Q46.3421 736.245 50.7026 736.245 Q55.6679 736.245 58.5643 740.191 Q61.4606 744.105 61.4606 750.979 Q61.4606 753.843 60.8877 756.961 Q60.3466 760.048 59.2327 763.485 L53.1852 763.485 Q54.8721 760.239 55.7315 757.089 Q56.5591 753.938 56.5591 750.851 Q56.5591 746.715 55.1586 744.487 Q53.7263 742.259 51.1482 742.259 Q48.7611 742.259 47.4879 743.882 Q46.2148 745.473 45.0371 750.915 L44.5597 752.952 Q43.4139 758.393 41.0586 760.812 Q38.6714 763.23 34.5337 763.23 Q29.5048 763.23 26.7675 759.666 Q24.0303 756.102 24.0303 749.547 Q24.0303 746.301 24.5077 743.437 Q24.9851 740.573 25.94 738.154 Z\" fill=\"#000000\" fill-rule=\"nonzero\" fill-opacity=\"1\" /><path clip-path=\"url(#clip710)\" d=\"M41.2495 675.719 L44.1141 675.719 L44.1141 702.64 Q50.1615 702.259 53.3444 699.013 Q56.4954 695.735 56.4954 689.911 Q56.4954 686.538 55.6679 683.388 Q54.8403 680.206 53.1852 677.087 L58.7234 677.087 Q60.0602 680.237 60.7604 683.547 Q61.4606 686.856 61.4606 690.261 Q61.4606 698.79 56.4954 703.786 Q51.5301 708.75 43.0638 708.75 Q34.3109 708.75 29.1865 704.041 Q24.0303 699.299 24.0303 691.28 Q24.0303 684.088 28.6773 679.919 Q33.2924 675.719 41.2495 675.719 M39.5308 681.574 Q34.7247 681.638 31.8601 684.279 Q28.9955 686.888 28.9955 691.216 Q28.9955 696.117 31.7646 699.076 Q34.5337 702.004 39.5626 702.449 L39.5308 681.574 Z\" fill=\"#000000\" fill-rule=\"nonzero\" fill-opacity=\"1\" /><path clip-path=\"url(#clip710)\" d=\"M39.0215 636.481 L60.5376 636.481 L60.5376 642.337 L39.2125 642.337 Q34.1518 642.337 31.6373 644.31 Q29.1229 646.283 29.1229 650.229 Q29.1229 654.97 32.1466 657.707 Q35.1703 660.444 40.3902 660.444 L60.5376 660.444 L60.5376 666.331 L24.8897 666.331 L24.8897 660.444 L30.4278 660.444 Q27.2131 658.343 25.6217 655.511 Q24.0303 652.647 24.0303 648.924 Q24.0303 642.782 27.8497 639.632 Q31.6373 636.481 39.0215 636.481 Z\" fill=\"#000000\" fill-rule=\"nonzero\" fill-opacity=\"1\" /><path clip-path=\"url(#clip710)\" d=\"M14.7682 619.011 L24.8897 619.011 L24.8897 606.95 L29.4411 606.95 L29.4411 619.011 L48.7929 619.011 Q53.1534 619.011 54.3947 617.833 Q55.636 616.624 55.636 612.965 L55.636 606.95 L60.5376 606.95 L60.5376 612.965 Q60.5376 619.743 58.0232 622.32 Q55.4769 624.898 48.7929 624.898 L29.4411 624.898 L29.4411 629.194 L24.8897 629.194 L24.8897 624.898 L14.7682 624.898 L14.7682 619.011 Z\" fill=\"#000000\" fill-rule=\"nonzero\" fill-opacity=\"1\" /><path clip-path=\"url(#clip710)\" d=\"M30.3642 578.596 Q29.7913 579.583 29.5366 580.76 Q29.2502 581.906 29.2502 583.306 Q29.2502 588.27 32.4967 590.943 Q35.7114 593.585 41.7588 593.585 L60.5376 593.585 L60.5376 599.472 L24.8897 599.472 L24.8897 593.585 L30.4278 593.585 Q27.1813 591.739 25.6217 588.78 Q24.0303 585.82 24.0303 581.588 Q24.0303 580.983 24.1258 580.251 Q24.1894 579.519 24.3486 578.628 L30.3642 578.596 Z\" fill=\"#000000\" fill-rule=\"nonzero\" fill-opacity=\"1\" /><path clip-path=\"url(#clip710)\" d=\"M28.9955 560.076 Q28.9955 564.785 32.6877 567.522 Q36.3479 570.259 42.7455 570.259 Q49.143 570.259 52.8351 567.554 Q56.4954 564.817 56.4954 560.076 Q56.4954 555.398 52.8033 552.661 Q49.1112 549.924 42.7455 549.924 Q36.4116 549.924 32.7195 552.661 Q28.9955 555.398 28.9955 560.076 M24.0303 560.076 Q24.0303 552.438 28.9955 548.079 Q33.9608 543.719 42.7455 543.719 Q51.4983 543.719 56.4954 548.079 Q61.4606 552.438 61.4606 560.076 Q61.4606 567.745 56.4954 572.105 Q51.4983 576.432 42.7455 576.432 Q33.9608 576.432 28.9955 572.105 Q24.0303 567.745 24.0303 560.076 Z\" fill=\"#000000\" fill-rule=\"nonzero\" fill-opacity=\"1\" /><path clip-path=\"url(#clip710)\" d=\"M55.1904 528.349 L74.0966 528.349 L74.0966 534.236 L24.8897 534.236 L24.8897 528.349 L30.3005 528.349 Q27.1177 526.503 25.5899 523.703 Q24.0303 520.87 24.0303 516.956 Q24.0303 510.464 29.1865 506.423 Q34.3427 502.35 42.7455 502.35 Q51.1482 502.35 56.3044 506.423 Q61.4606 510.464 61.4606 516.956 Q61.4606 520.87 59.9329 523.703 Q58.3733 526.503 55.1904 528.349 M42.7455 508.428 Q36.2843 508.428 32.624 511.101 Q28.9319 513.742 28.9319 518.388 Q28.9319 523.034 32.624 525.707 Q36.2843 528.349 42.7455 528.349 Q49.2067 528.349 52.8988 525.707 Q56.5591 523.034 56.5591 518.388 Q56.5591 513.742 52.8988 511.101 Q49.2067 508.428 42.7455 508.428 Z\" fill=\"#000000\" fill-rule=\"nonzero\" fill-opacity=\"1\" /><path clip-path=\"url(#clip710)\" d=\"M63.8478 477.814 Q70.2135 480.297 72.155 482.652 Q74.0966 485.006 74.0966 488.952 L74.0966 493.63 L69.195 493.63 L69.195 490.193 Q69.195 487.775 68.0492 486.438 Q66.9033 485.102 62.6383 483.479 L59.9647 482.429 L24.8897 496.844 L24.8897 490.639 L52.7715 479.501 L24.8897 468.363 L24.8897 462.158 L63.8478 477.814 Z\" fill=\"#000000\" fill-rule=\"nonzero\" fill-opacity=\"1\" /><polyline clip-path=\"url(#clip712)\" style=\"stroke:#009af9; stroke-linecap:round; stroke-linejoin:round; stroke-width:3.99924; stroke-opacity:1; fill:none\" points=\"276.39,92.4966 410.783,229.83 545.175,629.762 679.568,965.244 813.961,1032.55 948.353,1056.21 1082.75,1064.62 1217.14,1066.58 1351.53,1063.89 1485.92,1058.21 1620.32,1051.91 1754.71,1045.08 1889.1,1038.31 2023.49,1032.01 2157.89,1026.24 2292.28,1020.83 \"/>\n",
       "<polyline clip-path=\"url(#clip712)\" style=\"stroke:#e26f46; stroke-linecap:round; stroke-linejoin:round; stroke-width:3.99924; stroke-opacity:1; fill:none\" points=\"276.39,83.069 410.783,189.794 545.175,520.701 679.568,950.325 813.961,1093.35 948.353,1152.44 1082.75,1188.91 1217.14,1215.11 1351.53,1235.13 1485.92,1249.74 1620.32,1260 1754.71,1266.95 1889.1,1271.32 2023.49,1274.21 2157.89,1276.16 2292.28,1277.53 \"/>\n",
       "<path clip-path=\"url(#clip710)\" d=\"M1744.79 244.93 L2281.53 244.93 L2281.53 89.4395 L1744.79 89.4395  Z\" fill=\"#ffffff\" fill-rule=\"evenodd\" fill-opacity=\"1\"/>\n",
       "<polyline clip-path=\"url(#clip710)\" style=\"stroke:#000000; stroke-linecap:round; stroke-linejoin:round; stroke-width:3.99924; stroke-opacity:1; fill:none\" points=\"1744.79,244.93 2281.53,244.93 2281.53,89.4395 1744.79,89.4395 1744.79,244.93 \"/>\n",
       "<polyline clip-path=\"url(#clip710)\" style=\"stroke:#009af9; stroke-linecap:round; stroke-linejoin:round; stroke-width:3.99924; stroke-opacity:1; fill:none\" points=\"1768.53,141.27 1910.99,141.27 \"/>\n",
       "<path clip-path=\"url(#clip710)\" d=\"M1946.63 135.611 Q1943.2 135.611 1941.21 138.296 Q1939.22 140.957 1939.22 145.609 Q1939.22 150.261 1941.19 152.946 Q1943.18 155.607 1946.63 155.607 Q1950.03 155.607 1952.02 152.922 Q1954.01 150.238 1954.01 145.609 Q1954.01 141.004 1952.02 138.319 Q1950.03 135.611 1946.63 135.611 M1946.63 132.001 Q1952.18 132.001 1955.36 135.611 Q1958.53 139.221 1958.53 145.609 Q1958.53 151.974 1955.36 155.607 Q1952.18 159.218 1946.63 159.218 Q1941.05 159.218 1937.88 155.607 Q1934.73 151.974 1934.73 145.609 Q1934.73 139.221 1937.88 135.611 Q1941.05 132.001 1946.63 132.001 Z\" fill=\"#000000\" fill-rule=\"nonzero\" fill-opacity=\"1\" /><path clip-path=\"url(#clip710)\" d=\"M1965.15 148.317 L1965.15 132.626 L1969.41 132.626 L1969.41 148.155 Q1969.41 151.835 1970.84 153.686 Q1972.28 155.515 1975.15 155.515 Q1978.6 155.515 1980.59 153.316 Q1982.6 151.117 1982.6 147.322 L1982.6 132.626 L1986.86 132.626 L1986.86 158.546 L1982.6 158.546 L1982.6 154.566 Q1981.05 156.926 1978.99 158.084 Q1976.95 159.218 1974.24 159.218 Q1969.78 159.218 1967.46 156.44 Q1965.15 153.663 1965.15 148.317 M1975.87 132.001 L1975.87 132.001 Z\" fill=\"#000000\" fill-rule=\"nonzero\" fill-opacity=\"1\" /><path clip-path=\"url(#clip710)\" d=\"M1999.85 125.266 L1999.85 132.626 L2008.62 132.626 L2008.62 135.935 L1999.85 135.935 L1999.85 150.006 Q1999.85 153.177 2000.7 154.08 Q2001.58 154.982 2004.24 154.982 L2008.62 154.982 L2008.62 158.546 L2004.24 158.546 Q1999.31 158.546 1997.44 156.718 Q1995.56 154.867 1995.56 150.006 L1995.56 135.935 L1992.44 135.935 L1992.44 132.626 L1995.56 132.626 L1995.56 125.266 L1999.85 125.266 Z\" fill=\"#000000\" fill-rule=\"nonzero\" fill-opacity=\"1\" /><path clip-path=\"url(#clip710)\" d=\"M2012.07 143.665 L2024.55 143.665 L2024.55 147.461 L2012.07 147.461 L2012.07 143.665 Z\" fill=\"#000000\" fill-rule=\"nonzero\" fill-opacity=\"1\" /><path clip-path=\"url(#clip710)\" d=\"M2042.25 135.611 Q2038.83 135.611 2036.84 138.296 Q2034.85 140.957 2034.85 145.609 Q2034.85 150.261 2036.81 152.946 Q2038.8 155.607 2042.25 155.607 Q2045.66 155.607 2047.65 152.922 Q2049.64 150.238 2049.64 145.609 Q2049.64 141.004 2047.65 138.319 Q2045.66 135.611 2042.25 135.611 M2042.25 132.001 Q2047.81 132.001 2050.98 135.611 Q2054.15 139.221 2054.15 145.609 Q2054.15 151.974 2050.98 155.607 Q2047.81 159.218 2042.25 159.218 Q2036.68 159.218 2033.5 155.607 Q2030.36 151.974 2030.36 145.609 Q2030.36 139.221 2033.5 135.611 Q2036.68 132.001 2042.25 132.001 Z\" fill=\"#000000\" fill-rule=\"nonzero\" fill-opacity=\"1\" /><path clip-path=\"url(#clip710)\" d=\"M2074.34 122.535 L2074.34 126.076 L2070.26 126.076 Q2067.97 126.076 2067.07 127.002 Q2066.19 127.927 2066.19 130.334 L2066.19 132.626 L2073.2 132.626 L2073.2 135.935 L2066.19 135.935 L2066.19 158.546 L2061.91 158.546 L2061.91 135.935 L2057.83 135.935 L2057.83 132.626 L2061.91 132.626 L2061.91 130.82 Q2061.91 126.492 2063.92 124.525 Q2065.93 122.535 2070.31 122.535 L2074.34 122.535 Z\" fill=\"#000000\" fill-rule=\"nonzero\" fill-opacity=\"1\" /><path clip-path=\"url(#clip710)\" d=\"M2073.16 143.665 L2085.63 143.665 L2085.63 147.461 L2073.16 147.461 L2073.16 143.665 Z\" fill=\"#000000\" fill-rule=\"nonzero\" fill-opacity=\"1\" /><path clip-path=\"url(#clip710)\" d=\"M2108.94 133.389 L2108.94 137.416 Q2107.14 136.491 2105.19 136.028 Q2103.25 135.565 2101.17 135.565 Q2097.99 135.565 2096.4 136.537 Q2094.82 137.509 2094.82 139.453 Q2094.82 140.934 2095.96 141.79 Q2097.09 142.624 2100.52 143.387 L2101.98 143.711 Q2106.51 144.683 2108.41 146.465 Q2110.33 148.224 2110.33 151.395 Q2110.33 155.005 2107.46 157.111 Q2104.61 159.218 2099.61 159.218 Q2097.53 159.218 2095.26 158.801 Q2093.02 158.408 2090.52 157.598 L2090.52 153.2 Q2092.88 154.427 2095.17 155.052 Q2097.46 155.653 2099.71 155.653 Q2102.72 155.653 2104.34 154.635 Q2105.96 153.594 2105.96 151.719 Q2105.96 149.983 2104.78 149.058 Q2103.62 148.132 2099.66 147.275 L2098.18 146.928 Q2094.22 146.095 2092.46 144.382 Q2090.7 142.647 2090.7 139.638 Q2090.7 135.981 2093.3 133.991 Q2095.89 132.001 2100.66 132.001 Q2103.02 132.001 2105.1 132.348 Q2107.18 132.695 2108.94 133.389 Z\" fill=\"#000000\" fill-rule=\"nonzero\" fill-opacity=\"1\" /><path clip-path=\"url(#clip710)\" d=\"M2128.9 145.517 Q2123.73 145.517 2121.74 146.697 Q2119.75 147.877 2119.75 150.724 Q2119.75 152.992 2121.23 154.334 Q2122.74 155.653 2125.31 155.653 Q2128.85 155.653 2130.98 153.154 Q2133.13 150.631 2133.13 146.465 L2133.13 145.517 L2128.9 145.517 M2137.39 143.758 L2137.39 158.546 L2133.13 158.546 L2133.13 154.612 Q2131.67 156.973 2129.5 158.107 Q2127.32 159.218 2124.17 159.218 Q2120.19 159.218 2117.83 156.996 Q2115.49 154.751 2115.49 151.002 Q2115.49 146.627 2118.41 144.406 Q2121.35 142.184 2127.16 142.184 L2133.13 142.184 L2133.13 141.767 Q2133.13 138.828 2131.19 137.231 Q2129.27 135.611 2125.77 135.611 Q2123.55 135.611 2121.44 136.143 Q2119.34 136.676 2117.39 137.74 L2117.39 133.806 Q2119.73 132.903 2121.93 132.464 Q2124.13 132.001 2126.21 132.001 Q2131.84 132.001 2134.61 134.917 Q2137.39 137.833 2137.39 143.758 Z\" fill=\"#000000\" fill-rule=\"nonzero\" fill-opacity=\"1\" /><path clip-path=\"url(#clip710)\" d=\"M2166.35 137.601 Q2167.95 134.732 2170.17 133.366 Q2172.39 132.001 2175.4 132.001 Q2179.45 132.001 2181.65 134.847 Q2183.85 137.671 2183.85 142.901 L2183.85 158.546 L2179.57 158.546 L2179.57 143.04 Q2179.57 139.314 2178.25 137.509 Q2176.93 135.704 2174.22 135.704 Q2170.91 135.704 2168.99 137.902 Q2167.07 140.101 2167.07 143.896 L2167.07 158.546 L2162.79 158.546 L2162.79 143.04 Q2162.79 139.291 2161.47 137.509 Q2160.15 135.704 2157.39 135.704 Q2154.13 135.704 2152.21 137.925 Q2150.29 140.124 2150.29 143.896 L2150.29 158.546 L2146 158.546 L2146 132.626 L2150.29 132.626 L2150.29 136.653 Q2151.74 134.269 2153.78 133.135 Q2155.82 132.001 2158.62 132.001 Q2161.44 132.001 2163.41 133.436 Q2165.4 134.87 2166.35 137.601 Z\" fill=\"#000000\" fill-rule=\"nonzero\" fill-opacity=\"1\" /><path clip-path=\"url(#clip710)\" d=\"M2196.47 154.658 L2196.47 168.406 L2192.18 168.406 L2192.18 132.626 L2196.47 132.626 L2196.47 136.56 Q2197.81 134.246 2199.85 133.135 Q2201.91 132.001 2204.75 132.001 Q2209.48 132.001 2212.42 135.75 Q2215.38 139.499 2215.38 145.609 Q2215.38 151.719 2212.42 155.468 Q2209.48 159.218 2204.75 159.218 Q2201.91 159.218 2199.85 158.107 Q2197.81 156.973 2196.47 154.658 M2210.96 145.609 Q2210.96 140.911 2209.01 138.249 Q2207.09 135.565 2203.71 135.565 Q2200.33 135.565 2198.39 138.249 Q2196.47 140.911 2196.47 145.609 Q2196.47 150.307 2198.39 152.992 Q2200.33 155.653 2203.71 155.653 Q2207.09 155.653 2209.01 152.992 Q2210.96 150.307 2210.96 145.609 Z\" fill=\"#000000\" fill-rule=\"nonzero\" fill-opacity=\"1\" /><path clip-path=\"url(#clip710)\" d=\"M2222.44 122.535 L2226.7 122.535 L2226.7 158.546 L2222.44 158.546 L2222.44 122.535 Z\" fill=\"#000000\" fill-rule=\"nonzero\" fill-opacity=\"1\" /><path clip-path=\"url(#clip710)\" d=\"M2257.79 144.521 L2257.79 146.604 L2238.2 146.604 Q2238.48 151.002 2240.84 153.316 Q2243.23 155.607 2247.46 155.607 Q2249.91 155.607 2252.21 155.005 Q2254.52 154.404 2256.79 153.2 L2256.79 157.227 Q2254.5 158.199 2252.09 158.708 Q2249.68 159.218 2247.21 159.218 Q2241 159.218 2237.37 155.607 Q2233.76 151.997 2233.76 145.841 Q2233.76 139.476 2237.18 135.75 Q2240.63 132.001 2246.47 132.001 Q2251.7 132.001 2254.73 135.38 Q2257.79 138.735 2257.79 144.521 M2253.53 143.272 Q2253.48 139.777 2251.56 137.694 Q2249.66 135.611 2246.51 135.611 Q2242.95 135.611 2240.79 137.625 Q2238.66 139.638 2238.34 143.295 L2253.53 143.272 Z\" fill=\"#000000\" fill-rule=\"nonzero\" fill-opacity=\"1\" /><polyline clip-path=\"url(#clip710)\" style=\"stroke:#e26f46; stroke-linecap:round; stroke-linejoin:round; stroke-width:3.99924; stroke-opacity:1; fill:none\" points=\"1768.53,193.1 1910.99,193.1 \"/>\n",
       "<path clip-path=\"url(#clip710)\" d=\"M1942.14 177.096 L1942.14 184.456 L1950.91 184.456 L1950.91 187.765 L1942.14 187.765 L1942.14 201.837 Q1942.14 205.007 1943 205.91 Q1943.87 206.812 1946.54 206.812 L1950.91 206.812 L1950.91 210.377 L1946.54 210.377 Q1941.61 210.377 1939.73 208.548 Q1937.86 206.697 1937.86 201.837 L1937.86 187.765 L1934.73 187.765 L1934.73 184.456 L1937.86 184.456 L1937.86 177.096 L1942.14 177.096 Z\" fill=\"#000000\" fill-rule=\"nonzero\" fill-opacity=\"1\" /><path clip-path=\"url(#clip710)\" d=\"M1971.54 188.436 Q1970.82 188.02 1969.96 187.835 Q1969.13 187.626 1968.11 187.626 Q1964.5 187.626 1962.56 189.987 Q1960.63 192.325 1960.63 196.722 L1960.63 210.377 L1956.35 210.377 L1956.35 184.456 L1960.63 184.456 L1960.63 188.483 Q1961.98 186.122 1964.13 184.988 Q1966.28 183.831 1969.36 183.831 Q1969.8 183.831 1970.33 183.9 Q1970.87 183.947 1971.51 184.062 L1971.54 188.436 Z\" fill=\"#000000\" fill-rule=\"nonzero\" fill-opacity=\"1\" /><path clip-path=\"url(#clip710)\" d=\"M1987.79 197.347 Q1982.62 197.347 1980.63 198.527 Q1978.64 199.707 1978.64 202.554 Q1978.64 204.822 1980.12 206.164 Q1981.63 207.484 1984.2 207.484 Q1987.74 207.484 1989.87 204.984 Q1992.02 202.461 1992.02 198.296 L1992.02 197.347 L1987.79 197.347 M1996.28 195.588 L1996.28 210.377 L1992.02 210.377 L1992.02 206.442 Q1990.56 208.803 1988.39 209.937 Q1986.21 211.048 1983.06 211.048 Q1979.08 211.048 1976.72 208.826 Q1974.38 206.581 1974.38 202.832 Q1974.38 198.458 1977.3 196.236 Q1980.24 194.014 1986.05 194.014 L1992.02 194.014 L1992.02 193.597 Q1992.02 190.658 1990.08 189.061 Q1988.16 187.441 1984.66 187.441 Q1982.44 187.441 1980.33 187.974 Q1978.23 188.506 1976.28 189.57 L1976.28 185.636 Q1978.62 184.733 1980.82 184.294 Q1983.02 183.831 1985.1 183.831 Q1990.73 183.831 1993.5 186.747 Q1996.28 189.663 1996.28 195.588 Z\" fill=\"#000000\" fill-rule=\"nonzero\" fill-opacity=\"1\" /><path clip-path=\"url(#clip710)\" d=\"M2005.06 184.456 L2009.31 184.456 L2009.31 210.377 L2005.06 210.377 L2005.06 184.456 M2005.06 174.365 L2009.31 174.365 L2009.31 179.758 L2005.06 179.758 L2005.06 174.365 Z\" fill=\"#000000\" fill-rule=\"nonzero\" fill-opacity=\"1\" /><path clip-path=\"url(#clip710)\" d=\"M2039.78 194.731 L2039.78 210.377 L2035.52 210.377 L2035.52 194.87 Q2035.52 191.19 2034.08 189.362 Q2032.65 187.534 2029.78 187.534 Q2026.33 187.534 2024.34 189.732 Q2022.35 191.931 2022.35 195.727 L2022.35 210.377 L2018.06 210.377 L2018.06 184.456 L2022.35 184.456 L2022.35 188.483 Q2023.87 186.145 2025.93 184.988 Q2028.02 183.831 2030.73 183.831 Q2035.19 183.831 2037.49 186.608 Q2039.78 189.362 2039.78 194.731 Z\" fill=\"#000000\" fill-rule=\"nonzero\" fill-opacity=\"1\" /><path clip-path=\"url(#clip710)\" d=\"M2048.27 184.456 L2052.53 184.456 L2052.53 210.377 L2048.27 210.377 L2048.27 184.456 M2048.27 174.365 L2052.53 174.365 L2052.53 179.758 L2048.27 179.758 L2048.27 174.365 Z\" fill=\"#000000\" fill-rule=\"nonzero\" fill-opacity=\"1\" /><path clip-path=\"url(#clip710)\" d=\"M2082.99 194.731 L2082.99 210.377 L2078.74 210.377 L2078.74 194.87 Q2078.74 191.19 2077.3 189.362 Q2075.86 187.534 2072.99 187.534 Q2069.55 187.534 2067.55 189.732 Q2065.56 191.931 2065.56 195.727 L2065.56 210.377 L2061.28 210.377 L2061.28 184.456 L2065.56 184.456 L2065.56 188.483 Q2067.09 186.145 2069.15 184.988 Q2071.24 183.831 2073.94 183.831 Q2078.41 183.831 2080.7 186.608 Q2082.99 189.362 2082.99 194.731 Z\" fill=\"#000000\" fill-rule=\"nonzero\" fill-opacity=\"1\" /><path clip-path=\"url(#clip710)\" d=\"M2108.55 197.115 Q2108.55 192.487 2106.63 189.941 Q2104.73 187.395 2101.28 187.395 Q2097.86 187.395 2095.93 189.941 Q2094.04 192.487 2094.04 197.115 Q2094.04 201.721 2095.93 204.267 Q2097.86 206.812 2101.28 206.812 Q2104.73 206.812 2106.63 204.267 Q2108.55 201.721 2108.55 197.115 M2112.81 207.16 Q2112.81 213.779 2109.87 216.996 Q2106.93 220.236 2100.86 220.236 Q2098.62 220.236 2096.63 219.889 Q2094.64 219.565 2092.76 218.87 L2092.76 214.728 Q2094.64 215.746 2096.47 216.232 Q2098.3 216.718 2100.19 216.718 Q2104.38 216.718 2106.47 214.519 Q2108.55 212.344 2108.55 207.923 L2108.55 205.817 Q2107.23 208.108 2105.17 209.243 Q2103.11 210.377 2100.24 210.377 Q2095.47 210.377 2092.55 206.743 Q2089.64 203.109 2089.64 197.115 Q2089.64 191.098 2092.55 187.464 Q2095.47 183.831 2100.24 183.831 Q2103.11 183.831 2105.17 184.965 Q2107.23 186.099 2108.55 188.39 L2108.55 184.456 L2112.81 184.456 L2112.81 207.16 Z\" fill=\"#000000\" fill-rule=\"nonzero\" fill-opacity=\"1\" /></svg>\n"
      ],
      "text/html": [
       "<?xml version=\"1.0\" encoding=\"utf-8\"?>\n",
       "<svg xmlns=\"http://www.w3.org/2000/svg\" xmlns:xlink=\"http://www.w3.org/1999/xlink\" width=\"600\" height=\"370.75\" viewBox=\"0 0 2400 1483\">\n",
       "<defs>\n",
       "  <clipPath id=\"clip760\">\n",
       "    <rect x=\"0\" y=\"0\" width=\"2400\" height=\"1483\"/>\n",
       "  </clipPath>\n",
       "</defs>\n",
       "<path clip-path=\"url(#clip760)\" d=\"M0 1483 L2400 1483 L2400 -2.27374e-13 L0 -2.27374e-13  Z\" fill=\"#ffffff\" fill-rule=\"evenodd\" fill-opacity=\"1\"/>\n",
       "<defs>\n",
       "  <clipPath id=\"clip761\">\n",
       "    <rect x=\"480\" y=\"0\" width=\"1681\" height=\"1483\"/>\n",
       "  </clipPath>\n",
       "</defs>\n",
       "<path clip-path=\"url(#clip760)\" d=\"M215.914 1313.37 L2352.76 1313.37 L2352.76 47.2351 L215.914 47.2351  Z\" fill=\"#ffffff\" fill-rule=\"evenodd\" fill-opacity=\"1\"/>\n",
       "<defs>\n",
       "  <clipPath id=\"clip762\">\n",
       "    <rect x=\"215\" y=\"47\" width=\"2138\" height=\"1267\"/>\n",
       "  </clipPath>\n",
       "</defs>\n",
       "<polyline clip-path=\"url(#clip762)\" style=\"stroke:#000000; stroke-linecap:round; stroke-linejoin:round; stroke-width:1.99962; stroke-opacity:0.1; fill:none\" points=\"477.979,1313.37 477.979,47.2351 \"/>\n",
       "<polyline clip-path=\"url(#clip762)\" style=\"stroke:#000000; stroke-linecap:round; stroke-linejoin:round; stroke-width:1.99962; stroke-opacity:0.1; fill:none\" points=\"813.961,1313.37 813.961,47.2351 \"/>\n",
       "<polyline clip-path=\"url(#clip762)\" style=\"stroke:#000000; stroke-linecap:round; stroke-linejoin:round; stroke-width:1.99962; stroke-opacity:0.1; fill:none\" points=\"1149.94,1313.37 1149.94,47.2351 \"/>\n",
       "<polyline clip-path=\"url(#clip762)\" style=\"stroke:#000000; stroke-linecap:round; stroke-linejoin:round; stroke-width:1.99962; stroke-opacity:0.1; fill:none\" points=\"1485.92,1313.37 1485.92,47.2351 \"/>\n",
       "<polyline clip-path=\"url(#clip762)\" style=\"stroke:#000000; stroke-linecap:round; stroke-linejoin:round; stroke-width:1.99962; stroke-opacity:0.1; fill:none\" points=\"1821.91,1313.37 1821.91,47.2351 \"/>\n",
       "<polyline clip-path=\"url(#clip762)\" style=\"stroke:#000000; stroke-linecap:round; stroke-linejoin:round; stroke-width:1.99962; stroke-opacity:0.1; fill:none\" points=\"2157.89,1313.37 2157.89,47.2351 \"/>\n",
       "<polyline clip-path=\"url(#clip760)\" style=\"stroke:#000000; stroke-linecap:round; stroke-linejoin:round; stroke-width:3.99924; stroke-opacity:1; fill:none\" points=\"215.914,1313.37 2352.76,1313.37 \"/>\n",
       "<polyline clip-path=\"url(#clip760)\" style=\"stroke:#000000; stroke-linecap:round; stroke-linejoin:round; stroke-width:3.99924; stroke-opacity:1; fill:none\" points=\"477.979,1313.37 477.979,1294.47 \"/>\n",
       "<polyline clip-path=\"url(#clip760)\" style=\"stroke:#000000; stroke-linecap:round; stroke-linejoin:round; stroke-width:3.99924; stroke-opacity:1; fill:none\" points=\"813.961,1313.37 813.961,1294.47 \"/>\n",
       "<polyline clip-path=\"url(#clip760)\" style=\"stroke:#000000; stroke-linecap:round; stroke-linejoin:round; stroke-width:3.99924; stroke-opacity:1; fill:none\" points=\"1149.94,1313.37 1149.94,1294.47 \"/>\n",
       "<polyline clip-path=\"url(#clip760)\" style=\"stroke:#000000; stroke-linecap:round; stroke-linejoin:round; stroke-width:3.99924; stroke-opacity:1; fill:none\" points=\"1485.92,1313.37 1485.92,1294.47 \"/>\n",
       "<polyline clip-path=\"url(#clip760)\" style=\"stroke:#000000; stroke-linecap:round; stroke-linejoin:round; stroke-width:3.99924; stroke-opacity:1; fill:none\" points=\"1821.91,1313.37 1821.91,1294.47 \"/>\n",
       "<polyline clip-path=\"url(#clip760)\" style=\"stroke:#000000; stroke-linecap:round; stroke-linejoin:round; stroke-width:3.99924; stroke-opacity:1; fill:none\" points=\"2157.89,1313.37 2157.89,1294.47 \"/>\n",
       "<path clip-path=\"url(#clip760)\" d=\"M468.257 1341.2 L486.613 1341.2 L486.613 1345.14 L472.539 1345.14 L472.539 1353.61 Q473.558 1353.26 474.576 1353.1 Q475.595 1352.91 476.613 1352.91 Q482.4 1352.91 485.78 1356.08 Q489.16 1359.25 489.16 1364.67 Q489.16 1370.25 485.687 1373.35 Q482.215 1376.43 475.896 1376.43 Q473.72 1376.43 471.451 1376.06 Q469.206 1375.69 466.799 1374.95 L466.799 1370.25 Q468.882 1371.38 471.104 1371.94 Q473.326 1372.49 475.803 1372.49 Q479.808 1372.49 482.146 1370.39 Q484.484 1368.28 484.484 1364.67 Q484.484 1361.06 482.146 1358.95 Q479.808 1356.85 475.803 1356.85 Q473.928 1356.85 472.053 1357.26 Q470.201 1357.68 468.257 1358.56 L468.257 1341.2 Z\" fill=\"#000000\" fill-rule=\"nonzero\" fill-opacity=\"1\" /><path clip-path=\"url(#clip760)\" d=\"M788.648 1371.82 L796.287 1371.82 L796.287 1345.46 L787.977 1347.13 L787.977 1342.87 L796.241 1341.2 L800.917 1341.2 L800.917 1371.82 L808.556 1371.82 L808.556 1375.76 L788.648 1375.76 L788.648 1371.82 Z\" fill=\"#000000\" fill-rule=\"nonzero\" fill-opacity=\"1\" /><path clip-path=\"url(#clip760)\" d=\"M828 1344.28 Q824.389 1344.28 822.56 1347.84 Q820.755 1351.38 820.755 1358.51 Q820.755 1365.62 822.56 1369.18 Q824.389 1372.72 828 1372.72 Q831.634 1372.72 833.44 1369.18 Q835.268 1365.62 835.268 1358.51 Q835.268 1351.38 833.44 1347.84 Q831.634 1344.28 828 1344.28 M828 1340.58 Q833.81 1340.58 836.866 1345.18 Q839.944 1349.76 839.944 1358.51 Q839.944 1367.24 836.866 1371.84 Q833.81 1376.43 828 1376.43 Q822.19 1376.43 819.111 1371.84 Q816.056 1367.24 816.056 1358.51 Q816.056 1349.76 819.111 1345.18 Q822.19 1340.58 828 1340.58 Z\" fill=\"#000000\" fill-rule=\"nonzero\" fill-opacity=\"1\" /><path clip-path=\"url(#clip760)\" d=\"M1125.13 1371.82 L1132.77 1371.82 L1132.77 1345.46 L1124.46 1347.13 L1124.46 1342.87 L1132.72 1341.2 L1137.4 1341.2 L1137.4 1371.82 L1145.03 1371.82 L1145.03 1375.76 L1125.13 1375.76 L1125.13 1371.82 Z\" fill=\"#000000\" fill-rule=\"nonzero\" fill-opacity=\"1\" /><path clip-path=\"url(#clip760)\" d=\"M1154.53 1341.2 L1172.88 1341.2 L1172.88 1345.14 L1158.81 1345.14 L1158.81 1353.61 Q1159.83 1353.26 1160.84 1353.1 Q1161.86 1352.91 1162.88 1352.91 Q1168.67 1352.91 1172.05 1356.08 Q1175.43 1359.25 1175.43 1364.67 Q1175.43 1370.25 1171.96 1373.35 Q1168.48 1376.43 1162.16 1376.43 Q1159.99 1376.43 1157.72 1376.06 Q1155.47 1375.69 1153.07 1374.95 L1153.07 1370.25 Q1155.15 1371.38 1157.37 1371.94 Q1159.59 1372.49 1162.07 1372.49 Q1166.08 1372.49 1168.41 1370.39 Q1170.75 1368.28 1170.75 1364.67 Q1170.75 1361.06 1168.41 1358.95 Q1166.08 1356.85 1162.07 1356.85 Q1160.2 1356.85 1158.32 1357.26 Q1156.47 1357.68 1154.53 1358.56 L1154.53 1341.2 Z\" fill=\"#000000\" fill-rule=\"nonzero\" fill-opacity=\"1\" /><path clip-path=\"url(#clip760)\" d=\"M1464.7 1371.82 L1481.02 1371.82 L1481.02 1375.76 L1459.07 1375.76 L1459.07 1371.82 Q1461.73 1369.07 1466.32 1364.44 Q1470.92 1359.79 1472.1 1358.44 Q1474.35 1355.92 1475.23 1354.19 Q1476.13 1352.43 1476.13 1350.74 Q1476.13 1347.98 1474.19 1346.25 Q1472.27 1344.51 1469.16 1344.51 Q1466.97 1344.51 1464.51 1345.27 Q1462.08 1346.04 1459.3 1347.59 L1459.3 1342.87 Q1462.13 1341.73 1464.58 1341.16 Q1467.03 1340.58 1469.07 1340.58 Q1474.44 1340.58 1477.64 1343.26 Q1480.83 1345.95 1480.83 1350.44 Q1480.83 1352.57 1480.02 1354.49 Q1479.23 1356.38 1477.13 1358.98 Q1476.55 1359.65 1473.45 1362.86 Q1470.35 1366.06 1464.7 1371.82 Z\" fill=\"#000000\" fill-rule=\"nonzero\" fill-opacity=\"1\" /><path clip-path=\"url(#clip760)\" d=\"M1500.83 1344.28 Q1497.22 1344.28 1495.39 1347.84 Q1493.59 1351.38 1493.59 1358.51 Q1493.59 1365.62 1495.39 1369.18 Q1497.22 1372.72 1500.83 1372.72 Q1504.47 1372.72 1506.27 1369.18 Q1508.1 1365.62 1508.1 1358.51 Q1508.1 1351.38 1506.27 1347.84 Q1504.47 1344.28 1500.83 1344.28 M1500.83 1340.58 Q1506.64 1340.58 1509.7 1345.18 Q1512.78 1349.76 1512.78 1358.51 Q1512.78 1367.24 1509.7 1371.84 Q1506.64 1376.43 1500.83 1376.43 Q1495.02 1376.43 1491.94 1371.84 Q1488.89 1367.24 1488.89 1358.51 Q1488.89 1349.76 1491.94 1345.18 Q1495.02 1340.58 1500.83 1340.58 Z\" fill=\"#000000\" fill-rule=\"nonzero\" fill-opacity=\"1\" /><path clip-path=\"url(#clip760)\" d=\"M1801.18 1371.82 L1817.5 1371.82 L1817.5 1375.76 L1795.55 1375.76 L1795.55 1371.82 Q1798.21 1369.07 1802.8 1364.44 Q1807.4 1359.79 1808.58 1358.44 Q1810.83 1355.92 1811.71 1354.19 Q1812.61 1352.43 1812.61 1350.74 Q1812.61 1347.98 1810.67 1346.25 Q1808.75 1344.51 1805.64 1344.51 Q1803.44 1344.51 1800.99 1345.27 Q1798.56 1346.04 1795.78 1347.59 L1795.78 1342.87 Q1798.61 1341.73 1801.06 1341.16 Q1803.51 1340.58 1805.55 1340.58 Q1810.92 1340.58 1814.12 1343.26 Q1817.31 1345.95 1817.31 1350.44 Q1817.31 1352.57 1816.5 1354.49 Q1815.71 1356.38 1813.61 1358.98 Q1813.03 1359.65 1809.93 1362.86 Q1806.82 1366.06 1801.18 1371.82 Z\" fill=\"#000000\" fill-rule=\"nonzero\" fill-opacity=\"1\" /><path clip-path=\"url(#clip760)\" d=\"M1827.36 1341.2 L1845.71 1341.2 L1845.71 1345.14 L1831.64 1345.14 L1831.64 1353.61 Q1832.66 1353.26 1833.68 1353.1 Q1834.69 1352.91 1835.71 1352.91 Q1841.5 1352.91 1844.88 1356.08 Q1848.26 1359.25 1848.26 1364.67 Q1848.26 1370.25 1844.79 1373.35 Q1841.31 1376.43 1835 1376.43 Q1832.82 1376.43 1830.55 1376.06 Q1828.31 1375.69 1825.9 1374.95 L1825.9 1370.25 Q1827.98 1371.38 1830.2 1371.94 Q1832.43 1372.49 1834.9 1372.49 Q1838.91 1372.49 1841.25 1370.39 Q1843.58 1368.28 1843.58 1364.67 Q1843.58 1361.06 1841.25 1358.95 Q1838.91 1356.85 1834.9 1356.85 Q1833.03 1356.85 1831.15 1357.26 Q1829.3 1357.68 1827.36 1358.56 L1827.36 1341.2 Z\" fill=\"#000000\" fill-rule=\"nonzero\" fill-opacity=\"1\" /><path clip-path=\"url(#clip760)\" d=\"M2146.73 1357.12 Q2150.09 1357.84 2151.96 1360.11 Q2153.86 1362.38 2153.86 1365.71 Q2153.86 1370.83 2150.34 1373.63 Q2146.82 1376.43 2140.34 1376.43 Q2138.16 1376.43 2135.85 1375.99 Q2133.56 1375.57 2131.1 1374.71 L2131.1 1370.2 Q2133.05 1371.33 2135.36 1371.91 Q2137.68 1372.49 2140.2 1372.49 Q2144.6 1372.49 2146.89 1370.76 Q2149.21 1369.02 2149.21 1365.71 Q2149.21 1362.66 2147.05 1360.94 Q2144.92 1359.21 2141.1 1359.21 L2137.08 1359.21 L2137.08 1355.37 L2141.29 1355.37 Q2144.74 1355.37 2146.57 1354 Q2148.4 1352.61 2148.4 1350.02 Q2148.4 1347.36 2146.5 1345.95 Q2144.62 1344.51 2141.1 1344.51 Q2139.18 1344.51 2136.98 1344.93 Q2134.78 1345.34 2132.15 1346.22 L2132.15 1342.06 Q2134.81 1341.32 2137.12 1340.95 Q2139.46 1340.58 2141.52 1340.58 Q2146.85 1340.58 2149.95 1343.01 Q2153.05 1345.41 2153.05 1349.53 Q2153.05 1352.4 2151.41 1354.39 Q2149.76 1356.36 2146.73 1357.12 Z\" fill=\"#000000\" fill-rule=\"nonzero\" fill-opacity=\"1\" /><path clip-path=\"url(#clip760)\" d=\"M2172.72 1344.28 Q2169.11 1344.28 2167.28 1347.84 Q2165.48 1351.38 2165.48 1358.51 Q2165.48 1365.62 2167.28 1369.18 Q2169.11 1372.72 2172.72 1372.72 Q2176.36 1372.72 2178.16 1369.18 Q2179.99 1365.62 2179.99 1358.51 Q2179.99 1351.38 2178.16 1347.84 Q2176.36 1344.28 2172.72 1344.28 M2172.72 1340.58 Q2178.53 1340.58 2181.59 1345.18 Q2184.67 1349.76 2184.67 1358.51 Q2184.67 1367.24 2181.59 1371.84 Q2178.53 1376.43 2172.72 1376.43 Q2166.91 1376.43 2163.84 1371.84 Q2160.78 1367.24 2160.78 1358.51 Q2160.78 1349.76 2163.84 1345.18 Q2166.91 1340.58 2172.72 1340.58 Z\" fill=\"#000000\" fill-rule=\"nonzero\" fill-opacity=\"1\" /><path clip-path=\"url(#clip760)\" d=\"M1222.68 1438.92 L1222.68 1441.78 L1195.76 1441.78 Q1196.14 1447.83 1199.38 1451.01 Q1202.66 1454.16 1208.49 1454.16 Q1211.86 1454.16 1215.01 1453.33 Q1218.2 1452.51 1221.31 1450.85 L1221.31 1456.39 Q1218.16 1457.73 1214.85 1458.43 Q1211.54 1459.13 1208.14 1459.13 Q1199.61 1459.13 1194.61 1454.16 Q1189.64 1449.2 1189.64 1440.73 Q1189.64 1431.98 1194.36 1426.86 Q1199.1 1421.7 1207.12 1421.7 Q1214.31 1421.7 1218.48 1426.35 Q1222.68 1430.96 1222.68 1438.92 M1216.83 1437.2 Q1216.76 1432.4 1214.12 1429.53 Q1211.51 1426.67 1207.18 1426.67 Q1202.28 1426.67 1199.32 1429.44 Q1196.39 1432.2 1195.95 1437.23 L1216.83 1437.2 Z\" fill=\"#000000\" fill-rule=\"nonzero\" fill-opacity=\"1\" /><path clip-path=\"url(#clip760)\" d=\"M1237.96 1452.86 L1237.96 1471.76 L1232.07 1471.76 L1232.07 1422.56 L1237.96 1422.56 L1237.96 1427.97 Q1239.81 1424.79 1242.61 1423.26 Q1245.44 1421.7 1249.36 1421.7 Q1255.85 1421.7 1259.89 1426.86 Q1263.96 1432.01 1263.96 1440.41 Q1263.96 1448.82 1259.89 1453.97 Q1255.85 1459.13 1249.36 1459.13 Q1245.44 1459.13 1242.61 1457.6 Q1239.81 1456.04 1237.96 1452.86 M1257.89 1440.41 Q1257.89 1433.95 1255.21 1430.3 Q1252.57 1426.6 1247.92 1426.6 Q1243.28 1426.6 1240.6 1430.3 Q1237.96 1433.95 1237.96 1440.41 Q1237.96 1446.87 1240.6 1450.57 Q1243.28 1454.23 1247.92 1454.23 Q1252.57 1454.23 1255.21 1450.57 Q1257.89 1446.87 1257.89 1440.41 Z\" fill=\"#000000\" fill-rule=\"nonzero\" fill-opacity=\"1\" /><path clip-path=\"url(#clip760)\" d=\"M1287.49 1426.67 Q1282.78 1426.67 1280.04 1430.36 Q1277.3 1434.02 1277.3 1440.41 Q1277.3 1446.81 1280.01 1450.5 Q1282.74 1454.16 1287.49 1454.16 Q1292.16 1454.16 1294.9 1450.47 Q1297.64 1446.78 1297.64 1440.41 Q1297.64 1434.08 1294.9 1430.39 Q1292.16 1426.67 1287.49 1426.67 M1287.49 1421.7 Q1295.12 1421.7 1299.49 1426.67 Q1303.85 1431.63 1303.85 1440.41 Q1303.85 1449.17 1299.49 1454.16 Q1295.12 1459.13 1287.49 1459.13 Q1279.82 1459.13 1275.45 1454.16 Q1271.13 1449.17 1271.13 1440.41 Q1271.13 1431.63 1275.45 1426.67 Q1279.82 1421.7 1287.49 1421.7 Z\" fill=\"#000000\" fill-rule=\"nonzero\" fill-opacity=\"1\" /><path clip-path=\"url(#clip760)\" d=\"M1339.21 1423.93 L1339.21 1429.4 Q1336.72 1428.04 1334.21 1427.37 Q1331.73 1426.67 1329.18 1426.67 Q1323.48 1426.67 1320.33 1430.3 Q1317.18 1433.89 1317.18 1440.41 Q1317.18 1446.94 1320.33 1450.57 Q1323.48 1454.16 1329.18 1454.16 Q1331.73 1454.16 1334.21 1453.49 Q1336.72 1452.79 1339.21 1451.43 L1339.21 1456.84 Q1336.76 1457.98 1334.11 1458.55 Q1331.5 1459.13 1328.54 1459.13 Q1320.49 1459.13 1315.75 1454.07 Q1311.01 1449.01 1311.01 1440.41 Q1311.01 1431.7 1315.78 1426.7 Q1320.59 1421.7 1328.93 1421.7 Q1331.63 1421.7 1334.21 1422.28 Q1336.79 1422.82 1339.21 1423.93 Z\" fill=\"#000000\" fill-rule=\"nonzero\" fill-opacity=\"1\" /><path clip-path=\"url(#clip760)\" d=\"M1379.02 1436.69 L1379.02 1458.2 L1373.17 1458.2 L1373.17 1436.88 Q1373.17 1431.82 1371.19 1429.31 Q1369.22 1426.79 1365.27 1426.79 Q1360.53 1426.79 1357.8 1429.82 Q1355.06 1432.84 1355.06 1438.06 L1355.06 1458.2 L1349.17 1458.2 L1349.17 1408.69 L1355.06 1408.69 L1355.06 1428.1 Q1357.16 1424.89 1359.99 1423.29 Q1362.86 1421.7 1366.58 1421.7 Q1372.72 1421.7 1375.87 1425.52 Q1379.02 1429.31 1379.02 1436.69 Z\" fill=\"#000000\" fill-rule=\"nonzero\" fill-opacity=\"1\" /><polyline clip-path=\"url(#clip762)\" style=\"stroke:#000000; stroke-linecap:round; stroke-linejoin:round; stroke-width:1.99962; stroke-opacity:0.1; fill:none\" points=\"215.914,1283.21 2352.76,1283.21 \"/>\n",
       "<polyline clip-path=\"url(#clip762)\" style=\"stroke:#000000; stroke-linecap:round; stroke-linejoin:round; stroke-width:1.99962; stroke-opacity:0.1; fill:none\" points=\"215.914,1015.6 2352.76,1015.6 \"/>\n",
       "<polyline clip-path=\"url(#clip762)\" style=\"stroke:#000000; stroke-linecap:round; stroke-linejoin:round; stroke-width:1.99962; stroke-opacity:0.1; fill:none\" points=\"215.914,747.996 2352.76,747.996 \"/>\n",
       "<polyline clip-path=\"url(#clip762)\" style=\"stroke:#000000; stroke-linecap:round; stroke-linejoin:round; stroke-width:1.99962; stroke-opacity:0.1; fill:none\" points=\"215.914,480.389 2352.76,480.389 \"/>\n",
       "<polyline clip-path=\"url(#clip762)\" style=\"stroke:#000000; stroke-linecap:round; stroke-linejoin:round; stroke-width:1.99962; stroke-opacity:0.1; fill:none\" points=\"215.914,212.782 2352.76,212.782 \"/>\n",
       "<polyline clip-path=\"url(#clip760)\" style=\"stroke:#000000; stroke-linecap:round; stroke-linejoin:round; stroke-width:3.99924; stroke-opacity:1; fill:none\" points=\"215.914,1313.37 215.914,47.2351 \"/>\n",
       "<polyline clip-path=\"url(#clip760)\" style=\"stroke:#000000; stroke-linecap:round; stroke-linejoin:round; stroke-width:3.99924; stroke-opacity:1; fill:none\" points=\"215.914,1283.21 234.811,1283.21 \"/>\n",
       "<polyline clip-path=\"url(#clip760)\" style=\"stroke:#000000; stroke-linecap:round; stroke-linejoin:round; stroke-width:3.99924; stroke-opacity:1; fill:none\" points=\"215.914,1015.6 234.811,1015.6 \"/>\n",
       "<polyline clip-path=\"url(#clip760)\" style=\"stroke:#000000; stroke-linecap:round; stroke-linejoin:round; stroke-width:3.99924; stroke-opacity:1; fill:none\" points=\"215.914,747.996 234.811,747.996 \"/>\n",
       "<polyline clip-path=\"url(#clip760)\" style=\"stroke:#000000; stroke-linecap:round; stroke-linejoin:round; stroke-width:3.99924; stroke-opacity:1; fill:none\" points=\"215.914,480.389 234.811,480.389 \"/>\n",
       "<polyline clip-path=\"url(#clip760)\" style=\"stroke:#000000; stroke-linecap:round; stroke-linejoin:round; stroke-width:3.99924; stroke-opacity:1; fill:none\" points=\"215.914,212.782 234.811,212.782 \"/>\n",
       "<path clip-path=\"url(#clip760)\" d=\"M122.738 1269.01 Q119.127 1269.01 117.298 1272.58 Q115.493 1276.12 115.493 1283.25 Q115.493 1290.35 117.298 1293.91 Q119.127 1297.46 122.738 1297.46 Q126.372 1297.46 128.178 1293.91 Q130.006 1290.35 130.006 1283.25 Q130.006 1276.12 128.178 1272.58 Q126.372 1269.01 122.738 1269.01 M122.738 1265.31 Q128.548 1265.31 131.604 1269.92 Q134.682 1274.5 134.682 1283.25 Q134.682 1291.97 131.604 1296.58 Q128.548 1301.16 122.738 1301.16 Q116.928 1301.16 113.849 1296.58 Q110.794 1291.97 110.794 1283.25 Q110.794 1274.5 113.849 1269.92 Q116.928 1265.31 122.738 1265.31 Z\" fill=\"#000000\" fill-rule=\"nonzero\" fill-opacity=\"1\" /><path clip-path=\"url(#clip760)\" d=\"M142.9 1294.61 L147.784 1294.61 L147.784 1300.49 L142.9 1300.49 L142.9 1294.61 Z\" fill=\"#000000\" fill-rule=\"nonzero\" fill-opacity=\"1\" /><path clip-path=\"url(#clip760)\" d=\"M167.969 1269.01 Q164.358 1269.01 162.529 1272.58 Q160.724 1276.12 160.724 1283.25 Q160.724 1290.35 162.529 1293.91 Q164.358 1297.46 167.969 1297.46 Q171.603 1297.46 173.409 1293.91 Q175.238 1290.35 175.238 1283.25 Q175.238 1276.12 173.409 1272.58 Q171.603 1269.01 167.969 1269.01 M167.969 1265.31 Q173.779 1265.31 176.835 1269.92 Q179.914 1274.5 179.914 1283.25 Q179.914 1291.97 176.835 1296.58 Q173.779 1301.16 167.969 1301.16 Q162.159 1301.16 159.08 1296.58 Q156.025 1291.97 156.025 1283.25 Q156.025 1274.5 159.08 1269.92 Q162.159 1265.31 167.969 1265.31 Z\" fill=\"#000000\" fill-rule=\"nonzero\" fill-opacity=\"1\" /><path clip-path=\"url(#clip760)\" d=\"M123.733 1001.41 Q120.122 1001.41 118.294 1004.97 Q116.488 1008.51 116.488 1015.64 Q116.488 1022.74 118.294 1026.31 Q120.122 1029.85 123.733 1029.85 Q127.368 1029.85 129.173 1026.31 Q131.002 1022.74 131.002 1015.64 Q131.002 1008.51 129.173 1004.97 Q127.368 1001.41 123.733 1001.41 M123.733 997.702 Q129.544 997.702 132.599 1002.31 Q135.678 1006.89 135.678 1015.64 Q135.678 1024.36 132.599 1028.97 Q129.544 1033.55 123.733 1033.55 Q117.923 1033.55 114.845 1028.97 Q111.789 1024.36 111.789 1015.64 Q111.789 1006.89 114.845 1002.31 Q117.923 997.702 123.733 997.702 Z\" fill=\"#000000\" fill-rule=\"nonzero\" fill-opacity=\"1\" /><path clip-path=\"url(#clip760)\" d=\"M143.895 1027 L148.78 1027 L148.78 1032.88 L143.895 1032.88 L143.895 1027 Z\" fill=\"#000000\" fill-rule=\"nonzero\" fill-opacity=\"1\" /><path clip-path=\"url(#clip760)\" d=\"M159.011 998.327 L177.367 998.327 L177.367 1002.26 L163.293 1002.26 L163.293 1010.73 Q164.312 1010.38 165.33 1010.22 Q166.349 1010.04 167.367 1010.04 Q173.154 1010.04 176.534 1013.21 Q179.914 1016.38 179.914 1021.79 Q179.914 1027.37 176.441 1030.47 Q172.969 1033.55 166.65 1033.55 Q164.474 1033.55 162.205 1033.18 Q159.96 1032.81 157.553 1032.07 L157.553 1027.37 Q159.636 1028.51 161.858 1029.06 Q164.08 1029.62 166.557 1029.62 Q170.562 1029.62 172.9 1027.51 Q175.238 1025.41 175.238 1021.79 Q175.238 1018.18 172.9 1016.08 Q170.562 1013.97 166.557 1013.97 Q164.682 1013.97 162.807 1014.39 Q160.955 1014.81 159.011 1015.68 L159.011 998.327 Z\" fill=\"#000000\" fill-rule=\"nonzero\" fill-opacity=\"1\" /><path clip-path=\"url(#clip760)\" d=\"M113.548 761.339 L121.187 761.339 L121.187 734.978 L112.877 736.645 L112.877 732.386 L121.141 730.72 L125.817 730.72 L125.817 761.339 L133.456 761.339 L133.456 765.273 L113.548 765.273 L113.548 761.339 Z\" fill=\"#000000\" fill-rule=\"nonzero\" fill-opacity=\"1\" /><path clip-path=\"url(#clip760)\" d=\"M142.9 759.395 L147.784 759.395 L147.784 765.273 L142.9 765.273 L142.9 759.395 Z\" fill=\"#000000\" fill-rule=\"nonzero\" fill-opacity=\"1\" /><path clip-path=\"url(#clip760)\" d=\"M167.969 733.798 Q164.358 733.798 162.529 737.362 Q160.724 740.903 160.724 748.031 Q160.724 755.136 162.529 758.7 Q164.358 762.241 167.969 762.241 Q171.603 762.241 173.409 758.7 Q175.238 755.136 175.238 748.031 Q175.238 740.903 173.409 737.362 Q171.603 733.798 167.969 733.798 M167.969 730.095 Q173.779 730.095 176.835 734.7 Q179.914 739.283 179.914 748.031 Q179.914 756.756 176.835 761.362 Q173.779 765.944 167.969 765.944 Q162.159 765.944 159.08 761.362 Q156.025 756.756 156.025 748.031 Q156.025 739.283 159.08 734.7 Q162.159 730.095 167.969 730.095 Z\" fill=\"#000000\" fill-rule=\"nonzero\" fill-opacity=\"1\" /><path clip-path=\"url(#clip760)\" d=\"M114.544 493.732 L122.182 493.732 L122.182 467.371 L113.872 469.037 L113.872 464.779 L122.136 463.112 L126.812 463.112 L126.812 493.732 L134.451 493.732 L134.451 497.666 L114.544 497.666 L114.544 493.732 Z\" fill=\"#000000\" fill-rule=\"nonzero\" fill-opacity=\"1\" /><path clip-path=\"url(#clip760)\" d=\"M143.895 491.787 L148.78 491.787 L148.78 497.666 L143.895 497.666 L143.895 491.787 Z\" fill=\"#000000\" fill-rule=\"nonzero\" fill-opacity=\"1\" /><path clip-path=\"url(#clip760)\" d=\"M159.011 463.112 L177.367 463.112 L177.367 467.047 L163.293 467.047 L163.293 475.517 Q164.312 475.17 165.33 475.008 Q166.349 474.823 167.367 474.823 Q173.154 474.823 176.534 477.994 Q179.914 481.165 179.914 486.58 Q179.914 492.158 176.441 495.259 Q172.969 498.337 166.65 498.337 Q164.474 498.337 162.205 497.967 Q159.96 497.596 157.553 496.856 L157.553 492.158 Q159.636 493.292 161.858 493.847 Q164.08 494.403 166.557 494.403 Q170.562 494.403 172.9 492.297 Q175.238 490.191 175.238 486.58 Q175.238 482.97 172.9 480.864 Q170.562 478.758 166.557 478.758 Q164.682 478.758 162.807 479.174 Q160.955 479.591 159.011 480.47 L159.011 463.112 Z\" fill=\"#000000\" fill-rule=\"nonzero\" fill-opacity=\"1\" /><path clip-path=\"url(#clip760)\" d=\"M116.766 226.124 L133.085 226.124 L133.085 230.059 L111.141 230.059 L111.141 226.124 Q113.803 223.37 118.386 218.741 Q122.993 214.09 124.173 212.747 Q126.419 210.225 127.298 208.489 Q128.201 206.73 128.201 205.04 Q128.201 202.286 126.257 200.551 Q124.335 198.815 121.233 198.815 Q119.034 198.815 116.581 199.578 Q114.15 200.342 111.372 201.893 L111.372 197.172 Q114.196 196.038 116.65 195.459 Q119.104 194.88 121.141 194.88 Q126.511 194.88 129.706 197.565 Q132.9 200.25 132.9 204.74 Q132.9 206.869 132.09 208.79 Q131.303 210.687 129.196 213.28 Q128.618 213.951 125.516 217.168 Q122.414 220.361 116.766 226.124 Z\" fill=\"#000000\" fill-rule=\"nonzero\" fill-opacity=\"1\" /><path clip-path=\"url(#clip760)\" d=\"M142.9 224.18 L147.784 224.18 L147.784 230.059 L142.9 230.059 L142.9 224.18 Z\" fill=\"#000000\" fill-rule=\"nonzero\" fill-opacity=\"1\" /><path clip-path=\"url(#clip760)\" d=\"M167.969 198.583 Q164.358 198.583 162.529 202.147 Q160.724 205.688 160.724 212.817 Q160.724 219.922 162.529 223.486 Q164.358 227.027 167.969 227.027 Q171.603 227.027 173.409 223.486 Q175.238 219.922 175.238 212.817 Q175.238 205.688 173.409 202.147 Q171.603 198.583 167.969 198.583 M167.969 194.88 Q173.779 194.88 176.835 199.486 Q179.914 204.068 179.914 212.817 Q179.914 221.542 176.835 226.147 Q173.779 230.73 167.969 230.73 Q162.159 230.73 159.08 226.147 Q156.025 221.542 156.025 212.817 Q156.025 204.068 159.08 199.486 Q162.159 194.88 167.969 194.88 Z\" fill=\"#000000\" fill-rule=\"nonzero\" fill-opacity=\"1\" /><path clip-path=\"url(#clip760)\" d=\"M26.2583 870.249 L31.7328 870.249 Q30.3642 872.732 29.6958 875.246 Q28.9955 877.728 28.9955 880.274 Q28.9955 885.97 32.624 889.12 Q36.2206 892.271 42.7455 892.271 Q49.2703 892.271 52.8988 889.12 Q56.4954 885.97 56.4954 880.274 Q56.4954 877.728 55.827 875.246 Q55.1268 872.732 53.7581 870.249 L59.169 870.249 Q60.3148 872.7 60.8877 875.341 Q61.4606 877.951 61.4606 880.91 Q61.4606 888.961 56.3999 893.703 Q51.3392 898.444 42.7455 898.444 Q34.0245 898.444 29.0274 893.671 Q24.0303 888.866 24.0303 880.528 Q24.0303 877.823 24.6032 875.246 Q25.1443 872.668 26.2583 870.249 Z\" fill=\"#000000\" fill-rule=\"nonzero\" fill-opacity=\"1\" /><path clip-path=\"url(#clip760)\" d=\"M30.3642 839.413 Q29.7913 840.4 29.5366 841.577 Q29.2502 842.723 29.2502 844.123 Q29.2502 849.088 32.4967 851.761 Q35.7114 854.402 41.7588 854.402 L60.5376 854.402 L60.5376 860.289 L24.8897 860.289 L24.8897 854.402 L30.4278 854.402 Q27.1813 852.556 25.6217 849.597 Q24.0303 846.637 24.0303 842.405 Q24.0303 841.8 24.1258 841.068 Q24.1894 840.336 24.3486 839.445 L30.3642 839.413 Z\" fill=\"#000000\" fill-rule=\"nonzero\" fill-opacity=\"1\" /><path clip-path=\"url(#clip760)\" d=\"M28.9955 820.893 Q28.9955 825.603 32.6877 828.339 Q36.3479 831.076 42.7455 831.076 Q49.143 831.076 52.8351 828.371 Q56.4954 825.634 56.4954 820.893 Q56.4954 816.215 52.8033 813.478 Q49.1112 810.741 42.7455 810.741 Q36.4116 810.741 32.7195 813.478 Q28.9955 816.215 28.9955 820.893 M24.0303 820.893 Q24.0303 813.255 28.9955 808.896 Q33.9608 804.536 42.7455 804.536 Q51.4983 804.536 56.4954 808.896 Q61.4606 813.255 61.4606 820.893 Q61.4606 828.562 56.4954 832.922 Q51.4983 837.25 42.7455 837.25 Q33.9608 837.25 28.9955 832.922 Q24.0303 828.562 24.0303 820.893 Z\" fill=\"#000000\" fill-rule=\"nonzero\" fill-opacity=\"1\" /><path clip-path=\"url(#clip760)\" d=\"M25.94 772.109 L31.4782 772.109 Q30.205 774.591 29.5685 777.264 Q28.9319 779.937 28.9319 782.801 Q28.9319 787.161 30.2687 789.357 Q31.6055 791.521 34.2791 791.521 Q36.3161 791.521 37.4938 789.961 Q38.6396 788.402 39.6899 783.692 L40.1355 781.687 Q41.4723 775.45 43.9231 772.841 Q46.3421 770.2 50.7026 770.2 Q55.6679 770.2 58.5643 774.146 Q61.4606 778.06 61.4606 784.933 Q61.4606 787.797 60.8877 790.916 Q60.3466 794.003 59.2327 797.44 L53.1852 797.44 Q54.8721 794.194 55.7315 791.043 Q56.5591 787.893 56.5591 784.806 Q56.5591 780.669 55.1586 778.442 Q53.7263 776.214 51.1482 776.214 Q48.7611 776.214 47.4879 777.837 Q46.2148 779.428 45.0371 784.87 L44.5597 786.906 Q43.4139 792.348 41.0586 794.767 Q38.6714 797.185 34.5337 797.185 Q29.5048 797.185 26.7675 793.621 Q24.0303 790.057 24.0303 783.501 Q24.0303 780.255 24.5077 777.391 Q24.9851 774.527 25.94 772.109 Z\" fill=\"#000000\" fill-rule=\"nonzero\" fill-opacity=\"1\" /><path clip-path=\"url(#clip760)\" d=\"M25.94 738.154 L31.4782 738.154 Q30.205 740.636 29.5685 743.31 Q28.9319 745.983 28.9319 748.847 Q28.9319 753.206 30.2687 755.402 Q31.6055 757.566 34.2791 757.566 Q36.3161 757.566 37.4938 756.007 Q38.6396 754.447 39.6899 749.738 L40.1355 747.733 Q41.4723 741.496 43.9231 738.886 Q46.3421 736.245 50.7026 736.245 Q55.6679 736.245 58.5643 740.191 Q61.4606 744.105 61.4606 750.979 Q61.4606 753.843 60.8877 756.961 Q60.3466 760.048 59.2327 763.485 L53.1852 763.485 Q54.8721 760.239 55.7315 757.089 Q56.5591 753.938 56.5591 750.851 Q56.5591 746.715 55.1586 744.487 Q53.7263 742.259 51.1482 742.259 Q48.7611 742.259 47.4879 743.882 Q46.2148 745.473 45.0371 750.915 L44.5597 752.952 Q43.4139 758.393 41.0586 760.812 Q38.6714 763.23 34.5337 763.23 Q29.5048 763.23 26.7675 759.666 Q24.0303 756.102 24.0303 749.547 Q24.0303 746.301 24.5077 743.437 Q24.9851 740.573 25.94 738.154 Z\" fill=\"#000000\" fill-rule=\"nonzero\" fill-opacity=\"1\" /><path clip-path=\"url(#clip760)\" d=\"M41.2495 675.719 L44.1141 675.719 L44.1141 702.64 Q50.1615 702.259 53.3444 699.013 Q56.4954 695.735 56.4954 689.911 Q56.4954 686.538 55.6679 683.388 Q54.8403 680.206 53.1852 677.087 L58.7234 677.087 Q60.0602 680.237 60.7604 683.547 Q61.4606 686.856 61.4606 690.261 Q61.4606 698.79 56.4954 703.786 Q51.5301 708.75 43.0638 708.75 Q34.3109 708.75 29.1865 704.041 Q24.0303 699.299 24.0303 691.28 Q24.0303 684.088 28.6773 679.919 Q33.2924 675.719 41.2495 675.719 M39.5308 681.574 Q34.7247 681.638 31.8601 684.279 Q28.9955 686.888 28.9955 691.216 Q28.9955 696.117 31.7646 699.076 Q34.5337 702.004 39.5626 702.449 L39.5308 681.574 Z\" fill=\"#000000\" fill-rule=\"nonzero\" fill-opacity=\"1\" /><path clip-path=\"url(#clip760)\" d=\"M39.0215 636.481 L60.5376 636.481 L60.5376 642.337 L39.2125 642.337 Q34.1518 642.337 31.6373 644.31 Q29.1229 646.283 29.1229 650.229 Q29.1229 654.97 32.1466 657.707 Q35.1703 660.444 40.3902 660.444 L60.5376 660.444 L60.5376 666.331 L24.8897 666.331 L24.8897 660.444 L30.4278 660.444 Q27.2131 658.343 25.6217 655.511 Q24.0303 652.647 24.0303 648.924 Q24.0303 642.782 27.8497 639.632 Q31.6373 636.481 39.0215 636.481 Z\" fill=\"#000000\" fill-rule=\"nonzero\" fill-opacity=\"1\" /><path clip-path=\"url(#clip760)\" d=\"M14.7682 619.011 L24.8897 619.011 L24.8897 606.95 L29.4411 606.95 L29.4411 619.011 L48.7929 619.011 Q53.1534 619.011 54.3947 617.833 Q55.636 616.624 55.636 612.965 L55.636 606.95 L60.5376 606.95 L60.5376 612.965 Q60.5376 619.743 58.0232 622.32 Q55.4769 624.898 48.7929 624.898 L29.4411 624.898 L29.4411 629.194 L24.8897 629.194 L24.8897 624.898 L14.7682 624.898 L14.7682 619.011 Z\" fill=\"#000000\" fill-rule=\"nonzero\" fill-opacity=\"1\" /><path clip-path=\"url(#clip760)\" d=\"M30.3642 578.596 Q29.7913 579.583 29.5366 580.76 Q29.2502 581.906 29.2502 583.306 Q29.2502 588.27 32.4967 590.943 Q35.7114 593.585 41.7588 593.585 L60.5376 593.585 L60.5376 599.472 L24.8897 599.472 L24.8897 593.585 L30.4278 593.585 Q27.1813 591.739 25.6217 588.78 Q24.0303 585.82 24.0303 581.588 Q24.0303 580.983 24.1258 580.251 Q24.1894 579.519 24.3486 578.628 L30.3642 578.596 Z\" fill=\"#000000\" fill-rule=\"nonzero\" fill-opacity=\"1\" /><path clip-path=\"url(#clip760)\" d=\"M28.9955 560.076 Q28.9955 564.785 32.6877 567.522 Q36.3479 570.259 42.7455 570.259 Q49.143 570.259 52.8351 567.554 Q56.4954 564.817 56.4954 560.076 Q56.4954 555.398 52.8033 552.661 Q49.1112 549.924 42.7455 549.924 Q36.4116 549.924 32.7195 552.661 Q28.9955 555.398 28.9955 560.076 M24.0303 560.076 Q24.0303 552.438 28.9955 548.079 Q33.9608 543.719 42.7455 543.719 Q51.4983 543.719 56.4954 548.079 Q61.4606 552.438 61.4606 560.076 Q61.4606 567.745 56.4954 572.105 Q51.4983 576.432 42.7455 576.432 Q33.9608 576.432 28.9955 572.105 Q24.0303 567.745 24.0303 560.076 Z\" fill=\"#000000\" fill-rule=\"nonzero\" fill-opacity=\"1\" /><path clip-path=\"url(#clip760)\" d=\"M55.1904 528.349 L74.0966 528.349 L74.0966 534.236 L24.8897 534.236 L24.8897 528.349 L30.3005 528.349 Q27.1177 526.503 25.5899 523.703 Q24.0303 520.87 24.0303 516.956 Q24.0303 510.464 29.1865 506.423 Q34.3427 502.35 42.7455 502.35 Q51.1482 502.35 56.3044 506.423 Q61.4606 510.464 61.4606 516.956 Q61.4606 520.87 59.9329 523.703 Q58.3733 526.503 55.1904 528.349 M42.7455 508.428 Q36.2843 508.428 32.624 511.101 Q28.9319 513.742 28.9319 518.388 Q28.9319 523.034 32.624 525.707 Q36.2843 528.349 42.7455 528.349 Q49.2067 528.349 52.8988 525.707 Q56.5591 523.034 56.5591 518.388 Q56.5591 513.742 52.8988 511.101 Q49.2067 508.428 42.7455 508.428 Z\" fill=\"#000000\" fill-rule=\"nonzero\" fill-opacity=\"1\" /><path clip-path=\"url(#clip760)\" d=\"M63.8478 477.814 Q70.2135 480.297 72.155 482.652 Q74.0966 485.006 74.0966 488.952 L74.0966 493.63 L69.195 493.63 L69.195 490.193 Q69.195 487.775 68.0492 486.438 Q66.9033 485.102 62.6383 483.479 L59.9647 482.429 L24.8897 496.844 L24.8897 490.639 L52.7715 479.501 L24.8897 468.363 L24.8897 462.158 L63.8478 477.814 Z\" fill=\"#000000\" fill-rule=\"nonzero\" fill-opacity=\"1\" /><polyline clip-path=\"url(#clip762)\" style=\"stroke:#009af9; stroke-linecap:round; stroke-linejoin:round; stroke-width:3.99924; stroke-opacity:1; fill:none\" points=\"276.39,92.4966 410.783,229.83 545.175,629.762 679.568,965.244 813.961,1032.55 948.353,1056.21 1082.75,1064.62 1217.14,1066.58 1351.53,1063.89 1485.92,1058.21 1620.32,1051.91 1754.71,1045.08 1889.1,1038.31 2023.49,1032.01 2157.89,1026.24 2292.28,1020.83 \"/>\n",
       "<polyline clip-path=\"url(#clip762)\" style=\"stroke:#e26f46; stroke-linecap:round; stroke-linejoin:round; stroke-width:3.99924; stroke-opacity:1; fill:none\" points=\"276.39,83.069 410.783,189.794 545.175,520.701 679.568,950.325 813.961,1093.35 948.353,1152.44 1082.75,1188.91 1217.14,1215.11 1351.53,1235.13 1485.92,1249.74 1620.32,1260 1754.71,1266.95 1889.1,1271.32 2023.49,1274.21 2157.89,1276.16 2292.28,1277.53 \"/>\n",
       "<path clip-path=\"url(#clip760)\" d=\"M1744.79 244.93 L2281.53 244.93 L2281.53 89.4395 L1744.79 89.4395  Z\" fill=\"#ffffff\" fill-rule=\"evenodd\" fill-opacity=\"1\"/>\n",
       "<polyline clip-path=\"url(#clip760)\" style=\"stroke:#000000; stroke-linecap:round; stroke-linejoin:round; stroke-width:3.99924; stroke-opacity:1; fill:none\" points=\"1744.79,244.93 2281.53,244.93 2281.53,89.4395 1744.79,89.4395 1744.79,244.93 \"/>\n",
       "<polyline clip-path=\"url(#clip760)\" style=\"stroke:#009af9; stroke-linecap:round; stroke-linejoin:round; stroke-width:3.99924; stroke-opacity:1; fill:none\" points=\"1768.53,141.27 1910.99,141.27 \"/>\n",
       "<path clip-path=\"url(#clip760)\" d=\"M1946.63 135.611 Q1943.2 135.611 1941.21 138.296 Q1939.22 140.957 1939.22 145.609 Q1939.22 150.261 1941.19 152.946 Q1943.18 155.607 1946.63 155.607 Q1950.03 155.607 1952.02 152.922 Q1954.01 150.238 1954.01 145.609 Q1954.01 141.004 1952.02 138.319 Q1950.03 135.611 1946.63 135.611 M1946.63 132.001 Q1952.18 132.001 1955.36 135.611 Q1958.53 139.221 1958.53 145.609 Q1958.53 151.974 1955.36 155.607 Q1952.18 159.218 1946.63 159.218 Q1941.05 159.218 1937.88 155.607 Q1934.73 151.974 1934.73 145.609 Q1934.73 139.221 1937.88 135.611 Q1941.05 132.001 1946.63 132.001 Z\" fill=\"#000000\" fill-rule=\"nonzero\" fill-opacity=\"1\" /><path clip-path=\"url(#clip760)\" d=\"M1965.15 148.317 L1965.15 132.626 L1969.41 132.626 L1969.41 148.155 Q1969.41 151.835 1970.84 153.686 Q1972.28 155.515 1975.15 155.515 Q1978.6 155.515 1980.59 153.316 Q1982.6 151.117 1982.6 147.322 L1982.6 132.626 L1986.86 132.626 L1986.86 158.546 L1982.6 158.546 L1982.6 154.566 Q1981.05 156.926 1978.99 158.084 Q1976.95 159.218 1974.24 159.218 Q1969.78 159.218 1967.46 156.44 Q1965.15 153.663 1965.15 148.317 M1975.87 132.001 L1975.87 132.001 Z\" fill=\"#000000\" fill-rule=\"nonzero\" fill-opacity=\"1\" /><path clip-path=\"url(#clip760)\" d=\"M1999.85 125.266 L1999.85 132.626 L2008.62 132.626 L2008.62 135.935 L1999.85 135.935 L1999.85 150.006 Q1999.85 153.177 2000.7 154.08 Q2001.58 154.982 2004.24 154.982 L2008.62 154.982 L2008.62 158.546 L2004.24 158.546 Q1999.31 158.546 1997.44 156.718 Q1995.56 154.867 1995.56 150.006 L1995.56 135.935 L1992.44 135.935 L1992.44 132.626 L1995.56 132.626 L1995.56 125.266 L1999.85 125.266 Z\" fill=\"#000000\" fill-rule=\"nonzero\" fill-opacity=\"1\" /><path clip-path=\"url(#clip760)\" d=\"M2012.07 143.665 L2024.55 143.665 L2024.55 147.461 L2012.07 147.461 L2012.07 143.665 Z\" fill=\"#000000\" fill-rule=\"nonzero\" fill-opacity=\"1\" /><path clip-path=\"url(#clip760)\" d=\"M2042.25 135.611 Q2038.83 135.611 2036.84 138.296 Q2034.85 140.957 2034.85 145.609 Q2034.85 150.261 2036.81 152.946 Q2038.8 155.607 2042.25 155.607 Q2045.66 155.607 2047.65 152.922 Q2049.64 150.238 2049.64 145.609 Q2049.64 141.004 2047.65 138.319 Q2045.66 135.611 2042.25 135.611 M2042.25 132.001 Q2047.81 132.001 2050.98 135.611 Q2054.15 139.221 2054.15 145.609 Q2054.15 151.974 2050.98 155.607 Q2047.81 159.218 2042.25 159.218 Q2036.68 159.218 2033.5 155.607 Q2030.36 151.974 2030.36 145.609 Q2030.36 139.221 2033.5 135.611 Q2036.68 132.001 2042.25 132.001 Z\" fill=\"#000000\" fill-rule=\"nonzero\" fill-opacity=\"1\" /><path clip-path=\"url(#clip760)\" d=\"M2074.34 122.535 L2074.34 126.076 L2070.26 126.076 Q2067.97 126.076 2067.07 127.002 Q2066.19 127.927 2066.19 130.334 L2066.19 132.626 L2073.2 132.626 L2073.2 135.935 L2066.19 135.935 L2066.19 158.546 L2061.91 158.546 L2061.91 135.935 L2057.83 135.935 L2057.83 132.626 L2061.91 132.626 L2061.91 130.82 Q2061.91 126.492 2063.92 124.525 Q2065.93 122.535 2070.31 122.535 L2074.34 122.535 Z\" fill=\"#000000\" fill-rule=\"nonzero\" fill-opacity=\"1\" /><path clip-path=\"url(#clip760)\" d=\"M2073.16 143.665 L2085.63 143.665 L2085.63 147.461 L2073.16 147.461 L2073.16 143.665 Z\" fill=\"#000000\" fill-rule=\"nonzero\" fill-opacity=\"1\" /><path clip-path=\"url(#clip760)\" d=\"M2108.94 133.389 L2108.94 137.416 Q2107.14 136.491 2105.19 136.028 Q2103.25 135.565 2101.17 135.565 Q2097.99 135.565 2096.4 136.537 Q2094.82 137.509 2094.82 139.453 Q2094.82 140.934 2095.96 141.79 Q2097.09 142.624 2100.52 143.387 L2101.98 143.711 Q2106.51 144.683 2108.41 146.465 Q2110.33 148.224 2110.33 151.395 Q2110.33 155.005 2107.46 157.111 Q2104.61 159.218 2099.61 159.218 Q2097.53 159.218 2095.26 158.801 Q2093.02 158.408 2090.52 157.598 L2090.52 153.2 Q2092.88 154.427 2095.17 155.052 Q2097.46 155.653 2099.71 155.653 Q2102.72 155.653 2104.34 154.635 Q2105.96 153.594 2105.96 151.719 Q2105.96 149.983 2104.78 149.058 Q2103.62 148.132 2099.66 147.275 L2098.18 146.928 Q2094.22 146.095 2092.46 144.382 Q2090.7 142.647 2090.7 139.638 Q2090.7 135.981 2093.3 133.991 Q2095.89 132.001 2100.66 132.001 Q2103.02 132.001 2105.1 132.348 Q2107.18 132.695 2108.94 133.389 Z\" fill=\"#000000\" fill-rule=\"nonzero\" fill-opacity=\"1\" /><path clip-path=\"url(#clip760)\" d=\"M2128.9 145.517 Q2123.73 145.517 2121.74 146.697 Q2119.75 147.877 2119.75 150.724 Q2119.75 152.992 2121.23 154.334 Q2122.74 155.653 2125.31 155.653 Q2128.85 155.653 2130.98 153.154 Q2133.13 150.631 2133.13 146.465 L2133.13 145.517 L2128.9 145.517 M2137.39 143.758 L2137.39 158.546 L2133.13 158.546 L2133.13 154.612 Q2131.67 156.973 2129.5 158.107 Q2127.32 159.218 2124.17 159.218 Q2120.19 159.218 2117.83 156.996 Q2115.49 154.751 2115.49 151.002 Q2115.49 146.627 2118.41 144.406 Q2121.35 142.184 2127.16 142.184 L2133.13 142.184 L2133.13 141.767 Q2133.13 138.828 2131.19 137.231 Q2129.27 135.611 2125.77 135.611 Q2123.55 135.611 2121.44 136.143 Q2119.34 136.676 2117.39 137.74 L2117.39 133.806 Q2119.73 132.903 2121.93 132.464 Q2124.13 132.001 2126.21 132.001 Q2131.84 132.001 2134.61 134.917 Q2137.39 137.833 2137.39 143.758 Z\" fill=\"#000000\" fill-rule=\"nonzero\" fill-opacity=\"1\" /><path clip-path=\"url(#clip760)\" d=\"M2166.35 137.601 Q2167.95 134.732 2170.17 133.366 Q2172.39 132.001 2175.4 132.001 Q2179.45 132.001 2181.65 134.847 Q2183.85 137.671 2183.85 142.901 L2183.85 158.546 L2179.57 158.546 L2179.57 143.04 Q2179.57 139.314 2178.25 137.509 Q2176.93 135.704 2174.22 135.704 Q2170.91 135.704 2168.99 137.902 Q2167.07 140.101 2167.07 143.896 L2167.07 158.546 L2162.79 158.546 L2162.79 143.04 Q2162.79 139.291 2161.47 137.509 Q2160.15 135.704 2157.39 135.704 Q2154.13 135.704 2152.21 137.925 Q2150.29 140.124 2150.29 143.896 L2150.29 158.546 L2146 158.546 L2146 132.626 L2150.29 132.626 L2150.29 136.653 Q2151.74 134.269 2153.78 133.135 Q2155.82 132.001 2158.62 132.001 Q2161.44 132.001 2163.41 133.436 Q2165.4 134.87 2166.35 137.601 Z\" fill=\"#000000\" fill-rule=\"nonzero\" fill-opacity=\"1\" /><path clip-path=\"url(#clip760)\" d=\"M2196.47 154.658 L2196.47 168.406 L2192.18 168.406 L2192.18 132.626 L2196.47 132.626 L2196.47 136.56 Q2197.81 134.246 2199.85 133.135 Q2201.91 132.001 2204.75 132.001 Q2209.48 132.001 2212.42 135.75 Q2215.38 139.499 2215.38 145.609 Q2215.38 151.719 2212.42 155.468 Q2209.48 159.218 2204.75 159.218 Q2201.91 159.218 2199.85 158.107 Q2197.81 156.973 2196.47 154.658 M2210.96 145.609 Q2210.96 140.911 2209.01 138.249 Q2207.09 135.565 2203.71 135.565 Q2200.33 135.565 2198.39 138.249 Q2196.47 140.911 2196.47 145.609 Q2196.47 150.307 2198.39 152.992 Q2200.33 155.653 2203.71 155.653 Q2207.09 155.653 2209.01 152.992 Q2210.96 150.307 2210.96 145.609 Z\" fill=\"#000000\" fill-rule=\"nonzero\" fill-opacity=\"1\" /><path clip-path=\"url(#clip760)\" d=\"M2222.44 122.535 L2226.7 122.535 L2226.7 158.546 L2222.44 158.546 L2222.44 122.535 Z\" fill=\"#000000\" fill-rule=\"nonzero\" fill-opacity=\"1\" /><path clip-path=\"url(#clip760)\" d=\"M2257.79 144.521 L2257.79 146.604 L2238.2 146.604 Q2238.48 151.002 2240.84 153.316 Q2243.23 155.607 2247.46 155.607 Q2249.91 155.607 2252.21 155.005 Q2254.52 154.404 2256.79 153.2 L2256.79 157.227 Q2254.5 158.199 2252.09 158.708 Q2249.68 159.218 2247.21 159.218 Q2241 159.218 2237.37 155.607 Q2233.76 151.997 2233.76 145.841 Q2233.76 139.476 2237.18 135.75 Q2240.63 132.001 2246.47 132.001 Q2251.7 132.001 2254.73 135.38 Q2257.79 138.735 2257.79 144.521 M2253.53 143.272 Q2253.48 139.777 2251.56 137.694 Q2249.66 135.611 2246.51 135.611 Q2242.95 135.611 2240.79 137.625 Q2238.66 139.638 2238.34 143.295 L2253.53 143.272 Z\" fill=\"#000000\" fill-rule=\"nonzero\" fill-opacity=\"1\" /><polyline clip-path=\"url(#clip760)\" style=\"stroke:#e26f46; stroke-linecap:round; stroke-linejoin:round; stroke-width:3.99924; stroke-opacity:1; fill:none\" points=\"1768.53,193.1 1910.99,193.1 \"/>\n",
       "<path clip-path=\"url(#clip760)\" d=\"M1942.14 177.096 L1942.14 184.456 L1950.91 184.456 L1950.91 187.765 L1942.14 187.765 L1942.14 201.837 Q1942.14 205.007 1943 205.91 Q1943.87 206.812 1946.54 206.812 L1950.91 206.812 L1950.91 210.377 L1946.54 210.377 Q1941.61 210.377 1939.73 208.548 Q1937.86 206.697 1937.86 201.837 L1937.86 187.765 L1934.73 187.765 L1934.73 184.456 L1937.86 184.456 L1937.86 177.096 L1942.14 177.096 Z\" fill=\"#000000\" fill-rule=\"nonzero\" fill-opacity=\"1\" /><path clip-path=\"url(#clip760)\" d=\"M1971.54 188.436 Q1970.82 188.02 1969.96 187.835 Q1969.13 187.626 1968.11 187.626 Q1964.5 187.626 1962.56 189.987 Q1960.63 192.325 1960.63 196.722 L1960.63 210.377 L1956.35 210.377 L1956.35 184.456 L1960.63 184.456 L1960.63 188.483 Q1961.98 186.122 1964.13 184.988 Q1966.28 183.831 1969.36 183.831 Q1969.8 183.831 1970.33 183.9 Q1970.87 183.947 1971.51 184.062 L1971.54 188.436 Z\" fill=\"#000000\" fill-rule=\"nonzero\" fill-opacity=\"1\" /><path clip-path=\"url(#clip760)\" d=\"M1987.79 197.347 Q1982.62 197.347 1980.63 198.527 Q1978.64 199.707 1978.64 202.554 Q1978.64 204.822 1980.12 206.164 Q1981.63 207.484 1984.2 207.484 Q1987.74 207.484 1989.87 204.984 Q1992.02 202.461 1992.02 198.296 L1992.02 197.347 L1987.79 197.347 M1996.28 195.588 L1996.28 210.377 L1992.02 210.377 L1992.02 206.442 Q1990.56 208.803 1988.39 209.937 Q1986.21 211.048 1983.06 211.048 Q1979.08 211.048 1976.72 208.826 Q1974.38 206.581 1974.38 202.832 Q1974.38 198.458 1977.3 196.236 Q1980.24 194.014 1986.05 194.014 L1992.02 194.014 L1992.02 193.597 Q1992.02 190.658 1990.08 189.061 Q1988.16 187.441 1984.66 187.441 Q1982.44 187.441 1980.33 187.974 Q1978.23 188.506 1976.28 189.57 L1976.28 185.636 Q1978.62 184.733 1980.82 184.294 Q1983.02 183.831 1985.1 183.831 Q1990.73 183.831 1993.5 186.747 Q1996.28 189.663 1996.28 195.588 Z\" fill=\"#000000\" fill-rule=\"nonzero\" fill-opacity=\"1\" /><path clip-path=\"url(#clip760)\" d=\"M2005.06 184.456 L2009.31 184.456 L2009.31 210.377 L2005.06 210.377 L2005.06 184.456 M2005.06 174.365 L2009.31 174.365 L2009.31 179.758 L2005.06 179.758 L2005.06 174.365 Z\" fill=\"#000000\" fill-rule=\"nonzero\" fill-opacity=\"1\" /><path clip-path=\"url(#clip760)\" d=\"M2039.78 194.731 L2039.78 210.377 L2035.52 210.377 L2035.52 194.87 Q2035.52 191.19 2034.08 189.362 Q2032.65 187.534 2029.78 187.534 Q2026.33 187.534 2024.34 189.732 Q2022.35 191.931 2022.35 195.727 L2022.35 210.377 L2018.06 210.377 L2018.06 184.456 L2022.35 184.456 L2022.35 188.483 Q2023.87 186.145 2025.93 184.988 Q2028.02 183.831 2030.73 183.831 Q2035.19 183.831 2037.49 186.608 Q2039.78 189.362 2039.78 194.731 Z\" fill=\"#000000\" fill-rule=\"nonzero\" fill-opacity=\"1\" /><path clip-path=\"url(#clip760)\" d=\"M2048.27 184.456 L2052.53 184.456 L2052.53 210.377 L2048.27 210.377 L2048.27 184.456 M2048.27 174.365 L2052.53 174.365 L2052.53 179.758 L2048.27 179.758 L2048.27 174.365 Z\" fill=\"#000000\" fill-rule=\"nonzero\" fill-opacity=\"1\" /><path clip-path=\"url(#clip760)\" d=\"M2082.99 194.731 L2082.99 210.377 L2078.74 210.377 L2078.74 194.87 Q2078.74 191.19 2077.3 189.362 Q2075.86 187.534 2072.99 187.534 Q2069.55 187.534 2067.55 189.732 Q2065.56 191.931 2065.56 195.727 L2065.56 210.377 L2061.28 210.377 L2061.28 184.456 L2065.56 184.456 L2065.56 188.483 Q2067.09 186.145 2069.15 184.988 Q2071.24 183.831 2073.94 183.831 Q2078.41 183.831 2080.7 186.608 Q2082.99 189.362 2082.99 194.731 Z\" fill=\"#000000\" fill-rule=\"nonzero\" fill-opacity=\"1\" /><path clip-path=\"url(#clip760)\" d=\"M2108.55 197.115 Q2108.55 192.487 2106.63 189.941 Q2104.73 187.395 2101.28 187.395 Q2097.86 187.395 2095.93 189.941 Q2094.04 192.487 2094.04 197.115 Q2094.04 201.721 2095.93 204.267 Q2097.86 206.812 2101.28 206.812 Q2104.73 206.812 2106.63 204.267 Q2108.55 201.721 2108.55 197.115 M2112.81 207.16 Q2112.81 213.779 2109.87 216.996 Q2106.93 220.236 2100.86 220.236 Q2098.62 220.236 2096.63 219.889 Q2094.64 219.565 2092.76 218.87 L2092.76 214.728 Q2094.64 215.746 2096.47 216.232 Q2098.3 216.718 2100.19 216.718 Q2104.38 216.718 2106.47 214.519 Q2108.55 212.344 2108.55 207.923 L2108.55 205.817 Q2107.23 208.108 2105.17 209.243 Q2103.11 210.377 2100.24 210.377 Q2095.47 210.377 2092.55 206.743 Q2089.64 203.109 2089.64 197.115 Q2089.64 191.098 2092.55 187.464 Q2095.47 183.831 2100.24 183.831 Q2103.11 183.831 2105.17 184.965 Q2107.23 186.099 2108.55 188.39 L2108.55 184.456 L2112.81 184.456 L2112.81 207.16 Z\" fill=\"#000000\" fill-rule=\"nonzero\" fill-opacity=\"1\" /></svg>\n"
      ]
     },
     "execution_count": 30,
     "metadata": {},
     "output_type": "execute_result"
    }
   ],
   "source": [
    "iterated_clf.controls[2] = Patience(4)\n",
    "fit!(mach, rows=train)\n",
    "\n",
    "plot(\n",
    "    epochs,\n",
    "    losses,\n",
    "    xlab = \"epoch\",\n",
    "    ylab = \"cross entropy\",\n",
    "    label=\"out-of-sample\",\n",
    ")\n",
    "plot!(epochs, training_losses, label=\"training\")"
   ]
  },
  {
   "cell_type": "markdown",
   "metadata": {},
   "source": [
    "---\n",
    "\n",
    "*This notebook was generated using [Literate.jl](https://github.com/fredrikekre/Literate.jl).*"
   ]
  }
 ],
 "metadata": {
  "kernelspec": {
   "display_name": "Julia 1.10.3",
   "language": "julia",
   "name": "julia-1.10"
  },
  "language_info": {
   "file_extension": ".jl",
   "mimetype": "application/julia",
   "name": "julia",
   "version": "1.10.3"
  }
 },
 "nbformat": 4,
 "nbformat_minor": 4
}
